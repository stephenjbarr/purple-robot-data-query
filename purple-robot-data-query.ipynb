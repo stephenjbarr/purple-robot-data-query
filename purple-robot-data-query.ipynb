{
 "metadata": {
  "name": "",
  "signature": "sha256:012b2c451da368d0b8f2caf01789111f5f2dbb1d2852b547dcee5b819430d19b"
 },
 "nbformat": 3,
 "nbformat_minor": 0,
 "worksheets": [
  {
   "cells": [
    {
     "cell_type": "markdown",
     "metadata": {},
     "source": [
      "## Program to read postgres from RDS, parse the JSON, and say something interesting"
     ]
    },
    {
     "cell_type": "code",
     "collapsed": false,
     "input": [
      "import psycopg2\n",
      "import conn\n",
      "import json\n",
      "import re"
     ],
     "language": "python",
     "metadata": {},
     "outputs": []
    },
    {
     "cell_type": "code",
     "collapsed": false,
     "input": [
      "cstr = \"dbname = '\" + conn.conn['DB'] + \"' user = '\" + conn.conn['USER'] + \"' host = '\" + conn.conn['HOST'] + \"' password = '\" + conn.conn['PASS'] + \"'\"\n",
      "print(cstr)\n",
      "try:\n",
      "    ct = psycopg2.connect(cstr)\n",
      "except:\n",
      "    print(\"I am unable to connect to the database\")\n",
      "cur = ct.cursor()"
     ],
     "language": "python",
     "metadata": {},
     "outputs": []
    },
    {
     "cell_type": "code",
     "collapsed": false,
     "input": [
      "def simple_row_print(row):\n",
      "    print(\"ID: \" + str(row[0]) + \" USER: \" + str(row[1]) + \" PLEN \" + str(len(str(row[3]))))"
     ],
     "language": "python",
     "metadata": {},
     "outputs": []
    },
    {
     "cell_type": "code",
     "collapsed": false,
     "input": [
      "def simple_row_print_with_payload(row):\n",
      "    id = row[0]\n",
      "    user_id = row[1]\n",
      "    pl = row[2]\n",
      "    print(\"------------------------\")\n",
      "    print(\"ID:\" + str(id))\n",
      "    print(\"UID:\" + str(user_id))\n",
      "    print(\"PL:\" + str(len(str(pl))))"
     ],
     "language": "python",
     "metadata": {},
     "outputs": []
    },
    {
     "cell_type": "code",
     "collapsed": false,
     "input": [
      "def utfdecode(x):\n",
      "    return( bytes(x, \"utf-8\").decode(\"unicode_escape\"))"
     ],
     "language": "python",
     "metadata": {},
     "outputs": []
    },
    {
     "cell_type": "code",
     "collapsed": false,
     "input": [
      "payload_cleaners = list()\n",
      "payload_cleaners.append(lambda x: x.replace('\\\\\"', ''))\n",
      "payload_cleaners.append(lambda x: x.replace(\"'\", '\"'))\n",
      "payload_cleaners.append(lambda x: x.replace(\",\", \",\\n\"))\n",
      "payload_cleaners.append(lambda x: x.replace('\\\\', ''))    ## JSON CONFIG\n",
      "payload_cleaners.append(lambda x: x.replace('\"{', '{')) ## JSON CONFIG\n",
      "payload_cleaners.append(lambda x: x.replace('}\"', '}')) ## JSON CONFIG\n",
      "payload_cleaners.append(lambda x: x.replace('{', '{\\n'))  ## JSON CONFIG\n",
      "payload_cleaners.append(lambda x: x.replace('}', '\\n}\\n'))  ## JSON CONFIG\n",
      "p2 = list()\n",
      "p2.append(lambda x: x.replace('\"[', '[') if not \"CAPABILITIES\" in x else x)\n",
      "p2.append(lambda x: x.replace(']\"', ']') if not \"CAPABILITIES\" in x else x)\n"
     ],
     "language": "python",
     "metadata": {},
     "outputs": []
    },
    {
     "cell_type": "code",
     "collapsed": false,
     "input": [
      "def fix_json(x):\n",
      "    for f in payload_cleaners:\n",
      "        x = f(x)\n",
      "\n",
      "    x_lines = x.splitlines()\n",
      "\n",
      "    for f in p2:\n",
      "        x_lines = list(map(f, x_lines))\n",
      "    \n",
      "    return(x_lines)"
     ],
     "language": "python",
     "metadata": {},
     "outputs": [],
     "prompt_number": 155
    },
    {
     "cell_type": "code",
     "collapsed": false,
     "input": [
      "def get_probe(x):\n",
      "    try:\n",
      "        return(x['Payload'][0]['PROBE'])\n",
      "    except:\n",
      "        return(\"\")"
     ],
     "language": "python",
     "metadata": {},
     "outputs": [],
     "prompt_number": 156
    },
    {
     "cell_type": "code",
     "collapsed": false,
     "input": [
      "## D query\n",
      "def get_distinct_user_ids():\n",
      "    dist_q = \"SELECT DISTINCT user_id FROM READINGS\"\n",
      "    cur.execute(dist_q)\n",
      "    uid_list = list()\n",
      "    for uid in cur.fetchall():\n",
      "        uid_list.append(uid[0])\n",
      "    return(uid_list)"
     ],
     "language": "python",
     "metadata": {},
     "outputs": [],
     "prompt_number": 157
    },
    {
     "cell_type": "code",
     "collapsed": false,
     "input": [
      "def last_char_comma(x):\n",
      "    return(re.search(',[\\s]*$', x))\n"
     ],
     "language": "python",
     "metadata": {},
     "outputs": [],
     "prompt_number": 158
    },
    {
     "cell_type": "code",
     "collapsed": false,
     "input": [
      "def quote_singletons(x):\n",
      "    match = re.search(r\"(\\w+):([\\w\\.]+)\", x)\n",
      "    if match:\n",
      "        y = '\"' + match.group(1) + '\":' + '\"' + match.group(2) + '\"'\n",
      "        if last_char_comma(x):\n",
      "            y += \",\" ## fucking janky\n",
      "        return(y)\n",
      "    else: \n",
      "        return(x)"
     ],
     "language": "python",
     "metadata": {},
     "outputs": [],
     "prompt_number": 159
    },
    {
     "cell_type": "code",
     "collapsed": false,
     "input": [
      "def quote_singleton_lhs(x):\n",
      "    match = re.search(r\"^\\s*(\\w+):(.*)\", x)\n",
      "    if match:\n",
      "        y = '\"' + match.group(1) + '\": ' + match.group(2)\n",
      "        return(y)\n",
      "    else:\n",
      "        return(x)"
     ],
     "language": "python",
     "metadata": {},
     "outputs": [],
     "prompt_number": 160
    },
    {
     "cell_type": "code",
     "collapsed": false,
     "input": [
      "def fix_null(x):\n",
      "    match = re.search(r\"([\\w_]+):[\\s,]*$\", x)\n",
      "    if match:\n",
      "        ## print(\"FN: \" + x)\n",
      "        y = '\"' + match.group(1) + '\"' + ':\"\"'\n",
      "        if last_char_comma(x):\n",
      "            y += \",\" ## fucking janky\n",
      "        return(y)\n",
      "    else:\n",
      "        return x"
     ],
     "language": "python",
     "metadata": {},
     "outputs": [],
     "prompt_number": 161
    },
    {
     "cell_type": "code",
     "collapsed": false,
     "input": [
      "def fix_null_quotes(x):\n",
      "    match = re.search(r\"(\\\"[\\w_]+\\\"):[\\s,]*$\", x)\n",
      "    if match:\n",
      "        # print(\"FNQ: \" + x)\n",
      "        y =  match.group(1)  + ':\"\"'\n",
      "        if last_char_comma(x):\n",
      "            y += \",\" ## fucking janky\n",
      "        return(y)\n",
      "    else:\n",
      "        return x"
     ],
     "language": "python",
     "metadata": {},
     "outputs": [],
     "prompt_number": 162
    },
    {
     "cell_type": "code",
     "collapsed": false,
     "input": [
      "def count_dbl_quotes(x):\n",
      "    return(len(re.findall(r\"\\\"\", x)))"
     ],
     "language": "python",
     "metadata": {},
     "outputs": [],
     "prompt_number": 163
    },
    {
     "cell_type": "code",
     "collapsed": false,
     "input": [
      "def append_unterminated_quotes(xl):\n",
      "    \"\"\" Given a list of lines, check ones that have double\n",
      "    quote characters.\n",
      "    \"\"\"\n",
      "    terminated = list()\n",
      "    for x in xl:\n",
      "        if count_dbl_quotes(x) % 2 == 1:\n",
      "            # print(\"CDL:\" + x)\n",
      "            terminated[-1] += x\n",
      "        else:\n",
      "            terminated.append(x)\n",
      "    return(terminated)"
     ],
     "language": "python",
     "metadata": {},
     "outputs": [],
     "prompt_number": 164
    },
    {
     "cell_type": "code",
     "collapsed": false,
     "input": [
      "def proc_payloads(raw_x, fname = None):\n",
      "    \"\"\"Given a raw payload from Purple robot, apply fransformations until  \n",
      "    we can parse this json.loads.\n",
      "    \n",
      "    If given a filename, write the JSON to it\n",
      "    \"\"\"\n",
      "    y = fix_json(utfdecode(raw_x))\n",
      "    y = filter(None, y)\n",
      "    y = list(map(fix_null, y))\n",
      "    y = list(map(fix_null_quotes, y))\n",
      "    y = list(map(quote_singletons, y))\n",
      "    y = list(map(quote_singleton_lhs, y))\n",
      "    y = append_unterminated_quotes(y)\n",
      "    \n",
      "    if fname is not None:\n",
      "        fh = open(fname, mode='w')\n",
      "        fh.write(\"\\n\".join(y))\n",
      "        fh.close()\n",
      "        \n",
      "    return(\"\\n\".join(y))"
     ],
     "language": "python",
     "metadata": {},
     "outputs": [],
     "prompt_number": 165
    },
    {
     "cell_type": "markdown",
     "metadata": {},
     "source": [
      "Now that all functions are defined, get the payloads and try to parse them"
     ]
    },
    {
     "cell_type": "code",
     "collapsed": false,
     "input": [
      "payloads = dict()\n",
      "cur.execute(all_alex)\n",
      "for row in cur.fetchall():\n",
      "    payloads[str(row[0])] = str(row[2])"
     ],
     "language": "python",
     "metadata": {},
     "outputs": []
    },
    {
     "cell_type": "code",
     "collapsed": false,
     "input": [
      "success_parse = dict()\n",
      "failed_parse  = dict()\n",
      "#js = dict()\n",
      "for k,v in payloads.items():\n",
      "    fname = k + \"__try_2.json\"\n",
      "    try:\n",
      "        z   = proc_payloads(v, fname)\n",
      "        f   = open(fname)\n",
      "        txt = f.read()\n",
      "        f.close()\n",
      "        js = json.loads(txt)\n",
      "        print(\"Successful parse of payload: \" + str(k))\n",
      "        success_parse[k] = js\n",
      "        \n",
      "    except:\n",
      "        failed_parse[k] = 0\n",
      "        print(\"Failed parse of payload: \" + str(k))\n"
     ],
     "language": "python",
     "metadata": {},
     "outputs": [
      {
       "output_type": "stream",
       "stream": "stdout",
       "text": [
        "Successful parse of payload: 1661\n",
        "Successful parse of payload: 3010\n",
        "Successful parse of payload: 2154"
       ]
      },
      {
       "output_type": "stream",
       "stream": "stdout",
       "text": [
        "\n",
        "Successful parse of payload: 248\n",
        "Successful parse of payload: 1103"
       ]
      },
      {
       "output_type": "stream",
       "stream": "stdout",
       "text": [
        "\n",
        "Successful parse of payload: 3926\n",
        "Successful parse of payload: 3830"
       ]
      },
      {
       "output_type": "stream",
       "stream": "stdout",
       "text": [
        "\n",
        "Successful parse of payload: 2792\n",
        "Successful parse of payload: 347\n",
        "Successful parse of payload: 4217\n",
        "Successful parse of payload: 1815"
       ]
      },
      {
       "output_type": "stream",
       "stream": "stdout",
       "text": [
        "\n",
        "Successful parse of payload: 2357\n",
        "Successful parse of payload: 3149\n",
        "Successful parse of payload: 2615\n",
        "Successful parse of payload: 309"
       ]
      },
      {
       "output_type": "stream",
       "stream": "stdout",
       "text": [
        "\n",
        "Successful parse of payload: 1203\n",
        "Successful parse of payload: 3132"
       ]
      },
      {
       "output_type": "stream",
       "stream": "stdout",
       "text": [
        "\n",
        "Successful parse of payload: 4112\n",
        "Successful parse of payload: 4107\n",
        "Successful parse of payload: 361\n",
        "Successful parse of payload: 2971"
       ]
      },
      {
       "output_type": "stream",
       "stream": "stdout",
       "text": [
        "\n",
        "Successful parse of payload: 3215\n",
        "Successful parse of payload: 1751"
       ]
      },
      {
       "output_type": "stream",
       "stream": "stdout",
       "text": [
        "\n",
        "Successful parse of payload: 2254"
       ]
      },
      {
       "output_type": "stream",
       "stream": "stdout",
       "text": [
        "\n",
        "Successful parse of payload: 2570\n",
        "Successful parse of payload: 1162\n",
        "Successful parse of payload: 3862"
       ]
      },
      {
       "output_type": "stream",
       "stream": "stdout",
       "text": [
        "\n",
        "Successful parse of payload: 3203\n",
        "Successful parse of payload: 2561\n",
        "Successful parse of payload: 1226\n",
        "Successful parse of payload: 1319"
       ]
      },
      {
       "output_type": "stream",
       "stream": "stdout",
       "text": [
        "\n",
        "Successful parse of payload: 2972\n",
        "Successful parse of payload: 3528\n",
        "Successful parse of payload: 1304\n",
        "Successful parse of payload: 2017"
       ]
      },
      {
       "output_type": "stream",
       "stream": "stdout",
       "text": [
        "\n",
        "Successful parse of payload: 3812\n",
        "Successful parse of payload: 3527\n",
        "Successful parse of payload: 4304"
       ]
      },
      {
       "output_type": "stream",
       "stream": "stdout",
       "text": [
        "\n",
        "Successful parse of payload: 307\n",
        "Successful parse of payload: 2694\n",
        "Successful parse of payload: 1260\n",
        "Successful parse of payload: 1603\n",
        "Successful parse of payload: 2993"
       ]
      },
      {
       "output_type": "stream",
       "stream": "stdout",
       "text": [
        "\n",
        "Successful parse of payload: 1179\n",
        "Successful parse of payload: 3328"
       ]
      },
      {
       "output_type": "stream",
       "stream": "stdout",
       "text": [
        "\n",
        "Successful parse of payload: 702\n",
        "Successful parse of payload: 3304"
       ]
      },
      {
       "output_type": "stream",
       "stream": "stdout",
       "text": [
        "\n",
        "Successful parse of payload: 415\n",
        "Successful parse of payload: 928"
       ]
      },
      {
       "output_type": "stream",
       "stream": "stdout",
       "text": [
        "\n",
        "Successful parse of payload: 2698\n",
        "Successful parse of payload: 2931\n",
        "Successful parse of payload: 2818"
       ]
      },
      {
       "output_type": "stream",
       "stream": "stdout",
       "text": [
        "\n",
        "Successful parse of payload: 2572\n",
        "Successful parse of payload: 4360\n",
        "Successful parse of payload: 2914"
       ]
      },
      {
       "output_type": "stream",
       "stream": "stdout",
       "text": [
        "\n",
        "Successful parse of payload: 3154\n",
        "Successful parse of payload: 769\n",
        "Successful parse of payload: 316\n",
        "Successful parse of payload: 3728"
       ]
      },
      {
       "output_type": "stream",
       "stream": "stdout",
       "text": [
        "\n",
        "Successful parse of payload: 3314"
       ]
      },
      {
       "output_type": "stream",
       "stream": "stdout",
       "text": [
        "\n",
        "Successful parse of payload: 2458"
       ]
      },
      {
       "output_type": "stream",
       "stream": "stdout",
       "text": [
        "\n",
        "Successful parse of payload: 2475\n",
        "Successful parse of payload: 2868\n",
        "Successful parse of payload: 2215"
       ]
      },
      {
       "output_type": "stream",
       "stream": "stdout",
       "text": [
        "\n",
        "Successful parse of payload: 797\n",
        "Successful parse of payload: 4027\n",
        "Successful parse of payload: 2815\n",
        "Successful parse of payload: 2631\n",
        "Successful parse of payload: 2464\n",
        "Successful parse of payload: 2403"
       ]
      },
      {
       "output_type": "stream",
       "stream": "stdout",
       "text": [
        "\n",
        "Successful parse of payload: 1317\n",
        "Successful parse of payload: 2026\n",
        "Successful parse of payload: 1906\n",
        "Successful parse of payload: 3549\n",
        "Successful parse of payload: 1747\n",
        "Successful parse of payload: 1092\n",
        "Successful parse of payload: 2723"
       ]
      },
      {
       "output_type": "stream",
       "stream": "stdout",
       "text": [
        "\n",
        "Successful parse of payload: 3141\n",
        "Successful parse of payload: 2517"
       ]
      },
      {
       "output_type": "stream",
       "stream": "stdout",
       "text": [
        "\n",
        "Successful parse of payload: 2335"
       ]
      },
      {
       "output_type": "stream",
       "stream": "stdout",
       "text": [
        "\n",
        "Successful parse of payload: 3186\n",
        "Successful parse of payload: 2483\n",
        "Successful parse of payload: 3419\n",
        "Successful parse of payload: 3900\n",
        "Successful parse of payload: 2995"
       ]
      },
      {
       "output_type": "stream",
       "stream": "stdout",
       "text": [
        "\n",
        "Successful parse of payload: 2607\n",
        "Successful parse of payload: 2264"
       ]
      },
      {
       "output_type": "stream",
       "stream": "stdout",
       "text": [
        "\n",
        "Successful parse of payload: 3208"
       ]
      },
      {
       "output_type": "stream",
       "stream": "stdout",
       "text": [
        "\n",
        "Successful parse of payload: 3482"
       ]
      },
      {
       "output_type": "stream",
       "stream": "stdout",
       "text": [
        "\n",
        "Successful parse of payload: 2272\n",
        "Successful parse of payload: 4246\n",
        "Successful parse of payload: 2516\n",
        "Successful parse of payload: 2743\n",
        "Successful parse of payload: 2828"
       ]
      },
      {
       "output_type": "stream",
       "stream": "stdout",
       "text": [
        "\n",
        "Successful parse of payload: 1705\n",
        "Successful parse of payload: 4230\n",
        "Successful parse of payload: 2282\n",
        "Successful parse of payload: 2162\n",
        "Successful parse of payload: 3344"
       ]
      },
      {
       "output_type": "stream",
       "stream": "stdout",
       "text": [
        "\n",
        "Successful parse of payload: 4424\n",
        "Successful parse of payload: 331\n",
        "Successful parse of payload: 3188"
       ]
      },
      {
       "output_type": "stream",
       "stream": "stdout",
       "text": [
        "\n",
        "Successful parse of payload: 2716"
       ]
      },
      {
       "output_type": "stream",
       "stream": "stdout",
       "text": [
        "\n",
        "Successful parse of payload: 1123\n",
        "Successful parse of payload: 2396\n",
        "Successful parse of payload: 1646\n",
        "Successful parse of payload: 2152"
       ]
      },
      {
       "output_type": "stream",
       "stream": "stdout",
       "text": [
        "\n",
        "Successful parse of payload: 3745\n",
        "Successful parse of payload: 2201\n",
        "Successful parse of payload: 1200\n",
        "Successful parse of payload: 1047"
       ]
      },
      {
       "output_type": "stream",
       "stream": "stdout",
       "text": [
        "\n",
        "Successful parse of payload: 262\n",
        "Successful parse of payload: 4287"
       ]
      },
      {
       "output_type": "stream",
       "stream": "stdout",
       "text": [
        "\n",
        "Successful parse of payload: 3440\n",
        "Successful parse of payload: 2481\n",
        "Successful parse of payload: 4342\n",
        "Successful parse of payload: 2297\n",
        "Successful parse of payload: 4433\n",
        "Successful parse of payload: 3245"
       ]
      },
      {
       "output_type": "stream",
       "stream": "stdout",
       "text": [
        "\n",
        "Successful parse of payload: 3747\n",
        "Successful parse of payload: 3715"
       ]
      },
      {
       "output_type": "stream",
       "stream": "stdout",
       "text": [
        "\n",
        "Successful parse of payload: 4401\n",
        "Failed parse of payload: 3454\n",
        "Failed parse of payload: 2699\n",
        "Successful parse of payload: 4136\n",
        "Successful parse of payload: 514\n",
        "Successful parse of payload: 1717\n",
        "Failed parse of payload: 3451"
       ]
      },
      {
       "output_type": "stream",
       "stream": "stdout",
       "text": [
        "\n",
        "Successful parse of payload: 1893\n",
        "Successful parse of payload: 2636\n",
        "Successful parse of payload: 2856\n",
        "Successful parse of payload: 3274\n",
        "Successful parse of payload: 1124\n",
        "Successful parse of payload: 2709"
       ]
      },
      {
       "output_type": "stream",
       "stream": "stdout",
       "text": [
        "\n",
        "Successful parse of payload: 3273\n",
        "Successful parse of payload: 1299\n",
        "Successful parse of payload: 3340\n",
        "Successful parse of payload: 2021\n",
        "Successful parse of payload: 4028\n",
        "Successful parse of payload: 1876\n",
        "Successful parse of payload: 768"
       ]
      },
      {
       "output_type": "stream",
       "stream": "stdout",
       "text": [
        "\n",
        "Successful parse of payload: 1631\n",
        "Successful parse of payload: 1655\n",
        "Successful parse of payload: 3082\n",
        "Successful parse of payload: 2655\n",
        "Successful parse of payload: 1914"
       ]
      },
      {
       "output_type": "stream",
       "stream": "stdout",
       "text": [
        "\n",
        "Successful parse of payload: 1687\n",
        "Successful parse of payload: 2216\n",
        "Successful parse of payload: 2696\n",
        "Successful parse of payload: 3022\n",
        "Successful parse of payload: 2438\n",
        "Successful parse of payload: 249\n",
        "Successful parse of payload: 2144\n",
        "Successful parse of payload: 1974\n",
        "Successful parse of payload: 1288"
       ]
      },
      {
       "output_type": "stream",
       "stream": "stdout",
       "text": [
        "\n",
        "Successful parse of payload: 3028"
       ]
      },
      {
       "output_type": "stream",
       "stream": "stdout",
       "text": [
        "\n",
        "Successful parse of payload: 2069\n",
        "Successful parse of payload: 3782"
       ]
      },
      {
       "output_type": "stream",
       "stream": "stdout",
       "text": [
        "\n",
        "Successful parse of payload: 2228"
       ]
      },
      {
       "output_type": "stream",
       "stream": "stdout",
       "text": [
        "\n",
        "Successful parse of payload: 2390\n",
        "Successful parse of payload: 888\n",
        "Successful parse of payload: 1480\n",
        "Successful parse of payload: 3851"
       ]
      },
      {
       "output_type": "stream",
       "stream": "stdout",
       "text": [
        "\n",
        "Successful parse of payload: 2541"
       ]
      },
      {
       "output_type": "stream",
       "stream": "stdout",
       "text": [
        "\n",
        "Failed parse of payload: 3196\n",
        "Successful parse of payload: 784"
       ]
      },
      {
       "output_type": "stream",
       "stream": "stdout",
       "text": [
        "\n",
        "Successful parse of payload: 1129\n",
        "Successful parse of payload: 1901\n",
        "Successful parse of payload: 4384\n",
        "Successful parse of payload: 3896\n",
        "Successful parse of payload: 3729"
       ]
      },
      {
       "output_type": "stream",
       "stream": "stdout",
       "text": [
        "\n",
        "Successful parse of payload: 1543\n",
        "Successful parse of payload: 2208\n",
        "Successful parse of payload: 870"
       ]
      },
      {
       "output_type": "stream",
       "stream": "stdout",
       "text": [
        "\n",
        "Successful parse of payload: 2970\n",
        "Successful parse of payload: 4175\n",
        "Successful parse of payload: 3271\n",
        "Successful parse of payload: 4073"
       ]
      },
      {
       "output_type": "stream",
       "stream": "stdout",
       "text": [
        "\n",
        "Successful parse of payload: 2728\n",
        "Successful parse of payload: 271\n",
        "Successful parse of payload: 4396\n",
        "Successful parse of payload: 3118\n",
        "Successful parse of payload: 1291\n",
        "Successful parse of payload: 4272"
       ]
      },
      {
       "output_type": "stream",
       "stream": "stdout",
       "text": [
        "\n",
        "Successful parse of payload: 3463"
       ]
      },
      {
       "output_type": "stream",
       "stream": "stdout",
       "text": [
        "\n",
        "Successful parse of payload: 3672\n",
        "Successful parse of payload: 906\n",
        "Successful parse of payload: 1138\n",
        "Successful parse of payload: 4041"
       ]
      },
      {
       "output_type": "stream",
       "stream": "stdout",
       "text": [
        "\n",
        "Successful parse of payload: 2998"
       ]
      },
      {
       "output_type": "stream",
       "stream": "stdout",
       "text": [
        "\n",
        "Successful parse of payload: 259\n",
        "Successful parse of payload: 3773"
       ]
      },
      {
       "output_type": "stream",
       "stream": "stdout",
       "text": [
        "\n",
        "Successful parse of payload: 2784\n",
        "Successful parse of payload: 2542\n",
        "Successful parse of payload: 3912\n",
        "Successful parse of payload: 2589\n",
        "Successful parse of payload: 4363"
       ]
      },
      {
       "output_type": "stream",
       "stream": "stdout",
       "text": [
        "\n",
        "Successful parse of payload: 910\n",
        "Successful parse of payload: 3084\n",
        "Successful parse of payload: 1714"
       ]
      },
      {
       "output_type": "stream",
       "stream": "stdout",
       "text": [
        "\n",
        "Successful parse of payload: 1649\n",
        "Successful parse of payload: 2025\n",
        "Failed parse of payload: 4299\n",
        "Successful parse of payload: 2197\n",
        "Successful parse of payload: 3006\n",
        "Successful parse of payload: 2028"
       ]
      },
      {
       "output_type": "stream",
       "stream": "stdout",
       "text": [
        "\n",
        "Successful parse of payload: 1484"
       ]
      },
      {
       "output_type": "stream",
       "stream": "stdout",
       "text": [
        "\n",
        "Successful parse of payload: 1259"
       ]
      },
      {
       "output_type": "stream",
       "stream": "stdout",
       "text": [
        "\n",
        "Successful parse of payload: 2576\n",
        "Successful parse of payload: 2613\n",
        "Successful parse of payload: 1250\n",
        "Successful parse of payload: 4116\n",
        "Successful parse of payload: 2447"
       ]
      },
      {
       "output_type": "stream",
       "stream": "stdout",
       "text": [
        "\n",
        "Successful parse of payload: 1745\n",
        "Successful parse of payload: 3041\n",
        "Successful parse of payload: 3300\n",
        "Successful parse of payload: 4135\n",
        "Successful parse of payload: 3713"
       ]
      },
      {
       "output_type": "stream",
       "stream": "stdout",
       "text": [
        "\n",
        "Successful parse of payload: 2653\n",
        "Successful parse of payload: 2267\n",
        "Successful parse of payload: 3976\n",
        "Successful parse of payload: 1794\n",
        "Successful parse of payload: 1778"
       ]
      },
      {
       "output_type": "stream",
       "stream": "stdout",
       "text": [
        "\n",
        "Successful parse of payload: 857\n",
        "Successful parse of payload: 3489\n",
        "Successful parse of payload: 2190\n",
        "Successful parse of payload: 3237\n",
        "Successful parse of payload: 3394"
       ]
      },
      {
       "output_type": "stream",
       "stream": "stdout",
       "text": [
        "\n",
        "Successful parse of payload: 1350\n",
        "Successful parse of payload: 1812"
       ]
      },
      {
       "output_type": "stream",
       "stream": "stdout",
       "text": [
        "\n",
        "Successful parse of payload: 4167\n",
        "Successful parse of payload: 2726\n",
        "Successful parse of payload: 2801\n",
        "Successful parse of payload: 2205\n",
        "Successful parse of payload: 3275\n",
        "Successful parse of payload: 3044\n",
        "Successful parse of payload: 2019\n",
        "Successful parse of payload: 3351"
       ]
      },
      {
       "output_type": "stream",
       "stream": "stdout",
       "text": [
        "\n",
        "Successful parse of payload: 873"
       ]
      },
      {
       "output_type": "stream",
       "stream": "stdout",
       "text": [
        "\n",
        "Successful parse of payload: 3738"
       ]
      },
      {
       "output_type": "stream",
       "stream": "stdout",
       "text": [
        "\n",
        "Successful parse of payload: 1657\n",
        "Successful parse of payload: 2491\n",
        "Successful parse of payload: 1312"
       ]
      },
      {
       "output_type": "stream",
       "stream": "stdout",
       "text": [
        "\n",
        "Successful parse of payload: 4125\n",
        "Successful parse of payload: 4255"
       ]
      },
      {
       "output_type": "stream",
       "stream": "stdout",
       "text": [
        "\n",
        "Successful parse of payload: 1113\n",
        "Successful parse of payload: 1916\n",
        "Successful parse of payload: 1659"
       ]
      },
      {
       "output_type": "stream",
       "stream": "stdout",
       "text": [
        "\n",
        "Successful parse of payload: 2909\n",
        "Successful parse of payload: 4024\n",
        "Successful parse of payload: 1743\n",
        "Successful parse of payload: 780\n",
        "Successful parse of payload: 3837"
       ]
      },
      {
       "output_type": "stream",
       "stream": "stdout",
       "text": [
        "\n",
        "Successful parse of payload: 1996\n",
        "Successful parse of payload: 1283"
       ]
      },
      {
       "output_type": "stream",
       "stream": "stdout",
       "text": [
        "\n",
        "Successful parse of payload: 3665"
       ]
      },
      {
       "output_type": "stream",
       "stream": "stdout",
       "text": [
        "\n",
        "Successful parse of payload: 1182\n",
        "Successful parse of payload: 3903\n",
        "Successful parse of payload: 4436\n",
        "Successful parse of payload: 4051"
       ]
      },
      {
       "output_type": "stream",
       "stream": "stdout",
       "text": [
        "\n",
        "Successful parse of payload: 3735"
       ]
      },
      {
       "output_type": "stream",
       "stream": "stdout",
       "text": [
        "\n",
        "Successful parse of payload: 4372"
       ]
      },
      {
       "output_type": "stream",
       "stream": "stdout",
       "text": [
        "\n",
        "Successful parse of payload: 3755\n",
        "Successful parse of payload: 4150\n",
        "Successful parse of payload: 2230\n",
        "Successful parse of payload: 2583"
       ]
      },
      {
       "output_type": "stream",
       "stream": "stdout",
       "text": [
        "\n",
        "Successful parse of payload: 1912\n",
        "Successful parse of payload: 1067"
       ]
      },
      {
       "output_type": "stream",
       "stream": "stdout",
       "text": [
        "\n",
        "Successful parse of payload: 2307\n",
        "Successful parse of payload: 2463\n",
        "Successful parse of payload: 3550\n",
        "Successful parse of payload: 2960\n",
        "Successful parse of payload: 2383"
       ]
      },
      {
       "output_type": "stream",
       "stream": "stdout",
       "text": [
        "\n",
        "Successful parse of payload: 3749\n",
        "Successful parse of payload: 4338\n",
        "Successful parse of payload: 3088\n",
        "Successful parse of payload: 282\n",
        "Successful parse of payload: 1803"
       ]
      },
      {
       "output_type": "stream",
       "stream": "stdout",
       "text": [
        "\n",
        "Successful parse of payload: 2741\n",
        "Successful parse of payload: 4060"
       ]
      },
      {
       "output_type": "stream",
       "stream": "stdout",
       "text": [
        "\n",
        "Successful parse of payload: 3890\n",
        "Successful parse of payload: 2474\n",
        "Successful parse of payload: 2992\n",
        "Successful parse of payload: 2907"
       ]
      },
      {
       "output_type": "stream",
       "stream": "stdout",
       "text": [
        "\n",
        "Successful parse of payload: 2106\n",
        "Successful parse of payload: 1577\n",
        "Successful parse of payload: 3949\n",
        "Successful parse of payload: 1616\n",
        "Successful parse of payload: 1733\n",
        "Successful parse of payload: 3635\n",
        "Successful parse of payload: 4387\n",
        "Successful parse of payload: 2356"
       ]
      },
      {
       "output_type": "stream",
       "stream": "stdout",
       "text": [
        "\n",
        "Successful parse of payload: 3382"
       ]
      },
      {
       "output_type": "stream",
       "stream": "stdout",
       "text": [
        "\n",
        "Successful parse of payload: 1723\n",
        "Successful parse of payload: 2295\n",
        "Successful parse of payload: 1086"
       ]
      },
      {
       "output_type": "stream",
       "stream": "stdout",
       "text": [
        "\n",
        "Successful parse of payload: 892\n",
        "Successful parse of payload: 2683\n",
        "Successful parse of payload: 1793\n",
        "Successful parse of payload: 2145"
       ]
      },
      {
       "output_type": "stream",
       "stream": "stdout",
       "text": [
        "\n",
        "Successful parse of payload: 2905\n",
        "Successful parse of payload: 3386"
       ]
      },
      {
       "output_type": "stream",
       "stream": "stdout",
       "text": [
        "\n",
        "Successful parse of payload: 2679\n",
        "Successful parse of payload: 1290"
       ]
      },
      {
       "output_type": "stream",
       "stream": "stdout",
       "text": [
        "\n",
        "Failed parse of payload: 3670\n",
        "Successful parse of payload: 1642\n",
        "Successful parse of payload: 1802\n",
        "Successful parse of payload: 4361\n",
        "Successful parse of payload: 2628\n",
        "Successful parse of payload: 3311\n",
        "Successful parse of payload: 3504\n",
        "Successful parse of payload: 3174"
       ]
      },
      {
       "output_type": "stream",
       "stream": "stdout",
       "text": [
        "\n",
        "Successful parse of payload: 897"
       ]
      },
      {
       "output_type": "stream",
       "stream": "stdout",
       "text": [
        "\n",
        "Successful parse of payload: 2822\n",
        "Successful parse of payload: 2749\n",
        "Successful parse of payload: 4076\n",
        "Successful parse of payload: 2884\n",
        "Successful parse of payload: 3202\n",
        "Successful parse of payload: 1889\n",
        "Successful parse of payload: 1286"
       ]
      },
      {
       "output_type": "stream",
       "stream": "stdout",
       "text": [
        "\n",
        "Successful parse of payload: 4344\n",
        "Successful parse of payload: 511\n",
        "Successful parse of payload: 1954\n",
        "Successful parse of payload: 229\n",
        "Successful parse of payload: 2248"
       ]
      },
      {
       "output_type": "stream",
       "stream": "stdout",
       "text": [
        "\n",
        "Successful parse of payload: 2123\n",
        "Successful parse of payload: 2797\n",
        "Successful parse of payload: 3070"
       ]
      },
      {
       "output_type": "stream",
       "stream": "stdout",
       "text": [
        "\n",
        "Successful parse of payload: 750\n",
        "Successful parse of payload: 3952\n",
        "Successful parse of payload: 2601\n",
        "Successful parse of payload: 903"
       ]
      },
      {
       "output_type": "stream",
       "stream": "stdout",
       "text": [
        "\n",
        "Successful parse of payload: 816\n",
        "Successful parse of payload: 1090"
       ]
      },
      {
       "output_type": "stream",
       "stream": "stdout",
       "text": [
        "\n",
        "Successful parse of payload: 1967"
       ]
      },
      {
       "output_type": "stream",
       "stream": "stdout",
       "text": [
        "\n",
        "Successful parse of payload: 1669\n",
        "Successful parse of payload: 322\n",
        "Successful parse of payload: 2220\n",
        "Successful parse of payload: 749"
       ]
      },
      {
       "output_type": "stream",
       "stream": "stdout",
       "text": [
        "\n",
        "Failed parse of payload: 4420"
       ]
      },
      {
       "output_type": "stream",
       "stream": "stdout",
       "text": [
        "\n",
        "Successful parse of payload: 1692\n",
        "Successful parse of payload: 935"
       ]
      },
      {
       "output_type": "stream",
       "stream": "stdout",
       "text": [
        "\n",
        "Successful parse of payload: 1683\n",
        "Successful parse of payload: 2244"
       ]
      },
      {
       "output_type": "stream",
       "stream": "stdout",
       "text": [
        "\n",
        "Successful parse of payload: 1246\n",
        "Successful parse of payload: 3991\n",
        "Successful parse of payload: 818"
       ]
      },
      {
       "output_type": "stream",
       "stream": "stdout",
       "text": [
        "\n",
        "Successful parse of payload: 3312\n",
        "Successful parse of payload: 3619\n",
        "Successful parse of payload: 1305\n",
        "Successful parse of payload: 1093"
       ]
      },
      {
       "output_type": "stream",
       "stream": "stdout",
       "text": [
        "\n",
        "Successful parse of payload: 2294\n",
        "Successful parse of payload: 2756"
       ]
      },
      {
       "output_type": "stream",
       "stream": "stdout",
       "text": [
        "\n",
        "Successful parse of payload: 4324\n",
        "Successful parse of payload: 3046"
       ]
      },
      {
       "output_type": "stream",
       "stream": "stdout",
       "text": [
        "\n",
        "Successful parse of payload: 2466\n",
        "Successful parse of payload: 2288\n",
        "Successful parse of payload: 2304\n",
        "Successful parse of payload: 2930\n",
        "Successful parse of payload: 4016\n",
        "Successful parse of payload: 4138\n",
        "Successful parse of payload: 3675"
       ]
      },
      {
       "output_type": "stream",
       "stream": "stdout",
       "text": [
        "\n",
        "Successful parse of payload: 3972"
       ]
      },
      {
       "output_type": "stream",
       "stream": "stdout",
       "text": [
        "\n",
        "Successful parse of payload: 1930\n",
        "Successful parse of payload: 2505\n",
        "Successful parse of payload: 1832\n",
        "Successful parse of payload: 1222\n",
        "Successful parse of payload: 1573"
       ]
      },
      {
       "output_type": "stream",
       "stream": "stdout",
       "text": [
        "\n",
        "Successful parse of payload: 2976"
       ]
      },
      {
       "output_type": "stream",
       "stream": "stdout",
       "text": [
        "\n",
        "Successful parse of payload: 3400\n",
        "Successful parse of payload: 250\n",
        "Successful parse of payload: 1943\n",
        "Successful parse of payload: 1193\n",
        "Successful parse of payload: 1652\n",
        "Successful parse of payload: 3604"
       ]
      },
      {
       "output_type": "stream",
       "stream": "stdout",
       "text": [
        "\n",
        "Successful parse of payload: 1712\n",
        "Failed parse of payload: 4189"
       ]
      },
      {
       "output_type": "stream",
       "stream": "stdout",
       "text": [
        "\n",
        "Successful parse of payload: 3831\n",
        "Failed parse of payload: 3640"
       ]
      },
      {
       "output_type": "stream",
       "stream": "stdout",
       "text": [
        "\n",
        "Successful parse of payload: 1587\n",
        "Failed parse of payload: 4410"
       ]
      },
      {
       "output_type": "stream",
       "stream": "stdout",
       "text": [
        "\n",
        "Successful parse of payload: 2115\n",
        "Successful parse of payload: 4390\n",
        "Successful parse of payload: 3322\n",
        "Successful parse of payload: 2504"
       ]
      },
      {
       "output_type": "stream",
       "stream": "stdout",
       "text": [
        "\n",
        "Successful parse of payload: 2409"
       ]
      },
      {
       "output_type": "stream",
       "stream": "stdout",
       "text": [
        "\n",
        "Successful parse of payload: 3883\n",
        "Successful parse of payload: 1311"
       ]
      },
      {
       "output_type": "stream",
       "stream": "stdout",
       "text": [
        "\n",
        "Successful parse of payload: 3839\n",
        "Successful parse of payload: 3354\n",
        "Failed parse of payload: 979"
       ]
      },
      {
       "output_type": "stream",
       "stream": "stdout",
       "text": [
        "\n",
        "Successful parse of payload: 2088"
       ]
      },
      {
       "output_type": "stream",
       "stream": "stdout",
       "text": [
        "\n",
        "Successful parse of payload: 3063"
       ]
      },
      {
       "output_type": "stream",
       "stream": "stdout",
       "text": [
        "\n",
        "Successful parse of payload: 4399\n",
        "Successful parse of payload: 4248\n",
        "Successful parse of payload: 2832\n",
        "Successful parse of payload: 4311"
       ]
      },
      {
       "output_type": "stream",
       "stream": "stdout",
       "text": [
        "\n",
        "Successful parse of payload: 4381\n",
        "Successful parse of payload: 3108"
       ]
      },
      {
       "output_type": "stream",
       "stream": "stdout",
       "text": [
        "\n",
        "Successful parse of payload: 1212"
       ]
      },
      {
       "output_type": "stream",
       "stream": "stdout",
       "text": [
        "\n",
        "Successful parse of payload: 1632"
       ]
      },
      {
       "output_type": "stream",
       "stream": "stdout",
       "text": [
        "\n",
        "Successful parse of payload: 1620\n",
        "Successful parse of payload: 2130\n",
        "Successful parse of payload: 3391\n",
        "Successful parse of payload: 2427"
       ]
      },
      {
       "output_type": "stream",
       "stream": "stdout",
       "text": [
        "\n",
        "Successful parse of payload: 3792"
       ]
      },
      {
       "output_type": "stream",
       "stream": "stdout",
       "text": [
        "\n",
        "Successful parse of payload: 2925"
       ]
      },
      {
       "output_type": "stream",
       "stream": "stdout",
       "text": [
        "\n",
        "Successful parse of payload: 2229\n",
        "Failed parse of payload: 2081\n",
        "Successful parse of payload: 2435\n",
        "Successful parse of payload: 1766\n",
        "Successful parse of payload: 2141"
       ]
      },
      {
       "output_type": "stream",
       "stream": "stdout",
       "text": [
        "\n",
        "Successful parse of payload: 1908\n",
        "Successful parse of payload: 2958\n",
        "Successful parse of payload: 1580\n",
        "Successful parse of payload: 2724\n",
        "Successful parse of payload: 3761\n",
        "Successful parse of payload: 3835\n",
        "Successful parse of payload: 2577"
       ]
      },
      {
       "output_type": "stream",
       "stream": "stdout",
       "text": [
        "\n",
        "Successful parse of payload: 4056\n",
        "Successful parse of payload: 3563\n",
        "Successful parse of payload: 3185\n",
        "Successful parse of payload: 1225"
       ]
      },
      {
       "output_type": "stream",
       "stream": "stdout",
       "text": [
        "\n",
        "Successful parse of payload: 3621\n",
        "Successful parse of payload: 1729\n",
        "Successful parse of payload: 3223"
       ]
      },
      {
       "output_type": "stream",
       "stream": "stdout",
       "text": [
        "\n",
        "Successful parse of payload: 4331\n",
        "Successful parse of payload: 3192\n",
        "Successful parse of payload: 4297\n",
        "Successful parse of payload: 4206"
       ]
      },
      {
       "output_type": "stream",
       "stream": "stdout",
       "text": [
        "\n",
        "Successful parse of payload: 3628"
       ]
      },
      {
       "output_type": "stream",
       "stream": "stdout",
       "text": [
        "\n",
        "Successful parse of payload: 3115\n",
        "Successful parse of payload: 4380"
       ]
      },
      {
       "output_type": "stream",
       "stream": "stdout",
       "text": [
        "\n",
        "Successful parse of payload: 2018"
       ]
      },
      {
       "output_type": "stream",
       "stream": "stdout",
       "text": [
        "\n",
        "Successful parse of payload: 1864\n",
        "Successful parse of payload: 3816\n",
        "Successful parse of payload: 2014\n",
        "Successful parse of payload: 281"
       ]
      },
      {
       "output_type": "stream",
       "stream": "stdout",
       "text": [
        "\n",
        "Successful parse of payload: 2128\n",
        "Successful parse of payload: 3826\n",
        "Successful parse of payload: 3660\n",
        "Successful parse of payload: 3194"
       ]
      },
      {
       "output_type": "stream",
       "stream": "stdout",
       "text": [
        "\n",
        "Successful parse of payload: 2158\n",
        "Successful parse of payload: 2299"
       ]
      },
      {
       "output_type": "stream",
       "stream": "stdout",
       "text": [
        "\n",
        "Successful parse of payload: 3970\n",
        "Successful parse of payload: 3824\n",
        "Successful parse of payload: 2740\n",
        "Successful parse of payload: 1638\n",
        "Successful parse of payload: 2781\n",
        "Successful parse of payload: 2812\n",
        "Successful parse of payload: 954"
       ]
      },
      {
       "output_type": "stream",
       "stream": "stdout",
       "text": [
        "\n",
        "Successful parse of payload: 3791\n",
        "Successful parse of payload: 3577\n",
        "Successful parse of payload: 289\n",
        "Successful parse of payload: 1955\n",
        "Successful parse of payload: 4042\n",
        "Successful parse of payload: 2124\n",
        "Successful parse of payload: 3443"
       ]
      },
      {
       "output_type": "stream",
       "stream": "stdout",
       "text": [
        "\n",
        "Successful parse of payload: 2206\n",
        "Successful parse of payload: 1863\n",
        "Successful parse of payload: 778\n",
        "Successful parse of payload: 3493\n",
        "Successful parse of payload: 4374"
       ]
      },
      {
       "output_type": "stream",
       "stream": "stdout",
       "text": [
        "\n",
        "Successful parse of payload: 862\n",
        "Successful parse of payload: 3705"
       ]
      },
      {
       "output_type": "stream",
       "stream": "stdout",
       "text": [
        "\n",
        "Successful parse of payload: 1108\n",
        "Successful parse of payload: 1878\n",
        "Successful parse of payload: 3378"
       ]
      },
      {
       "output_type": "stream",
       "stream": "stdout",
       "text": [
        "\n",
        "Successful parse of payload: 2070\n",
        "Successful parse of payload: 1823\n",
        "Successful parse of payload: 3284\n",
        "Successful parse of payload: 1170"
       ]
      },
      {
       "output_type": "stream",
       "stream": "stdout",
       "text": [
        "\n",
        "Successful parse of payload: 1635\n",
        "Successful parse of payload: 4358\n",
        "Successful parse of payload: 2866"
       ]
      },
      {
       "output_type": "stream",
       "stream": "stdout",
       "text": [
        "\n",
        "Successful parse of payload: 2469\n",
        "Successful parse of payload: 2677\n",
        "Successful parse of payload: 1082"
       ]
      },
      {
       "output_type": "stream",
       "stream": "stdout",
       "text": [
        "\n",
        "Successful parse of payload: 3752"
       ]
      },
      {
       "output_type": "stream",
       "stream": "stdout",
       "text": [
        "\n",
        "Successful parse of payload: 853\n",
        "Successful parse of payload: 1269"
       ]
      },
      {
       "output_type": "stream",
       "stream": "stdout",
       "text": [
        "\n",
        "Successful parse of payload: 3109\n",
        "Successful parse of payload: 3882\n",
        "Successful parse of payload: 323\n",
        "Successful parse of payload: 2012\n",
        "Successful parse of payload: 4146\n",
        "Successful parse of payload: 1457\n",
        "Successful parse of payload: 2436"
       ]
      },
      {
       "output_type": "stream",
       "stream": "stdout",
       "text": [
        "\n",
        "Successful parse of payload: 254\n",
        "Successful parse of payload: 301\n",
        "Successful parse of payload: 3345"
       ]
      },
      {
       "output_type": "stream",
       "stream": "stdout",
       "text": [
        "\n",
        "Successful parse of payload: 4356\n",
        "Successful parse of payload: 2245"
       ]
      },
      {
       "output_type": "stream",
       "stream": "stdout",
       "text": [
        "\n",
        "Successful parse of payload: 2658\n",
        "Successful parse of payload: 2410\n",
        "Successful parse of payload: 3807"
       ]
      },
      {
       "output_type": "stream",
       "stream": "stdout",
       "text": [
        "\n",
        "Successful parse of payload: 835"
       ]
      },
      {
       "output_type": "stream",
       "stream": "stdout",
       "text": [
        "\n",
        "Successful parse of payload: 1806\n",
        "Successful parse of payload: 1126\n",
        "Successful parse of payload: 1935\n",
        "Successful parse of payload: 3362\n",
        "Successful parse of payload: 344\n",
        "Successful parse of payload: 4240"
       ]
      },
      {
       "output_type": "stream",
       "stream": "stdout",
       "text": [
        "\n",
        "Successful parse of payload: 919\n",
        "Successful parse of payload: 3268\n",
        "Successful parse of payload: 1875\n",
        "Successful parse of payload: 1083"
       ]
      },
      {
       "output_type": "stream",
       "stream": "stdout",
       "text": [
        "\n",
        "Failed parse of payload: 3506\n",
        "Successful parse of payload: 4289\n",
        "Successful parse of payload: 2883\n",
        "Successful parse of payload: 1346\n",
        "Successful parse of payload: 1716"
       ]
      },
      {
       "output_type": "stream",
       "stream": "stdout",
       "text": [
        "\n",
        "Successful parse of payload: 1991\n",
        "Successful parse of payload: 2366"
       ]
      },
      {
       "output_type": "stream",
       "stream": "stdout",
       "text": [
        "\n",
        "Successful parse of payload: 2660\n",
        "Successful parse of payload: 2513\n",
        "Successful parse of payload: 3548\n",
        "Successful parse of payload: 2226\n",
        "Successful parse of payload: 3455"
       ]
      },
      {
       "output_type": "stream",
       "stream": "stdout",
       "text": [
        "\n",
        "Successful parse of payload: 4245\n",
        "Successful parse of payload: 1479"
       ]
      },
      {
       "output_type": "stream",
       "stream": "stdout",
       "text": [
        "\n",
        "Successful parse of payload: 2647\n",
        "Successful parse of payload: 2754"
       ]
      },
      {
       "output_type": "stream",
       "stream": "stdout",
       "text": [
        "\n",
        "Successful parse of payload: 2899"
       ]
      },
      {
       "output_type": "stream",
       "stream": "stdout",
       "text": [
        "\n",
        "Successful parse of payload: 3720\n",
        "Successful parse of payload: 3817\n",
        "Successful parse of payload: 357\n",
        "Successful parse of payload: 3126\n",
        "Successful parse of payload: 4328\n",
        "Successful parse of payload: 2477"
       ]
      },
      {
       "output_type": "stream",
       "stream": "stdout",
       "text": [
        "\n",
        "Successful parse of payload: 1697"
       ]
      },
      {
       "output_type": "stream",
       "stream": "stdout",
       "text": [
        "\n",
        "Successful parse of payload: 2368\n",
        "Successful parse of payload: 4243"
       ]
      },
      {
       "output_type": "stream",
       "stream": "stdout",
       "text": [
        "\n",
        "Successful parse of payload: 2240\n",
        "Successful parse of payload: 2429\n",
        "Successful parse of payload: 4407\n",
        "Successful parse of payload: 3764\n",
        "Successful parse of payload: 2704\n",
        "Successful parse of payload: 2598\n",
        "Successful parse of payload: 2355\n",
        "Successful parse of payload: 3321\n",
        "Successful parse of payload: 2449\n",
        "Successful parse of payload: 2959\n",
        "Successful parse of payload: 3925\n",
        "Successful parse of payload: 2943"
       ]
      },
      {
       "output_type": "stream",
       "stream": "stdout",
       "text": [
        "\n",
        "Successful parse of payload: 777"
       ]
      },
      {
       "output_type": "stream",
       "stream": "stdout",
       "text": [
        "\n",
        "Successful parse of payload: 1321"
       ]
      },
      {
       "output_type": "stream",
       "stream": "stdout",
       "text": [
        "\n",
        "Failed parse of payload: 3397\n",
        "Successful parse of payload: 1905\n",
        "Successful parse of payload: 3135"
       ]
      },
      {
       "output_type": "stream",
       "stream": "stdout",
       "text": [
        "\n",
        "Successful parse of payload: 1985\n",
        "Successful parse of payload: 1744\n",
        "Successful parse of payload: 875\n",
        "Successful parse of payload: 4209"
       ]
      },
      {
       "output_type": "stream",
       "stream": "stdout",
       "text": [
        "\n",
        "Successful parse of payload: 4072\n",
        "Successful parse of payload: 4202\n",
        "Failed parse of payload: 3409"
       ]
      },
      {
       "output_type": "stream",
       "stream": "stdout",
       "text": [
        "\n",
        "Successful parse of payload: 4270\n",
        "Successful parse of payload: 2497"
       ]
      },
      {
       "output_type": "stream",
       "stream": "stdout",
       "text": [
        "\n",
        "Successful parse of payload: 4303"
       ]
      },
      {
       "output_type": "stream",
       "stream": "stdout",
       "text": [
        "\n",
        "Successful parse of payload: 3938"
       ]
      },
      {
       "output_type": "stream",
       "stream": "stdout",
       "text": [
        "\n",
        "Successful parse of payload: 2489"
       ]
      },
      {
       "output_type": "stream",
       "stream": "stdout",
       "text": [
        "\n",
        "Successful parse of payload: 2274\n",
        "Successful parse of payload: 1926"
       ]
      },
      {
       "output_type": "stream",
       "stream": "stdout",
       "text": [
        "\n",
        "Successful parse of payload: 2510\n",
        "Successful parse of payload: 4247"
       ]
      },
      {
       "output_type": "stream",
       "stream": "stdout",
       "text": [
        "\n",
        "Successful parse of payload: 2194"
       ]
      },
      {
       "output_type": "stream",
       "stream": "stdout",
       "text": [
        "\n",
        "Successful parse of payload: 3138\n",
        "Successful parse of payload: 1789\n",
        "Successful parse of payload: 2793\n",
        "Successful parse of payload: 2949\n",
        "Successful parse of payload: 3134\n",
        "Successful parse of payload: 914\n",
        "Successful parse of payload: 1769"
       ]
      },
      {
       "output_type": "stream",
       "stream": "stdout",
       "text": [
        "\n",
        "Successful parse of payload: 414"
       ]
      },
      {
       "output_type": "stream",
       "stream": "stdout",
       "text": [
        "\n",
        "Successful parse of payload: 2224\n",
        "Successful parse of payload: 2807\n",
        "Successful parse of payload: 4151"
       ]
      },
      {
       "output_type": "stream",
       "stream": "stdout",
       "text": [
        "\n",
        "Successful parse of payload: 2778\n",
        "Successful parse of payload: 1665\n",
        "Successful parse of payload: 850"
       ]
      },
      {
       "output_type": "stream",
       "stream": "stdout",
       "text": [
        "\n",
        "Successful parse of payload: 1677"
       ]
      },
      {
       "output_type": "stream",
       "stream": "stdout",
       "text": [
        "\n",
        "Successful parse of payload: 2525"
       ]
      },
      {
       "output_type": "stream",
       "stream": "stdout",
       "text": [
        "\n",
        "Successful parse of payload: 2186\n",
        "Successful parse of payload: 2725\n",
        "Successful parse of payload: 2703\n",
        "Successful parse of payload: 2177\n",
        "Successful parse of payload: 4161"
       ]
      },
      {
       "output_type": "stream",
       "stream": "stdout",
       "text": [
        "\n",
        "Successful parse of payload: 2326\n",
        "Successful parse of payload: 2652\n",
        "Successful parse of payload: 1647\n",
        "Successful parse of payload: 2072\n",
        "Successful parse of payload: 2457\n",
        "Successful parse of payload: 4082"
       ]
      },
      {
       "output_type": "stream",
       "stream": "stdout",
       "text": [
        "\n",
        "Successful parse of payload: 3650\n",
        "Successful parse of payload: 4035\n",
        "Successful parse of payload: 2311\n",
        "Successful parse of payload: 2232\n",
        "Successful parse of payload: 1094\n",
        "Successful parse of payload: 1188\n",
        "Successful parse of payload: 2560"
       ]
      },
      {
       "output_type": "stream",
       "stream": "stdout",
       "text": [
        "\n",
        "Successful parse of payload: 3377"
       ]
      },
      {
       "output_type": "stream",
       "stream": "stdout",
       "text": [
        "\n",
        "Successful parse of payload: 2332\n",
        "Successful parse of payload: 2667\n",
        "Successful parse of payload: 895\n",
        "Successful parse of payload: 247"
       ]
      },
      {
       "output_type": "stream",
       "stream": "stdout",
       "text": [
        "\n",
        "Successful parse of payload: 2179\n",
        "Successful parse of payload: 3358\n",
        "Successful parse of payload: 1924\n",
        "Successful parse of payload: 3241"
       ]
      },
      {
       "output_type": "stream",
       "stream": "stdout",
       "text": [
        "\n",
        "Successful parse of payload: 3579"
       ]
      },
      {
       "output_type": "stream",
       "stream": "stdout",
       "text": [
        "\n",
        "Successful parse of payload: 3924\n",
        "Successful parse of payload: 2659\n",
        "Successful parse of payload: 3813"
       ]
      },
      {
       "output_type": "stream",
       "stream": "stdout",
       "text": [
        "\n",
        "Successful parse of payload: 4032\n",
        "Successful parse of payload: 911\n",
        "Successful parse of payload: 2138"
       ]
      },
      {
       "output_type": "stream",
       "stream": "stdout",
       "text": [
        "\n",
        "Successful parse of payload: 3576\n",
        "Successful parse of payload: 3055\n",
        "Successful parse of payload: 1591"
       ]
      },
      {
       "output_type": "stream",
       "stream": "stdout",
       "text": [
        "\n",
        "Successful parse of payload: 1921\n",
        "Successful parse of payload: 1915\n",
        "Successful parse of payload: 1940\n",
        "Successful parse of payload: 2131\n",
        "Successful parse of payload: 2948"
       ]
      },
      {
       "output_type": "stream",
       "stream": "stdout",
       "text": [
        "\n",
        "Successful parse of payload: 1628\n",
        "Successful parse of payload: 2975\n",
        "Successful parse of payload: 227\n",
        "Successful parse of payload: 4275\n",
        "Successful parse of payload: 4325\n",
        "Successful parse of payload: 2775\n",
        "Successful parse of payload: 3054\n",
        "Successful parse of payload: 3609\n",
        "Successful parse of payload: 2759"
       ]
      },
      {
       "output_type": "stream",
       "stream": "stdout",
       "text": [
        "\n",
        "Successful parse of payload: 1645"
       ]
      },
      {
       "output_type": "stream",
       "stream": "stdout",
       "text": [
        "\n",
        "Successful parse of payload: 358\n",
        "Successful parse of payload: 4020\n",
        "Successful parse of payload: 4126\n",
        "Successful parse of payload: 3815"
       ]
      },
      {
       "output_type": "stream",
       "stream": "stdout",
       "text": [
        "\n",
        "Successful parse of payload: 3469"
       ]
      },
      {
       "output_type": "stream",
       "stream": "stdout",
       "text": [
        "\n",
        "Successful parse of payload: 1175\n",
        "Successful parse of payload: 4005\n",
        "Successful parse of payload: 360"
       ]
      },
      {
       "output_type": "stream",
       "stream": "stdout",
       "text": [
        "\n",
        "Successful parse of payload: 3352\n",
        "Successful parse of payload: 1801\n",
        "Successful parse of payload: 3366"
       ]
      },
      {
       "output_type": "stream",
       "stream": "stdout",
       "text": [
        "\n",
        "Successful parse of payload: 2075\n",
        "Successful parse of payload: 242\n",
        "Successful parse of payload: 3587\n",
        "Successful parse of payload: 2423\n",
        "Successful parse of payload: 269\n",
        "Successful parse of payload: 3820\n",
        "Successful parse of payload: 3142\n",
        "Successful parse of payload: 2020"
       ]
      },
      {
       "output_type": "stream",
       "stream": "stdout",
       "text": [
        "\n",
        "Successful parse of payload: 1275\n",
        "Successful parse of payload: 2582\n",
        "Successful parse of payload: 869\n",
        "Successful parse of payload: 1579\n",
        "Successful parse of payload: 3933\n",
        "Successful parse of payload: 2380"
       ]
      },
      {
       "output_type": "stream",
       "stream": "stdout",
       "text": [
        "\n",
        "Successful parse of payload: 2281"
       ]
      },
      {
       "output_type": "stream",
       "stream": "stdout",
       "text": [
        "\n",
        "Successful parse of payload: 255\n",
        "Successful parse of payload: 1505\n",
        "Successful parse of payload: 4411\n",
        "Successful parse of payload: 2843"
       ]
      },
      {
       "output_type": "stream",
       "stream": "stdout",
       "text": [
        "\n",
        "Successful parse of payload: 1315\n",
        "Successful parse of payload: 4402\n",
        "Successful parse of payload: 1761\n",
        "Successful parse of payload: 3095\n",
        "Successful parse of payload: 2988\n",
        "Successful parse of payload: 3599\n",
        "Successful parse of payload: 4031"
       ]
      },
      {
       "output_type": "stream",
       "stream": "stdout",
       "text": [
        "\n",
        "Successful parse of payload: 3182\n",
        "Successful parse of payload: 1621\n",
        "Successful parse of payload: 2176\n",
        "Successful parse of payload: 2825\n",
        "Successful parse of payload: 3016\n",
        "Successful parse of payload: 3759"
       ]
      },
      {
       "output_type": "stream",
       "stream": "stdout",
       "text": [
        "\n",
        "Successful parse of payload: 2922\n",
        "Successful parse of payload: 350"
       ]
      },
      {
       "output_type": "stream",
       "stream": "stdout",
       "text": [
        "\n",
        "Successful parse of payload: 4168\n",
        "Successful parse of payload: 1892\n",
        "Successful parse of payload: 1597\n",
        "Successful parse of payload: 1594\n",
        "Successful parse of payload: 228\n",
        "Successful parse of payload: 3768\n",
        "Successful parse of payload: 3153\n",
        "Successful parse of payload: 3503\n",
        "Successful parse of payload: 3829"
       ]
      },
      {
       "output_type": "stream",
       "stream": "stdout",
       "text": [
        "\n",
        "Successful parse of payload: 1586\n",
        "Successful parse of payload: 1977"
       ]
      },
      {
       "output_type": "stream",
       "stream": "stdout",
       "text": [
        "\n",
        "Successful parse of payload: 1895\n",
        "Successful parse of payload: 342\n",
        "Successful parse of payload: 1261"
       ]
      },
      {
       "output_type": "stream",
       "stream": "stdout",
       "text": [
        "\n",
        "Successful parse of payload: 4111"
       ]
      },
      {
       "output_type": "stream",
       "stream": "stdout",
       "text": [
        "\n",
        "Successful parse of payload: 4003\n",
        "Successful parse of payload: 3076"
       ]
      },
      {
       "output_type": "stream",
       "stream": "stdout",
       "text": [
        "\n",
        "Successful parse of payload: 1009\n",
        "Successful parse of payload: 1596\n",
        "Successful parse of payload: 4123\n",
        "Successful parse of payload: 2037"
       ]
      },
      {
       "output_type": "stream",
       "stream": "stdout",
       "text": [
        "\n",
        "Successful parse of payload: 2375"
       ]
      },
      {
       "output_type": "stream",
       "stream": "stdout",
       "text": [
        "\n",
        "Successful parse of payload: 4432\n",
        "Successful parse of payload: 2984"
       ]
      },
      {
       "output_type": "stream",
       "stream": "stdout",
       "text": [
        "\n",
        "Successful parse of payload: 3130\n",
        "Successful parse of payload: 3605\n",
        "Successful parse of payload: 3306\n",
        "Successful parse of payload: 3431\n",
        "Successful parse of payload: 4018\n",
        "Successful parse of payload: 1754\n",
        "Successful parse of payload: 4101"
       ]
      },
      {
       "output_type": "stream",
       "stream": "stdout",
       "text": [
        "\n",
        "Failed parse of payload: 3637"
       ]
      },
      {
       "output_type": "stream",
       "stream": "stdout",
       "text": [
        "\n",
        "Successful parse of payload: 1116\n",
        "Successful parse of payload: 4099"
       ]
      },
      {
       "output_type": "stream",
       "stream": "stdout",
       "text": [
        "\n",
        "Successful parse of payload: 4409\n",
        "Successful parse of payload: 1274"
       ]
      },
      {
       "output_type": "stream",
       "stream": "stdout",
       "text": [
        "\n",
        "Successful parse of payload: 2406\n",
        "Successful parse of payload: 929"
       ]
      },
      {
       "output_type": "stream",
       "stream": "stdout",
       "text": [
        "\n",
        "Successful parse of payload: 840"
       ]
      },
      {
       "output_type": "stream",
       "stream": "stdout",
       "text": [
        "\n",
        "Failed parse of payload: 3657"
       ]
      },
      {
       "output_type": "stream",
       "stream": "stdout",
       "text": [
        "\n",
        "Successful parse of payload: 1223\n",
        "Successful parse of payload: 2591\n",
        "Successful parse of payload: 3666\n",
        "Successful parse of payload: 2401"
       ]
      },
      {
       "output_type": "stream",
       "stream": "stdout",
       "text": [
        "\n",
        "Successful parse of payload: 3659"
       ]
      },
      {
       "output_type": "stream",
       "stream": "stdout",
       "text": [
        "\n",
        "Successful parse of payload: 1844\n",
        "Successful parse of payload: 2735\n",
        "Successful parse of payload: 3676\n",
        "Successful parse of payload: 3622\n",
        "Successful parse of payload: 235\n",
        "Successful parse of payload: 2290"
       ]
      },
      {
       "output_type": "stream",
       "stream": "stdout",
       "text": [
        "\n",
        "Successful parse of payload: 3554\n",
        "Successful parse of payload: 320\n",
        "Failed parse of payload: 3600"
       ]
      },
      {
       "output_type": "stream",
       "stream": "stdout",
       "text": [
        "\n",
        "Successful parse of payload: 1654\n",
        "Successful parse of payload: 3501"
       ]
      },
      {
       "output_type": "stream",
       "stream": "stdout",
       "text": [
        "\n",
        "Successful parse of payload: 1783\n",
        "Successful parse of payload: 290\n",
        "Successful parse of payload: 2654"
       ]
      },
      {
       "output_type": "stream",
       "stream": "stdout",
       "text": [
        "\n",
        "Successful parse of payload: 2476\n",
        "Successful parse of payload: 3847\n",
        "Successful parse of payload: 2820\n",
        "Successful parse of payload: 1758\n",
        "Successful parse of payload: 4366\n",
        "Successful parse of payload: 3045\n",
        "Successful parse of payload: 1220\n",
        "Successful parse of payload: 1690"
       ]
      },
      {
       "output_type": "stream",
       "stream": "stdout",
       "text": [
        "\n",
        "Successful parse of payload: 4291"
       ]
      },
      {
       "output_type": "stream",
       "stream": "stdout",
       "text": [
        "\n",
        "Successful parse of payload: 3534\n",
        "Successful parse of payload: 3079\n",
        "Successful parse of payload: 1177"
       ]
      },
      {
       "output_type": "stream",
       "stream": "stdout",
       "text": [
        "\n",
        "Successful parse of payload: 1278\n",
        "Successful parse of payload: 792"
       ]
      },
      {
       "output_type": "stream",
       "stream": "stdout",
       "text": [
        "\n",
        "Successful parse of payload: 2420\n",
        "Successful parse of payload: 2928\n",
        "Successful parse of payload: 4213\n",
        "Successful parse of payload: 4298"
       ]
      },
      {
       "output_type": "stream",
       "stream": "stdout",
       "text": [
        "\n",
        "Successful parse of payload: 3580"
       ]
      },
      {
       "output_type": "stream",
       "stream": "stdout",
       "text": [
        "\n",
        "Successful parse of payload: 3772\n",
        "Successful parse of payload: 3064\n",
        "Successful parse of payload: 2767\n",
        "Successful parse of payload: 2412\n",
        "Successful parse of payload: 1257"
       ]
      },
      {
       "output_type": "stream",
       "stream": "stdout",
       "text": [
        "\n",
        "Successful parse of payload: 3427"
       ]
      },
      {
       "output_type": "stream",
       "stream": "stdout",
       "text": [
        "\n",
        "Successful parse of payload: 1910\n",
        "Successful parse of payload: 832\n",
        "Successful parse of payload: 2927"
       ]
      },
      {
       "output_type": "stream",
       "stream": "stdout",
       "text": [
        "\n",
        "Successful parse of payload: 2863"
       ]
      },
      {
       "output_type": "stream",
       "stream": "stdout",
       "text": [
        "\n",
        "Successful parse of payload: 886\n",
        "Successful parse of payload: 2121"
       ]
      },
      {
       "output_type": "stream",
       "stream": "stdout",
       "text": [
        "\n",
        "Successful parse of payload: 3091\n",
        "Successful parse of payload: 1860\n",
        "Successful parse of payload: 2432\n",
        "Successful parse of payload: 1900\n",
        "Successful parse of payload: 3511"
       ]
      },
      {
       "output_type": "stream",
       "stream": "stdout",
       "text": [
        "\n",
        "Successful parse of payload: 3301\n",
        "Successful parse of payload: 2361\n",
        "Failed parse of payload: 3057\n",
        "Successful parse of payload: 1981\n",
        "Successful parse of payload: 3193\n",
        "Successful parse of payload: 1765\n",
        "Successful parse of payload: 3756"
       ]
      },
      {
       "output_type": "stream",
       "stream": "stdout",
       "text": [
        "\n",
        "Successful parse of payload: 2422\n",
        "Successful parse of payload: 2805\n",
        "Successful parse of payload: 2393\n",
        "Successful parse of payload: 3190\n",
        "Successful parse of payload: 3445\n",
        "Successful parse of payload: 846"
       ]
      },
      {
       "output_type": "stream",
       "stream": "stdout",
       "text": [
        "\n",
        "Successful parse of payload: 2471\n",
        "Successful parse of payload: 3624\n",
        "Successful parse of payload: 3152\n",
        "Successful parse of payload: 2327"
       ]
      },
      {
       "output_type": "stream",
       "stream": "stdout",
       "text": [
        "\n",
        "Successful parse of payload: 4227\n",
        "Successful parse of payload: 3452\n",
        "Successful parse of payload: 4276"
       ]
      },
      {
       "output_type": "stream",
       "stream": "stdout",
       "text": [
        "\n",
        "Successful parse of payload: 2251\n",
        "Successful parse of payload: 1781\n",
        "Successful parse of payload: 3581\n",
        "Successful parse of payload: 3105"
       ]
      },
      {
       "output_type": "stream",
       "stream": "stdout",
       "text": [
        "\n",
        "Successful parse of payload: 3379\n",
        "Successful parse of payload: 1160\n",
        "Successful parse of payload: 2317\n",
        "Successful parse of payload: 2675\n",
        "Successful parse of payload: 2147"
       ]
      },
      {
       "output_type": "stream",
       "stream": "stdout",
       "text": [
        "\n",
        "Successful parse of payload: 3456\n",
        "Successful parse of payload: 3244"
       ]
      },
      {
       "output_type": "stream",
       "stream": "stdout",
       "text": [
        "\n",
        "Successful parse of payload: 288\n",
        "Successful parse of payload: 4327\n",
        "Successful parse of payload: 1775\n",
        "Successful parse of payload: 2006\n",
        "Successful parse of payload: 3841"
       ]
      },
      {
       "output_type": "stream",
       "stream": "stdout",
       "text": [
        "\n",
        "Successful parse of payload: 2878\n",
        "Successful parse of payload: 2869\n",
        "Failed parse of payload: 4254\n",
        "Successful parse of payload: 1132"
       ]
      },
      {
       "output_type": "stream",
       "stream": "stdout",
       "text": [
        "\n",
        "Successful parse of payload: 3308\n",
        "Successful parse of payload: 2539\n",
        "Successful parse of payload: 2292"
       ]
      },
      {
       "output_type": "stream",
       "stream": "stdout",
       "text": [
        "\n",
        "Successful parse of payload: 3802\n",
        "Successful parse of payload: 1884\n",
        "Successful parse of payload: 1181\n",
        "Successful parse of payload: 4117\n",
        "Successful parse of payload: 2185"
       ]
      },
      {
       "output_type": "stream",
       "stream": "stdout",
       "text": [
        "\n",
        "Successful parse of payload: 821\n",
        "Successful parse of payload: 2173"
       ]
      },
      {
       "output_type": "stream",
       "stream": "stdout",
       "text": [
        "\n",
        "Successful parse of payload: 4120\n",
        "Successful parse of payload: 3571\n",
        "Successful parse of payload: 3811"
       ]
      },
      {
       "output_type": "stream",
       "stream": "stdout",
       "text": [
        "\n",
        "Successful parse of payload: 3341\n",
        "Successful parse of payload: 2472\n",
        "Successful parse of payload: 3413"
       ]
      },
      {
       "output_type": "stream",
       "stream": "stdout",
       "text": [
        "\n",
        "Successful parse of payload: 257\n",
        "Successful parse of payload: 3262\n",
        "Successful parse of payload: 4200\n",
        "Successful parse of payload: 2189\n",
        "Successful parse of payload: 4219\n",
        "Successful parse of payload: 3466\n",
        "Successful parse of payload: 2419"
       ]
      },
      {
       "output_type": "stream",
       "stream": "stdout",
       "text": [
        "\n",
        "Successful parse of payload: 830"
       ]
      },
      {
       "output_type": "stream",
       "stream": "stdout",
       "text": [
        "\n",
        "Successful parse of payload: 1253\n",
        "Successful parse of payload: 772\n",
        "Successful parse of payload: 2690\n",
        "Successful parse of payload: 1254"
       ]
      },
      {
       "output_type": "stream",
       "stream": "stdout",
       "text": [
        "\n",
        "Successful parse of payload: 4273\n",
        "Successful parse of payload: 4382\n",
        "Successful parse of payload: 2894"
       ]
      },
      {
       "output_type": "stream",
       "stream": "stdout",
       "text": [
        "\n",
        "Successful parse of payload: 4012"
       ]
      },
      {
       "output_type": "stream",
       "stream": "stdout",
       "text": [
        "\n",
        "Successful parse of payload: 2373"
       ]
      },
      {
       "output_type": "stream",
       "stream": "stdout",
       "text": [
        "\n",
        "Successful parse of payload: 4143\n",
        "Successful parse of payload: 4198"
       ]
      },
      {
       "output_type": "stream",
       "stream": "stdout",
       "text": [
        "\n",
        "Successful parse of payload: 3330"
       ]
      },
      {
       "output_type": "stream",
       "stream": "stdout",
       "text": [
        "\n",
        "Successful parse of payload: 2157\n",
        "Successful parse of payload: 868\n",
        "Successful parse of payload: 1252"
       ]
      },
      {
       "output_type": "stream",
       "stream": "stdout",
       "text": [
        "\n",
        "Successful parse of payload: 2004\n",
        "Successful parse of payload: 3588"
       ]
      },
      {
       "output_type": "stream",
       "stream": "stdout",
       "text": [
        "\n",
        "Successful parse of payload: 3163\n",
        "Successful parse of payload: 4131\n",
        "Successful parse of payload: 1608\n",
        "Successful parse of payload: 2700"
       ]
      },
      {
       "output_type": "stream",
       "stream": "stdout",
       "text": [
        "\n",
        "Successful parse of payload: 1643\n",
        "Successful parse of payload: 4190\n",
        "Successful parse of payload: 2212\n",
        "Successful parse of payload: 3723"
       ]
      },
      {
       "output_type": "stream",
       "stream": "stdout",
       "text": [
        "\n",
        "Failed parse of payload: 4412"
       ]
      },
      {
       "output_type": "stream",
       "stream": "stdout",
       "text": [
        "\n",
        "Failed parse of payload: 3446"
       ]
      },
      {
       "output_type": "stream",
       "stream": "stdout",
       "text": [
        "\n",
        "Successful parse of payload: 3771\n",
        "Successful parse of payload: 329\n",
        "Successful parse of payload: 2016\n",
        "Successful parse of payload: 1822"
       ]
      },
      {
       "output_type": "stream",
       "stream": "stdout",
       "text": [
        "\n",
        "Successful parse of payload: 2969\n",
        "Successful parse of payload: 847\n",
        "Successful parse of payload: 3526\n",
        "Successful parse of payload: 3256"
       ]
      },
      {
       "output_type": "stream",
       "stream": "stdout",
       "text": [
        "\n",
        "Successful parse of payload: 3606"
       ]
      },
      {
       "output_type": "stream",
       "stream": "stdout",
       "text": [
        "\n",
        "Successful parse of payload: 1300\n",
        "Successful parse of payload: 2029\n",
        "Successful parse of payload: 2575\n",
        "Successful parse of payload: 1852"
       ]
      },
      {
       "output_type": "stream",
       "stream": "stdout",
       "text": [
        "\n",
        "Successful parse of payload: 2218\n",
        "Successful parse of payload: 3161\n",
        "Failed parse of payload: 4191"
       ]
      },
      {
       "output_type": "stream",
       "stream": "stdout",
       "text": [
        "\n",
        "Successful parse of payload: 4064\n",
        "Successful parse of payload: 296\n",
        "Successful parse of payload: 1694"
       ]
      },
      {
       "output_type": "stream",
       "stream": "stdout",
       "text": [
        "\n",
        "Successful parse of payload: 3119\n",
        "Successful parse of payload: 2747\n",
        "Successful parse of payload: 3730\n",
        "Successful parse of payload: 1115\n",
        "Successful parse of payload: 1721"
       ]
      },
      {
       "output_type": "stream",
       "stream": "stdout",
       "text": [
        "\n",
        "Successful parse of payload: 2547"
       ]
      },
      {
       "output_type": "stream",
       "stream": "stdout",
       "text": [
        "\n",
        "Successful parse of payload: 1949\n",
        "Successful parse of payload: 3613\n",
        "Successful parse of payload: 3523\n",
        "Successful parse of payload: 2285\n",
        "Successful parse of payload: 3479"
       ]
      },
      {
       "output_type": "stream",
       "stream": "stdout",
       "text": [
        "\n",
        "Successful parse of payload: 1959"
       ]
      },
      {
       "output_type": "stream",
       "stream": "stdout",
       "text": [
        "\n",
        "Successful parse of payload: 2338\n",
        "Successful parse of payload: 2803\n",
        "Successful parse of payload: 1979\n",
        "Successful parse of payload: 829\n",
        "Successful parse of payload: 2721\n",
        "Successful parse of payload: 3381\n",
        "Failed parse of payload: 4197"
       ]
      },
      {
       "output_type": "stream",
       "stream": "stdout",
       "text": [
        "\n",
        "Successful parse of payload: 3718\n",
        "Successful parse of payload: 3247\n",
        "Successful parse of payload: 4282\n",
        "Successful parse of payload: 4169\n",
        "Successful parse of payload: 2086\n",
        "Successful parse of payload: 1828"
       ]
      },
      {
       "output_type": "stream",
       "stream": "stdout",
       "text": [
        "\n",
        "Successful parse of payload: 3800\n",
        "Successful parse of payload: 2848\n",
        "Successful parse of payload: 2308"
       ]
      },
      {
       "output_type": "stream",
       "stream": "stdout",
       "text": [
        "\n",
        "Successful parse of payload: 3779\n",
        "Successful parse of payload: 3167\n",
        "Successful parse of payload: 2765\n",
        "Successful parse of payload: 2454\n",
        "Successful parse of payload: 2760\n",
        "Successful parse of payload: 3474"
       ]
      },
      {
       "output_type": "stream",
       "stream": "stdout",
       "text": [
        "\n",
        "Successful parse of payload: 2166\n",
        "Successful parse of payload: 4310\n",
        "Successful parse of payload: 3411"
       ]
      },
      {
       "output_type": "stream",
       "stream": "stdout",
       "text": [
        "\n",
        "Successful parse of payload: 3753\n",
        "Successful parse of payload: 512\n",
        "Successful parse of payload: 3030\n",
        "Successful parse of payload: 2620\n",
        "Successful parse of payload: 1197\n",
        "Successful parse of payload: 2940\n",
        "Successful parse of payload: 3762"
       ]
      },
      {
       "output_type": "stream",
       "stream": "stdout",
       "text": [
        "\n",
        "Successful parse of payload: 2963"
       ]
      },
      {
       "output_type": "stream",
       "stream": "stdout",
       "text": [
        "\n",
        "Successful parse of payload: 2502"
       ]
      },
      {
       "output_type": "stream",
       "stream": "stdout",
       "text": [
        "\n",
        "Successful parse of payload: 782\n",
        "Successful parse of payload: 1737\n",
        "Successful parse of payload: 2453"
       ]
      },
      {
       "output_type": "stream",
       "stream": "stdout",
       "text": [
        "\n",
        "Successful parse of payload: 1682"
       ]
      },
      {
       "output_type": "stream",
       "stream": "stdout",
       "text": [
        "\n",
        "Successful parse of payload: 2391\n",
        "Successful parse of payload: 4233\n",
        "Successful parse of payload: 4130"
       ]
      },
      {
       "output_type": "stream",
       "stream": "stdout",
       "text": [
        "\n",
        "Successful parse of payload: 2322"
       ]
      },
      {
       "output_type": "stream",
       "stream": "stdout",
       "text": [
        "\n",
        "Successful parse of payload: 1348\n",
        "Successful parse of payload: 3968\n",
        "Successful parse of payload: 3283\n",
        "Successful parse of payload: 1830\n",
        "Successful parse of payload: 1174\n",
        "Successful parse of payload: 3750"
       ]
      },
      {
       "output_type": "stream",
       "stream": "stdout",
       "text": [
        "\n",
        "Successful parse of payload: 362\n",
        "Successful parse of payload: 2595\n",
        "Successful parse of payload: 924"
       ]
      },
      {
       "output_type": "stream",
       "stream": "stdout",
       "text": [
        "\n",
        "Successful parse of payload: 4185"
       ]
      },
      {
       "output_type": "stream",
       "stream": "stdout",
       "text": [
        "\n",
        "Successful parse of payload: 3461\n",
        "Successful parse of payload: 2802\n",
        "Successful parse of payload: 4416\n",
        "Successful parse of payload: 1298\n",
        "Successful parse of payload: 4349\n",
        "Successful parse of payload: 4388"
       ]
      },
      {
       "output_type": "stream",
       "stream": "stdout",
       "text": [
        "\n",
        "Successful parse of payload: 325\n",
        "Successful parse of payload: 1678"
       ]
      },
      {
       "output_type": "stream",
       "stream": "stdout",
       "text": [
        "\n",
        "Successful parse of payload: 1120\n",
        "Successful parse of payload: 513"
       ]
      },
      {
       "output_type": "stream",
       "stream": "stdout",
       "text": [
        "\n",
        "Successful parse of payload: 2213\n",
        "Successful parse of payload: 1932"
       ]
      },
      {
       "output_type": "stream",
       "stream": "stdout",
       "text": [
        "\n",
        "Successful parse of payload: 1770\n",
        "Successful parse of payload: 4308"
       ]
      },
      {
       "output_type": "stream",
       "stream": "stdout",
       "text": [
        "\n",
        "Successful parse of payload: 1689\n",
        "Successful parse of payload: 2564"
       ]
      },
      {
       "output_type": "stream",
       "stream": "stdout",
       "text": [
        "\n",
        "Successful parse of payload: 1234\n",
        "Successful parse of payload: 4204\n",
        "Successful parse of payload: 2886"
       ]
      },
      {
       "output_type": "stream",
       "stream": "stdout",
       "text": [
        "\n",
        "Successful parse of payload: 2233"
       ]
      },
      {
       "output_type": "stream",
       "stream": "stdout",
       "text": [
        "\n",
        "Successful parse of payload: 1702\n",
        "Successful parse of payload: 4379\n",
        "Successful parse of payload: 3370\n",
        "Successful parse of payload: 2059"
       ]
      },
      {
       "output_type": "stream",
       "stream": "stdout",
       "text": [
        "\n",
        "Successful parse of payload: 306\n",
        "Successful parse of payload: 3171"
       ]
      },
      {
       "output_type": "stream",
       "stream": "stdout",
       "text": [
        "\n",
        "Successful parse of payload: 2441"
       ]
      },
      {
       "output_type": "stream",
       "stream": "stdout",
       "text": [
        "\n",
        "Successful parse of payload: 1834\n",
        "Successful parse of payload: 844\n",
        "Successful parse of payload: 1279\n",
        "Successful parse of payload: 2359\n",
        "Successful parse of payload: 1097\n",
        "Successful parse of payload: 3515"
       ]
      },
      {
       "output_type": "stream",
       "stream": "stdout",
       "text": [
        "\n",
        "Successful parse of payload: 2810\n",
        "Successful parse of payload: 3222\n",
        "Successful parse of payload: 4295"
       ]
      },
      {
       "output_type": "stream",
       "stream": "stdout",
       "text": [
        "\n",
        "Successful parse of payload: 2877\n",
        "Successful parse of payload: 2127\n",
        "Successful parse of payload: 2706\n",
        "Successful parse of payload: 2562\n",
        "Successful parse of payload: 4102\n",
        "Successful parse of payload: 3602"
       ]
      },
      {
       "output_type": "stream",
       "stream": "stdout",
       "text": [
        "\n",
        "Successful parse of payload: 2374\n",
        "Successful parse of payload: 3634\n",
        "Successful parse of payload: 241\n",
        "Successful parse of payload: 3845\n",
        "Successful parse of payload: 1183\n",
        "Successful parse of payload: 825\n",
        "Successful parse of payload: 1700\n",
        "Failed parse of payload: 915"
       ]
      },
      {
       "output_type": "stream",
       "stream": "stdout",
       "text": [
        "\n",
        "Successful parse of payload: 4368"
       ]
      },
      {
       "output_type": "stream",
       "stream": "stdout",
       "text": [
        "\n",
        "Successful parse of payload: 2937\n",
        "Successful parse of payload: 865"
       ]
      },
      {
       "output_type": "stream",
       "stream": "stdout",
       "text": [
        "\n",
        "Successful parse of payload: 3910"
       ]
      },
      {
       "output_type": "stream",
       "stream": "stdout",
       "text": [
        "\n",
        "Successful parse of payload: 2488\n",
        "Successful parse of payload: 3143\n",
        "Failed parse of payload: 3430"
       ]
      },
      {
       "output_type": "stream",
       "stream": "stdout",
       "text": [
        "\n",
        "Successful parse of payload: 3793\n",
        "Successful parse of payload: 485"
       ]
      },
      {
       "output_type": "stream",
       "stream": "stdout",
       "text": [
        "\n",
        "Successful parse of payload: 3008"
       ]
      },
      {
       "output_type": "stream",
       "stream": "stdout",
       "text": [
        "\n",
        "Successful parse of payload: 3684\n",
        "Successful parse of payload: 1243\n",
        "Successful parse of payload: 2842\n",
        "Successful parse of payload: 1867\n",
        "Successful parse of payload: 1280\n",
        "Successful parse of payload: 2316\n",
        "Successful parse of payload: 1157"
       ]
      },
      {
       "output_type": "stream",
       "stream": "stdout",
       "text": [
        "\n",
        "Successful parse of payload: 3414\n",
        "Successful parse of payload: 3557"
       ]
      },
      {
       "output_type": "stream",
       "stream": "stdout",
       "text": [
        "\n",
        "Successful parse of payload: 4229"
       ]
      },
      {
       "output_type": "stream",
       "stream": "stdout",
       "text": [
        "\n",
        "Successful parse of payload: 1734\n",
        "Successful parse of payload: 328\n",
        "Successful parse of payload: 4263"
       ]
      },
      {
       "output_type": "stream",
       "stream": "stdout",
       "text": [
        "\n",
        "Failed parse of payload: 4062\n",
        "Successful parse of payload: 3559\n",
        "Successful parse of payload: 326\n",
        "Successful parse of payload: 801"
       ]
      },
      {
       "output_type": "stream",
       "stream": "stdout",
       "text": [
        "\n",
        "Successful parse of payload: 3207\n",
        "Successful parse of payload: 3013\n",
        "Successful parse of payload: 3224\n",
        "Successful parse of payload: 3438"
       ]
      },
      {
       "output_type": "stream",
       "stream": "stdout",
       "text": [
        "\n",
        "Successful parse of payload: 2523\n",
        "Successful parse of payload: 2192\n",
        "Successful parse of payload: 3983\n",
        "Successful parse of payload: 858"
       ]
      },
      {
       "output_type": "stream",
       "stream": "stdout",
       "text": [
        "\n",
        "Successful parse of payload: 918"
       ]
      },
      {
       "output_type": "stream",
       "stream": "stdout",
       "text": [
        "\n",
        "Successful parse of payload: 4321"
       ]
      },
      {
       "output_type": "stream",
       "stream": "stdout",
       "text": [
        "\n",
        "Successful parse of payload: 1820"
       ]
      },
      {
       "output_type": "stream",
       "stream": "stdout",
       "text": [
        "\n",
        "Successful parse of payload: 3003\n",
        "Successful parse of payload: 3801\n",
        "Successful parse of payload: 1890\n",
        "Successful parse of payload: 2097"
       ]
      },
      {
       "output_type": "stream",
       "stream": "stdout",
       "text": [
        "\n",
        "Successful parse of payload: 3542"
       ]
      },
      {
       "output_type": "stream",
       "stream": "stdout",
       "text": [
        "\n",
        "Successful parse of payload: 3473\n",
        "Successful parse of payload: 1866\n",
        "Successful parse of payload: 3418\n",
        "Successful parse of payload: 1046"
       ]
      },
      {
       "output_type": "stream",
       "stream": "stdout",
       "text": [
        "\n",
        "Successful parse of payload: 3881\n",
        "Successful parse of payload: 1990\n",
        "Successful parse of payload: 1486\n",
        "Successful parse of payload: 3356"
       ]
      },
      {
       "output_type": "stream",
       "stream": "stdout",
       "text": [
        "\n",
        "Successful parse of payload: 3859\n",
        "Successful parse of payload: 2600\n",
        "Successful parse of payload: 3594\n",
        "Successful parse of payload: 2270"
       ]
      },
      {
       "output_type": "stream",
       "stream": "stdout",
       "text": [
        "\n",
        "Successful parse of payload: 4045\n",
        "Successful parse of payload: 2875"
       ]
      },
      {
       "output_type": "stream",
       "stream": "stdout",
       "text": [
        "\n",
        "Successful parse of payload: 1679"
       ]
      },
      {
       "output_type": "stream",
       "stream": "stdout",
       "text": [
        "\n",
        "Successful parse of payload: 2291\n",
        "Successful parse of payload: 1478\n",
        "Successful parse of payload: 3852\n",
        "Successful parse of payload: 3944\n",
        "Successful parse of payload: 4172\n",
        "Successful parse of payload: 3051\n",
        "Successful parse of payload: 3481\n",
        "Successful parse of payload: 3597\n",
        "Successful parse of payload: 781\n",
        "Successful parse of payload: 1320"
       ]
      },
      {
       "output_type": "stream",
       "stream": "stdout",
       "text": [
        "\n",
        "Successful parse of payload: 2102\n",
        "Successful parse of payload: 1590"
       ]
      },
      {
       "output_type": "stream",
       "stream": "stdout",
       "text": [
        "\n",
        "Successful parse of payload: 3266\n",
        "Successful parse of payload: 1308\n",
        "Successful parse of payload: 2459\n",
        "Successful parse of payload: 1194\n",
        "Successful parse of payload: 2126\n",
        "Successful parse of payload: 1096"
       ]
      },
      {
       "output_type": "stream",
       "stream": "stdout",
       "text": [
        "\n",
        "Successful parse of payload: 3278\n",
        "Successful parse of payload: 2906\n",
        "Successful parse of payload: 2641\n",
        "Successful parse of payload: 2187\n",
        "Successful parse of payload: 1201\n",
        "Successful parse of payload: 1481"
       ]
      },
      {
       "output_type": "stream",
       "stream": "stdout",
       "text": [
        "\n",
        "Successful parse of payload: 1869\n",
        "Successful parse of payload: 2806\n",
        "Successful parse of payload: 1602\n",
        "Successful parse of payload: 313\n",
        "Successful parse of payload: 3946\n",
        "Successful parse of payload: 1809\n",
        "Successful parse of payload: 3570"
       ]
      },
      {
       "output_type": "stream",
       "stream": "stdout",
       "text": [
        "\n",
        "Successful parse of payload: 1050"
       ]
      },
      {
       "output_type": "stream",
       "stream": "stdout",
       "text": [
        "\n",
        "Successful parse of payload: 3199"
       ]
      },
      {
       "output_type": "stream",
       "stream": "stdout",
       "text": [
        "\n",
        "Successful parse of payload: 2260\n",
        "Successful parse of payload: 2629\n",
        "Successful parse of payload: 4377\n",
        "Successful parse of payload: 1839\n",
        "Successful parse of payload: 2139"
       ]
      },
      {
       "output_type": "stream",
       "stream": "stdout",
       "text": [
        "\n",
        "Successful parse of payload: 3726\n",
        "Successful parse of payload: 4077\n",
        "Successful parse of payload: 1708"
       ]
      },
      {
       "output_type": "stream",
       "stream": "stdout",
       "text": [
        "\n",
        "Successful parse of payload: 3507\n",
        "Successful parse of payload: 1899\n",
        "Successful parse of payload: 2350\n",
        "Successful parse of payload: 1957\n",
        "Successful parse of payload: 2085\n",
        "Successful parse of payload: 1843"
       ]
      },
      {
       "output_type": "stream",
       "stream": "stdout",
       "text": [
        "\n",
        "Successful parse of payload: 3359\n",
        "Successful parse of payload: 794\n",
        "Successful parse of payload: 3645"
       ]
      },
      {
       "output_type": "stream",
       "stream": "stdout",
       "text": [
        "\n",
        "Successful parse of payload: 2038"
       ]
      },
      {
       "output_type": "stream",
       "stream": "stdout",
       "text": [
        "\n",
        "Successful parse of payload: 3000\n",
        "Successful parse of payload: 3828\n",
        "Successful parse of payload: 817\n",
        "Successful parse of payload: 3015"
       ]
      },
      {
       "output_type": "stream",
       "stream": "stdout",
       "text": [
        "\n",
        "Successful parse of payload: 4137\n",
        "Successful parse of payload: 1229"
       ]
      },
      {
       "output_type": "stream",
       "stream": "stdout",
       "text": [
        "\n",
        "Failed parse of payload: 889\n",
        "Successful parse of payload: 2378\n",
        "Successful parse of payload: 1206\n",
        "Successful parse of payload: 1482"
       ]
      },
      {
       "output_type": "stream",
       "stream": "stdout",
       "text": [
        "\n",
        "Successful parse of payload: 3168\n",
        "Successful parse of payload: 1849"
       ]
      },
      {
       "output_type": "stream",
       "stream": "stdout",
       "text": [
        "\n",
        "Successful parse of payload: 2707\n",
        "Successful parse of payload: 3183\n",
        "Successful parse of payload: 4236\n",
        "Successful parse of payload: 3313\n",
        "Successful parse of payload: 774\n",
        "Successful parse of payload: 822\n",
        "Successful parse of payload: 2936"
       ]
      },
      {
       "output_type": "stream",
       "stream": "stdout",
       "text": [
        "\n",
        "Successful parse of payload: 2498"
       ]
      },
      {
       "output_type": "stream",
       "stream": "stdout",
       "text": [
        "\n",
        "Successful parse of payload: 4222\n",
        "Successful parse of payload: 3669"
       ]
      },
      {
       "output_type": "stream",
       "stream": "stdout",
       "text": [
        "\n",
        "Successful parse of payload: 273\n",
        "Successful parse of payload: 2511"
       ]
      },
      {
       "output_type": "stream",
       "stream": "stdout",
       "text": [
        "\n",
        "Successful parse of payload: 3739\n",
        "Successful parse of payload: 4078"
       ]
      },
      {
       "output_type": "stream",
       "stream": "stdout",
       "text": [
        "\n",
        "Successful parse of payload: 1458\n",
        "Successful parse of payload: 4186\n",
        "Successful parse of payload: 1980"
       ]
      },
      {
       "output_type": "stream",
       "stream": "stdout",
       "text": [
        "\n",
        "Successful parse of payload: 3520"
       ]
      },
      {
       "output_type": "stream",
       "stream": "stdout",
       "text": [
        "\n",
        "Successful parse of payload: 4118\n",
        "Successful parse of payload: 4154\n",
        "Successful parse of payload: 3939\n",
        "Successful parse of payload: 1105\n",
        "Successful parse of payload: 2918\n",
        "Successful parse of payload: 4063"
       ]
      },
      {
       "output_type": "stream",
       "stream": "stdout",
       "text": [
        "\n",
        "Successful parse of payload: 833\n",
        "Successful parse of payload: 3349"
       ]
      },
      {
       "output_type": "stream",
       "stream": "stdout",
       "text": [
        "\n",
        "Successful parse of payload: 3778"
       ]
      },
      {
       "output_type": "stream",
       "stream": "stdout",
       "text": [
        "\n",
        "Successful parse of payload: 4170\n",
        "Successful parse of payload: 1672\n",
        "Successful parse of payload: 2851\n",
        "Successful parse of payload: 2120\n",
        "Successful parse of payload: 1972\n",
        "Successful parse of payload: 2283\n",
        "Successful parse of payload: 3276\n",
        "Successful parse of payload: 3701"
       ]
      },
      {
       "output_type": "stream",
       "stream": "stdout",
       "text": [
        "\n",
        "Successful parse of payload: 1232\n",
        "Successful parse of payload: 299\n",
        "Successful parse of payload: 4074\n",
        "Successful parse of payload: 2672\n",
        "Successful parse of payload: 4039\n",
        "Successful parse of payload: 2990\n",
        "Successful parse of payload: 3404\n",
        "Successful parse of payload: 2296\n",
        "Successful parse of payload: 3909\n",
        "Successful parse of payload: 3371"
       ]
      },
      {
       "output_type": "stream",
       "stream": "stdout",
       "text": [
        "\n",
        "Successful parse of payload: 1826\n",
        "Successful parse of payload: 3953\n",
        "Successful parse of payload: 2730\n",
        "Successful parse of payload: 775"
       ]
      },
      {
       "output_type": "stream",
       "stream": "stdout",
       "text": [
        "\n",
        "Successful parse of payload: 2872\n",
        "Successful parse of payload: 230\n",
        "Successful parse of payload: 3591"
       ]
      },
      {
       "output_type": "stream",
       "stream": "stdout",
       "text": [
        "\n",
        "Successful parse of payload: 2648\n",
        "Successful parse of payload: 3254\n",
        "Successful parse of payload: 266\n",
        "Successful parse of payload: 348\n",
        "Successful parse of payload: 3150\n",
        "Successful parse of payload: 277\n",
        "Successful parse of payload: 2049\n",
        "Successful parse of payload: 2732\n",
        "Successful parse of payload: 3690"
       ]
      },
      {
       "output_type": "stream",
       "stream": "stdout",
       "text": [
        "\n",
        "Successful parse of payload: 2965\n",
        "Successful parse of payload: 3080\n",
        "Successful parse of payload: 2271\n",
        "Successful parse of payload: 3929"
       ]
      },
      {
       "output_type": "stream",
       "stream": "stdout",
       "text": [
        "\n",
        "Successful parse of payload: 1617\n",
        "Successful parse of payload: 3714\n",
        "Successful parse of payload: 3595\n",
        "Successful parse of payload: 2323"
       ]
      },
      {
       "output_type": "stream",
       "stream": "stdout",
       "text": [
        "\n",
        "Successful parse of payload: 1987\n",
        "Successful parse of payload: 4029\n",
        "Successful parse of payload: 4203\n",
        "Successful parse of payload: 896\n",
        "Successful parse of payload: 4104\n",
        "Successful parse of payload: 3200\n",
        "Successful parse of payload: 1245"
       ]
      },
      {
       "output_type": "stream",
       "stream": "stdout",
       "text": [
        "\n",
        "Successful parse of payload: 4094\n",
        "Successful parse of payload: 3078\n",
        "Successful parse of payload: 4162\n",
        "Successful parse of payload: 3116"
       ]
      },
      {
       "output_type": "stream",
       "stream": "stdout",
       "text": [
        "\n",
        "Successful parse of payload: 238\n",
        "Successful parse of payload: 1813\n",
        "Successful parse of payload: 3198\n",
        "Successful parse of payload: 1736"
       ]
      },
      {
       "output_type": "stream",
       "stream": "stdout",
       "text": [
        "\n",
        "Successful parse of payload: 1277\n",
        "Successful parse of payload: 3255\n",
        "Successful parse of payload: 3914\n",
        "Successful parse of payload: 932\n",
        "Successful parse of payload: 2389"
       ]
      },
      {
       "output_type": "stream",
       "stream": "stdout",
       "text": [
        "\n",
        "Successful parse of payload: 3299\n",
        "Successful parse of payload: 4373\n",
        "Successful parse of payload: 2908"
       ]
      },
      {
       "output_type": "stream",
       "stream": "stdout",
       "text": [
        "\n",
        "Successful parse of payload: 2645\n",
        "Successful parse of payload: 2424"
       ]
      },
      {
       "output_type": "stream",
       "stream": "stdout",
       "text": [
        "\n",
        "Successful parse of payload: 2737\n",
        "Successful parse of payload: 4357\n",
        "Successful parse of payload: 3225"
       ]
      },
      {
       "output_type": "stream",
       "stream": "stdout",
       "text": [
        "\n",
        "Failed parse of payload: 3787\n",
        "Successful parse of payload: 2278\n",
        "Successful parse of payload: 1293\n",
        "Successful parse of payload: 2688"
       ]
      },
      {
       "output_type": "stream",
       "stream": "stdout",
       "text": [
        "\n",
        "Successful parse of payload: 2752\n",
        "Successful parse of payload: 2090\n",
        "Successful parse of payload: 3214\n",
        "Successful parse of payload: 3348"
       ]
      },
      {
       "output_type": "stream",
       "stream": "stdout",
       "text": [
        "\n",
        "Failed parse of payload: 4419"
       ]
      },
      {
       "output_type": "stream",
       "stream": "stdout",
       "text": [
        "\n",
        "Successful parse of payload: 1208\n",
        "Successful parse of payload: 1302\n",
        "Successful parse of payload: 3982\n",
        "Successful parse of payload: 1732\n",
        "Successful parse of payload: 3393"
       ]
      },
      {
       "output_type": "stream",
       "stream": "stdout",
       "text": [
        "\n",
        "Successful parse of payload: 2903\n",
        "Successful parse of payload: 2611"
       ]
      },
      {
       "output_type": "stream",
       "stream": "stdout",
       "text": [
        "\n",
        "Successful parse of payload: 1102\n",
        "Successful parse of payload: 4040"
       ]
      },
      {
       "output_type": "stream",
       "stream": "stdout",
       "text": [
        "\n",
        "Successful parse of payload: 4371\n",
        "Successful parse of payload: 1918\n",
        "Successful parse of payload: 4265\n",
        "Successful parse of payload: 1707\n",
        "Successful parse of payload: 2492"
       ]
      },
      {
       "output_type": "stream",
       "stream": "stdout",
       "text": [
        "\n",
        "Successful parse of payload: 3127"
       ]
      },
      {
       "output_type": "stream",
       "stream": "stdout",
       "text": [
        "\n",
        "Successful parse of payload: 2957\n",
        "Successful parse of payload: 1598\n",
        "Successful parse of payload: 3216"
       ]
      },
      {
       "output_type": "stream",
       "stream": "stdout",
       "text": [
        "\n",
        "Successful parse of payload: 1964\n",
        "Successful parse of payload: 3017"
       ]
      },
      {
       "output_type": "stream",
       "stream": "stdout",
       "text": [
        "\n",
        "Successful parse of payload: 2092\n",
        "Successful parse of payload: 2968\n",
        "Successful parse of payload: 3101\n",
        "Successful parse of payload: 2421\n",
        "Successful parse of payload: 3048"
       ]
      },
      {
       "output_type": "stream",
       "stream": "stdout",
       "text": [
        "\n",
        "Successful parse of payload: 1612\n",
        "Successful parse of payload: 1135\n",
        "Successful parse of payload: 4422"
       ]
      },
      {
       "output_type": "stream",
       "stream": "stdout",
       "text": [
        "\n",
        "Successful parse of payload: 1739"
       ]
      },
      {
       "output_type": "stream",
       "stream": "stdout",
       "text": [
        "\n",
        "Successful parse of payload: 3486\n",
        "Successful parse of payload: 3809\n",
        "Successful parse of payload: 1885\n",
        "Successful parse of payload: 1854\n",
        "Successful parse of payload: 2107"
       ]
      },
      {
       "output_type": "stream",
       "stream": "stdout",
       "text": [
        "\n",
        "Successful parse of payload: 1784\n",
        "Successful parse of payload: 3392\n",
        "Successful parse of payload: 1624\n",
        "Successful parse of payload: 1945\n",
        "Successful parse of payload: 3919\n",
        "Successful parse of payload: 4033\n",
        "Successful parse of payload: 1755\n",
        "Successful parse of payload: 1158\n",
        "Successful parse of payload: 2662"
       ]
      },
      {
       "output_type": "stream",
       "stream": "stdout",
       "text": [
        "\n",
        "Successful parse of payload: 1701\n",
        "Successful parse of payload: 1838"
       ]
      },
      {
       "output_type": "stream",
       "stream": "stdout",
       "text": [
        "\n",
        "Successful parse of payload: 3936\n",
        "Successful parse of payload: 2779"
       ]
      },
      {
       "output_type": "stream",
       "stream": "stdout",
       "text": [
        "\n",
        "Successful parse of payload: 2626"
       ]
      },
      {
       "output_type": "stream",
       "stream": "stdout",
       "text": [
        "\n",
        "Successful parse of payload: 3897"
       ]
      },
      {
       "output_type": "stream",
       "stream": "stdout",
       "text": [
        "\n",
        "Successful parse of payload: 3083\n",
        "Successful parse of payload: 3327\n",
        "Successful parse of payload: 2786\n",
        "Failed parse of payload: 3462"
       ]
      },
      {
       "output_type": "stream",
       "stream": "stdout",
       "text": [
        "\n",
        "Successful parse of payload: 3234\n",
        "Successful parse of payload: 1898\n",
        "Successful parse of payload: 1196\n",
        "Successful parse of payload: 3867\n",
        "Successful parse of payload: 3433"
       ]
      },
      {
       "output_type": "stream",
       "stream": "stdout",
       "text": [
        "\n",
        "Successful parse of payload: 3957\n",
        "Successful parse of payload: 803"
       ]
      },
      {
       "output_type": "stream",
       "stream": "stdout",
       "text": [
        "\n",
        "Successful parse of payload: 1248\n",
        "Successful parse of payload: 3510"
       ]
      },
      {
       "output_type": "stream",
       "stream": "stdout",
       "text": [
        "\n",
        "Successful parse of payload: 3573\n",
        "Successful parse of payload: 4110\n",
        "Successful parse of payload: 353\n",
        "Successful parse of payload: 3401\n",
        "Successful parse of payload: 1611\n",
        "Successful parse of payload: 4182"
       ]
      },
      {
       "output_type": "stream",
       "stream": "stdout",
       "text": [
        "\n",
        "Successful parse of payload: 1936\n",
        "Successful parse of payload: 3513\n",
        "Successful parse of payload: 345\n",
        "Successful parse of payload: 3074"
       ]
      },
      {
       "output_type": "stream",
       "stream": "stdout",
       "text": [
        "\n",
        "Successful parse of payload: 2531\n",
        "Successful parse of payload: 2202\n",
        "Successful parse of payload: 4098"
       ]
      },
      {
       "output_type": "stream",
       "stream": "stdout",
       "text": [
        "\n",
        "Successful parse of payload: 2892\n",
        "Successful parse of payload: 4207\n",
        "Successful parse of payload: 359\n",
        "Successful parse of payload: 3856"
       ]
      },
      {
       "output_type": "stream",
       "stream": "stdout",
       "text": [
        "\n",
        "Successful parse of payload: 4021\n",
        "Successful parse of payload: 3535\n",
        "Successful parse of payload: 1752"
       ]
      },
      {
       "output_type": "stream",
       "stream": "stdout",
       "text": [
        "\n",
        "Successful parse of payload: 3901\n",
        "Successful parse of payload: 3267"
       ]
      },
      {
       "output_type": "stream",
       "stream": "stdout",
       "text": [
        "\n",
        "Successful parse of payload: 3180\n",
        "Successful parse of payload: 4334\n",
        "Successful parse of payload: 4214\n",
        "Successful parse of payload: 2649\n",
        "Successful parse of payload: 1303"
       ]
      },
      {
       "output_type": "stream",
       "stream": "stdout",
       "text": [
        "\n",
        "Successful parse of payload: 2697\n",
        "Successful parse of payload: 1756\n",
        "Successful parse of payload: 1575"
       ]
      },
      {
       "output_type": "stream",
       "stream": "stdout",
       "text": [
        "\n",
        "Failed parse of payload: 4103\n",
        "Successful parse of payload: 3618"
       ]
      },
      {
       "output_type": "stream",
       "stream": "stdout",
       "text": [
        "\n",
        "Successful parse of payload: 2590"
       ]
      },
      {
       "output_type": "stream",
       "stream": "stdout",
       "text": [
        "\n",
        "Successful parse of payload: 881\n",
        "Successful parse of payload: 3219\n",
        "Successful parse of payload: 3170\n",
        "Successful parse of payload: 4268\n",
        "Successful parse of payload: 4340"
       ]
      },
      {
       "output_type": "stream",
       "stream": "stdout",
       "text": [
        "\n",
        "Successful parse of payload: 3178\n",
        "Successful parse of payload: 2253\n",
        "Successful parse of payload: 1637\n",
        "Successful parse of payload: 1931\n",
        "Successful parse of payload: 2394"
       ]
      },
      {
       "output_type": "stream",
       "stream": "stdout",
       "text": [
        "\n",
        "Successful parse of payload: 1953"
       ]
      },
      {
       "output_type": "stream",
       "stream": "stdout",
       "text": [
        "\n",
        "Successful parse of payload: 2571"
       ]
      },
      {
       "output_type": "stream",
       "stream": "stdout",
       "text": [
        "\n",
        "Successful parse of payload: 4294\n",
        "Successful parse of payload: 3043\n",
        "Successful parse of payload: 3734\n",
        "Successful parse of payload: 1706"
       ]
      },
      {
       "output_type": "stream",
       "stream": "stdout",
       "text": [
        "\n",
        "Successful parse of payload: 3671"
       ]
      },
      {
       "output_type": "stream",
       "stream": "stdout",
       "text": [
        "\n",
        "Successful parse of payload: 2830\n",
        "Failed parse of payload: 4181\n",
        "Successful parse of payload: 1127"
       ]
      },
      {
       "output_type": "stream",
       "stream": "stdout",
       "text": [
        "\n",
        "Successful parse of payload: 3331\n",
        "Successful parse of payload: 3886"
       ]
      },
      {
       "output_type": "stream",
       "stream": "stdout",
       "text": [
        "\n",
        "Successful parse of payload: 1185\n",
        "Successful parse of payload: 4108\n",
        "Successful parse of payload: 2962\n",
        "Successful parse of payload: 3162"
       ]
      },
      {
       "output_type": "stream",
       "stream": "stdout",
       "text": [
        "\n",
        "Successful parse of payload: 811\n",
        "Successful parse of payload: 2769\n",
        "Successful parse of payload: 2859\n",
        "Successful parse of payload: 3422"
       ]
      },
      {
       "output_type": "stream",
       "stream": "stdout",
       "text": [
        "\n",
        "Successful parse of payload: 3941\n",
        "Successful parse of payload: 3958"
       ]
      },
      {
       "output_type": "stream",
       "stream": "stdout",
       "text": [
        "\n",
        "Successful parse of payload: 3243\n",
        "Successful parse of payload: 2066\n",
        "Successful parse of payload: 1771\n",
        "Successful parse of payload: 1313\n",
        "Successful parse of payload: 2116\n",
        "Successful parse of payload: 2002"
       ]
      },
      {
       "output_type": "stream",
       "stream": "stdout",
       "text": [
        "\n",
        "Successful parse of payload: 1625\n",
        "Successful parse of payload: 2377\n",
        "Successful parse of payload: 3863\n",
        "Successful parse of payload: 3774"
       ]
      },
      {
       "output_type": "stream",
       "stream": "stdout",
       "text": [
        "\n",
        "Successful parse of payload: 4011"
       ]
      },
      {
       "output_type": "stream",
       "stream": "stdout",
       "text": [
        "\n",
        "Successful parse of payload: 4256\n",
        "Successful parse of payload: 3210\n",
        "Successful parse of payload: 2581"
       ]
      },
      {
       "output_type": "stream",
       "stream": "stdout",
       "text": [
        "\n",
        "Successful parse of payload: 3781\n",
        "Successful parse of payload: 2400\n",
        "Successful parse of payload: 1318"
       ]
      },
      {
       "output_type": "stream",
       "stream": "stdout",
       "text": [
        "\n",
        "Successful parse of payload: 1263\n",
        "Successful parse of payload: 3173\n",
        "Successful parse of payload: 2111\n",
        "Successful parse of payload: 3114"
       ]
      },
      {
       "output_type": "stream",
       "stream": "stdout",
       "text": [
        "\n",
        "Failed parse of payload: 1593\n",
        "Successful parse of payload: 884\n",
        "Successful parse of payload: 1746\n",
        "Successful parse of payload: 4415\n",
        "Successful parse of payload: 3748"
       ]
      },
      {
       "output_type": "stream",
       "stream": "stdout",
       "text": [
        "\n",
        "Successful parse of payload: 2824\n",
        "Successful parse of payload: 4025"
       ]
      },
      {
       "output_type": "stream",
       "stream": "stdout",
       "text": [
        "\n",
        "Successful parse of payload: 3751\n",
        "Successful parse of payload: 3569\n",
        "Successful parse of payload: 3107\n",
        "Successful parse of payload: 2298\n",
        "Successful parse of payload: 4047\n",
        "Successful parse of payload: 2942\n",
        "Successful parse of payload: 4398"
       ]
      },
      {
       "output_type": "stream",
       "stream": "stdout",
       "text": [
        "\n",
        "Successful parse of payload: 3687"
       ]
      },
      {
       "output_type": "stream",
       "stream": "stdout",
       "text": [
        "\n",
        "Successful parse of payload: 1262\n",
        "Successful parse of payload: 3505\n",
        "Successful parse of payload: 1871\n",
        "Successful parse of payload: 2055"
       ]
      },
      {
       "output_type": "stream",
       "stream": "stdout",
       "text": [
        "\n",
        "Successful parse of payload: 4132\n",
        "Successful parse of payload: 2614\n",
        "Successful parse of payload: 3144\n",
        "Successful parse of payload: 3281"
       ]
      },
      {
       "output_type": "stream",
       "stream": "stdout",
       "text": [
        "\n",
        "Successful parse of payload: 2100\n",
        "Successful parse of payload: 1613\n",
        "Successful parse of payload: 3407"
       ]
      },
      {
       "output_type": "stream",
       "stream": "stdout",
       "text": [
        "\n",
        "Failed parse of payload: 3453\n",
        "Successful parse of payload: 2671"
       ]
      },
      {
       "output_type": "stream",
       "stream": "stdout",
       "text": [
        "\n",
        "Successful parse of payload: 1099\n",
        "Successful parse of payload: 2425"
       ]
      },
      {
       "output_type": "stream",
       "stream": "stdout",
       "text": [
        "\n",
        "Successful parse of payload: 4376"
       ]
      },
      {
       "output_type": "stream",
       "stream": "stdout",
       "text": [
        "\n",
        "Successful parse of payload: 3848\n",
        "Successful parse of payload: 1077\n",
        "Successful parse of payload: 2574"
       ]
      },
      {
       "output_type": "stream",
       "stream": "stdout",
       "text": [
        "\n",
        "Successful parse of payload: 1195"
       ]
      },
      {
       "output_type": "stream",
       "stream": "stdout",
       "text": [
        "\n",
        "Successful parse of payload: 2982\n",
        "Failed parse of payload: 4408"
       ]
      },
      {
       "output_type": "stream",
       "stream": "stdout",
       "text": [
        "\n",
        "Failed parse of payload: 3265"
       ]
      },
      {
       "output_type": "stream",
       "stream": "stdout",
       "text": [
        "\n",
        "Successful parse of payload: 1292\n",
        "Failed parse of payload: 2826\n",
        "Successful parse of payload: 1882"
       ]
      },
      {
       "output_type": "stream",
       "stream": "stdout",
       "text": [
        "\n",
        "Successful parse of payload: 2543\n",
        "Successful parse of payload: 4413\n",
        "Successful parse of payload: 3346\n",
        "Successful parse of payload: 3688"
       ]
      },
      {
       "output_type": "stream",
       "stream": "stdout",
       "text": [
        "\n",
        "Successful parse of payload: 3195\n",
        "Successful parse of payload: 1768\n",
        "Successful parse of payload: 913"
       ]
      },
      {
       "output_type": "stream",
       "stream": "stdout",
       "text": [
        "\n",
        "Successful parse of payload: 4423\n",
        "Successful parse of payload: 2804"
       ]
      },
      {
       "output_type": "stream",
       "stream": "stdout",
       "text": [
        "\n",
        "Successful parse of payload: 3530\n",
        "Successful parse of payload: 1836"
       ]
      },
      {
       "output_type": "stream",
       "stream": "stdout",
       "text": [
        "\n",
        "Successful parse of payload: 2083\n",
        "Successful parse of payload: 2052\n",
        "Successful parse of payload: 1998"
       ]
      },
      {
       "output_type": "stream",
       "stream": "stdout",
       "text": [
        "\n",
        "Successful parse of payload: 1831\n",
        "Successful parse of payload: 2060\n",
        "Successful parse of payload: 558"
       ]
      },
      {
       "output_type": "stream",
       "stream": "stdout",
       "text": [
        "\n",
        "Successful parse of payload: 2604\n",
        "Successful parse of payload: 1255\n",
        "Successful parse of payload: 2733\n",
        "Successful parse of payload: 1846\n",
        "Successful parse of payload: 4280\n",
        "Successful parse of payload: 231\n",
        "Successful parse of payload: 2946\n",
        "Successful parse of payload: 2416"
       ]
      },
      {
       "output_type": "stream",
       "stream": "stdout",
       "text": [
        "\n",
        "Successful parse of payload: 2151\n",
        "Successful parse of payload: 1675\n",
        "Successful parse of payload: 880\n",
        "Successful parse of payload: 4354"
       ]
      },
      {
       "output_type": "stream",
       "stream": "stdout",
       "text": [
        "\n",
        "Successful parse of payload: 1282\n",
        "Successful parse of payload: 2635\n",
        "Successful parse of payload: 4165\n",
        "Successful parse of payload: 701\n",
        "Successful parse of payload: 1633"
       ]
      },
      {
       "output_type": "stream",
       "stream": "stdout",
       "text": [
        "\n",
        "Successful parse of payload: 1323\n",
        "Successful parse of payload: 4395\n",
        "Successful parse of payload: 3205\n",
        "Successful parse of payload: 280\n",
        "Successful parse of payload: 2935\n",
        "Successful parse of payload: 2428\n",
        "Successful parse of payload: 2609"
       ]
      },
      {
       "output_type": "stream",
       "stream": "stdout",
       "text": [
        "\n",
        "Successful parse of payload: 3498\n",
        "Successful parse of payload: 2789\n",
        "Successful parse of payload: 788"
       ]
      },
      {
       "output_type": "stream",
       "stream": "stdout",
       "text": [
        "\n",
        "Successful parse of payload: 2275\n",
        "Successful parse of payload: 2524\n",
        "Successful parse of payload: 3724\n",
        "Successful parse of payload: 3965\n",
        "Successful parse of payload: 4266"
       ]
      },
      {
       "output_type": "stream",
       "stream": "stdout",
       "text": [
        "\n",
        "Successful parse of payload: 2153\n",
        "Successful parse of payload: 2079"
       ]
      },
      {
       "output_type": "stream",
       "stream": "stdout",
       "text": [
        "\n",
        "Successful parse of payload: 2844\n",
        "Successful parse of payload: 1913\n",
        "Successful parse of payload: 3500"
       ]
      },
      {
       "output_type": "stream",
       "stream": "stdout",
       "text": [
        "\n",
        "Successful parse of payload: 2814\n",
        "Successful parse of payload: 2089\n",
        "Successful parse of payload: 3703"
       ]
      },
      {
       "output_type": "stream",
       "stream": "stdout",
       "text": [
        "\n",
        "Successful parse of payload: 3156"
       ]
      },
      {
       "output_type": "stream",
       "stream": "stdout",
       "text": [
        "\n",
        "Successful parse of payload: 2557\n",
        "Successful parse of payload: 3516\n",
        "Failed parse of payload: 2143\n",
        "Successful parse of payload: 2063"
       ]
      },
      {
       "output_type": "stream",
       "stream": "stdout",
       "text": [
        "\n",
        "Successful parse of payload: 2266\n",
        "Failed parse of payload: 2947\n",
        "Successful parse of payload: 4392\n",
        "Successful parse of payload: 2567"
       ]
      },
      {
       "output_type": "stream",
       "stream": "stdout",
       "text": [
        "\n",
        "Successful parse of payload: 1506\n",
        "Successful parse of payload: 2450\n",
        "Successful parse of payload: 1106"
       ]
      },
      {
       "output_type": "stream",
       "stream": "stdout",
       "text": [
        "\n",
        "Successful parse of payload: 3904\n",
        "Successful parse of payload: 4428\n",
        "Successful parse of payload: 2149\n",
        "Failed parse of payload: 3654\n",
        "Successful parse of payload: 2701"
       ]
      },
      {
       "output_type": "stream",
       "stream": "stdout",
       "text": [
        "\n",
        "Successful parse of payload: 1191"
       ]
      },
      {
       "output_type": "stream",
       "stream": "stdout",
       "text": [
        "\n",
        "Successful parse of payload: 1695\n",
        "Successful parse of payload: 3913"
       ]
      },
      {
       "output_type": "stream",
       "stream": "stdout",
       "text": [
        "\n",
        "Successful parse of payload: 845\n",
        "Successful parse of payload: 3937\n",
        "Successful parse of payload: 297\n",
        "Successful parse of payload: 4164"
       ]
      },
      {
       "output_type": "stream",
       "stream": "stdout",
       "text": [
        "\n",
        "Successful parse of payload: 2207"
       ]
      },
      {
       "output_type": "stream",
       "stream": "stdout",
       "text": [
        "\n",
        "Successful parse of payload: 3921\n",
        "Successful parse of payload: 2753\n",
        "Successful parse of payload: 3039\n",
        "Successful parse of payload: 223\n",
        "Successful parse of payload: 4425\n",
        "Successful parse of payload: 268\n",
        "Successful parse of payload: 236\n",
        "Successful parse of payload: 1774\n",
        "Successful parse of payload: 2155\n",
        "Successful parse of payload: 3098"
       ]
      },
      {
       "output_type": "stream",
       "stream": "stdout",
       "text": [
        "\n",
        "Successful parse of payload: 1879\n",
        "Successful parse of payload: 3760\n",
        "Successful parse of payload: 2715\n",
        "Successful parse of payload: 2881"
       ]
      },
      {
       "output_type": "stream",
       "stream": "stdout",
       "text": [
        "\n",
        "Successful parse of payload: 3018\n",
        "Successful parse of payload: 1051\n",
        "Successful parse of payload: 1184\n",
        "Successful parse of payload: 3129\n",
        "Successful parse of payload: 1297\n",
        "Successful parse of payload: 2418\n",
        "Successful parse of payload: 4010"
       ]
      },
      {
       "output_type": "stream",
       "stream": "stdout",
       "text": [
        "\n",
        "Successful parse of payload: 3031\n",
        "Successful parse of payload: 3567"
       ]
      },
      {
       "output_type": "stream",
       "stream": "stdout",
       "text": [
        "\n",
        "Failed parse of payload: 3429"
       ]
      },
      {
       "output_type": "stream",
       "stream": "stdout",
       "text": [
        "\n",
        "Successful parse of payload: 4238"
       ]
      },
      {
       "output_type": "stream",
       "stream": "stdout",
       "text": [
        "\n",
        "Successful parse of payload: 2745\n",
        "Successful parse of payload: 321\n",
        "Successful parse of payload: 3736"
       ]
      },
      {
       "output_type": "stream",
       "stream": "stdout",
       "text": [
        "\n",
        "Successful parse of payload: 4323\n",
        "Successful parse of payload: 4228\n",
        "Successful parse of payload: 795\n",
        "Successful parse of payload: 3868\n",
        "Successful parse of payload: 4365\n",
        "Successful parse of payload: 3310\n",
        "Successful parse of payload: 3661"
       ]
      },
      {
       "output_type": "stream",
       "stream": "stdout",
       "text": [
        "\n",
        "Successful parse of payload: 3889\n",
        "Successful parse of payload: 2841\n",
        "Successful parse of payload: 3818\n",
        "Successful parse of payload: 3743"
       ]
      },
      {
       "output_type": "stream",
       "stream": "stdout",
       "text": [
        "\n",
        "Successful parse of payload: 2618\n",
        "Successful parse of payload: 4218\n",
        "Successful parse of payload: 3564\n",
        "Successful parse of payload: 2222\n",
        "Successful parse of payload: 3491\n",
        "Successful parse of payload: 2546\n",
        "Successful parse of payload: 2610\n",
        "Successful parse of payload: 2482\n",
        "Successful parse of payload: 4307\n",
        "Successful parse of payload: 3987"
       ]
      },
      {
       "output_type": "stream",
       "stream": "stdout",
       "text": [
        "\n",
        "Successful parse of payload: 2094\n",
        "Successful parse of payload: 1609\n",
        "Successful parse of payload: 4057"
       ]
      },
      {
       "output_type": "stream",
       "stream": "stdout",
       "text": [
        "\n",
        "Successful parse of payload: 3260"
       ]
      },
      {
       "output_type": "stream",
       "stream": "stdout",
       "text": [
        "\n",
        "Successful parse of payload: 264\n",
        "Successful parse of payload: 1411"
       ]
      },
      {
       "output_type": "stream",
       "stream": "stdout",
       "text": [
        "\n",
        "Successful parse of payload: 2446\n",
        "Successful parse of payload: 4087\n",
        "Successful parse of payload: 3880\n",
        "Successful parse of payload: 905\n",
        "Successful parse of payload: 2302\n",
        "Successful parse of payload: 2996"
       ]
      },
      {
       "output_type": "stream",
       "stream": "stdout",
       "text": [
        "\n",
        "Successful parse of payload: 3651"
       ]
      },
      {
       "output_type": "stream",
       "stream": "stdout",
       "text": [
        "\n",
        "Successful parse of payload: 2606"
       ]
      },
      {
       "output_type": "stream",
       "stream": "stdout",
       "text": [
        "\n",
        "Successful parse of payload: 3681"
       ]
      },
      {
       "output_type": "stream",
       "stream": "stdout",
       "text": [
        "\n",
        "Successful parse of payload: 3741\n",
        "Successful parse of payload: 1951\n",
        "Successful parse of payload: 3417"
       ]
      },
      {
       "output_type": "stream",
       "stream": "stdout",
       "text": [
        "\n",
        "Successful parse of payload: 3375\n",
        "Successful parse of payload: 4386\n",
        "Successful parse of payload: 3151\n",
        "Successful parse of payload: 2521\n",
        "Successful parse of payload: 2727"
       ]
      },
      {
       "output_type": "stream",
       "stream": "stdout",
       "text": [
        "\n",
        "Successful parse of payload: 3285\n",
        "Successful parse of payload: 2496\n",
        "Successful parse of payload: 2790\n",
        "Successful parse of payload: 2846\n",
        "Successful parse of payload: 3002"
       ]
      },
      {
       "output_type": "stream",
       "stream": "stdout",
       "text": [
        "\n",
        "Successful parse of payload: 2334\n",
        "Successful parse of payload: 3353\n",
        "Successful parse of payload: 1780\n",
        "Successful parse of payload: 1724"
       ]
      },
      {
       "output_type": "stream",
       "stream": "stdout",
       "text": [
        "\n",
        "Successful parse of payload: 3333\n",
        "Successful parse of payload: 3786"
       ]
      },
      {
       "output_type": "stream",
       "stream": "stdout",
       "text": [
        "\n",
        "Successful parse of payload: 3917\n",
        "Successful parse of payload: 2668\n",
        "Successful parse of payload: 3692"
       ]
      },
      {
       "output_type": "stream",
       "stream": "stdout",
       "text": [
        "\n",
        "Successful parse of payload: 258\n",
        "Successful parse of payload: 770\n",
        "Successful parse of payload: 2227"
       ]
      },
      {
       "output_type": "stream",
       "stream": "stdout",
       "text": [
        "\n",
        "Successful parse of payload: 1076"
       ]
      },
      {
       "output_type": "stream",
       "stream": "stdout",
       "text": [
        "\n",
        "Successful parse of payload: 311\n",
        "Successful parse of payload: 226\n",
        "Successful parse of payload: 4426\n",
        "Successful parse of payload: 3475"
       ]
      },
      {
       "output_type": "stream",
       "stream": "stdout",
       "text": [
        "\n",
        "Successful parse of payload: 1862\n",
        "Successful parse of payload: 2382\n",
        "Successful parse of payload: 3365\n",
        "Successful parse of payload: 1161"
       ]
      },
      {
       "output_type": "stream",
       "stream": "stdout",
       "text": [
        "\n",
        "Successful parse of payload: 2624\n",
        "Successful parse of payload: 1923\n",
        "Successful parse of payload: 4001"
       ]
      },
      {
       "output_type": "stream",
       "stream": "stdout",
       "text": [
        "\n",
        "Successful parse of payload: 2434\n",
        "Successful parse of payload: 1347"
       ]
      },
      {
       "output_type": "stream",
       "stream": "stdout",
       "text": [
        "\n",
        "Successful parse of payload: 2919"
       ]
      },
      {
       "output_type": "stream",
       "stream": "stdout",
       "text": [
        "\n",
        "Successful parse of payload: 2821\n",
        "Successful parse of payload: 1787"
       ]
      },
      {
       "output_type": "stream",
       "stream": "stdout",
       "text": [
        "\n",
        "Successful parse of payload: 3007\n",
        "Successful parse of payload: 2392\n",
        "Successful parse of payload: 2764"
       ]
      },
      {
       "output_type": "stream",
       "stream": "stdout",
       "text": [
        "\n",
        "Successful parse of payload: 3601\n",
        "Successful parse of payload: 1693\n",
        "Successful parse of payload: 1961\n",
        "Successful parse of payload: 2780\n",
        "Successful parse of payload: 2095"
       ]
      },
      {
       "output_type": "stream",
       "stream": "stdout",
       "text": [
        "\n",
        "Successful parse of payload: 4192\n",
        "Successful parse of payload: 4105"
       ]
      },
      {
       "output_type": "stream",
       "stream": "stdout",
       "text": [
        "\n",
        "Successful parse of payload: 1791"
       ]
      },
      {
       "output_type": "stream",
       "stream": "stdout",
       "text": [
        "\n",
        "Successful parse of payload: 3586\n",
        "Successful parse of payload: 1084"
       ]
      },
      {
       "output_type": "stream",
       "stream": "stdout",
       "text": [
        "\n",
        "Successful parse of payload: 3744"
       ]
      },
      {
       "output_type": "stream",
       "stream": "stdout",
       "text": [
        "\n",
        "Successful parse of payload: 1068"
       ]
      },
      {
       "output_type": "stream",
       "stream": "stdout",
       "text": [
        "\n",
        "Successful parse of payload: 3027\n",
        "Successful parse of payload: 256\n",
        "Successful parse of payload: 1763\n",
        "Successful parse of payload: 1704\n",
        "Successful parse of payload: 3206\n",
        "Successful parse of payload: 2320\n",
        "Successful parse of payload: 2665\n",
        "Successful parse of payload: 2850\n",
        "Failed parse of payload: 3658"
       ]
      },
      {
       "output_type": "stream",
       "stream": "stdout",
       "text": [
        "\n",
        "Successful parse of payload: 3593"
       ]
      },
      {
       "output_type": "stream",
       "stream": "stdout",
       "text": [
        "\n",
        "Successful parse of payload: 308\n",
        "Successful parse of payload: 2500\n",
        "Successful parse of payload: 1227\n",
        "Successful parse of payload: 3160\n",
        "Successful parse of payload: 4317"
       ]
      },
      {
       "output_type": "stream",
       "stream": "stdout",
       "text": [
        "\n",
        "Successful parse of payload: 2528\n",
        "Successful parse of payload: 2772"
       ]
      },
      {
       "output_type": "stream",
       "stream": "stdout",
       "text": [
        "\n",
        "Successful parse of payload: 3104"
       ]
      },
      {
       "output_type": "stream",
       "stream": "stdout",
       "text": [
        "\n",
        "Successful parse of payload: 3898\n",
        "Successful parse of payload: 3125\n",
        "Successful parse of payload: 292\n",
        "Successful parse of payload: 1942\n",
        "Successful parse of payload: 3509\n",
        "Successful parse of payload: 3536"
       ]
      },
      {
       "output_type": "stream",
       "stream": "stdout",
       "text": [
        "\n",
        "Successful parse of payload: 2530"
       ]
      },
      {
       "output_type": "stream",
       "stream": "stdout",
       "text": [
        "\n",
        "Successful parse of payload: 3124\n",
        "Successful parse of payload: 2515\n",
        "Successful parse of payload: 2985\n",
        "Successful parse of payload: 2303"
       ]
      },
      {
       "output_type": "stream",
       "stream": "stdout",
       "text": [
        "\n",
        "Successful parse of payload: 2619\n",
        "Successful parse of payload: 3551\n",
        "Successful parse of payload: 4085\n",
        "Successful parse of payload: 2035\n",
        "Successful parse of payload: 3663"
       ]
      },
      {
       "output_type": "stream",
       "stream": "stdout",
       "text": [
        "\n",
        "Successful parse of payload: 1909"
       ]
      },
      {
       "output_type": "stream",
       "stream": "stdout",
       "text": [
        "\n",
        "Successful parse of payload: 3707\n",
        "Successful parse of payload: 3574"
       ]
      },
      {
       "output_type": "stream",
       "stream": "stdout",
       "text": [
        "\n",
        "Successful parse of payload: 1696\n",
        "Successful parse of payload: 3899"
       ]
      },
      {
       "output_type": "stream",
       "stream": "stdout",
       "text": [
        "\n",
        "Successful parse of payload: 3797\n",
        "Successful parse of payload: 2961\n",
        "Successful parse of payload: 1199\n",
        "Successful parse of payload: 2867\n",
        "Successful parse of payload: 3974\n",
        "Failed parse of payload: 3464"
       ]
      },
      {
       "output_type": "stream",
       "stream": "stdout",
       "text": [
        "\n",
        "Successful parse of payload: 3680\n",
        "Successful parse of payload: 1606"
       ]
      },
      {
       "output_type": "stream",
       "stream": "stdout",
       "text": [
        "\n",
        "Successful parse of payload: 4345"
       ]
      },
      {
       "output_type": "stream",
       "stream": "stdout",
       "text": [
        "\n",
        "Successful parse of payload: 2087\n",
        "Successful parse of payload: 3131\n",
        "Successful parse of payload: 1605\n",
        "Successful parse of payload: 4337"
       ]
      },
      {
       "output_type": "stream",
       "stream": "stdout",
       "text": [
        "\n",
        "Successful parse of payload: 2913\n",
        "Successful parse of payload: 2923"
       ]
      },
      {
       "output_type": "stream",
       "stream": "stdout",
       "text": [
        "\n",
        "Successful parse of payload: 2353\n",
        "Successful parse of payload: 3545\n",
        "Successful parse of payload: 2755\n",
        "Successful parse of payload: 3269\n",
        "Successful parse of payload: 2656\n",
        "Successful parse of payload: 2535\n",
        "Successful parse of payload: 3578\n",
        "Successful parse of payload: 1614\n",
        "Successful parse of payload: 2159\n",
        "Successful parse of payload: 2739\n",
        "Successful parse of payload: 3575"
       ]
      },
      {
       "output_type": "stream",
       "stream": "stdout",
       "text": [
        "\n",
        "Successful parse of payload: 3995\n",
        "Successful parse of payload: 1814"
       ]
      },
      {
       "output_type": "stream",
       "stream": "stdout",
       "text": [
        "\n",
        "Failed parse of payload: 3448"
       ]
      },
      {
       "output_type": "stream",
       "stream": "stdout",
       "text": [
        "\n",
        "Successful parse of payload: 808\n",
        "Successful parse of payload: 3133\n",
        "Successful parse of payload: 4343\n",
        "Successful parse of payload: 1722\n",
        "Successful parse of payload: 2537"
       ]
      },
      {
       "output_type": "stream",
       "stream": "stdout",
       "text": [
        "\n",
        "Successful parse of payload: 3415"
       ]
      },
      {
       "output_type": "stream",
       "stream": "stdout",
       "text": [
        "\n",
        "Successful parse of payload: 3866\n",
        "Successful parse of payload: 2952\n",
        "Successful parse of payload: 4037"
       ]
      },
      {
       "output_type": "stream",
       "stream": "stdout",
       "text": [
        "\n",
        "Successful parse of payload: 2360\n",
        "Successful parse of payload: 4322\n",
        "Successful parse of payload: 3399"
       ]
      },
      {
       "output_type": "stream",
       "stream": "stdout",
       "text": [
        "\n",
        "Successful parse of payload: 4004\n",
        "Successful parse of payload: 1615"
       ]
      },
      {
       "output_type": "stream",
       "stream": "stdout",
       "text": [
        "\n",
        "Successful parse of payload: 3962\n",
        "Successful parse of payload: 4036\n",
        "Successful parse of payload: 3261\n",
        "Successful parse of payload: 2882\n",
        "Successful parse of payload: 2056"
       ]
      },
      {
       "output_type": "stream",
       "stream": "stdout",
       "text": [
        "\n",
        "Successful parse of payload: 3966\n",
        "Successful parse of payload: 3100"
       ]
      },
      {
       "output_type": "stream",
       "stream": "stdout",
       "text": [
        "\n",
        "Successful parse of payload: 4081\n",
        "Failed parse of payload: 3655"
       ]
      },
      {
       "output_type": "stream",
       "stream": "stdout",
       "text": [
        "\n",
        "Successful parse of payload: 2512\n",
        "Successful parse of payload: 2966"
       ]
      },
      {
       "output_type": "stream",
       "stream": "stdout",
       "text": [
        "\n",
        "Successful parse of payload: 3113\n",
        "Successful parse of payload: 2746\n",
        "Successful parse of payload: 938"
       ]
      },
      {
       "output_type": "stream",
       "stream": "stdout",
       "text": [
        "\n",
        "Successful parse of payload: 898\n",
        "Successful parse of payload: 3795\n",
        "Successful parse of payload: 1779"
       ]
      },
      {
       "output_type": "stream",
       "stream": "stdout",
       "text": [
        "\n",
        "Failed parse of payload: 2771\n",
        "Successful parse of payload: 3122\n",
        "Successful parse of payload: 4215"
       ]
      },
      {
       "output_type": "stream",
       "stream": "stdout",
       "text": [
        "\n",
        "Successful parse of payload: 2473\n",
        "Successful parse of payload: 3702"
       ]
      },
      {
       "output_type": "stream",
       "stream": "stdout",
       "text": [
        "\n",
        "Successful parse of payload: 2678\n",
        "Successful parse of payload: 4201"
       ]
      },
      {
       "output_type": "stream",
       "stream": "stdout",
       "text": [
        "\n",
        "Successful parse of payload: 3979\n",
        "Successful parse of payload: 2616"
       ]
      },
      {
       "output_type": "stream",
       "stream": "stdout",
       "text": [
        "\n",
        "Successful parse of payload: 4075"
       ]
      },
      {
       "output_type": "stream",
       "stream": "stdout",
       "text": [
        "\n",
        "Successful parse of payload: 3121\n",
        "Successful parse of payload: 2010\n",
        "Successful parse of payload: 3263"
       ]
      },
      {
       "output_type": "stream",
       "stream": "stdout",
       "text": [
        "\n",
        "Successful parse of payload: 4418\n",
        "Successful parse of payload: 2287\n",
        "Successful parse of payload: 2813"
       ]
      },
      {
       "output_type": "stream",
       "stream": "stdout",
       "text": [
        "\n",
        "Successful parse of payload: 3843"
       ]
      },
      {
       "output_type": "stream",
       "stream": "stdout",
       "text": [
        "\n",
        "Successful parse of payload: 2934\n",
        "Successful parse of payload: 1574\n",
        "Successful parse of payload: 4149\n",
        "Successful parse of payload: 1178\n",
        "Successful parse of payload: 912\n",
        "Successful parse of payload: 2630"
       ]
      },
      {
       "output_type": "stream",
       "stream": "stdout",
       "text": [
        "\n",
        "Successful parse of payload: 4158\n",
        "Successful parse of payload: 1994"
       ]
      },
      {
       "output_type": "stream",
       "stream": "stdout",
       "text": [
        "\n",
        "Successful parse of payload: 3157"
       ]
      },
      {
       "output_type": "stream",
       "stream": "stdout",
       "text": [
        "\n",
        "Successful parse of payload: 1644\n",
        "Successful parse of payload: 2050"
       ]
      },
      {
       "output_type": "stream",
       "stream": "stdout",
       "text": [
        "\n",
        "Successful parse of payload: 4296\n",
        "Successful parse of payload: 3376"
       ]
      },
      {
       "output_type": "stream",
       "stream": "stdout",
       "text": [
        "\n",
        "Successful parse of payload: 4244"
       ]
      },
      {
       "output_type": "stream",
       "stream": "stdout",
       "text": [
        "\n",
        "Successful parse of payload: 1847\n",
        "Successful parse of payload: 3034\n",
        "Successful parse of payload: 3508\n",
        "Successful parse of payload: 3625"
       ]
      },
      {
       "output_type": "stream",
       "stream": "stdout",
       "text": [
        "\n",
        "Successful parse of payload: 2738"
       ]
      },
      {
       "output_type": "stream",
       "stream": "stdout",
       "text": [
        "\n",
        "Successful parse of payload: 3861\n",
        "Successful parse of payload: 3854\n",
        "Successful parse of payload: 4050"
       ]
      },
      {
       "output_type": "stream",
       "stream": "stdout",
       "text": [
        "\n",
        "Successful parse of payload: 3287\n",
        "Successful parse of payload: 802\n",
        "Successful parse of payload: 814\n",
        "Successful parse of payload: 1868"
       ]
      },
      {
       "output_type": "stream",
       "stream": "stdout",
       "text": [
        "\n",
        "Successful parse of payload: 2258"
       ]
      },
      {
       "output_type": "stream",
       "stream": "stdout",
       "text": [
        "\n",
        "Successful parse of payload: 4086"
       ]
      },
      {
       "output_type": "stream",
       "stream": "stdout",
       "text": [
        "\n",
        "Successful parse of payload: 1929"
       ]
      },
      {
       "output_type": "stream",
       "stream": "stdout",
       "text": [
        "\n",
        "Successful parse of payload: 2870\n",
        "Successful parse of payload: 1668\n",
        "Successful parse of payload: 3295\n",
        "Successful parse of payload: 1956"
       ]
      },
      {
       "output_type": "stream",
       "stream": "stdout",
       "text": [
        "\n",
        "Successful parse of payload: 3840\n",
        "Successful parse of payload: 1485"
       ]
      },
      {
       "output_type": "stream",
       "stream": "stdout",
       "text": [
        "\n",
        "Successful parse of payload: 2808"
       ]
      },
      {
       "output_type": "stream",
       "stream": "stdout",
       "text": [
        "\n",
        "Successful parse of payload: 1713\n",
        "Successful parse of payload: 2603\n",
        "Successful parse of payload: 582"
       ]
      },
      {
       "output_type": "stream",
       "stream": "stdout",
       "text": [
        "\n",
        "Failed parse of payload: 3468\n",
        "Successful parse of payload: 2873\n",
        "Successful parse of payload: 3502"
       ]
      },
      {
       "output_type": "stream",
       "stream": "stdout",
       "text": [
        "\n",
        "Failed parse of payload: 827"
       ]
      },
      {
       "output_type": "stream",
       "stream": "stdout",
       "text": [
        "\n",
        "Successful parse of payload: 274\n",
        "Successful parse of payload: 3484"
       ]
      },
      {
       "output_type": "stream",
       "stream": "stdout",
       "text": [
        "\n",
        "Successful parse of payload: 1715\n",
        "Successful parse of payload: 2503"
       ]
      },
      {
       "output_type": "stream",
       "stream": "stdout",
       "text": [
        "\n",
        "Successful parse of payload: 1114"
       ]
      },
      {
       "output_type": "stream",
       "stream": "stdout",
       "text": [
        "\n",
        "Successful parse of payload: 2621"
       ]
      },
      {
       "output_type": "stream",
       "stream": "stdout",
       "text": [
        "\n",
        "Successful parse of payload: 2256\n",
        "Successful parse of payload: 3710"
       ]
      },
      {
       "output_type": "stream",
       "stream": "stdout",
       "text": [
        "\n",
        "Successful parse of payload: 1709\n",
        "Successful parse of payload: 4096\n",
        "Successful parse of payload: 3980"
       ]
      },
      {
       "output_type": "stream",
       "stream": "stdout",
       "text": [
        "\n",
        "Successful parse of payload: 4159\n",
        "Successful parse of payload: 3137\n",
        "Successful parse of payload: 3450\n",
        "Successful parse of payload: 2637\n",
        "Successful parse of payload: 1118\n",
        "Failed parse of payload: 559"
       ]
      },
      {
       "output_type": "stream",
       "stream": "stdout",
       "text": [
        "\n",
        "Successful parse of payload: 917"
       ]
      },
      {
       "output_type": "stream",
       "stream": "stdout",
       "text": [
        "\n",
        "Successful parse of payload: 2219"
       ]
      },
      {
       "output_type": "stream",
       "stream": "stdout",
       "text": [
        "\n",
        "Successful parse of payload: 2800\n",
        "Successful parse of payload: 2238\n",
        "Successful parse of payload: 2686"
       ]
      },
      {
       "output_type": "stream",
       "stream": "stdout",
       "text": [
        "\n",
        "Successful parse of payload: 3686\n",
        "Successful parse of payload: 2651\n",
        "Successful parse of payload: 3907\n",
        "Successful parse of payload: 2974"
       ]
      },
      {
       "output_type": "stream",
       "stream": "stdout",
       "text": [
        "\n",
        "Successful parse of payload: 2074\n",
        "Successful parse of payload: 2325\n",
        "Successful parse of payload: 3319"
       ]
      },
      {
       "output_type": "stream",
       "stream": "stdout",
       "text": [
        "\n",
        "Successful parse of payload: 820"
       ]
      },
      {
       "output_type": "stream",
       "stream": "stdout",
       "text": [
        "\n",
        "Successful parse of payload: 4176\n",
        "Successful parse of payload: 1583"
       ]
      },
      {
       "output_type": "stream",
       "stream": "stdout",
       "text": [
        "\n",
        "Successful parse of payload: 3626"
       ]
      },
      {
       "output_type": "stream",
       "stream": "stdout",
       "text": [
        "\n",
        "Successful parse of payload: 284\n",
        "Successful parse of payload: 4002\n",
        "Successful parse of payload: 2241\n",
        "Successful parse of payload: 3040\n",
        "Successful parse of payload: 2125"
       ]
      },
      {
       "output_type": "stream",
       "stream": "stdout",
       "text": [
        "\n",
        "Successful parse of payload: 4014\n",
        "Successful parse of payload: 4109\n",
        "Successful parse of payload: 3495\n",
        "Successful parse of payload: 484\n",
        "Successful parse of payload: 1213"
       ]
      },
      {
       "output_type": "stream",
       "stream": "stdout",
       "text": [
        "\n",
        "Successful parse of payload: 4069\n",
        "Successful parse of payload: 3059\n",
        "Successful parse of payload: 1691\n",
        "Successful parse of payload: 2077\n",
        "Successful parse of payload: 2252"
       ]
      },
      {
       "output_type": "stream",
       "stream": "stdout",
       "text": [
        "\n",
        "Successful parse of payload: 1703\n",
        "Successful parse of payload: 2172\n",
        "Successful parse of payload: 2849\n",
        "Successful parse of payload: 3805"
       ]
      },
      {
       "output_type": "stream",
       "stream": "stdout",
       "text": [
        "\n",
        "Successful parse of payload: 4320\n",
        "Successful parse of payload: 2182\n",
        "Successful parse of payload: 2794\n",
        "Successful parse of payload: 3388"
       ]
      },
      {
       "output_type": "stream",
       "stream": "stdout",
       "text": [
        "\n",
        "Successful parse of payload: 2276\n",
        "Successful parse of payload: 3412"
       ]
      },
      {
       "output_type": "stream",
       "stream": "stdout",
       "text": [
        "\n",
        "Successful parse of payload: 4048\n",
        "Successful parse of payload: 4147\n",
        "Successful parse of payload: 4088"
       ]
      },
      {
       "output_type": "stream",
       "stream": "stdout",
       "text": [
        "\n",
        "Successful parse of payload: 3808\n",
        "Successful parse of payload: 3931\n",
        "Successful parse of payload: 2103\n",
        "Successful parse of payload: 877"
       ]
      },
      {
       "output_type": "stream",
       "stream": "stdout",
       "text": [
        "\n",
        "Successful parse of payload: 3922"
       ]
      },
      {
       "output_type": "stream",
       "stream": "stdout",
       "text": [
        "\n",
        "Successful parse of payload: 4119"
       ]
      },
      {
       "output_type": "stream",
       "stream": "stdout",
       "text": [
        "\n",
        "Successful parse of payload: 2904\n",
        "Failed parse of payload: 2569\n",
        "Successful parse of payload: 2579\n",
        "Successful parse of payload: 3212\n",
        "Successful parse of payload: 1711\n",
        "Successful parse of payload: 4153\n",
        "Successful parse of payload: 275\n",
        "Successful parse of payload: 2448"
       ]
      },
      {
       "output_type": "stream",
       "stream": "stdout",
       "text": [
        "\n",
        "Successful parse of payload: 4093\n",
        "Successful parse of payload: 4389\n",
        "Successful parse of payload: 4406"
       ]
      },
      {
       "output_type": "stream",
       "stream": "stdout",
       "text": [
        "\n",
        "Successful parse of payload: 4251\n",
        "Successful parse of payload: 3719\n",
        "Successful parse of payload: 1589\n",
        "Successful parse of payload: 2064\n",
        "Successful parse of payload: 3552"
       ]
      },
      {
       "output_type": "stream",
       "stream": "stdout",
       "text": [
        "\n",
        "Successful parse of payload: 2225\n",
        "Successful parse of payload: 4140\n",
        "Successful parse of payload: 2046\n",
        "Successful parse of payload: 4124"
       ]
      },
      {
       "output_type": "stream",
       "stream": "stdout",
       "text": [
        "\n",
        "Successful parse of payload: 1897\n",
        "Successful parse of payload: 2717"
       ]
      },
      {
       "output_type": "stream",
       "stream": "stdout",
       "text": [
        "\n",
        "Successful parse of payload: 3339\n",
        "Successful parse of payload: 3286"
       ]
      },
      {
       "output_type": "stream",
       "stream": "stdout",
       "text": [
        "\n",
        "Successful parse of payload: 2493\n",
        "Successful parse of payload: 2552\n",
        "Successful parse of payload: 346\n",
        "Successful parse of payload: 2242"
       ]
      },
      {
       "output_type": "stream",
       "stream": "stdout",
       "text": [
        "\n",
        "Successful parse of payload: 2402\n",
        "Successful parse of payload: 930"
       ]
      },
      {
       "output_type": "stream",
       "stream": "stdout",
       "text": [
        "\n",
        "Successful parse of payload: 4092\n",
        "Successful parse of payload: 4079\n",
        "Successful parse of payload: 336"
       ]
      },
      {
       "output_type": "stream",
       "stream": "stdout",
       "text": [
        "\n",
        "Successful parse of payload: 2711\n",
        "Successful parse of payload: 637\n",
        "Successful parse of payload: 1764\n",
        "Successful parse of payload: 1242\n",
        "Successful parse of payload: 1888\n",
        "Successful parse of payload: 2118\n",
        "Successful parse of payload: 4148"
       ]
      },
      {
       "output_type": "stream",
       "stream": "stdout",
       "text": [
        "\n",
        "Successful parse of payload: 3021\n",
        "Successful parse of payload: 3423"
       ]
      },
      {
       "output_type": "stream",
       "stream": "stdout",
       "text": [
        "\n",
        "Successful parse of payload: 1922\n",
        "Successful parse of payload: 2169\n",
        "Successful parse of payload: 1877"
       ]
      },
      {
       "output_type": "stream",
       "stream": "stdout",
       "text": [
        "\n",
        "Successful parse of payload: 3623"
       ]
      },
      {
       "output_type": "stream",
       "stream": "stdout",
       "text": [
        "\n",
        "Successful parse of payload: 2687\n",
        "Successful parse of payload: 2944\n",
        "Successful parse of payload: 3872"
       ]
      },
      {
       "output_type": "stream",
       "stream": "stdout",
       "text": [
        "\n",
        "Successful parse of payload: 823"
       ]
      },
      {
       "output_type": "stream",
       "stream": "stdout",
       "text": [
        "\n",
        "Successful parse of payload: 2839\n",
        "Successful parse of payload: 3332\n",
        "Successful parse of payload: 1314"
       ]
      },
      {
       "output_type": "stream",
       "stream": "stdout",
       "text": [
        "\n",
        "Successful parse of payload: 2795"
       ]
      },
      {
       "output_type": "stream",
       "stream": "stdout",
       "text": [
        "\n",
        "Successful parse of payload: 790\n",
        "Successful parse of payload: 4362\n",
        "Successful parse of payload: 3009\n",
        "Successful parse of payload: 2534\n",
        "Successful parse of payload: 3226"
       ]
      },
      {
       "output_type": "stream",
       "stream": "stdout",
       "text": [
        "\n",
        "Successful parse of payload: 2836\n",
        "Successful parse of payload: 2555"
       ]
      },
      {
       "output_type": "stream",
       "stream": "stdout",
       "text": [
        "\n",
        "Successful parse of payload: 992"
       ]
      },
      {
       "output_type": "stream",
       "stream": "stdout",
       "text": [
        "\n",
        "Successful parse of payload: 3037\n",
        "Successful parse of payload: 2596\n",
        "Successful parse of payload: 899\n",
        "Successful parse of payload: 1667"
       ]
      },
      {
       "output_type": "stream",
       "stream": "stdout",
       "text": [
        "\n",
        "Successful parse of payload: 1240\n",
        "Successful parse of payload: 2398\n",
        "Successful parse of payload: 2209\n",
        "Successful parse of payload: 278\n",
        "Successful parse of payload: 239\n",
        "Successful parse of payload: 3994\n",
        "Successful parse of payload: 3246\n",
        "Successful parse of payload: 4319\n",
        "Successful parse of payload: 3930"
       ]
      },
      {
       "output_type": "stream",
       "stream": "stdout",
       "text": [
        "\n",
        "Successful parse of payload: 1883\n",
        "Successful parse of payload: 3148\n",
        "Successful parse of payload: 2917\n",
        "Successful parse of payload: 1101\n",
        "Successful parse of payload: 2168\n",
        "Successful parse of payload: 3647"
       ]
      },
      {
       "output_type": "stream",
       "stream": "stdout",
       "text": [
        "\n",
        "Successful parse of payload: 1582\n",
        "Successful parse of payload: 2204\n",
        "Successful parse of payload: 2243\n",
        "Successful parse of payload: 826\n",
        "Successful parse of payload: 2032\n",
        "Successful parse of payload: 1786\n",
        "Successful parse of payload: 1666\n",
        "Successful parse of payload: 3870\n",
        "Successful parse of payload: 2261\n",
        "Successful parse of payload: 3875\n",
        "Successful parse of payload: 3905\n",
        "Failed parse of payload: 4019\n",
        "Successful parse of payload: 1219\n",
        "Successful parse of payload: 4046"
       ]
      },
      {
       "output_type": "stream",
       "stream": "stdout",
       "text": [
        "\n",
        "Successful parse of payload: 4052\n",
        "Successful parse of payload: 1316\n",
        "Successful parse of payload: 2837\n",
        "Successful parse of payload: 3950\n",
        "Successful parse of payload: 1821"
       ]
      },
      {
       "output_type": "stream",
       "stream": "stdout",
       "text": [
        "\n",
        "Successful parse of payload: 876\n",
        "Successful parse of payload: 2237\n",
        "Successful parse of payload: 3305"
       ]
      },
      {
       "output_type": "stream",
       "stream": "stdout",
       "text": [
        "\n",
        "Successful parse of payload: 1937\n",
        "Successful parse of payload: 3842\n",
        "Successful parse of payload: 2634\n",
        "Successful parse of payload: 2105\n",
        "Successful parse of payload: 805"
       ]
      },
      {
       "output_type": "stream",
       "stream": "stdout",
       "text": [
        "\n",
        "Successful parse of payload: 1858\n",
        "Successful parse of payload: 3679"
       ]
      },
      {
       "output_type": "stream",
       "stream": "stdout",
       "text": [
        "\n",
        "Successful parse of payload: 4144\n",
        "Successful parse of payload: 1840\n",
        "Successful parse of payload: 1982\n",
        "Successful parse of payload: 1599\n",
        "Successful parse of payload: 3374\n",
        "Successful parse of payload: 3971\n",
        "Successful parse of payload: 1662\n",
        "Successful parse of payload: 2022\n",
        "Successful parse of payload: 2945"
       ]
      },
      {
       "output_type": "stream",
       "stream": "stdout",
       "text": [
        "\n",
        "Successful parse of payload: 2040\n",
        "Successful parse of payload: 243\n",
        "Successful parse of payload: 3517"
       ]
      },
      {
       "output_type": "stream",
       "stream": "stdout",
       "text": [
        "\n",
        "Successful parse of payload: 1941"
       ]
      },
      {
       "output_type": "stream",
       "stream": "stdout",
       "text": [
        "\n",
        "Successful parse of payload: 3257\n",
        "Successful parse of payload: 3097\n",
        "Successful parse of payload: 363\n",
        "Successful parse of payload: 2367\n",
        "Successful parse of payload: 3908\n",
        "Failed parse of payload: 3742"
       ]
      },
      {
       "output_type": "stream",
       "stream": "stdout",
       "text": [
        "\n",
        "Successful parse of payload: 3565"
       ]
      },
      {
       "output_type": "stream",
       "stream": "stdout",
       "text": [
        "\n",
        "Successful parse of payload: 1244\n",
        "Successful parse of payload: 4127\n",
        "Failed parse of payload: 3435\n",
        "Failed parse of payload: 3457"
       ]
      },
      {
       "output_type": "stream",
       "stream": "stdout",
       "text": [
        "\n",
        "Successful parse of payload: 3731"
       ]
      },
      {
       "output_type": "stream",
       "stream": "stdout",
       "text": [
        "\n",
        "Successful parse of payload: 4049\n",
        "Successful parse of payload: 3857\n",
        "Successful parse of payload: 838\n",
        "Successful parse of payload: 1125"
       ]
      },
      {
       "output_type": "stream",
       "stream": "stdout",
       "text": [
        "\n",
        "Successful parse of payload: 2864\n",
        "Successful parse of payload: 3253\n",
        "Successful parse of payload: 1810\n",
        "Successful parse of payload: 1080"
       ]
      },
      {
       "output_type": "stream",
       "stream": "stdout",
       "text": [
        "\n",
        "Successful parse of payload: 2386\n",
        "Successful parse of payload: 3005\n",
        "Successful parse of payload: 1671"
       ]
      },
      {
       "output_type": "stream",
       "stream": "stdout",
       "text": [
        "\n",
        "Successful parse of payload: 245\n",
        "Successful parse of payload: 3596\n",
        "Successful parse of payload: 2065\n",
        "Successful parse of payload: 1911"
       ]
      },
      {
       "output_type": "stream",
       "stream": "stdout",
       "text": [
        "\n",
        "Successful parse of payload: 1760\n",
        "Successful parse of payload: 2324\n",
        "Successful parse of payload: 3838\n",
        "Successful parse of payload: 2834\n",
        "Successful parse of payload: 3220\n",
        "Successful parse of payload: 3471"
       ]
      },
      {
       "output_type": "stream",
       "stream": "stdout",
       "text": [
        "\n",
        "Successful parse of payload: 4178\n",
        "Successful parse of payload: 4326"
       ]
      },
      {
       "output_type": "stream",
       "stream": "stdout",
       "text": [
        "\n",
        "Successful parse of payload: 4183\n",
        "Successful parse of payload: 2584\n",
        "Failed parse of payload: 3403"
       ]
      },
      {
       "output_type": "stream",
       "stream": "stdout",
       "text": [
        "\n",
        "Successful parse of payload: 3512\n",
        "Successful parse of payload: 2526\n",
        "Successful parse of payload: 2180\n",
        "Successful parse of payload: 1902\n",
        "Successful parse of payload: 3081"
       ]
      },
      {
       "output_type": "stream",
       "stream": "stdout",
       "text": [
        "\n",
        "Successful parse of payload: 1640\n",
        "Successful parse of payload: 2150\n",
        "Successful parse of payload: 2485\n",
        "Successful parse of payload: 2255\n",
        "Successful parse of payload: 2331\n",
        "Successful parse of payload: 819\n",
        "Successful parse of payload: 3940"
       ]
      },
      {
       "output_type": "stream",
       "stream": "stdout",
       "text": [
        "\n",
        "Successful parse of payload: 4364\n",
        "Successful parse of payload: 3911\n",
        "Failed parse of payload: 4195"
       ]
      },
      {
       "output_type": "stream",
       "stream": "stdout",
       "text": [
        "\n",
        "Successful parse of payload: 3146\n",
        "Successful parse of payload: 2673\n",
        "Successful parse of payload: 2277\n",
        "Successful parse of payload: 3706\n",
        "Failed parse of payload: 1782\n",
        "Successful parse of payload: 2594"
       ]
      },
      {
       "output_type": "stream",
       "stream": "stdout",
       "text": [
        "\n",
        "Successful parse of payload: 866\n",
        "Successful parse of payload: 3547\n",
        "Successful parse of payload: 3984\n",
        "Successful parse of payload: 3814\n",
        "Successful parse of payload: 3181"
       ]
      },
      {
       "output_type": "stream",
       "stream": "stdout",
       "text": [
        "\n",
        "Successful parse of payload: 4017"
       ]
      },
      {
       "output_type": "stream",
       "stream": "stdout",
       "text": [
        "\n",
        "Successful parse of payload: 2456\n",
        "Successful parse of payload: 4152\n",
        "Successful parse of payload: 244\n",
        "Successful parse of payload: 4006\n",
        "Successful parse of payload: 2305\n",
        "Successful parse of payload: 3110\n",
        "Successful parse of payload: 824\n",
        "Successful parse of payload: 3441"
       ]
      },
      {
       "output_type": "stream",
       "stream": "stdout",
       "text": [
        "\n",
        "Failed parse of payload: 3001\n",
        "Successful parse of payload: 700"
       ]
      },
      {
       "output_type": "stream",
       "stream": "stdout",
       "text": [
        "\n",
        "Successful parse of payload: 1651\n",
        "Successful parse of payload: 4022"
       ]
      },
      {
       "output_type": "stream",
       "stream": "stdout",
       "text": [
        "\n",
        "Successful parse of payload: 334\n",
        "Successful parse of payload: 234\n",
        "Successful parse of payload: 3058\n",
        "Successful parse of payload: 2054"
       ]
      },
      {
       "output_type": "stream",
       "stream": "stdout",
       "text": [
        "\n",
        "Successful parse of payload: 4430\n",
        "Successful parse of payload: 2880\n",
        "Successful parse of payload: 4221"
       ]
      },
      {
       "output_type": "stream",
       "stream": "stdout",
       "text": [
        "\n",
        "Successful parse of payload: 3068\n",
        "Failed parse of payload: 3444"
       ]
      },
      {
       "output_type": "stream",
       "stream": "stdout",
       "text": [
        "\n",
        "Successful parse of payload: 1919\n",
        "Successful parse of payload: 1247"
       ]
      },
      {
       "output_type": "stream",
       "stream": "stdout",
       "text": [
        "\n",
        "Successful parse of payload: 3849"
       ]
      },
      {
       "output_type": "stream",
       "stream": "stdout",
       "text": [
        "\n",
        "Successful parse of payload: 263\n",
        "Successful parse of payload: 2445"
       ]
      },
      {
       "output_type": "stream",
       "stream": "stdout",
       "text": [
        "\n",
        "Successful parse of payload: 3885\n",
        "Successful parse of payload: 3421"
       ]
      },
      {
       "output_type": "stream",
       "stream": "stdout",
       "text": [
        "\n",
        "Successful parse of payload: 2346\n",
        "Successful parse of payload: 2819\n",
        "Successful parse of payload: 2413\n",
        "Successful parse of payload: 3231\n",
        "Successful parse of payload: 3297\n",
        "Successful parse of payload: 3662\n",
        "Successful parse of payload: 885\n",
        "Successful parse of payload: 2043\n",
        "Successful parse of payload: 3092"
       ]
      },
      {
       "output_type": "stream",
       "stream": "stdout",
       "text": [
        "\n",
        "Successful parse of payload: 3233\n",
        "Successful parse of payload: 298\n",
        "Successful parse of payload: 1986\n",
        "Successful parse of payload: 786\n",
        "Successful parse of payload: 3935"
       ]
      },
      {
       "output_type": "stream",
       "stream": "stdout",
       "text": [
        "\n",
        "Successful parse of payload: 4313\n",
        "Successful parse of payload: 4359"
       ]
      },
      {
       "output_type": "stream",
       "stream": "stdout",
       "text": [
        "\n",
        "Successful parse of payload: 1483\n",
        "Successful parse of payload: 2702\n",
        "Successful parse of payload: 3052"
       ]
      },
      {
       "output_type": "stream",
       "stream": "stdout",
       "text": [
        "\n",
        "Successful parse of payload: 2742\n",
        "Failed parse of payload: 1718\n",
        "Successful parse of payload: 2395\n",
        "Successful parse of payload: 2750"
       ]
      },
      {
       "output_type": "stream",
       "stream": "stdout",
       "text": [
        "\n",
        "Successful parse of payload: 4262\n",
        "Successful parse of payload: 3019\n",
        "Successful parse of payload: 2921\n",
        "Successful parse of payload: 2588\n",
        "Successful parse of payload: 2977\n",
        "Successful parse of payload: 3372"
       ]
      },
      {
       "output_type": "stream",
       "stream": "stdout",
       "text": [
        "\n",
        "Successful parse of payload: 2840\n",
        "Successful parse of payload: 2956"
       ]
      },
      {
       "output_type": "stream",
       "stream": "stdout",
       "text": [
        "\n",
        "Successful parse of payload: 1995\n",
        "Successful parse of payload: 1731"
       ]
      },
      {
       "output_type": "stream",
       "stream": "stdout",
       "text": [
        "\n",
        "Successful parse of payload: 2751\n",
        "Successful parse of payload: 3699"
       ]
      },
      {
       "output_type": "stream",
       "stream": "stdout",
       "text": [
        "\n",
        "Successful parse of payload: 2916\n",
        "Successful parse of payload: 2920\n",
        "Successful parse of payload: 1218\n",
        "Successful parse of payload: 338\n",
        "Failed parse of payload: 1098"
       ]
      },
      {
       "output_type": "stream",
       "stream": "stdout",
       "text": [
        "\n",
        "Successful parse of payload: 4100\n",
        "Successful parse of payload: 1688"
       ]
      },
      {
       "output_type": "stream",
       "stream": "stdout",
       "text": [
        "\n",
        "Successful parse of payload: 2385\n",
        "Successful parse of payload: 1963\n",
        "Successful parse of payload: 2761"
       ]
      },
      {
       "output_type": "stream",
       "stream": "stdout",
       "text": [
        "\n",
        "Successful parse of payload: 2853\n",
        "Successful parse of payload: 224"
       ]
      },
      {
       "output_type": "stream",
       "stream": "stdout",
       "text": [
        "\n",
        "Successful parse of payload: 3053\n",
        "Successful parse of payload: 3758\n",
        "Successful parse of payload: 1983\n",
        "Successful parse of payload: 4091\n",
        "Successful parse of payload: 1792\n",
        "Successful parse of payload: 1258"
       ]
      },
      {
       "output_type": "stream",
       "stream": "stdout",
       "text": [
        "\n",
        "Successful parse of payload: 2348"
       ]
      },
      {
       "output_type": "stream",
       "stream": "stdout",
       "text": [
        "\n",
        "Successful parse of payload: 3827"
       ]
      },
      {
       "output_type": "stream",
       "stream": "stdout",
       "text": [
        "\n",
        "Successful parse of payload: 2379"
       ]
      },
      {
       "output_type": "stream",
       "stream": "stdout",
       "text": [
        "\n",
        "Successful parse of payload: 2181"
       ]
      },
      {
       "output_type": "stream",
       "stream": "stdout",
       "text": [
        "\n",
        "Successful parse of payload: 2685\n",
        "Successful parse of payload: 1167\n",
        "Successful parse of payload: 3155"
       ]
      },
      {
       "output_type": "stream",
       "stream": "stdout",
       "text": [
        "\n",
        "Successful parse of payload: 1214\n",
        "Successful parse of payload: 3674\n",
        "Successful parse of payload: 2263\n",
        "Successful parse of payload: 3834"
       ]
      },
      {
       "output_type": "stream",
       "stream": "stdout",
       "text": [
        "\n",
        "Successful parse of payload: 4054"
       ]
      },
      {
       "output_type": "stream",
       "stream": "stdout",
       "text": [
        "\n",
        "Successful parse of payload: 1215\n",
        "Successful parse of payload: 1975\n",
        "Successful parse of payload: 993\n",
        "Successful parse of payload: 283\n",
        "Successful parse of payload: 1545"
       ]
      },
      {
       "output_type": "stream",
       "stream": "stdout",
       "text": [
        "\n",
        "Successful parse of payload: 1958\n",
        "Successful parse of payload: 3951\n",
        "Successful parse of payload: 4122\n",
        "Successful parse of payload: 3998\n",
        "Successful parse of payload: 3887"
       ]
      },
      {
       "output_type": "stream",
       "stream": "stdout",
       "text": [
        "\n",
        "Successful parse of payload: 3406\n",
        "Successful parse of payload: 1231\n",
        "Successful parse of payload: 4292\n",
        "Successful parse of payload: 2776"
       ]
      },
      {
       "output_type": "stream",
       "stream": "stdout",
       "text": [
        "\n",
        "Successful parse of payload: 1595\n",
        "Successful parse of payload: 1886\n",
        "Successful parse of payload: 2816\n",
        "Successful parse of payload: 2047\n",
        "Successful parse of payload: 3906\n",
        "Successful parse of payload: 2041\n",
        "Successful parse of payload: 1198"
       ]
      },
      {
       "output_type": "stream",
       "stream": "stdout",
       "text": [
        "\n",
        "Failed parse of payload: 1134\n",
        "Successful parse of payload: 3652"
       ]
      },
      {
       "output_type": "stream",
       "stream": "stdout",
       "text": [
        "\n",
        "Successful parse of payload: 2433\n",
        "Successful parse of payload: 4309\n",
        "Successful parse of payload: 285\n",
        "Successful parse of payload: 2462"
       ]
      },
      {
       "output_type": "stream",
       "stream": "stdout",
       "text": [
        "\n",
        "Successful parse of payload: 2605\n",
        "Successful parse of payload: 1610\n",
        "Successful parse of payload: 3093\n",
        "Successful parse of payload: 856\n",
        "Successful parse of payload: 3877\n",
        "Successful parse of payload: 4367\n",
        "Successful parse of payload: 317"
       ]
      },
      {
       "output_type": "stream",
       "stream": "stdout",
       "text": [
        "\n",
        "Successful parse of payload: 3252\n",
        "Successful parse of payload: 2888"
       ]
      },
      {
       "output_type": "stream",
       "stream": "stdout",
       "text": [
        "\n",
        "Successful parse of payload: 2031\n",
        "Successful parse of payload: 1641"
       ]
      },
      {
       "output_type": "stream",
       "stream": "stdout",
       "text": [
        "\n",
        "Successful parse of payload: 3871\n",
        "Successful parse of payload: 2858\n",
        "Successful parse of payload: 240"
       ]
      },
      {
       "output_type": "stream",
       "stream": "stdout",
       "text": [
        "\n",
        "Successful parse of payload: 3630\n",
        "Successful parse of payload: 1797\n",
        "Successful parse of payload: 3531\n",
        "Successful parse of payload: 2336\n",
        "Successful parse of payload: 287\n",
        "Successful parse of payload: 2465\n",
        "Successful parse of payload: 1104"
       ]
      },
      {
       "output_type": "stream",
       "stream": "stdout",
       "text": [
        "\n",
        "Successful parse of payload: 953"
       ]
      },
      {
       "output_type": "stream",
       "stream": "stdout",
       "text": [
        "\n",
        "Successful parse of payload: 3293"
       ]
      },
      {
       "output_type": "stream",
       "stream": "stdout",
       "text": [
        "\n",
        "Successful parse of payload: 3608"
       ]
      },
      {
       "output_type": "stream",
       "stream": "stdout",
       "text": [
        "\n",
        "Successful parse of payload: 2470\n",
        "Successful parse of payload: 2371\n",
        "Successful parse of payload: 2712\n",
        "Successful parse of payload: 1894\n",
        "Successful parse of payload: 1584\n",
        "Successful parse of payload: 1870\n",
        "Successful parse of payload: 2452\n",
        "Successful parse of payload: 2773\n",
        "Successful parse of payload: 3546"
       ]
      },
      {
       "output_type": "stream",
       "stream": "stdout",
       "text": [
        "\n",
        "Successful parse of payload: 2062\n",
        "Successful parse of payload: 1168"
       ]
      },
      {
       "output_type": "stream",
       "stream": "stdout",
       "text": [
        "\n",
        "Successful parse of payload: 2891"
       ]
      },
      {
       "output_type": "stream",
       "stream": "stdout",
       "text": [
        "\n",
        "Successful parse of payload: 1992"
       ]
      },
      {
       "output_type": "stream",
       "stream": "stdout",
       "text": [
        "\n",
        "Successful parse of payload: 4330\n",
        "Successful parse of payload: 1627\n",
        "Successful parse of payload: 4174\n",
        "Successful parse of payload: 3158\n",
        "Successful parse of payload: 2926\n",
        "Successful parse of payload: 4249\n",
        "Successful parse of payload: 2911"
       ]
      },
      {
       "output_type": "stream",
       "stream": "stdout",
       "text": [
        "\n",
        "Successful parse of payload: 2051\n",
        "Successful parse of payload: 1264\n",
        "Successful parse of payload: 807\n",
        "Successful parse of payload: 3087"
       ]
      },
      {
       "output_type": "stream",
       "stream": "stdout",
       "text": [
        "\n",
        "Successful parse of payload: 2257\n",
        "Successful parse of payload: 1738\n",
        "Successful parse of payload: 3467\n",
        "Failed parse of payload: 1207\n",
        "Successful parse of payload: 1088\n",
        "Successful parse of payload: 2279"
       ]
      },
      {
       "output_type": "stream",
       "stream": "stdout",
       "text": [
        "\n",
        "Successful parse of payload: 2811\n",
        "Successful parse of payload: 4231\n",
        "Successful parse of payload: 2009\n",
        "Successful parse of payload: 1159\n",
        "Successful parse of payload: 3822"
       ]
      },
      {
       "output_type": "stream",
       "stream": "stdout",
       "text": [
        "\n",
        "Successful parse of payload: 3209\n",
        "Successful parse of payload: 2693"
       ]
      },
      {
       "output_type": "stream",
       "stream": "stdout",
       "text": [
        "\n",
        "Successful parse of payload: 926\n",
        "Failed parse of payload: 3470"
       ]
      },
      {
       "output_type": "stream",
       "stream": "stdout",
       "text": [
        "\n",
        "Successful parse of payload: 1971\n",
        "Successful parse of payload: 909\n",
        "Successful parse of payload: 4335\n",
        "Successful parse of payload: 4250"
       ]
      },
      {
       "output_type": "stream",
       "stream": "stdout",
       "text": [
        "\n",
        "Successful parse of payload: 1829\n",
        "Successful parse of payload: 2164\n",
        "Successful parse of payload: 3497"
       ]
      },
      {
       "output_type": "stream",
       "stream": "stdout",
       "text": [
        "\n",
        "Successful parse of payload: 2268\n",
        "Successful parse of payload: 4157"
       ]
      },
      {
       "output_type": "stream",
       "stream": "stdout",
       "text": [
        "\n",
        "Successful parse of payload: 3629\n",
        "Successful parse of payload: 1091"
       ]
      },
      {
       "output_type": "stream",
       "stream": "stdout",
       "text": [
        "\n",
        "Successful parse of payload: 3347\n",
        "Successful parse of payload: 3020\n",
        "Successful parse of payload: 2484"
       ]
      },
      {
       "output_type": "stream",
       "stream": "stdout",
       "text": [
        "\n",
        "Successful parse of payload: 2705\n",
        "Successful parse of payload: 3959"
       ]
      },
      {
       "output_type": "stream",
       "stream": "stdout",
       "text": [
        "\n",
        "Successful parse of payload: 3874\n",
        "Successful parse of payload: 2301\n",
        "Successful parse of payload: 2099"
       ]
      },
      {
       "output_type": "stream",
       "stream": "stdout",
       "text": [
        "\n",
        "Successful parse of payload: 2109\n",
        "Successful parse of payload: 4259\n",
        "Successful parse of payload: 1626\n",
        "Successful parse of payload: 4030\n",
        "Successful parse of payload: 2273\n",
        "Successful parse of payload: 295\n",
        "Successful parse of payload: 2104\n",
        "Failed parse of payload: 364\n",
        "Successful parse of payload: 2989"
       ]
      },
      {
       "output_type": "stream",
       "stream": "stdout",
       "text": [
        "\n",
        "Successful parse of payload: 2518\n",
        "Successful parse of payload: 2199\n",
        "Successful parse of payload: 3589"
       ]
      },
      {
       "output_type": "stream",
       "stream": "stdout",
       "text": [
        "\n",
        "Successful parse of payload: 2487\n",
        "Successful parse of payload: 1660\n",
        "Successful parse of payload: 3934\n",
        "Successful parse of payload: 771"
       ]
      },
      {
       "output_type": "stream",
       "stream": "stdout",
       "text": [
        "\n",
        "Successful parse of payload: 2508"
       ]
      },
      {
       "output_type": "stream",
       "stream": "stdout",
       "text": [
        "\n",
        "Successful parse of payload: 887"
       ]
      },
      {
       "output_type": "stream",
       "stream": "stdout",
       "text": [
        "\n",
        "Successful parse of payload: 3821\n",
        "Successful parse of payload: 1581\n",
        "Successful parse of payload: 2890"
       ]
      },
      {
       "output_type": "stream",
       "stream": "stdout",
       "text": [
        "\n",
        "Successful parse of payload: 1684\n",
        "Successful parse of payload: 2586\n",
        "Successful parse of payload: 4378"
       ]
      },
      {
       "output_type": "stream",
       "stream": "stdout",
       "text": [
        "\n",
        "Successful parse of payload: 1636\n",
        "Successful parse of payload: 1845\n",
        "Successful parse of payload: 332\n",
        "Successful parse of payload: 1925\n",
        "Successful parse of payload: 4115"
       ]
      },
      {
       "output_type": "stream",
       "stream": "stdout",
       "text": [
        "\n",
        "Successful parse of payload: 4173"
       ]
      },
      {
       "output_type": "stream",
       "stream": "stdout",
       "text": [
        "\n",
        "Successful parse of payload: 2101"
       ]
      },
      {
       "output_type": "stream",
       "stream": "stdout",
       "text": [
        "\n",
        "Successful parse of payload: 2592"
       ]
      },
      {
       "output_type": "stream",
       "stream": "stdout",
       "text": [
        "\n",
        "Successful parse of payload: 2223\n",
        "Successful parse of payload: 2093\n",
        "Successful parse of payload: 225\n",
        "Successful parse of payload: 3988\n",
        "Successful parse of payload: 1727"
       ]
      },
      {
       "output_type": "stream",
       "stream": "stdout",
       "text": [
        "\n",
        "Successful parse of payload: 3916\n",
        "Successful parse of payload: 1999\n",
        "Successful parse of payload: 279\n",
        "Successful parse of payload: 2036\n",
        "Successful parse of payload: 3683"
       ]
      },
      {
       "output_type": "stream",
       "stream": "stdout",
       "text": [
        "\n",
        "Successful parse of payload: 4427\n",
        "Successful parse of payload: 3975"
       ]
      },
      {
       "output_type": "stream",
       "stream": "stdout",
       "text": [
        "\n",
        "Successful parse of payload: 1720\n",
        "Successful parse of payload: 3638\n",
        "Successful parse of payload: 3932"
       ]
      },
      {
       "output_type": "stream",
       "stream": "stdout",
       "text": [
        "\n",
        "Successful parse of payload: 936\n",
        "Successful parse of payload: 4264"
       ]
      },
      {
       "output_type": "stream",
       "stream": "stdout",
       "text": [
        "\n",
        "Successful parse of payload: 1630"
       ]
      },
      {
       "output_type": "stream",
       "stream": "stdout",
       "text": [
        "\n",
        "Successful parse of payload: 1842"
       ]
      },
      {
       "output_type": "stream",
       "stream": "stdout",
       "text": [
        "\n",
        "Successful parse of payload: 2191\n",
        "Successful parse of payload: 1281\n",
        "Successful parse of payload: 2156\n",
        "Successful parse of payload: 2231\n",
        "Successful parse of payload: 2364\n",
        "Successful parse of payload: 2718\n",
        "Successful parse of payload: 2480\n",
        "Successful parse of payload: 4431"
       ]
      },
      {
       "output_type": "stream",
       "stream": "stdout",
       "text": [
        "\n",
        "Successful parse of payload: 3211\n",
        "Successful parse of payload: 1306"
       ]
      },
      {
       "output_type": "stream",
       "stream": "stdout",
       "text": [
        "\n",
        "Successful parse of payload: 3272\n",
        "Successful parse of payload: 3696\n",
        "Successful parse of payload: 2736\n",
        "Successful parse of payload: 2791"
       ]
      },
      {
       "output_type": "stream",
       "stream": "stdout",
       "text": [
        "\n",
        "Successful parse of payload: 1544\n",
        "Successful parse of payload: 2910\n",
        "Successful parse of payload: 4177\n",
        "Successful parse of payload: 4234\n",
        "Successful parse of payload: 4429\n",
        "Successful parse of payload: 3389\n",
        "Successful parse of payload: 1988\n",
        "Successful parse of payload: 4393"
       ]
      },
      {
       "output_type": "stream",
       "stream": "stdout",
       "text": [
        "\n",
        "Successful parse of payload: 1944"
       ]
      },
      {
       "output_type": "stream",
       "stream": "stdout",
       "text": [
        "\n",
        "Successful parse of payload: 4394\n",
        "Successful parse of payload: 1249\n",
        "Successful parse of payload: 3117\n",
        "Successful parse of payload: 3298"
       ]
      },
      {
       "output_type": "stream",
       "stream": "stdout",
       "text": [
        "\n",
        "Successful parse of payload: 1680"
       ]
      },
      {
       "output_type": "stream",
       "stream": "stdout",
       "text": [
        "\n",
        "Successful parse of payload: 1939\n",
        "Successful parse of payload: 2938\n",
        "Successful parse of payload: 2415\n",
        "Successful parse of payload: 2015"
       ]
      },
      {
       "output_type": "stream",
       "stream": "stdout",
       "text": [
        "\n",
        "Successful parse of payload: 3477\n",
        "Successful parse of payload: 3819"
       ]
      },
      {
       "output_type": "stream",
       "stream": "stdout",
       "text": [
        "\n",
        "Successful parse of payload: 1456\n",
        "Failed parse of payload: 2388\n",
        "Successful parse of payload: 3956\n",
        "Successful parse of payload: 314\n",
        "Successful parse of payload: 1592\n",
        "Successful parse of payload: 1228\n",
        "Successful parse of payload: 4346\n",
        "Successful parse of payload: 2211\n",
        "Successful parse of payload: 3810\n",
        "Successful parse of payload: 324"
       ]
      },
      {
       "output_type": "stream",
       "stream": "stdout",
       "text": [
        "\n",
        "Successful parse of payload: 2787\n",
        "Successful parse of payload: 4208\n",
        "Successful parse of payload: 3610"
       ]
      },
      {
       "output_type": "stream",
       "stream": "stdout",
       "text": [
        "\n",
        "Successful parse of payload: 2556\n",
        "Successful parse of payload: 3664\n",
        "Successful parse of payload: 894"
       ]
      },
      {
       "output_type": "stream",
       "stream": "stdout",
       "text": [
        "\n",
        "Successful parse of payload: 339\n",
        "Successful parse of payload: 3458"
       ]
      },
      {
       "output_type": "stream",
       "stream": "stdout",
       "text": [
        "\n",
        "Successful parse of payload: 2978\n",
        "Successful parse of payload: 3518\n",
        "Successful parse of payload: 4281\n",
        "Successful parse of payload: 1211\n",
        "Successful parse of payload: 3541"
       ]
      },
      {
       "output_type": "stream",
       "stream": "stdout",
       "text": [
        "\n",
        "Failed parse of payload: 3439"
       ]
      },
      {
       "output_type": "stream",
       "stream": "stdout",
       "text": [
        "\n",
        "Failed parse of payload: 2033\n",
        "Successful parse of payload: 1966\n",
        "Successful parse of payload: 1841\n",
        "Successful parse of payload: 4232"
       ]
      },
      {
       "output_type": "stream",
       "stream": "stdout",
       "text": [
        "\n",
        "Successful parse of payload: 2599"
       ]
      },
      {
       "output_type": "stream",
       "stream": "stdout",
       "text": [
        "\n",
        "Successful parse of payload: 1307\n",
        "Successful parse of payload: 2519\n",
        "Successful parse of payload: 1681\n",
        "Successful parse of payload: 4070"
       ]
      },
      {
       "output_type": "stream",
       "stream": "stdout",
       "text": [
        "\n",
        "Successful parse of payload: 4220"
       ]
      },
      {
       "output_type": "stream",
       "stream": "stdout",
       "text": [
        "\n",
        "Successful parse of payload: 2796\n",
        "Successful parse of payload: 1634\n",
        "Successful parse of payload: 2003\n",
        "Successful parse of payload: 3011"
       ]
      },
      {
       "output_type": "stream",
       "stream": "stdout",
       "text": [
        "\n",
        "Successful parse of payload: 3918\n",
        "Successful parse of payload: 1965\n",
        "Failed parse of payload: 4212"
       ]
      },
      {
       "output_type": "stream",
       "stream": "stdout",
       "text": [
        "\n",
        "Successful parse of payload: 1296"
       ]
      },
      {
       "output_type": "stream",
       "stream": "stdout",
       "text": [
        "\n",
        "Successful parse of payload: 2639\n",
        "Successful parse of payload: 3176\n",
        "Successful parse of payload: 3694"
       ]
      },
      {
       "output_type": "stream",
       "stream": "stdout",
       "text": [
        "\n",
        "Successful parse of payload: 1230\n",
        "Successful parse of payload: 4353"
       ]
      },
      {
       "output_type": "stream",
       "stream": "stdout",
       "text": [
        "\n",
        "Successful parse of payload: 2855\n",
        "Successful parse of payload: 2847"
       ]
      },
      {
       "output_type": "stream",
       "stream": "stdout",
       "text": [
        "\n",
        "Successful parse of payload: 3069\n",
        "Successful parse of payload: 2729\n",
        "Successful parse of payload: 4134"
       ]
      },
      {
       "output_type": "stream",
       "stream": "stdout",
       "text": [
        "\n",
        "Successful parse of payload: 3364\n",
        "Successful parse of payload: 286\n",
        "Successful parse of payload: 893\n",
        "Successful parse of payload: 2559\n",
        "Successful parse of payload: 3227\n",
        "Successful parse of payload: 1008"
       ]
      },
      {
       "output_type": "stream",
       "stream": "stdout",
       "text": [
        "\n",
        "Successful parse of payload: 861\n",
        "Successful parse of payload: 2080\n",
        "Failed parse of payload: 4421"
       ]
      },
      {
       "output_type": "stream",
       "stream": "stdout",
       "text": [
        "\n",
        "Successful parse of payload: 1835\n",
        "Successful parse of payload: 3357"
       ]
      },
      {
       "output_type": "stream",
       "stream": "stdout",
       "text": [
        "\n",
        "Successful parse of payload: 1130\n",
        "Successful parse of payload: 2669"
       ]
      },
      {
       "output_type": "stream",
       "stream": "stdout",
       "text": [
        "\n",
        "Successful parse of payload: 2313\n",
        "Successful parse of payload: 1917"
       ]
      },
      {
       "output_type": "stream",
       "stream": "stdout",
       "text": [
        "\n",
        "Successful parse of payload: 3383\n",
        "Successful parse of payload: 1504"
       ]
      },
      {
       "output_type": "stream",
       "stream": "stdout",
       "text": [
        "\n",
        "Successful parse of payload: 2203\n",
        "Successful parse of payload: 2284\n",
        "Successful parse of payload: 3228\n",
        "Successful parse of payload: 3049"
       ]
      },
      {
       "output_type": "stream",
       "stream": "stdout",
       "text": [
        "\n",
        "Successful parse of payload: 3529\n",
        "Successful parse of payload: 1111\n",
        "Successful parse of payload: 1604"
       ]
      },
      {
       "output_type": "stream",
       "stream": "stdout",
       "text": [
        "\n",
        "Successful parse of payload: 3099\n",
        "Successful parse of payload: 1601"
       ]
      },
      {
       "output_type": "stream",
       "stream": "stdout",
       "text": [
        "\n",
        "Successful parse of payload: 3948"
       ]
      },
      {
       "output_type": "stream",
       "stream": "stdout",
       "text": [
        "\n",
        "Successful parse of payload: 2573\n",
        "Successful parse of payload: 3368\n",
        "Successful parse of payload: 4339\n",
        "Successful parse of payload: 3582\n",
        "Successful parse of payload: 2426\n",
        "Successful parse of payload: 3279\n",
        "Successful parse of payload: 1166\n",
        "Successful parse of payload: 1726\n",
        "Successful parse of payload: 3096\n",
        "Successful parse of payload: 2171\n",
        "Successful parse of payload: 4043\n",
        "Successful parse of payload: 3343"
       ]
      },
      {
       "output_type": "stream",
       "stream": "stdout",
       "text": [
        "\n",
        "Successful parse of payload: 3860\n",
        "Successful parse of payload: 4293\n",
        "Successful parse of payload: 3853"
       ]
      },
      {
       "output_type": "stream",
       "stream": "stdout",
       "text": [
        "\n",
        "Successful parse of payload: 3754"
       ]
      },
      {
       "output_type": "stream",
       "stream": "stdout",
       "text": [
        "\n",
        "Successful parse of payload: 3106\n",
        "Successful parse of payload: 3584\n",
        "Successful parse of payload: 3089\n",
        "Successful parse of payload: 1664\n",
        "Successful parse of payload: 3090\n",
        "Successful parse of payload: 3248\n",
        "Successful parse of payload: 864\n",
        "Successful parse of payload: 3989\n",
        "Successful parse of payload: 2345"
       ]
      },
      {
       "output_type": "stream",
       "stream": "stdout",
       "text": [
        "\n",
        "Successful parse of payload: 267\n",
        "Successful parse of payload: 2306\n",
        "Successful parse of payload: 3291"
       ]
      },
      {
       "output_type": "stream",
       "stream": "stdout",
       "text": [
        "\n",
        "Successful parse of payload: 1285\n",
        "Successful parse of payload: 2689\n",
        "Successful parse of payload: 2640\n",
        "Successful parse of payload: 2084\n",
        "Successful parse of payload: 1968\n",
        "Successful parse of payload: 3607\n",
        "Successful parse of payload: 2342\n",
        "Successful parse of payload: 3796"
       ]
      },
      {
       "output_type": "stream",
       "stream": "stdout",
       "text": [
        "\n",
        "Successful parse of payload: 1725\n",
        "Successful parse of payload: 3004\n",
        "Successful parse of payload: 3891\n",
        "Successful parse of payload: 4129"
       ]
      },
      {
       "output_type": "stream",
       "stream": "stdout",
       "text": [
        "\n",
        "Successful parse of payload: 3288\n",
        "Successful parse of payload: 2529"
       ]
      },
      {
       "output_type": "stream",
       "stream": "stdout",
       "text": [
        "\n",
        "Successful parse of payload: 4316\n",
        "Successful parse of payload: 3309\n",
        "Failed parse of payload: 922"
       ]
      },
      {
       "output_type": "stream",
       "stream": "stdout",
       "text": [
        "\n",
        "Successful parse of payload: 1742\n",
        "Successful parse of payload: 2889\n",
        "Successful parse of payload: 810\n",
        "Successful parse of payload: 2468\n",
        "Successful parse of payload: 1289\n",
        "Successful parse of payload: 2540"
       ]
      },
      {
       "output_type": "stream",
       "stream": "stdout",
       "text": [
        "\n",
        "Successful parse of payload: 3865\n",
        "Successful parse of payload: 2057\n",
        "Failed parse of payload: 904"
       ]
      },
      {
       "output_type": "stream",
       "stream": "stdout",
       "text": [
        "\n",
        "Successful parse of payload: 4053\n",
        "Successful parse of payload: 4341\n",
        "Successful parse of payload: 2347\n",
        "Successful parse of payload: 3302\n",
        "Successful parse of payload: 2341"
       ]
      },
      {
       "output_type": "stream",
       "stream": "stdout",
       "text": [
        "\n",
        "Successful parse of payload: 1172\n",
        "Successful parse of payload: 2578\n",
        "Successful parse of payload: 3639"
       ]
      },
      {
       "output_type": "stream",
       "stream": "stdout",
       "text": [
        "\n",
        "Successful parse of payload: 2030\n",
        "Successful parse of payload: 4023\n",
        "Successful parse of payload: 4013\n",
        "Successful parse of payload: 2129"
       ]
      },
      {
       "output_type": "stream",
       "stream": "stdout",
       "text": [
        "\n",
        "Successful parse of payload: 2343\n",
        "Successful parse of payload: 4224\n",
        "Successful parse of payload: 1805\n",
        "Successful parse of payload: 2692\n",
        "Successful parse of payload: 4160\n",
        "Failed parse of payload: 3478"
       ]
      },
      {
       "output_type": "stream",
       "stream": "stdout",
       "text": [
        "\n",
        "Successful parse of payload: 2417\n",
        "Successful parse of payload: 293\n",
        "Successful parse of payload: 2039\n",
        "Successful parse of payload: 1938\n",
        "Successful parse of payload: 2558\n",
        "Successful parse of payload: 4038\n",
        "Successful parse of payload: 916\n",
        "Successful parse of payload: 3112\n",
        "Successful parse of payload: 863\n",
        "Successful parse of payload: 2461\n",
        "Successful parse of payload: 934"
       ]
      },
      {
       "output_type": "stream",
       "stream": "stdout",
       "text": [
        "\n",
        "Successful parse of payload: 3978"
       ]
      },
      {
       "output_type": "stream",
       "stream": "stdout",
       "text": [
        "\n",
        "Successful parse of payload: 3483\n",
        "Successful parse of payload: 2008\n",
        "Successful parse of payload: 2494"
       ]
      },
      {
       "output_type": "stream",
       "stream": "stdout",
       "text": [
        "\n",
        "Successful parse of payload: 3449\n",
        "Successful parse of payload: 2854\n",
        "Successful parse of payload: 2246\n",
        "Successful parse of payload: 1216\n",
        "Successful parse of payload: 1762"
       ]
      },
      {
       "output_type": "stream",
       "stream": "stdout",
       "text": [
        "\n",
        "Successful parse of payload: 2351"
       ]
      },
      {
       "output_type": "stream",
       "stream": "stdout",
       "text": [
        "\n",
        "Successful parse of payload: 1128"
       ]
      },
      {
       "output_type": "stream",
       "stream": "stdout",
       "text": [
        "\n",
        "Successful parse of payload: 3770"
       ]
      },
      {
       "output_type": "stream",
       "stream": "stdout",
       "text": [
        "\n",
        "Successful parse of payload: 3649"
       ]
      },
      {
       "output_type": "stream",
       "stream": "stdout",
       "text": [
        "\n",
        "Successful parse of payload: 3294\n",
        "Successful parse of payload: 799"
       ]
      },
      {
       "output_type": "stream",
       "stream": "stdout",
       "text": [
        "\n",
        "Successful parse of payload: 2550\n",
        "Successful parse of payload: 1795\n",
        "Failed parse of payload: 1455"
       ]
      },
      {
       "output_type": "stream",
       "stream": "stdout",
       "text": [
        "\n",
        "Successful parse of payload: 2161\n",
        "Successful parse of payload: 2259\n",
        "Successful parse of payload: 2061"
       ]
      },
      {
       "output_type": "stream",
       "stream": "stdout",
       "text": [
        "\n",
        "Successful parse of payload: 1699\n",
        "Successful parse of payload: 2437\n",
        "Successful parse of payload: 2933"
       ]
      },
      {
       "output_type": "stream",
       "stream": "stdout",
       "text": [
        "\n",
        "Successful parse of payload: 4239\n",
        "Successful parse of payload: 3425"
       ]
      },
      {
       "output_type": "stream",
       "stream": "stdout",
       "text": [
        "\n",
        "Successful parse of payload: 335\n",
        "Successful parse of payload: 4210\n",
        "Successful parse of payload: 3075\n",
        "Successful parse of payload: 2593"
       ]
      },
      {
       "output_type": "stream",
       "stream": "stdout",
       "text": [
        "\n",
        "Successful parse of payload: 2710\n",
        "Successful parse of payload: 2691\n",
        "Successful parse of payload: 3363\n",
        "Successful parse of payload: 2991"
       ]
      },
      {
       "output_type": "stream",
       "stream": "stdout",
       "text": [
        "\n",
        "Successful parse of payload: 3780"
       ]
      },
      {
       "output_type": "stream",
       "stream": "stdout",
       "text": [
        "\n",
        "Successful parse of payload: 3373\n",
        "Successful parse of payload: 3420"
       ]
      },
      {
       "output_type": "stream",
       "stream": "stdout",
       "text": [
        "\n",
        "Successful parse of payload: 3892\n",
        "Failed parse of payload: 4417\n",
        "Successful parse of payload: 1989"
       ]
      },
      {
       "output_type": "stream",
       "stream": "stdout",
       "text": [
        "\n",
        "Successful parse of payload: 4121\n",
        "Successful parse of payload: 2013\n",
        "Successful parse of payload: 3846\n",
        "Successful parse of payload: 4071\n",
        "Successful parse of payload: 340\n",
        "Successful parse of payload: 2829\n",
        "Successful parse of payload: 4058"
       ]
      },
      {
       "output_type": "stream",
       "stream": "stdout",
       "text": [
        "\n",
        "Successful parse of payload: 4288\n",
        "Successful parse of payload: 1265\n",
        "Successful parse of payload: 4434\n",
        "Successful parse of payload: 3583\n",
        "Successful parse of payload: 3061"
       ]
      },
      {
       "output_type": "stream",
       "stream": "stdout",
       "text": [
        "\n",
        "Successful parse of payload: 2827\n",
        "Successful parse of payload: 3763\n",
        "Successful parse of payload: 3990"
       ]
      },
      {
       "output_type": "stream",
       "stream": "stdout",
       "text": [
        "\n",
        "Successful parse of payload: 3060\n",
        "Successful parse of payload: 2183\n",
        "Successful parse of payload: 3218\n",
        "Successful parse of payload: 3704\n",
        "Successful parse of payload: 2979"
       ]
      },
      {
       "output_type": "stream",
       "stream": "stdout",
       "text": [
        "\n",
        "Successful parse of payload: 318\n",
        "Successful parse of payload: 2650\n",
        "Successful parse of payload: 3062\n",
        "Successful parse of payload: 1110\n",
        "Successful parse of payload: 3187"
       ]
      },
      {
       "output_type": "stream",
       "stream": "stdout",
       "text": [
        "\n",
        "Successful parse of payload: 3251\n",
        "Successful parse of payload: 3733"
       ]
      },
      {
       "output_type": "stream",
       "stream": "stdout",
       "text": [
        "\n",
        "Successful parse of payload: 232\n",
        "Successful parse of payload: 2501\n",
        "Successful parse of payload: 2280\n",
        "Successful parse of payload: 3326\n",
        "Successful parse of payload: 4258"
       ]
      },
      {
       "output_type": "stream",
       "stream": "stdout",
       "text": [
        "\n",
        "Successful parse of payload: 1273\n",
        "Successful parse of payload: 3873\n",
        "Successful parse of payload: 2758\n",
        "Successful parse of payload: 871\n",
        "Successful parse of payload: 2563\n",
        "Successful parse of payload: 2027\n",
        "Successful parse of payload: 2622\n",
        "Successful parse of payload: 2042\n",
        "Successful parse of payload: 3667"
       ]
      },
      {
       "output_type": "stream",
       "stream": "stdout",
       "text": [
        "\n",
        "Successful parse of payload: 4009\n",
        "Successful parse of payload: 1773\n",
        "Successful parse of payload: 2983"
       ]
      },
      {
       "output_type": "stream",
       "stream": "stdout",
       "text": [
        "\n",
        "Successful parse of payload: 2078"
       ]
      },
      {
       "output_type": "stream",
       "stream": "stdout",
       "text": [
        "\n",
        "Successful parse of payload: 3318\n",
        "Successful parse of payload: 3727"
       ]
      },
      {
       "output_type": "stream",
       "stream": "stdout",
       "text": [
        "\n",
        "Successful parse of payload: 3765\n",
        "Successful parse of payload: 3844\n",
        "Successful parse of payload: 4055"
       ]
      },
      {
       "output_type": "stream",
       "stream": "stdout",
       "text": [
        "\n",
        "Successful parse of payload: 2874\n",
        "Successful parse of payload: 4184\n",
        "Successful parse of payload: 931"
       ]
      },
      {
       "output_type": "stream",
       "stream": "stdout",
       "text": [
        "\n",
        "Successful parse of payload: 1825\n",
        "Successful parse of payload: 1192\n",
        "Successful parse of payload: 4083\n",
        "Successful parse of payload: 3656"
       ]
      },
      {
       "output_type": "stream",
       "stream": "stdout",
       "text": [
        "\n",
        "Successful parse of payload: 3172\n",
        "Successful parse of payload: 3869"
       ]
      },
      {
       "output_type": "stream",
       "stream": "stdout",
       "text": [
        "\n",
        "Successful parse of payload: 1163\n",
        "Successful parse of payload: 839\n",
        "Successful parse of payload: 2333\n",
        "Successful parse of payload: 2722\n",
        "Successful parse of payload: 834\n",
        "Successful parse of payload: 3073\n",
        "Successful parse of payload: 3395\n",
        "Successful parse of payload: 4090"
       ]
      },
      {
       "output_type": "stream",
       "stream": "stdout",
       "text": [
        "\n",
        "Successful parse of payload: 2527\n",
        "Successful parse of payload: 3677"
       ]
      },
      {
       "output_type": "stream",
       "stream": "stdout",
       "text": [
        "\n",
        "Successful parse of payload: 4435"
       ]
      },
      {
       "output_type": "stream",
       "stream": "stdout",
       "text": [
        "\n",
        "Successful parse of payload: 2365\n",
        "Successful parse of payload: 1685\n",
        "Successful parse of payload: 3086\n",
        "Successful parse of payload: 233\n",
        "Successful parse of payload: 3164\n",
        "Successful parse of payload: 3410"
       ]
      },
      {
       "output_type": "stream",
       "stream": "stdout",
       "text": [
        "\n",
        "Successful parse of payload: 907"
       ]
      },
      {
       "output_type": "stream",
       "stream": "stdout",
       "text": [
        "\n",
        "Successful parse of payload: 841\n",
        "Successful parse of payload: 2096\n",
        "Successful parse of payload: 4241"
       ]
      },
      {
       "output_type": "stream",
       "stream": "stdout",
       "text": [
        "\n",
        "Successful parse of payload: 3459\n",
        "Successful parse of payload: 2666\n",
        "Successful parse of payload: 2321\n",
        "Failed parse of payload: 2440\n",
        "Failed parse of payload: 2893\n",
        "Successful parse of payload: 304\n",
        "Successful parse of payload: 1861"
       ]
      },
      {
       "output_type": "stream",
       "stream": "stdout",
       "text": [
        "\n",
        "Successful parse of payload: 2734"
       ]
      },
      {
       "output_type": "stream",
       "stream": "stdout",
       "text": [
        "\n",
        "Successful parse of payload: 2545\n",
        "Failed parse of payload: 1903\n",
        "Successful parse of payload: 355\n",
        "Successful parse of payload: 2073\n",
        "Successful parse of payload: 3036"
       ]
      },
      {
       "output_type": "stream",
       "stream": "stdout",
       "text": [
        "\n",
        "Successful parse of payload: 3894\n",
        "Successful parse of payload: 3067\n",
        "Successful parse of payload: 1081"
       ]
      },
      {
       "output_type": "stream",
       "stream": "stdout",
       "text": [
        "\n",
        "Successful parse of payload: 2372\n",
        "Successful parse of payload: 2330\n",
        "Successful parse of payload: 1270\n",
        "Failed parse of payload: 3360"
       ]
      },
      {
       "output_type": "stream",
       "stream": "stdout",
       "text": [
        "\n",
        "Successful parse of payload: 872\n",
        "Successful parse of payload: 1663\n",
        "Successful parse of payload: 4404"
       ]
      },
      {
       "output_type": "stream",
       "stream": "stdout",
       "text": [
        "\n",
        "Successful parse of payload: 1309\n",
        "Successful parse of payload: 2146\n",
        "Successful parse of payload: 2135"
       ]
      },
      {
       "output_type": "stream",
       "stream": "stdout",
       "text": [
        "\n",
        "Successful parse of payload: 4080"
       ]
      },
      {
       "output_type": "stream",
       "stream": "stdout",
       "text": [
        "\n",
        "Successful parse of payload: 3985\n",
        "Successful parse of payload: 2404\n",
        "Successful parse of payload: 3522\n",
        "Successful parse of payload: 1107"
       ]
      },
      {
       "output_type": "stream",
       "stream": "stdout",
       "text": [
        "\n",
        "Successful parse of payload: 1698\n",
        "Successful parse of payload: 2478"
       ]
      },
      {
       "output_type": "stream",
       "stream": "stdout",
       "text": [
        "\n",
        "Successful parse of payload: 1920\n",
        "Successful parse of payload: 4026\n",
        "Successful parse of payload: 1239"
       ]
      },
      {
       "output_type": "stream",
       "stream": "stdout",
       "text": [
        "\n",
        "Successful parse of payload: 2247\n",
        "Successful parse of payload: 1295\n",
        "Successful parse of payload: 2387\n",
        "Successful parse of payload: 3361"
       ]
      },
      {
       "output_type": "stream",
       "stream": "stdout",
       "text": [
        "\n",
        "Successful parse of payload: 3140\n",
        "Successful parse of payload: 4166\n",
        "Successful parse of payload: 2045\n",
        "Successful parse of payload: 3239\n",
        "Successful parse of payload: 1622\n",
        "Successful parse of payload: 4113"
       ]
      },
      {
       "output_type": "stream",
       "stream": "stdout",
       "text": [
        "\n",
        "Successful parse of payload: 2831"
       ]
      },
      {
       "output_type": "stream",
       "stream": "stdout",
       "text": [
        "\n",
        "Successful parse of payload: 3927\n",
        "Successful parse of payload: 4007\n",
        "Successful parse of payload: 3568\n",
        "Successful parse of payload: 3396"
       ]
      },
      {
       "output_type": "stream",
       "stream": "stdout",
       "text": [
        "\n",
        "Successful parse of payload: 1233\n",
        "Successful parse of payload: 3042"
       ]
      },
      {
       "output_type": "stream",
       "stream": "stdout",
       "text": [
        "\n",
        "Successful parse of payload: 2924\n",
        "Successful parse of payload: 2236\n",
        "Successful parse of payload: 1710\n",
        "Successful parse of payload: 2597"
       ]
      },
      {
       "output_type": "stream",
       "stream": "stdout",
       "text": [
        "\n",
        "Successful parse of payload: 1202\n",
        "Successful parse of payload: 1872\n",
        "Successful parse of payload: 3197\n",
        "Successful parse of payload: 3496"
       ]
      },
      {
       "output_type": "stream",
       "stream": "stdout",
       "text": [
        "\n",
        "Successful parse of payload: 2865\n",
        "Successful parse of payload: 3783"
       ]
      },
      {
       "output_type": "stream",
       "stream": "stdout",
       "text": [
        "\n",
        "Successful parse of payload: 1800"
       ]
      },
      {
       "output_type": "stream",
       "stream": "stdout",
       "text": [
        "\n",
        "Successful parse of payload: 3757"
       ]
      },
      {
       "output_type": "stream",
       "stream": "stdout",
       "text": [
        "\n",
        "Successful parse of payload: 4196"
       ]
      },
      {
       "output_type": "stream",
       "stream": "stdout",
       "text": [
        "\n",
        "Successful parse of payload: 1891\n",
        "Successful parse of payload: 270\n",
        "Successful parse of payload: 3320"
       ]
      },
      {
       "output_type": "stream",
       "stream": "stdout",
       "text": [
        "\n",
        "Successful parse of payload: 1904"
       ]
      },
      {
       "output_type": "stream",
       "stream": "stdout",
       "text": [
        "\n",
        "Successful parse of payload: 2133\n",
        "Failed parse of payload: 2339"
       ]
      },
      {
       "output_type": "stream",
       "stream": "stdout",
       "text": [
        "\n",
        "Successful parse of payload: 1833\n",
        "Successful parse of payload: 4179\n",
        "Successful parse of payload: 3334"
       ]
      },
      {
       "output_type": "stream",
       "stream": "stdout",
       "text": [
        "\n",
        "Successful parse of payload: 890\n",
        "Successful parse of payload: 4044"
       ]
      },
      {
       "output_type": "stream",
       "stream": "stdout",
       "text": [
        "\n",
        "Successful parse of payload: 2777\n",
        "Successful parse of payload: 2714\n",
        "Successful parse of payload: 2997\n",
        "Successful parse of payload: 3492"
       ]
      },
      {
       "output_type": "stream",
       "stream": "stdout",
       "text": [
        "\n",
        "Successful parse of payload: 4084\n",
        "Successful parse of payload: 3066\n",
        "Successful parse of payload: 3798\n",
        "Successful parse of payload: 2973\n",
        "Successful parse of payload: 3902\n",
        "Successful parse of payload: 276\n",
        "Successful parse of payload: 3280\n",
        "Successful parse of payload: 2638"
       ]
      },
      {
       "output_type": "stream",
       "stream": "stdout",
       "text": [
        "\n",
        "Successful parse of payload: 3967\n",
        "Successful parse of payload: 3746"
       ]
      },
      {
       "output_type": "stream",
       "stream": "stdout",
       "text": [
        "\n",
        "Successful parse of payload: 4155\n",
        "Successful parse of payload: 3717"
       ]
      },
      {
       "output_type": "stream",
       "stream": "stdout",
       "text": [
        "\n",
        "Successful parse of payload: 2981\n",
        "Successful parse of payload: 1950\n",
        "Successful parse of payload: 3102\n",
        "Successful parse of payload: 2114\n",
        "Successful parse of payload: 787\n",
        "Successful parse of payload: 2664"
       ]
      },
      {
       "output_type": "stream",
       "stream": "stdout",
       "text": [
        "\n",
        "Successful parse of payload: 3893\n",
        "Successful parse of payload: 1757\n",
        "Successful parse of payload: 4267"
       ]
      },
      {
       "output_type": "stream",
       "stream": "stdout",
       "text": [
        "\n",
        "Successful parse of payload: 2328\n",
        "Successful parse of payload: 2119"
       ]
      },
      {
       "output_type": "stream",
       "stream": "stdout",
       "text": [
        "\n",
        "Successful parse of payload: 1749\n",
        "Successful parse of payload: 3616"
       ]
      },
      {
       "output_type": "stream",
       "stream": "stdout",
       "text": [
        "\n",
        "Successful parse of payload: 1619\n",
        "Successful parse of payload: 1048"
       ]
      },
      {
       "output_type": "stream",
       "stream": "stdout",
       "text": [
        "\n",
        "Successful parse of payload: 2411\n",
        "Successful parse of payload: 2986\n",
        "Successful parse of payload: 2950"
       ]
      },
      {
       "output_type": "stream",
       "stream": "stdout",
       "text": [
        "\n",
        "Successful parse of payload: 3611\n",
        "Successful parse of payload: 3997"
       ]
      },
      {
       "output_type": "stream",
       "stream": "stdout",
       "text": [
        "\n",
        "Successful parse of payload: 859\n",
        "Successful parse of payload: 3336\n",
        "Successful parse of payload: 3943\n",
        "Successful parse of payload: 3380\n",
        "Successful parse of payload: 2939\n",
        "Successful parse of payload: 2044"
       ]
      },
      {
       "output_type": "stream",
       "stream": "stdout",
       "text": [
        "\n",
        "Successful parse of payload: 964"
       ]
      },
      {
       "output_type": "stream",
       "stream": "stdout",
       "text": [
        "\n",
        "Successful parse of payload: 2782\n",
        "Successful parse of payload: 2748\n",
        "Failed parse of payload: 3428"
       ]
      },
      {
       "output_type": "stream",
       "stream": "stdout",
       "text": [
        "\n",
        "Successful parse of payload: 3993\n",
        "Successful parse of payload: 253\n",
        "Successful parse of payload: 3242"
       ]
      },
      {
       "output_type": "stream",
       "stream": "stdout",
       "text": [
        "\n",
        "Successful parse of payload: 2932\n",
        "Successful parse of payload: 3767"
       ]
      },
      {
       "output_type": "stream",
       "stream": "stdout",
       "text": [
        "\n",
        "Failed parse of payload: 3963\n",
        "Successful parse of payload: 4314\n",
        "Successful parse of payload: 3103\n",
        "Successful parse of payload: 1947\n",
        "Successful parse of payload: 1122\n",
        "Successful parse of payload: 3627\n",
        "Successful parse of payload: 2414\n",
        "Successful parse of payload: 1271"
       ]
      },
      {
       "output_type": "stream",
       "stream": "stdout",
       "text": [
        "\n",
        "Successful parse of payload: 2762\n",
        "Successful parse of payload: 3942\n",
        "Successful parse of payload: 3325\n",
        "Successful parse of payload: 2817\n",
        "Successful parse of payload: 4347\n",
        "Successful parse of payload: 3235\n",
        "Successful parse of payload: 4059\n",
        "Successful parse of payload: 1807\n",
        "Successful parse of payload: 4257\n",
        "Successful parse of payload: 1948\n",
        "Successful parse of payload: 1853"
       ]
      },
      {
       "output_type": "stream",
       "stream": "stdout",
       "text": [
        "\n",
        "Successful parse of payload: 3316\n",
        "Successful parse of payload: 2362\n",
        "Successful parse of payload: 2165"
       ]
      },
      {
       "output_type": "stream",
       "stream": "stdout",
       "text": [
        "\n",
        "Successful parse of payload: 3799"
       ]
      },
      {
       "output_type": "stream",
       "stream": "stdout",
       "text": [
        "\n",
        "Successful parse of payload: 806\n",
        "Successful parse of payload: 3238\n",
        "Successful parse of payload: 2117\n",
        "Successful parse of payload: 4284\n",
        "Successful parse of payload: 2196\n",
        "Successful parse of payload: 3050"
       ]
      },
      {
       "output_type": "stream",
       "stream": "stdout",
       "text": [
        "\n",
        "Successful parse of payload: 2250\n",
        "Successful parse of payload: 3029\n",
        "Successful parse of payload: 4302\n",
        "Successful parse of payload: 3711\n",
        "Successful parse of payload: 3338"
       ]
      },
      {
       "output_type": "stream",
       "stream": "stdout",
       "text": [
        "\n",
        "Successful parse of payload: 4194\n",
        "Successful parse of payload: 3384"
       ]
      },
      {
       "output_type": "stream",
       "stream": "stdout",
       "text": [
        "\n",
        "Successful parse of payload: 3071\n",
        "Successful parse of payload: 852\n",
        "Successful parse of payload: 2340\n",
        "Successful parse of payload: 3175\n",
        "Successful parse of payload: 2964\n",
        "Successful parse of payload: 1648\n",
        "Successful parse of payload: 1117\n",
        "Successful parse of payload: 3436\n",
        "Successful parse of payload: 1824\n",
        "Successful parse of payload: 4145"
       ]
      },
      {
       "output_type": "stream",
       "stream": "stdout",
       "text": [
        "\n",
        "Successful parse of payload: 2585\n",
        "Successful parse of payload: 1896"
       ]
      },
      {
       "output_type": "stream",
       "stream": "stdout",
       "text": [
        "\n",
        "Successful parse of payload: 2580\n",
        "Successful parse of payload: 3977\n",
        "Successful parse of payload: 3169"
       ]
      },
      {
       "output_type": "stream",
       "stream": "stdout",
       "text": [
        "\n",
        "Successful parse of payload: 1639\n",
        "Successful parse of payload: 4391\n",
        "Successful parse of payload: 2862\n",
        "Successful parse of payload: 4285"
       ]
      },
      {
       "output_type": "stream",
       "stream": "stdout",
       "text": [
        "\n",
        "Successful parse of payload: 2214\n",
        "Successful parse of payload: 2554"
       ]
      },
      {
       "output_type": "stream",
       "stream": "stdout",
       "text": [
        "\n",
        "Successful parse of payload: 1827\n",
        "Successful parse of payload: 3221\n",
        "Successful parse of payload: 2809"
       ]
      },
      {
       "output_type": "stream",
       "stream": "stdout",
       "text": [
        "\n",
        "Successful parse of payload: 4385"
       ]
      },
      {
       "output_type": "stream",
       "stream": "stdout",
       "text": [
        "\n",
        "Successful parse of payload: 4370\n",
        "Successful parse of payload: 4188\n",
        "Successful parse of payload: 3024\n",
        "Successful parse of payload: 2799\n",
        "Successful parse of payload: 2642\n",
        "Successful parse of payload: 3693\n",
        "Successful parse of payload: 1205\n",
        "Successful parse of payload: 3794"
       ]
      },
      {
       "output_type": "stream",
       "stream": "stdout",
       "text": [
        "\n",
        "Successful parse of payload: 4305"
       ]
      },
      {
       "output_type": "stream",
       "stream": "stdout",
       "text": [
        "\n",
        "Successful parse of payload: 3065\n",
        "Successful parse of payload: 1808\n",
        "Successful parse of payload: 3585\n",
        "Successful parse of payload: 2349"
       ]
      },
      {
       "output_type": "stream",
       "stream": "stdout",
       "text": [
        "\n",
        "Successful parse of payload: 3832"
       ]
      },
      {
       "output_type": "stream",
       "stream": "stdout",
       "text": [
        "\n",
        "Successful parse of payload: 3620"
       ]
      },
      {
       "output_type": "stream",
       "stream": "stdout",
       "text": [
        "\n",
        "Successful parse of payload: 2384\n",
        "Successful parse of payload: 3864\n",
        "Successful parse of payload: 1095"
       ]
      },
      {
       "output_type": "stream",
       "stream": "stdout",
       "text": [
        "\n",
        "Successful parse of payload: 2670\n",
        "Successful parse of payload: 3878\n",
        "Successful parse of payload: 4306\n",
        "Successful parse of payload: 3230"
       ]
      },
      {
       "output_type": "stream",
       "stream": "stdout",
       "text": [
        "\n",
        "Successful parse of payload: 3653\n",
        "Successful parse of payload: 3147"
       ]
      },
      {
       "output_type": "stream",
       "stream": "stdout",
       "text": [
        "\n",
        "Successful parse of payload: 2744"
       ]
      },
      {
       "output_type": "stream",
       "stream": "stdout",
       "text": [
        "\n",
        "Successful parse of payload: 851\n",
        "Successful parse of payload: 4383\n",
        "Successful parse of payload: 2167\n",
        "Successful parse of payload: 3784\n",
        "Successful parse of payload: 1767\n",
        "Successful parse of payload: 3337"
       ]
      },
      {
       "output_type": "stream",
       "stream": "stdout",
       "text": [
        "\n",
        "Successful parse of payload: 2887\n",
        "Successful parse of payload: 2137"
       ]
      },
      {
       "output_type": "stream",
       "stream": "stdout",
       "text": [
        "\n",
        "Successful parse of payload: 3561\n",
        "Successful parse of payload: 337\n",
        "Failed parse of payload: 3631"
       ]
      },
      {
       "output_type": "stream",
       "stream": "stdout",
       "text": [
        "\n",
        "Successful parse of payload: 1109"
       ]
      },
      {
       "output_type": "stream",
       "stream": "stdout",
       "text": [
        "\n",
        "Successful parse of payload: 4315"
       ]
      },
      {
       "output_type": "stream",
       "stream": "stdout",
       "text": [
        "\n",
        "Successful parse of payload: 2091\n",
        "Successful parse of payload: 1984"
       ]
      },
      {
       "output_type": "stream",
       "stream": "stdout",
       "text": [
        "\n",
        "Successful parse of payload: 4352\n",
        "Successful parse of payload: 2833\n",
        "Successful parse of payload: 1848\n",
        "Successful parse of payload: 581"
       ]
      },
      {
       "output_type": "stream",
       "stream": "stdout",
       "text": [
        "\n",
        "Successful parse of payload: 2768"
       ]
      },
      {
       "output_type": "stream",
       "stream": "stdout",
       "text": [
        "\n",
        "Successful parse of payload: 3855"
       ]
      },
      {
       "output_type": "stream",
       "stream": "stdout",
       "text": [
        "\n",
        "Failed parse of payload: 3691"
       ]
      },
      {
       "output_type": "stream",
       "stream": "stdout",
       "text": [
        "\n",
        "Successful parse of payload: 3085\n",
        "Successful parse of payload: 2430\n",
        "Successful parse of payload: 3426"
       ]
      },
      {
       "output_type": "stream",
       "stream": "stdout",
       "text": [
        "\n",
        "Successful parse of payload: 3612"
       ]
      },
      {
       "output_type": "stream",
       "stream": "stdout",
       "text": [
        "\n",
        "Failed parse of payload: 3641"
       ]
      },
      {
       "output_type": "stream",
       "stream": "stdout",
       "text": [
        "\n",
        "Successful parse of payload: 2967\n",
        "Successful parse of payload: 2058\n",
        "Successful parse of payload: 1799\n",
        "Successful parse of payload: 4163\n",
        "Successful parse of payload: 3961\n",
        "Successful parse of payload: 2193\n",
        "Successful parse of payload: 2719"
       ]
      },
      {
       "output_type": "stream",
       "stream": "stdout",
       "text": [
        "\n",
        "Successful parse of payload: 4034\n",
        "Successful parse of payload: 1169\n",
        "Successful parse of payload: 2565"
       ]
      },
      {
       "output_type": "stream",
       "stream": "stdout",
       "text": [
        "\n",
        "Successful parse of payload: 815\n",
        "Successful parse of payload: 1276\n",
        "Successful parse of payload: 2005\n",
        "Successful parse of payload: 3689"
       ]
      },
      {
       "output_type": "stream",
       "stream": "stdout",
       "text": [
        "\n",
        "Successful parse of payload: 4290\n",
        "Successful parse of payload: 486\n",
        "Successful parse of payload: 2533\n",
        "Successful parse of payload: 4068"
       ]
      },
      {
       "output_type": "stream",
       "stream": "stdout",
       "text": [
        "\n",
        "Successful parse of payload: 3709\n",
        "Successful parse of payload: 2544\n",
        "Successful parse of payload: 1818\n",
        "Successful parse of payload: 1658\n",
        "Successful parse of payload: 260"
       ]
      },
      {
       "output_type": "stream",
       "stream": "stdout",
       "text": [
        "\n",
        "Successful parse of payload: 1284\n",
        "Successful parse of payload: 2082\n",
        "Successful parse of payload: 3823\n",
        "Successful parse of payload: 1676"
       ]
      },
      {
       "output_type": "stream",
       "stream": "stdout",
       "text": [
        "\n",
        "Successful parse of payload: 4089\n",
        "Failed parse of payload: 783\n",
        "Failed parse of payload: 1970"
       ]
      },
      {
       "output_type": "stream",
       "stream": "stdout",
       "text": [
        "\n",
        "Successful parse of payload: 2514\n",
        "Successful parse of payload: 3945\n",
        "Successful parse of payload: 923\n",
        "Successful parse of payload: 3740"
       ]
      },
      {
       "output_type": "stream",
       "stream": "stdout",
       "text": [
        "\n",
        "Successful parse of payload: 2646\n",
        "Successful parse of payload: 2381\n",
        "Successful parse of payload: 3642"
       ]
      },
      {
       "output_type": "stream",
       "stream": "stdout",
       "text": [
        "\n",
        "Successful parse of payload: 2941\n",
        "Successful parse of payload: 1777\n",
        "Successful parse of payload: 1865"
       ]
      },
      {
       "output_type": "stream",
       "stream": "stdout",
       "text": [
        "\n",
        "Successful parse of payload: 330\n",
        "Successful parse of payload: 2757\n",
        "Successful parse of payload: 812\n",
        "Successful parse of payload: 4375\n",
        "Successful parse of payload: 2235\n",
        "Successful parse of payload: 3836"
       ]
      },
      {
       "output_type": "stream",
       "stream": "stdout",
       "text": [
        "\n",
        "Successful parse of payload: 583\n",
        "Successful parse of payload: 2625\n",
        "Successful parse of payload: 1189\n",
        "Successful parse of payload: 2509\n",
        "Successful parse of payload: 3850"
       ]
      },
      {
       "output_type": "stream",
       "stream": "stdout",
       "text": [
        "\n",
        "Successful parse of payload: 1796\n",
        "Successful parse of payload: 2627\n",
        "Successful parse of payload: 937"
       ]
      },
      {
       "output_type": "stream",
       "stream": "stdout",
       "text": [
        "\n",
        "Successful parse of payload: 2318\n",
        "Successful parse of payload: 2110\n",
        "Successful parse of payload: 1753\n",
        "Failed parse of payload: 2507"
       ]
      },
      {
       "output_type": "stream",
       "stream": "stdout",
       "text": [
        "\n",
        "Successful parse of payload: 2370\n",
        "Successful parse of payload: 2286"
       ]
      },
      {
       "output_type": "stream",
       "stream": "stdout",
       "text": [
        "\n",
        "Successful parse of payload: 2536\n",
        "Successful parse of payload: 1976"
       ]
      },
      {
       "output_type": "stream",
       "stream": "stdout",
       "text": [
        "\n",
        "Successful parse of payload: 3698\n",
        "Successful parse of payload: 3543\n",
        "Successful parse of payload: 3999"
       ]
      },
      {
       "output_type": "stream",
       "stream": "stdout",
       "text": [
        "\n",
        "Successful parse of payload: 2221\n",
        "Successful parse of payload: 2674\n",
        "Successful parse of payload: 2363\n",
        "Successful parse of payload: 2405"
       ]
      },
      {
       "output_type": "stream",
       "stream": "stdout",
       "text": [
        "\n",
        "Successful parse of payload: 3047\n",
        "Successful parse of payload: 813"
       ]
      },
      {
       "output_type": "stream",
       "stream": "stdout",
       "text": [
        "\n",
        "Successful parse of payload: 2708\n",
        "Successful parse of payload: 804\n",
        "Failed parse of payload: 3402"
       ]
      },
      {
       "output_type": "stream",
       "stream": "stdout",
       "text": [
        "\n",
        "Successful parse of payload: 2312\n",
        "Successful parse of payload: 3398"
       ]
      },
      {
       "output_type": "stream",
       "stream": "stdout",
       "text": [
        "\n",
        "Successful parse of payload: 2980\n",
        "Failed parse of payload: 4405\n",
        "Successful parse of payload: 4141\n",
        "Successful parse of payload: 1623"
       ]
      },
      {
       "output_type": "stream",
       "stream": "stdout",
       "text": [
        "\n",
        "Successful parse of payload: 879\n",
        "Successful parse of payload: 1873\n",
        "Successful parse of payload: 251\n",
        "Successful parse of payload: 3992"
       ]
      },
      {
       "output_type": "stream",
       "stream": "stdout",
       "text": [
        "\n",
        "Failed parse of payload: 3465\n",
        "Successful parse of payload: 3598\n",
        "Successful parse of payload: 2239\n",
        "Successful parse of payload: 4156\n",
        "Successful parse of payload: 2217"
       ]
      },
      {
       "output_type": "stream",
       "stream": "stdout",
       "text": [
        "\n",
        "Successful parse of payload: 3920\n",
        "Successful parse of payload: 4095"
       ]
      },
      {
       "output_type": "stream",
       "stream": "stdout",
       "text": [
        "\n",
        "Successful parse of payload: 3708"
       ]
      },
      {
       "output_type": "stream",
       "stream": "stdout",
       "text": [
        "\n",
        "Successful parse of payload: 3184\n",
        "Successful parse of payload: 2178\n",
        "Successful parse of payload: 2148"
       ]
      },
      {
       "output_type": "stream",
       "stream": "stdout",
       "text": [
        "\n",
        "Successful parse of payload: 2184\n",
        "Successful parse of payload: 2011\n",
        "Successful parse of payload: 2195\n",
        "Successful parse of payload: 2876\n",
        "Successful parse of payload: 2587\n",
        "Failed parse of payload: 1673"
       ]
      },
      {
       "output_type": "stream",
       "stream": "stdout",
       "text": [
        "\n",
        "Successful parse of payload: 4261"
       ]
      },
      {
       "output_type": "stream",
       "stream": "stdout",
       "text": [
        "\n",
        "Successful parse of payload: 3538"
       ]
      },
      {
       "output_type": "stream",
       "stream": "stdout",
       "text": [
        "\n",
        "Successful parse of payload: 2695"
       ]
      },
      {
       "output_type": "stream",
       "stream": "stdout",
       "text": [
        "\n",
        "Successful parse of payload: 3476"
       ]
      },
      {
       "output_type": "stream",
       "stream": "stdout",
       "text": [
        "\n",
        "Successful parse of payload: 836\n",
        "Successful parse of payload: 3776"
       ]
      },
      {
       "output_type": "stream",
       "stream": "stdout",
       "text": [
        "\n",
        "Successful parse of payload: 2486\n",
        "Successful parse of payload: 2460\n",
        "Successful parse of payload: 2399"
       ]
      },
      {
       "output_type": "stream",
       "stream": "stdout",
       "text": [
        "\n",
        "Successful parse of payload: 3879\n",
        "Successful parse of payload: 1576\n",
        "Successful parse of payload: 4171\n",
        "Successful parse of payload: 1221\n",
        "Successful parse of payload: 831"
       ]
      },
      {
       "output_type": "stream",
       "stream": "stdout",
       "text": [
        "\n",
        "Successful parse of payload: 1653"
       ]
      },
      {
       "output_type": "stream",
       "stream": "stdout",
       "text": [
        "\n",
        "Failed parse of payload: 3432"
       ]
      },
      {
       "output_type": "stream",
       "stream": "stdout",
       "text": [
        "\n",
        "Successful parse of payload: 1066"
       ]
      },
      {
       "output_type": "stream",
       "stream": "stdout",
       "text": [
        "\n",
        "Successful parse of payload: 1741"
       ]
      },
      {
       "output_type": "stream",
       "stream": "stdout",
       "text": [
        "\n",
        "Successful parse of payload: 327\n",
        "Successful parse of payload: 3290\n",
        "Successful parse of payload: 4223\n",
        "Successful parse of payload: 1997\n",
        "Successful parse of payload: 1089\n",
        "Successful parse of payload: 2538\n",
        "Successful parse of payload: 4414"
       ]
      },
      {
       "output_type": "stream",
       "stream": "stdout",
       "text": [
        "\n",
        "Successful parse of payload: 1171\n",
        "Successful parse of payload: 3722\n",
        "Successful parse of payload: 3323"
       ]
      },
      {
       "output_type": "stream",
       "stream": "stdout",
       "text": [
        "\n",
        "Successful parse of payload: 3777"
       ]
      },
      {
       "output_type": "stream",
       "stream": "stdout",
       "text": [
        "\n",
        "Successful parse of payload: 1881\n",
        "Successful parse of payload: 4216\n",
        "Successful parse of payload: 1322\n",
        "Successful parse of payload: 3072"
       ]
      },
      {
       "output_type": "stream",
       "stream": "stdout",
       "text": [
        "\n",
        "Successful parse of payload: 3282\n",
        "Successful parse of payload: 2861\n",
        "Failed parse of payload: 1837"
       ]
      },
      {
       "output_type": "stream",
       "stream": "stdout",
       "text": [
        "\n",
        "Successful parse of payload: 2000\n",
        "Successful parse of payload: 319\n",
        "Successful parse of payload: 2112\n",
        "Successful parse of payload: 2198\n",
        "Successful parse of payload: 3955\n",
        "Successful parse of payload: 848"
       ]
      },
      {
       "output_type": "stream",
       "stream": "stdout",
       "text": [
        "\n",
        "Successful parse of payload: 3592\n",
        "Successful parse of payload: 3775"
       ]
      },
      {
       "output_type": "stream",
       "stream": "stdout",
       "text": [
        "\n",
        "Successful parse of payload: 1224\n",
        "Successful parse of payload: 2024\n",
        "Successful parse of payload: 2354\n",
        "Successful parse of payload: 3986"
       ]
      },
      {
       "output_type": "stream",
       "stream": "stdout",
       "text": [
        "\n",
        "Successful parse of payload: 261\n",
        "Successful parse of payload: 3732"
       ]
      },
      {
       "output_type": "stream",
       "stream": "stdout",
       "text": [
        "\n",
        "Successful parse of payload: 2551\n",
        "Successful parse of payload: 1186"
       ]
      },
      {
       "output_type": "stream",
       "stream": "stdout",
       "text": [
        "\n",
        "Successful parse of payload: 3519\n",
        "Successful parse of payload: 3514\n",
        "Successful parse of payload: 2553\n",
        "Successful parse of payload: 4242"
       ]
      },
      {
       "output_type": "stream",
       "stream": "stdout",
       "text": [
        "\n",
        "Successful parse of payload: 3442"
       ]
      },
      {
       "output_type": "stream",
       "stream": "stdout",
       "text": [
        "\n",
        "Successful parse of payload: 3094"
       ]
      },
      {
       "output_type": "stream",
       "stream": "stdout",
       "text": [
        "\n",
        "Failed parse of payload: 3408"
       ]
      },
      {
       "output_type": "stream",
       "stream": "stdout",
       "text": [
        "\n",
        "Successful parse of payload: 3385\n",
        "Successful parse of payload: 2337"
       ]
      },
      {
       "output_type": "stream",
       "stream": "stdout",
       "text": [
        "\n",
        "Successful parse of payload: 2720\n",
        "Successful parse of payload: 3789\n",
        "Successful parse of payload: 2788\n",
        "Failed parse of payload: 3884\n",
        "Successful parse of payload: 3434"
       ]
      },
      {
       "output_type": "stream",
       "stream": "stdout",
       "text": [
        "\n",
        "Successful parse of payload: 800\n",
        "Failed parse of payload: 3766"
       ]
      },
      {
       "output_type": "stream",
       "stream": "stdout",
       "text": [
        "\n",
        "Successful parse of payload: 2200"
       ]
      },
      {
       "output_type": "stream",
       "stream": "stdout",
       "text": [
        "\n",
        "Successful parse of payload: 4067\n",
        "Successful parse of payload: 1409\n",
        "Successful parse of payload: 3682\n",
        "Successful parse of payload: 2852\n",
        "Successful parse of payload: 2994"
       ]
      },
      {
       "output_type": "stream",
       "stream": "stdout",
       "text": [
        "\n",
        "Successful parse of payload: 4252\n",
        "Successful parse of payload: 3636"
       ]
      },
      {
       "output_type": "stream",
       "stream": "stdout",
       "text": [
        "\n",
        "Successful parse of payload: 3954\n",
        "Successful parse of payload: 1294\n",
        "Successful parse of payload: 1650\n",
        "Successful parse of payload: 3633\n",
        "Successful parse of payload: 2522\n",
        "Successful parse of payload: 1730\n",
        "Successful parse of payload: 2929\n",
        "Successful parse of payload: 4333"
       ]
      },
      {
       "output_type": "stream",
       "stream": "stdout",
       "text": [
        "\n",
        "Successful parse of payload: 4277\n",
        "Successful parse of payload: 3191\n",
        "Successful parse of payload: 3296\n",
        "Successful parse of payload: 3012\n",
        "Successful parse of payload: 3555"
       ]
      },
      {
       "output_type": "stream",
       "stream": "stdout",
       "text": [
        "\n",
        "Successful parse of payload: 3685"
       ]
      },
      {
       "output_type": "stream",
       "stream": "stdout",
       "text": [
        "\n",
        "Successful parse of payload: 2300\n",
        "Successful parse of payload: 3560\n",
        "Successful parse of payload: 1674"
       ]
      },
      {
       "output_type": "stream",
       "stream": "stdout",
       "text": [
        "\n",
        "Successful parse of payload: 785\n",
        "Successful parse of payload: 3603\n",
        "Successful parse of payload: 4106\n",
        "Successful parse of payload: 1173\n",
        "Successful parse of payload: 2987"
       ]
      },
      {
       "output_type": "stream",
       "stream": "stdout",
       "text": [
        "\n",
        "Successful parse of payload: 4225"
       ]
      },
      {
       "output_type": "stream",
       "stream": "stdout",
       "text": [
        "\n",
        "Successful parse of payload: 2442\n",
        "Successful parse of payload: 2376\n",
        "Successful parse of payload: 2845\n",
        "Successful parse of payload: 2657"
       ]
      },
      {
       "output_type": "stream",
       "stream": "stdout",
       "text": [
        "\n",
        "Successful parse of payload: 2451\n",
        "Successful parse of payload: 4260\n",
        "Successful parse of payload: 3204\n",
        "Successful parse of payload: 4300"
       ]
      },
      {
       "output_type": "stream",
       "stream": "stdout",
       "text": [
        "\n",
        "Successful parse of payload: 3695\n",
        "Successful parse of payload: 2068\n",
        "Successful parse of payload: 2160"
       ]
      },
      {
       "output_type": "stream",
       "stream": "stdout",
       "text": [
        "\n",
        "Successful parse of payload: 3329\n",
        "Successful parse of payload: 1933\n",
        "Successful parse of payload: 1165\n",
        "Successful parse of payload: 874\n",
        "Successful parse of payload: 1121"
       ]
      },
      {
       "output_type": "stream",
       "stream": "stdout",
       "text": [
        "\n",
        "Successful parse of payload: 2895\n",
        "Successful parse of payload: 3716\n",
        "Successful parse of payload: 4226"
       ]
      },
      {
       "output_type": "stream",
       "stream": "stdout",
       "text": [
        "\n",
        "Successful parse of payload: 2431"
       ]
      },
      {
       "output_type": "stream",
       "stream": "stdout",
       "text": [
        "\n",
        "Successful parse of payload: 1816\n",
        "Failed parse of payload: 3644"
       ]
      },
      {
       "output_type": "stream",
       "stream": "stdout",
       "text": [
        "\n",
        "Successful parse of payload: 3447"
       ]
      },
      {
       "output_type": "stream",
       "stream": "stdout",
       "text": [
        "\n",
        "Successful parse of payload: 4400"
       ]
      },
      {
       "output_type": "stream",
       "stream": "stdout",
       "text": [
        "\n",
        "Successful parse of payload: 2548\n",
        "Successful parse of payload: 2532\n",
        "Successful parse of payload: 1133\n",
        "Successful parse of payload: 2439"
       ]
      },
      {
       "output_type": "stream",
       "stream": "stdout",
       "text": [
        "\n",
        "Successful parse of payload: 1993\n",
        "Successful parse of payload: 779\n",
        "Successful parse of payload: 2175\n",
        "Successful parse of payload: 2857\n",
        "Successful parse of payload: 2823"
       ]
      },
      {
       "output_type": "stream",
       "stream": "stdout",
       "text": [
        "\n",
        "Successful parse of payload: 867"
       ]
      },
      {
       "output_type": "stream",
       "stream": "stdout",
       "text": [
        "\n",
        "Successful parse of payload: 3858"
       ]
      },
      {
       "output_type": "stream",
       "stream": "stdout",
       "text": [
        "\n",
        "Successful parse of payload: 2289\n",
        "Successful parse of payload: 1962\n",
        "Failed parse of payload: 3472\n",
        "Successful parse of payload: 4283\n",
        "Successful parse of payload: 2770"
       ]
      },
      {
       "output_type": "stream",
       "stream": "stdout",
       "text": [
        "\n",
        "Successful parse of payload: 4318\n",
        "Successful parse of payload: 2632"
       ]
      },
      {
       "output_type": "stream",
       "stream": "stdout",
       "text": [
        "\n",
        "Successful parse of payload: 265\n",
        "Successful parse of payload: 3350\n",
        "Successful parse of payload: 3056"
       ]
      },
      {
       "output_type": "stream",
       "stream": "stdout",
       "text": [
        "\n",
        "Successful parse of payload: 3646\n",
        "Successful parse of payload: 1740\n",
        "Failed parse of payload: 3315\n",
        "Successful parse of payload: 4128\n",
        "Successful parse of payload: 3026\n",
        "Successful parse of payload: 1112\n",
        "Successful parse of payload: 2234\n",
        "Successful parse of payload: 3697"
       ]
      },
      {
       "output_type": "stream",
       "stream": "stdout",
       "text": [
        "\n",
        "Successful parse of payload: 927"
       ]
      },
      {
       "output_type": "stream",
       "stream": "stdout",
       "text": [
        "\n",
        "Successful parse of payload: 4278"
       ]
      },
      {
       "output_type": "stream",
       "stream": "stdout",
       "text": [
        "\n",
        "Successful parse of payload: 2076\n",
        "Successful parse of payload: 312\n",
        "Successful parse of payload: 1798"
       ]
      },
      {
       "output_type": "stream",
       "stream": "stdout",
       "text": [
        "\n",
        "Successful parse of payload: 3250\n",
        "Successful parse of payload: 2955\n",
        "Successful parse of payload: 2142\n",
        "Successful parse of payload: 3803\n",
        "Successful parse of payload: 860\n",
        "Successful parse of payload: 1176"
       ]
      },
      {
       "output_type": "stream",
       "stream": "stdout",
       "text": [
        "\n",
        "Successful parse of payload: 2136\n",
        "Successful parse of payload: 1585\n",
        "Successful parse of payload: 4332"
       ]
      },
      {
       "output_type": "stream",
       "stream": "stdout",
       "text": [
        "\n",
        "Successful parse of payload: 2684"
       ]
      },
      {
       "output_type": "stream",
       "stream": "stdout",
       "text": [
        "\n",
        "Successful parse of payload: 1410\n",
        "Successful parse of payload: 1079"
       ]
      },
      {
       "output_type": "stream",
       "stream": "stdout",
       "text": [
        "\n",
        "Successful parse of payload: 2885"
       ]
      },
      {
       "output_type": "stream",
       "stream": "stdout",
       "text": [
        "\n",
        "Successful parse of payload: 773\n",
        "Successful parse of payload: 4348\n",
        "Successful parse of payload: 942"
       ]
      },
      {
       "output_type": "stream",
       "stream": "stdout",
       "text": [
        "\n",
        "Successful parse of payload: 1149\n",
        "Successful parse of payload: 1750\n",
        "Successful parse of payload: 1578"
       ]
      },
      {
       "output_type": "stream",
       "stream": "stdout",
       "text": [
        "\n",
        "Successful parse of payload: 2835\n",
        "Successful parse of payload: 2954\n",
        "Failed parse of payload: 1078"
       ]
      },
      {
       "output_type": "stream",
       "stream": "stdout",
       "text": [
        "\n",
        "Successful parse of payload: 1137\n",
        "Successful parse of payload: 310\n",
        "Successful parse of payload: 4329\n",
        "Successful parse of payload: 3532\n",
        "Successful parse of payload: 933"
       ]
      },
      {
       "output_type": "stream",
       "stream": "stdout",
       "text": [
        "\n",
        "Successful parse of payload: 1907\n",
        "Successful parse of payload: 3342\n",
        "Successful parse of payload: 2661\n",
        "Successful parse of payload: 1310\n",
        "Successful parse of payload: 4211\n",
        "Successful parse of payload: 883\n",
        "Successful parse of payload: 4065\n",
        "Successful parse of payload: 3876"
       ]
      },
      {
       "output_type": "stream",
       "stream": "stdout",
       "text": [
        "\n",
        "Successful parse of payload: 3460"
       ]
      },
      {
       "output_type": "stream",
       "stream": "stdout",
       "text": [
        "\n",
        "Successful parse of payload: 843\n",
        "Successful parse of payload: 1819"
       ]
      },
      {
       "output_type": "stream",
       "stream": "stdout",
       "text": [
        "\n",
        "Successful parse of payload: 3614"
       ]
      },
      {
       "output_type": "stream",
       "stream": "stdout",
       "text": [
        "\n",
        "Successful parse of payload: 3969"
       ]
      },
      {
       "output_type": "stream",
       "stream": "stdout",
       "text": [
        "\n",
        "Successful parse of payload: 4351\n",
        "Successful parse of payload: 1629\n",
        "Successful parse of payload: 351\n",
        "Successful parse of payload: 3249"
       ]
      },
      {
       "output_type": "stream",
       "stream": "stdout",
       "text": [
        "\n",
        "Successful parse of payload: 793\n",
        "Successful parse of payload: 4269\n",
        "Failed parse of payload: 1272\n",
        "Successful parse of payload: 2309"
       ]
      },
      {
       "output_type": "stream",
       "stream": "stdout",
       "text": [
        "\n",
        "Successful parse of payload: 4253\n",
        "Failed parse of payload: 3833\n",
        "Successful parse of payload: 1874\n",
        "Successful parse of payload: 3390"
       ]
      },
      {
       "output_type": "stream",
       "stream": "stdout",
       "text": [
        "\n",
        "Successful parse of payload: 2132\n",
        "Successful parse of payload: 2495\n",
        "Successful parse of payload: 4008"
       ]
      },
      {
       "output_type": "stream",
       "stream": "stdout",
       "text": [
        "\n",
        "Successful parse of payload: 2249\n",
        "Successful parse of payload: 4000\n",
        "Successful parse of payload: 2643\n",
        "Successful parse of payload: 891"
       ]
      },
      {
       "output_type": "stream",
       "stream": "stdout",
       "text": [
        "\n",
        "Successful parse of payload: 3544\n",
        "Successful parse of payload: 1776"
       ]
      },
      {
       "output_type": "stream",
       "stream": "stdout",
       "text": [
        "\n",
        "Successful parse of payload: 1656\n",
        "Successful parse of payload: 1204"
       ]
      },
      {
       "output_type": "stream",
       "stream": "stdout",
       "text": [
        "\n",
        "Successful parse of payload: 3289\n",
        "Successful parse of payload: 3725"
       ]
      },
      {
       "output_type": "stream",
       "stream": "stdout",
       "text": [
        "\n",
        "Successful parse of payload: 4403\n",
        "Successful parse of payload: 2067"
       ]
      },
      {
       "output_type": "stream",
       "stream": "stdout",
       "text": [
        "\n",
        "Successful parse of payload: 3159\n",
        "Successful parse of payload: 3737\n",
        "Successful parse of payload: 855\n",
        "Successful parse of payload: 4274\n",
        "Successful parse of payload: 1148"
       ]
      },
      {
       "output_type": "stream",
       "stream": "stdout",
       "text": [
        "\n",
        "Successful parse of payload: 3217\n",
        "Successful parse of payload: 3367"
       ]
      },
      {
       "output_type": "stream",
       "stream": "stdout",
       "text": [
        "\n",
        "Successful parse of payload: 1136"
       ]
      },
      {
       "output_type": "stream",
       "stream": "stdout",
       "text": [
        "\n",
        "Successful parse of payload: 3077\n",
        "Successful parse of payload: 3947"
       ]
      },
      {
       "output_type": "stream",
       "stream": "stdout",
       "text": [
        "\n",
        "Successful parse of payload: 2053"
       ]
      },
      {
       "output_type": "stream",
       "stream": "stdout",
       "text": [
        "\n",
        "Successful parse of payload: 3232\n",
        "Successful parse of payload: 789\n",
        "Successful parse of payload: 3960\n",
        "Successful parse of payload: 2262"
       ]
      },
      {
       "output_type": "stream",
       "stream": "stdout",
       "text": [
        "\n",
        "Successful parse of payload: 2071"
       ]
      },
      {
       "output_type": "stream",
       "stream": "stdout",
       "text": [
        "\n",
        "Successful parse of payload: 1256\n",
        "Successful parse of payload: 3369\n",
        "Successful parse of payload: 2785"
       ]
      },
      {
       "output_type": "stream",
       "stream": "stdout",
       "text": [
        "\n",
        "Successful parse of payload: 3533"
       ]
      },
      {
       "output_type": "stream",
       "stream": "stdout",
       "text": [
        "\n",
        "Successful parse of payload: 3895\n",
        "Successful parse of payload: 1670\n",
        "Successful parse of payload: 635"
       ]
      },
      {
       "output_type": "stream",
       "stream": "stdout",
       "text": [
        "\n",
        "Successful parse of payload: 1301\n",
        "Successful parse of payload: 3539"
       ]
      },
      {
       "output_type": "stream",
       "stream": "stdout",
       "text": [
        "\n",
        "Successful parse of payload: 2999\n",
        "Successful parse of payload: 2915\n",
        "Successful parse of payload: 2713\n",
        "Successful parse of payload: 2912"
       ]
      },
      {
       "output_type": "stream",
       "stream": "stdout",
       "text": [
        "\n",
        "Successful parse of payload: 3700"
       ]
      },
      {
       "output_type": "stream",
       "stream": "stdout",
       "text": [
        "\n",
        "Successful parse of payload: 3240\n",
        "Successful parse of payload: 2608\n",
        "Successful parse of payload: 3032\n",
        "Successful parse of payload: 1952\n",
        "Successful parse of payload: 3521\n",
        "Failed parse of payload: 3485"
       ]
      },
      {
       "output_type": "stream",
       "stream": "stdout",
       "text": [
        "\n",
        "Successful parse of payload: 2568\n",
        "Successful parse of payload: 2897\n",
        "Successful parse of payload: 1686\n",
        "Successful parse of payload: 1927\n",
        "Failed parse of payload: 2265\n",
        "Successful parse of payload: 3179"
       ]
      },
      {
       "output_type": "stream",
       "stream": "stdout",
       "text": [
        "\n",
        "Successful parse of payload: 1087\n",
        "Successful parse of payload: 333\n",
        "Successful parse of payload: 2499\n",
        "Successful parse of payload: 3553\n",
        "Successful parse of payload: 1804\n",
        "Successful parse of payload: 1973\n",
        "Successful parse of payload: 2113\n",
        "Successful parse of payload: 2315\n",
        "Successful parse of payload: 3490\n",
        "Successful parse of payload: 4286\n",
        "Successful parse of payload: 1887"
       ]
      },
      {
       "output_type": "stream",
       "stream": "stdout",
       "text": [
        "\n",
        "Successful parse of payload: 2566\n",
        "Successful parse of payload: 1788\n",
        "Successful parse of payload: 842\n",
        "Successful parse of payload: 4237"
       ]
      },
      {
       "output_type": "stream",
       "stream": "stdout",
       "text": [
        "\n",
        "Successful parse of payload: 2901\n",
        "Successful parse of payload: 2783"
       ]
      },
      {
       "output_type": "stream",
       "stream": "stdout",
       "text": [
        "\n",
        "Successful parse of payload: 796\n",
        "Successful parse of payload: 809\n",
        "Successful parse of payload: 1241\n",
        "Successful parse of payload: 2951\n",
        "Successful parse of payload: 2953\n",
        "Successful parse of payload: 3790\n",
        "Successful parse of payload: 3888\n",
        "Successful parse of payload: 1855\n",
        "Successful parse of payload: 2623"
       ]
      },
      {
       "output_type": "stream",
       "stream": "stdout",
       "text": [
        "\n",
        "Successful parse of payload: 2644"
       ]
      },
      {
       "output_type": "stream",
       "stream": "stdout",
       "text": [
        "\n",
        "Successful parse of payload: 1251\n",
        "Successful parse of payload: 3804\n",
        "Successful parse of payload: 1772"
       ]
      },
      {
       "output_type": "stream",
       "stream": "stdout",
       "text": [
        "\n",
        "Successful parse of payload: 3996\n",
        "Successful parse of payload: 828\n",
        "Successful parse of payload: 4193"
       ]
      },
      {
       "output_type": "stream",
       "stream": "stdout",
       "text": [
        "\n",
        "Successful parse of payload: 3264\n",
        "Successful parse of payload: 837\n",
        "Successful parse of payload: 3562\n",
        "Successful parse of payload: 3915\n",
        "Successful parse of payload: 2140\n",
        "Successful parse of payload: 3387\n",
        "Successful parse of payload: 3668\n",
        "Successful parse of payload: 2098\n",
        "Successful parse of payload: 2397\n",
        "Successful parse of payload: 4142"
       ]
      },
      {
       "output_type": "stream",
       "stream": "stdout",
       "text": [
        "\n",
        "Successful parse of payload: 3785\n",
        "Successful parse of payload: 3788\n",
        "Successful parse of payload: 1728"
       ]
      },
      {
       "output_type": "stream",
       "stream": "stdout",
       "text": [
        "\n",
        "Successful parse of payload: 4066"
       ]
      },
      {
       "output_type": "stream",
       "stream": "stdout",
       "text": [
        "\n",
        "Failed parse of payload: 4350\n",
        "Successful parse of payload: 1978\n",
        "Successful parse of payload: 2163\n",
        "Successful parse of payload: 1735\n",
        "Successful parse of payload: 2681"
       ]
      },
      {
       "output_type": "stream",
       "stream": "stdout",
       "text": [
        "\n",
        "Successful parse of payload: 3488\n",
        "Successful parse of payload: 3189"
       ]
      },
      {
       "output_type": "stream",
       "stream": "stdout",
       "text": [
        "\n",
        "Successful parse of payload: 2549\n",
        "Successful parse of payload: 3806"
       ]
      },
      {
       "output_type": "stream",
       "stream": "stdout",
       "text": [
        "\n",
        "Successful parse of payload: 2134\n",
        "Successful parse of payload: 3270"
       ]
      },
      {
       "output_type": "stream",
       "stream": "stdout",
       "text": [
        "\n",
        "Successful parse of payload: 4336\n",
        "Successful parse of payload: 1217"
       ]
      },
      {
       "output_type": "stream",
       "stream": "stdout",
       "text": [
        "\n",
        "Successful parse of payload: 237\n",
        "Successful parse of payload: 252\n",
        "Successful parse of payload: 2293\n",
        "Successful parse of payload: 2444\n",
        "Successful parse of payload: 3303\n",
        "Successful parse of payload: 3166\n",
        "Successful parse of payload: 1719\n",
        "Successful parse of payload: 3540\n",
        "Successful parse of payload: 2633\n",
        "Successful parse of payload: 4133\n",
        "Failed parse of payload: 3721\n",
        "Successful parse of payload: 2900\n",
        "Successful parse of payload: 3487\n",
        "Successful parse of payload: 3236\n",
        "Successful parse of payload: 4355"
       ]
      },
      {
       "output_type": "stream",
       "stream": "stdout",
       "text": [
        "\n",
        "Successful parse of payload: 2001\n",
        "Successful parse of payload: 2663\n",
        "Successful parse of payload: 1100"
       ]
      },
      {
       "output_type": "stream",
       "stream": "stdout",
       "text": [
        "\n",
        "Successful parse of payload: 1811\n",
        "Successful parse of payload: 1969\n",
        "Successful parse of payload: 2188\n",
        "Successful parse of payload: 1934"
       ]
      },
      {
       "output_type": "stream",
       "stream": "stdout",
       "text": [
        "\n",
        "Successful parse of payload: 3324\n",
        "Successful parse of payload: 2034\n",
        "Successful parse of payload: 878\n",
        "Failed parse of payload: 3973\n",
        "Successful parse of payload: 2602\n",
        "Successful parse of payload: 3111\n",
        "Successful parse of payload: 776"
       ]
      },
      {
       "output_type": "stream",
       "stream": "stdout",
       "text": [
        "\n",
        "Successful parse of payload: 4205"
       ]
      },
      {
       "output_type": "stream",
       "stream": "stdout",
       "text": [
        "\n",
        "Successful parse of payload: 1790\n",
        "Failed parse of payload: 3405"
       ]
      },
      {
       "output_type": "stream",
       "stream": "stdout",
       "text": [
        "\n",
        "Successful parse of payload: 3648"
       ]
      },
      {
       "output_type": "stream",
       "stream": "stdout",
       "text": [
        "\n",
        "Successful parse of payload: 4114\n",
        "Successful parse of payload: 1960\n",
        "Successful parse of payload: 3259\n",
        "Successful parse of payload: 3524\n",
        "Successful parse of payload: 2369"
       ]
      },
      {
       "output_type": "stream",
       "stream": "stdout",
       "text": [
        "\n",
        "Successful parse of payload: 1857"
       ]
      },
      {
       "output_type": "stream",
       "stream": "stdout",
       "text": [
        "\n",
        "Successful parse of payload: 2766\n",
        "Successful parse of payload: 3145\n",
        "Successful parse of payload: 3213\n",
        "Successful parse of payload: 1119"
       ]
      },
      {
       "output_type": "stream",
       "stream": "stdout",
       "text": [
        "\n",
        "Successful parse of payload: 3928\n",
        "Successful parse of payload: 908"
       ]
      },
      {
       "output_type": "stream",
       "stream": "stdout",
       "text": [
        "\n",
        "Successful parse of payload: 2896\n",
        "Successful parse of payload: 2731\n",
        "Successful parse of payload: 3177\n",
        "Successful parse of payload: 2902\n",
        "Successful parse of payload: 2879\n",
        "Failed parse of payload: 3769"
       ]
      },
      {
       "output_type": "stream",
       "stream": "stdout",
       "text": [
        "\n",
        "Successful parse of payload: 3566\n",
        "Successful parse of payload: 3035"
       ]
      },
      {
       "output_type": "stream",
       "stream": "stdout",
       "text": [
        "\n",
        "Successful parse of payload: 1817\n",
        "Successful parse of payload: 3712"
       ]
      },
      {
       "output_type": "stream",
       "stream": "stdout",
       "text": [
        "\n",
        "Successful parse of payload: 246\n",
        "Successful parse of payload: 315\n",
        "Successful parse of payload: 2023\n",
        "Successful parse of payload: 2680\n",
        "Successful parse of payload: 3615\n",
        "Successful parse of payload: 1880\n",
        "Successful parse of payload: 3678\n",
        "Successful parse of payload: 2174"
       ]
      },
      {
       "output_type": "stream",
       "stream": "stdout",
       "text": [
        "\n",
        "Successful parse of payload: 3825\n",
        "Successful parse of payload: 4312"
       ]
      },
      {
       "output_type": "stream",
       "stream": "stdout",
       "text": [
        "\n",
        "Successful parse of payload: 2443\n",
        "Successful parse of payload: 3165"
       ]
      },
      {
       "output_type": "stream",
       "stream": "stdout",
       "text": [
        "\n",
        "Successful parse of payload: 1600"
       ]
      },
      {
       "output_type": "stream",
       "stream": "stdout",
       "text": [
        "\n",
        "Successful parse of payload: 2170\n",
        "Successful parse of payload: 2310"
       ]
      },
      {
       "output_type": "stream",
       "stream": "stdout",
       "text": [
        "\n",
        "Failed parse of payload: 2210"
       ]
      },
      {
       "output_type": "stream",
       "stream": "stdout",
       "text": [
        "\n",
        "Failed parse of payload: 4199"
       ]
      },
      {
       "output_type": "stream",
       "stream": "stdout",
       "text": [
        "\n",
        "Successful parse of payload: 2763\n",
        "Successful parse of payload: 791"
       ]
      },
      {
       "output_type": "stream",
       "stream": "stdout",
       "text": [
        "\n",
        "Successful parse of payload: 4235"
       ]
      },
      {
       "output_type": "stream",
       "stream": "stdout",
       "text": [
        "\n",
        "Successful parse of payload: 1946\n",
        "Successful parse of payload: 2871"
       ]
      },
      {
       "output_type": "stream",
       "stream": "stdout",
       "text": [
        "\n",
        "Successful parse of payload: 1850\n",
        "Successful parse of payload: 1607\n",
        "Successful parse of payload: 1588\n",
        "Successful parse of payload: 2108\n",
        "Successful parse of payload: 2407\n",
        "Successful parse of payload: 3572"
       ]
      },
      {
       "output_type": "stream",
       "stream": "stdout",
       "text": [
        "\n",
        "Successful parse of payload: 3499\n",
        "Successful parse of payload: 3033\n",
        "Successful parse of payload: 2798"
       ]
      },
      {
       "output_type": "stream",
       "stream": "stdout",
       "text": [
        "\n",
        "Successful parse of payload: 2007"
       ]
      },
      {
       "output_type": "stream",
       "stream": "stdout",
       "text": [
        "\n",
        "Successful parse of payload: 1859\n",
        "Successful parse of payload: 2314\n",
        "Successful parse of payload: 2479\n",
        "Failed parse of payload: 3123"
       ]
      },
      {
       "output_type": "stream",
       "stream": "stdout",
       "text": [
        "\n",
        "Successful parse of payload: 2344\n",
        "Successful parse of payload: 4397\n",
        "Successful parse of payload: 3317\n",
        "Successful parse of payload: 3277"
       ]
      },
      {
       "output_type": "stream",
       "stream": "stdout",
       "text": [
        "\n",
        "Successful parse of payload: 1180\n",
        "Successful parse of payload: 3038\n",
        "Successful parse of payload: 2329\n",
        "Successful parse of payload: 3525"
       ]
      },
      {
       "output_type": "stream",
       "stream": "stdout",
       "text": [
        "\n",
        "Successful parse of payload: 2122\n",
        "Successful parse of payload: 3590\n",
        "Successful parse of payload: 3139"
       ]
      },
      {
       "output_type": "stream",
       "stream": "stdout",
       "text": [
        "\n",
        "Successful parse of payload: 3307"
       ]
      },
      {
       "output_type": "stream",
       "stream": "stdout",
       "text": [
        "\n",
        "Successful parse of payload: 2838"
       ]
      },
      {
       "output_type": "stream",
       "stream": "stdout",
       "text": [
        "\n",
        "Successful parse of payload: 1085"
       ]
      },
      {
       "output_type": "stream",
       "stream": "stdout",
       "text": [
        "\n",
        "Failed parse of payload: 3480"
       ]
      },
      {
       "output_type": "stream",
       "stream": "stdout",
       "text": [
        "\n",
        "Successful parse of payload: 925\n",
        "Successful parse of payload: 636\n",
        "Successful parse of payload: 3558\n",
        "Failed parse of payload: 3424"
       ]
      },
      {
       "output_type": "stream",
       "stream": "stdout",
       "text": [
        "\n",
        "Successful parse of payload: 3494\n",
        "Successful parse of payload: 1164\n",
        "Successful parse of payload: 4279\n",
        "Successful parse of payload: 3416"
       ]
      },
      {
       "output_type": "stream",
       "stream": "stdout",
       "text": [
        "\n",
        "Successful parse of payload: 3437\n",
        "Successful parse of payload: 854\n",
        "Successful parse of payload: 3014\n",
        "Successful parse of payload: 3120"
       ]
      },
      {
       "output_type": "stream",
       "stream": "stdout",
       "text": [
        "\n",
        "Successful parse of payload: 3258\n",
        "Successful parse of payload: 3025"
       ]
      },
      {
       "output_type": "stream",
       "stream": "stdout",
       "text": [
        "\n",
        "Successful parse of payload: 272\n",
        "Successful parse of payload: 2358\n",
        "Successful parse of payload: 2352\n",
        "Successful parse of payload: 2269\n",
        "Successful parse of payload: 994"
       ]
      },
      {
       "output_type": "stream",
       "stream": "stdout",
       "text": [
        "\n",
        "Successful parse of payload: 3136\n",
        "Successful parse of payload: 2676\n",
        "Successful parse of payload: 2408\n",
        "Successful parse of payload: 4061"
       ]
      },
      {
       "output_type": "stream",
       "stream": "stdout",
       "text": [
        "\n",
        "Successful parse of payload: 2490\n",
        "Successful parse of payload: 3537\n",
        "Successful parse of payload: 2455\n",
        "Successful parse of payload: 2319"
       ]
      },
      {
       "output_type": "stream",
       "stream": "stdout",
       "text": [
        "\n",
        "Successful parse of payload: 2467"
       ]
      },
      {
       "output_type": "stream",
       "stream": "stdout",
       "text": [
        "\n",
        "Successful parse of payload: 1618\n",
        "Successful parse of payload: 4187\n",
        "Successful parse of payload: 3023\n",
        "Successful parse of payload: 4369\n",
        "Successful parse of payload: 3335"
       ]
      },
      {
       "output_type": "stream",
       "stream": "stdout",
       "text": [
        "\n",
        "Successful parse of payload: 1131\n",
        "Failed parse of payload: 2617\n",
        "Successful parse of payload: 3229\n",
        "Successful parse of payload: 2860"
       ]
      },
      {
       "output_type": "stream",
       "stream": "stdout",
       "text": [
        "\n",
        "Successful parse of payload: 1759"
       ]
      },
      {
       "output_type": "stream",
       "stream": "stdout",
       "text": [
        "\n",
        "Successful parse of payload: 303\n",
        "Successful parse of payload: 3292\n",
        "Successful parse of payload: 2048"
       ]
      },
      {
       "output_type": "stream",
       "stream": "stdout",
       "text": [
        "\n",
        "Successful parse of payload: 1856\n",
        "Successful parse of payload: 2774\n",
        "Successful parse of payload: 1851\n",
        "Successful parse of payload: 3128"
       ]
      },
      {
       "output_type": "stream",
       "stream": "stdout",
       "text": [
        "\n",
        "Successful parse of payload: 4139\n",
        "Successful parse of payload: 2520\n",
        "Successful parse of payload: 3355\n",
        "Successful parse of payload: 3201"
       ]
      },
      {
       "output_type": "stream",
       "stream": "stdout",
       "text": [
        "\n",
        "Successful parse of payload: 3673"
       ]
      },
      {
       "output_type": "stream",
       "stream": "stdout",
       "text": [
        "\n",
        "Successful parse of payload: 3923\n",
        "Successful parse of payload: 2898\n",
        "Successful parse of payload: 798\n",
        "Successful parse of payload: 3632\n",
        "Successful parse of payload: 3964\n",
        "Successful parse of payload: 4180"
       ]
      },
      {
       "output_type": "stream",
       "stream": "stdout",
       "text": [
        "\n",
        "Successful parse of payload: 4015\n",
        "Successful parse of payload: 1187\n",
        "Successful parse of payload: 2506"
       ]
      },
      {
       "output_type": "stream",
       "stream": "stdout",
       "text": [
        "\n",
        "Successful parse of payload: 3981\n",
        "Successful parse of payload: 3617\n",
        "Successful parse of payload: 4097\n",
        "Successful parse of payload: 2612\n",
        "Successful parse of payload: 2682\n",
        "Successful parse of payload: 1928\n",
        "Successful parse of payload: 1785\n",
        "Successful parse of payload: 1210"
       ]
      },
      {
       "output_type": "stream",
       "stream": "stdout",
       "text": [
        "\n",
        "Successful parse of payload: 4271\n",
        "Successful parse of payload: 3643"
       ]
      },
      {
       "output_type": "stream",
       "stream": "stdout",
       "text": [
        "\n",
        "Failed parse of payload: 3556\n",
        "Successful parse of payload: 4301\n",
        "Successful parse of payload: 1748\n"
       ]
      }
     ],
     "prompt_number": 198
    },
    {
     "cell_type": "code",
     "collapsed": false,
     "input": [
      "f   = open(\"/home/stevejb/Dropbox/purple-robot-db-query/993__try_1.json\")\n",
      "txt = f.read()\n",
      "js = json.loads(txt)"
     ],
     "language": "python",
     "metadata": {},
     "outputs": [],
     "prompt_number": 168
    },
    {
     "cell_type": "code",
     "collapsed": false,
     "input": [
      "success_parse.keys()"
     ],
     "language": "python",
     "metadata": {},
     "outputs": [
      {
       "metadata": {},
       "output_type": "pyout",
       "prompt_number": 199,
       "text": [
        "dict_keys(['2565', '3010', '2154', '248', '2017', '3926', '3830', '2792', '347', '4217', '2357', '3149', '2615', '309', '2010', '3132', '3263', '4107', '361', '2156', '3215', '2856', '2254', '2570', '1162', '3862', '2643', '3203', '2561', '1226', '1319', '2972', '3528', '1304', '1103', '3778', '3527', '4304', '307', '2694', '1260', '1603', '2993', '1179', '3328', '702', '3304', '415', '928', '2698', '2931', '2818', '2572', '4360', '3837', '3154', '769', '316', '3728', '3314', '2458', '2475', '2868', '2215', '797', '4027', '2815', '3843', '2464', '2403', '1317', '2026', '1906', '3549', '1747', '1092', '3696', '1574', '2517', '2335', '3186', '2483', '3419', '3900', '2995', '2607', '1178', '3208', '3482', '2272', '4246', '2516', '1137', '2743', '2828', '1705', '4230', '2282', '2162', '3344', '4424', '331', '3188', '2716', '2672', '1123', '2396', '1646', '1744', '3745', '2201', '1200', '1047', '262', '4287', '3440', '3642', '4342', '1940', '3245', '3747', '3715', '4401', '4136', '514', '1815', '1893', '2636', '1847', '3274', '1124', '2709', '3273', '1299', '3340', '2021', '4028', '1876', '768', '1631', '1655', '3082', '1789', '2655', '1914', '1687', '2216', '2696', '3022', '2438', '249', '2144', '1974', '2235', '1288', '3028', '3523', '3782', '775', '2390', '888', '1480', '3851', '2541', '784', '1129', '1901', '3896', '1702', '2208', '870', '2970', '4175', '3271', '4073', '2728', '2719', '2576', '271', '3118', '1291', '4272', '3254', '3672', '414', '1138', '4041', '2998', '4222', '2318', '2784', '2542', '2589', '4363', '4325', '3084', '1714', '2025', '2197', '3006', '2028', '1484', '1259', '3873', '2613', '1250', '2447', '1745', '3041', '3300', '4135', '2653', '3776', '2267', '3976', '1794', '3145', '857', '3489', '2190', '3237', '3543', '1350', '3080', '2726', '2801', '4063', '3275', '2364', '2019', '4372', '873', '3738', '1657', '2491', '1312', '4255', '1113', '1659', '2909', '1743', '780', '1996', '1283', '3665', '1182', '3903', '4051', '3735', '3755', '4150', '2230', '2583', '1912', '1067', '2307', '2463', '3550', '2960', '2383', '3749', '1986', '3088', '4343', '1803', '2741', '4060', '3488', '3890', '2474', '3252', '2992', '2907', '2106', '1577', '3949', '1616', '582', '3635', '4387', '2356', '3382', '1723', '2295', '1086', '892', '2683', '1793', '2145', '2905', '3386', '2679', '2873', '2713', '1642', '1802', '2628', '3311', '3504', '3598', '897', '2822', '2749', '2884', '3202', '1889', '1286', '4344', '511', '1954', '2313', '229', '2123', '866', '3070', '750', '1114', '2601', '3184', '3910', '2067', '1090', '1967', '1669', '322', '910', '2220', '3139', '3053', '2319', '1692', '935', '1683', '2244', '1246', '3991', '818', '3312', '3619', '1305', '1093', '2294', '2756', '3046', '2466', '2288', '1598', '2930', '4016', '4138', '3675', '3972', '1930', '2505', '1832', '1222', '1573', '2976', '3400', '250', '1253', '1943', '1193', '1652', '3604', '1712', '3831', '1587', '2115', '4390', '3322', '2504', '2409', '3377', '1311', '3839', '3354', '2088', '3063', '4399', '4248', '2832', '4324', '4381', '3108', '3538', '1632', '2695', '2130', '247', '3391', '2427', '3792', '2925', '2229', '2435', '917', '2141', '1908', '2958', '1580', '2219', '3761', '3835', '2577', '4056', '3563', '3185', '1225', '3621', '3414', '3223', '4331', '2865', '4297', '4206', '3066', '3115', '4380', '2018', '1864', '281', '3826', '3660', '3194', '2158', '2299', '3970', '2740', '1638', '3459', '2781', '2812', '954', '3791', '3577', '1230', '1955', '2300', '2752', '2124', '3443', '2206', '1863', '778', '3493', '862', '1108', '1878', '3378', '2070', '820', '3284', '1170', '1635', '2866', '2469', '2677', '1082', '3752', '1120', '1269', '3109', '3612', '3882', '4268', '1728', '2012', '4146', '1457', '2436', '254', '301', '3345', '2245', '2658', '2410', '1730', '2241', '1126', '3362', '344', '4240', '919', '3268', '1875', '1083', '2315', '4289', '2883', '1346', '1716', '1991', '2366', '2660', '2513', '3548', '2226', '3455', '4245', '1479', '2647', '2899', '3720', '2538', '3817', '357', '3126', '340', '4328', '2477', '1697', '2368', '1213', '2240', '2429', '3764', '2704', '2598', '2355', '227', '2449', '2959', '2943', '777', '1321', '2027', '1905', '3135', '1985', '1210', '875', '1322', '4072', '3072', '1256', '4270', '2497', '2172', '3938', '2489', '2274', '1926', '2510', '2329', '4247', '2194', '2631', '3138', '3383', '2793', '2166', '3134', '914', '2898', '1769', '906', '2224', '2807', '2203', '2778', '1665', '850', '1677', '2525', '2186', '2725', '2703', '2177', '4161', '2326', '4425', '228', '3805', '1647', '2072', '2457', '4082', '2968', '3650', '1855', '2311', '2232', '1188', '2560', '2276', '2332', '4226', '895', '3412', '2179', '3116', '3358', '1924', '3241', '3579', '3924', '2659', '3813', '911', '2138', '3576', '3055', '1591', '1921', '3807', '2297', '2131', '2965', '2948', '1628', '2975', '3321', '4275', '4374', '2775', '3054', '3609', '2759', '1645', '358', '4020', '4126', '3815', '3469', '1175', '4005', '360', '825', '3352', '1801', '3366', '2075', '242', '3587', '2423', '269', '3820', '3142', '2020', '3514', '2582', '869', '1579', '3933', '2380', '2281', '255', '2843', '1315', '4402', '1761', '3095', '2988', '3599', '4031', '3182', '1621', '2176', '2426', '3016', '3759', '3912', '350', '4168', '1717', '1597', '1594', '4327', '3841', '3153', '3503', '3829', '1586', '1977', '1895', '342', '4111', '4003', '3094', '1009', '1596', '4123', '3167', '2375', '4432', '2984', '3130', '3968', '3212', '3431', '1754', '4101', '1700', '1116', '4099', '4409', '1274', '2406', '929', '840', '2456', '1223', '2591', '4384', '2527', '3659', '1844', '2735', '4077', '2681', '2038', '2612', '235', '2290', '3554', '320', '1654', '2851', '1409', '1783', '290', '2654', '3847', '2820', '1758', '3045', '1220', '1690', '3079', '1177', '1278', '792', '2420', '2928', '4213', '3580', '3772', '3064', '2767', '4182', '1257', '2816', '4207', '1910', '832', '2927', '2863', '886', '2121', '3091', '2571', '2432', '2377', '3511', '3301', '2361', '1981', '3193', '1765', '3756', '1664', '2805', '2393', '3190', '3445', '846', '2471', '3624', '3152', '2327', '4227', '3452', '4276', '2251', '1781', '3581', '3105', '3327', '3379', '1160', '2317', '2786', '2147', '3456', '3244', '1280', '1775', '2006', '4032', '3234', '2869', '1132', '3308', '2539', '2292', '3802', '1884', '1181', '4117', '2185', '821', '2173', '4120', '2490', '3571', '3811', '3341', '2472', '3131', '257', '3262', '4200', '2189', '4219', '2552', '2419', '830', '2678', '1265', '2690', '1254', '4273', '4382', '2894', '4012', '4074', '1276', '4143', '3685', '2157', '868', '1252', '2004', '3588', '3163', '1608', '1643', '4190', '2212', '3723', '3603', '329', '2016', '1822', '2084', '847', '3526', '3256', '3606', '1300', '2029', '2575', '1852', '2218', '3161', '4064', '296', '1694', '3119', '1251', '2747', '3730', '1115', '1721', '2547', '1949', '819', '4214', '2285', '3479', '2806', '3227', '2338', '2803', '4232', '829', '2721', '3381', '3718', '3247', '1764', '4169', '2086', '3800', '2848', '283', '3779', '2037', '2454', '2760', '3474', '4010', '4310', '3411', '3753', '2657', '2118', '2911', '1197', '2940', '2963', '2502', '782', '1737', '3483', '3814', '4356', '3204', '4130', '2322', '1348', '3605', '3283', '1830', '4292', '3750', '362', '2595', '924', '4185', '3461', '3956', '1298', '325', '1678', '513', '2213', '1932', '1770', '4308', '1689', '2564', '1234', '2520', '3309', '2302', '4204', '2233', '1543', '4379', '3370', '2059', '306', '3329', '2441', '1834', '844', '2823', '1279', '2359', '1097', '3515', '2810', '3222', '4295', '2877', '2127', '2706', '2562', '4102', '3602', '2374', '3634', '4291', '3845', '1816', '1183', '2199', '339', '3865', '2146', '865', '1872', '3143', '1805', '3793', '4084', '3008', '3684', '2638', '3717', '1867', '2316', '1157', '3557', '4229', '1734', '328', '790', '3559', '326', '801', '3207', '3224', '3438', '2523', '2192', '3983', '858', '918', '4321', '1820', '3003', '3801', '1890', '1303', '3542', '893', '1866', '1174', '3418', '1046', '3881', '1861', '3501', '1486', '3356', '3859', '2600', '3594', '3232', '2270', '4045', '2875', '1679', '2291', '4167', '3852', '3944', '3051', '992', '3597', '781', '1320', '2102', '1590', '3297', '3266', '1308', '2459', '1194', '2126', '1096', '3278', '3666', '2906', '2641', '2187', '787', '1869', '1602', '313', '3946', '1809', '3570', '1050', '3199', '2260', '2629', '4377', '1839', '2139', '3726', '3676', '1708', '3507', '3342', '1899', '2350', '1957', '2085', '1843', '2722', '794', '3622', '3000', '3828', '817', '3846', '4137', '3213', '1229', '2853', '2030', '1482', '3168', '1849', '2113', '2707', '3183', '4236', '3313', '774', '822', '2936', '2498', '3669', '273', '1691', '3739', '1458', '4186', '1980', '3520', '4118', '4154', '3939', '1105', '2918', '833', '2831', '3812', '1672', '2120', '1740', '2283', '3276', '3701', '1232', '299', '3221', '4039', '2990', '3404', '2296', '3909', '3371', '1826', '3953', '2730', '2228', '2872', '3959', '3591', '2648', '3463', '266', '3150', '277', '2049', '2732', '2858', '1812', '2271', '3929', '1617', '3714', '3595', '2323', '1987', '4029', '4203', '896', '4104', '3200', '1245', '4094', '3078', '4258', '4188', '2486', '3533', '749', '1813', '3198', '2954', '1736', '268', '3255', '3914', '2048', '932', '1777', '4353', '1798', '4373', '2908', '2645', '2424', '2737', '4357', '3225', '2278', '3449', '2955', '2688', '4042', '2090', '3214', '3348', '1208', '1302', '3982', '4349', '3393', '2903', '2611', '2061', '4040', '4371', '1918', '4265', '1707', '2492', '3127', '2957', '4177', '3216', '1964', '3017', '2092', '2066', '3957', '1937', '2421', '3048', '1612', '2407', '1135', '4422', '1739', '3486', '3809', '1885', '1854', '2107', '1784', '3392', '1624', '1945', '3264', '3919', '4033', '1755', '1158', '2662', '4014', '1838', '3936', '3911', '2626', '3897', '3083', '2314', '2776', '2675', '2878', '1898', '1196', '3867', '3433', '1795', '1248', '3510', '3573', '4110', '2161', '353', '3401', '1611', '2412', '1936', '3513', '345', '3074', '2531', '2202', '4098', '2892', '4345', '942', '3856', '4021', '3535', '1752', '3165', '3267', '3180', '4334', '2649', '2097', '2697', '1756', '4433', '3618', '881', '3219', '3170', '4340', '3178', '2253', '1637', '1931', '3532', '1860', '259', '4294', '3043', '3734', '1706', '3671', '2830', '1127', '3331', '3128', '1185', '4108', '2962', '3162', '811', '2769', '2859', '3422', '3958', '1732', '3834', '1771', '1313', '2116', '2002', '635', '1625', '1900', '2838', '3774', '4011', '4256', '3210', '3941', '3781', '2400', '1318', '1263', '2111', '2337', '3173', '3114', '4396', '1746', '4415', '2824', '4025', '3751', '1675', '3107', '2298', '2691', '2596', '2942', '1262', '3758', '1871', '2055', '1982', '2614', '1827', '3281', '2100', '1613', '3407', '884', '2671', '4339', '1099', '2425', '3848', '3157', '1077', '2574', '1195', '2982', '1292', '1882', '2543', '4413', '3346', '3688', '3195', '1768', '4423', '2804', '2689', '2040', '1836', '2083', '2052', '4311', '1831', '2060', '1715', '2604', '1255', '2733', '1846', '4280', '231', '2946', '2416', '3719', '1778', '880', '4354', '346', '2635', '4165', '701', '1633', '1323', '4395', '3205', '3306', '2935', '2428', '2809', '1582', '2032', '788', '2275', '2524', '3724', '4266', '2153', '363', '2844', '3555', '1913', '3500', '2814', '2089', '3156', '795', '3516', '3940', '2063', '4172', '4392', '2054', '1506', '2450', '3727', '3904', '4428', '2149', '2242', '2701', '1191', '2956', '3913', '338', '297', '3551', '2207', '2031', '3039', '223', '3101', '2009', '236', '2155', '3098', '1879', '1976', '3760', '2518', '2881', '3018', '332', '1184', '3129', '1297', '241', '2418', '2043', '3567', '4393', '2745', '321', '3736', '4323', '4228', '3868', '4365', '3310', '3661', '286', '3818', '3743', '2618', '4218', '3564', '2222', '3491', '2546', '2610', '2482', '3047', '3987', '4053', '4057', '2341', '264', '934', '2446', '4087', '4152', '3880', '905', '4058', '2996', '3651', '2606', '3681', '3741', '1951', '3417', '1773', '4386', '2874', '2521', '2727', '3285', '2496', '2790', '3894', '3002', '2334', '3353', '1780', '1724', '3505', '3786', '3917', '2668', '3005', '2714', '770', '2227', '1076', '311', '226', '4426', '3475', '1862', '2382', '3217', '838', '1161', '2624', '2652', '4001', '2434', '4264', '2919', '2821', '1787', '3007', '2065', '2764', '3601', '1693', '1961', '2780', '4192', '4105', '1791', '3586', '1084', '3744', '1068', '3027', '256', '1763', '859', '3206', '2320', '2665', '2399', '2850', '1136', '3593', '308', '2500', '1227', '265', '3160', '4317', '2528', '2772', '3104', '3898', '3125', '292', '1725', '3509', '3536', '2530', '3124', '2515', '2985', '2303', '2619', '3059', '4085', '2035', '3663', '1909', '3707', '3574', '1696', '3899', '3797', '2961', '1199', '2867', '3974', '3680', '282', '2087', '3413', '1605', '4337', '2913', '2923', '2353', '2584', '2755', '3269', '2667', '2535', '1614', '2159', '1877', '3575', '3995', '1814', '3558', '4133', '808', '3133', '230', '861', '1891', '3415', '3081', '3969', '3667', '1640', '2360', '4322', '3399', '4004', '1615', '3962', '4036', '3261', '2882', '2485', '3100', '4081', '1588', '2512', '2966', '3113', '2746', '938', '898', '3012', '2095', '1131', '3122', '2473', '3702', '359', '4201', '3979', '2545', '4075', '3121', '3901', '4112', '4418', '4252', '2287', '2813', '4398', '2934', '3141', '4149', '2264', '912', '2630', '4158', '1994', '3534', '1644', '2050', '4296', '3376', '3931', '2014', '3034', '1301', '3625', '2738', '3861', '3854', '4050', '1176', '3287', '802', '814', '2912', '1868', '2373', '1929', '3922', '1668', '3351', '1956', '3840', '1825', '2808', '1713', '2603', '1733', '4361', '3502', '274', '3484', '2503', '3952', '2621', '2256', '3710', '1709', '4096', '3980', '3137', '3450', '2637', '1118', '1618', '1766', '2724', '2800', '2238', '2686', '3686', '2651', '3907', '2974', '2074', '2325', '3319', '1823', '3240', '1583', '3626', '284', '4002', '1806', '3040', '2125', '4109', '3495', '484', '4243', '4069', '3925', '1779', '1818', '1703', '4303', '2849', '2182', '2794', '3388', '4086', '4436', '4048', '4147', '4088', '3808', '2103', '877', '4119', '288', '2904', '2579', '2128', '4153', '275', '2448', '4093', '4389', '2151', '1589', '2064', '3552', '2225', '4140', '2046', '4124', '1897', '2717', '3339', '3286', '2493', '2533', '3466', '1282', '2402', '930', '4092', '1923', '4079', '336', '2711', '637', '4282', '1242', '1888', '3030', '4148', '3021', '3423', '1922', '4388', '3623', '2687', '2944', '3872', '823', '2839', '3332', '334', '2795', '4263', '333', '3009', '2534', '3226', '2836', '2555', '3481', '3037', '3824', '899', '1667', '1240', '2398', '2209', '278', '239', '1804', '3246', '4319', '3930', '1883', '3148', '2609', '2917', '4170', '2168', '3647', '3711', '2204', '4416', '826', '2789', '1786', '1666', '3243', '3870', '2261', '3875', '3905', '1219', '4046', '4052', '1316', '1701', '2837', '3950', '1767', '1821', '4376', '3305', '3842', '2634', '2105', '805', '1858', '3679', '4144', '1840', '4132', '1599', '3374', '3971', '1662', '2022', '2945', '3530', '3517', '1941', '3257', '3097', '2079', '842', '2367', '3908', '3937', '3565', '2770', '1247', '4127', '3731', '4049', '2401', '3857', '4035', '1125', '2864', '3253', '1810', '3349', '1080', '2386', '3692', '2445', '245', '3596', '2392', '1911', '1760', '2324', '3838', '2834', '3220', '3471', '4178', '4326', '4183', '3545', '3578', '2526', '3036', '1902', '4078', '2557', '1811', '3966', '2255', '2331', '3613', '2221', '4364', '3179', '3146', '2673', '3295', '3706', '2594', '2797', '3547', '3984', '3181', '4017', '2077', '4159', '244', '4006', '2305', '3110', '824', '3441', '700', '1314', '234', '3058', '1774', '2237', '4221', '3068', '1121', '1919', '1244', '263', '1671', '3885', '3421', '2346', '2819', '2413', '3231', '1979', '3662', '885', '3092', '2389', '3233', '298', '1828', '786', '3935', '4313', '4359', '816', '2702', '3052', '4018', '2395', '2750', '837', '3019', '2921', '2588', '2277', '2977', '3498', '3372', '2840', '1695', '1995', '1731', '2751', '3699', '2916', '2920', '1218', '845', '1239', '4358', '1688', '2385', '1963', '2761', '3387', '3965', '1983', '4220', '1792', '1258', '2348', '3827', '2379', '3364', '2685', '1167', '3155', '1214', '3674', '2263', '4054', '2640', '3288', '993', '3140', '1545', '1958', '3951', '3887', '3406', '1231', '4407', '1595', '3687', '2742', '2047', '3906', '1629', '2041', '1198', '1163', '3652', '4309', '285', '2462', '2605', '1610', '3093', '856', '3877', '4367', '317', '2537', '2888', '2753', '1641', '3871', '240', '3630', '1797', '3531', '2336', '287', '2465', '1104', '953', '3293', '3608', '2470', '2371', '3192', '2712', '1894', '1584', '1180', '1870', '2452', '2773', '3546', '2062', '1168', '2891', '1992', '4330', '1627', '4383', '3158', '831', '2926', '4249', '2620', '2051', '1264', '807', '3087', '2257', '1738', '3467', '1088', '2279', '2811', '4231', '1159', '3822', '3209', '2693', '2394', '1971', '3748', '4335', '3695', '4250', '1829', '2164', '3497', '2268', '4157', '3629', '3866', '3020', '2484', '4406', '3874', '2381', '2301', '280', '2099', '2109', '4338', '1626', '4030', '2453', '295', '2104', '3460', '2989', '2715', '1682', '3589', '2487', '1660', '3934', '771', '2508', '887', '3821', '1581', '2890', '1684', '2586', '4378', '4239', '1845', '1051', '1925', '4115', '2101', '2592', '2223', '2093', '225', '3988', '1727', '3916', '3921', '279', '2036', '3683', '4427', '3975', '1720', '3638', '3932', '936', '1904', '1842', '2191', '3031', '2971', '2231', '2700', '2718', '2480', '4431', '3211', '1306', '3272', '2723', '2736', '4320', '1544', '2910', '4234', '4429', '3389', '1988', '4238', '1944', '4394', '1249', '3117', '3298', '1680', '1939', '2938', '2415', '2015', '3477', '3819', '1456', '314', '1592', '1228', '4346', '2211', '4125', '324', '2787', '4208', '3610', '2556', '1751', '3664', '894', '4131', '3458', '2978', '3518', '4281', '1211', '3541', '2248', '1966', '1841', '854', '4162', '2599', '1307', '2519', '4070', '4091', '2796', '1634', '2003', '3011', '3918', '1965', '1296', '2639', '3176', '3694', '289', '2855', '2847', '3069', '2729', '4134', '2841', '3473', '2559', '2754', '3889', '3330', '2080', '1835', '3357', '1130', '2669', '4307', '1917', '2252', '1504', '4151', '2188', '3228', '3049', '3529', '1111', '1915', '3099', '1601', '3948', '2573', '3368', '4411', '3582', '2825', '3279', '1726', '3096', '2171', '4043', '3343', '3860', '4293', '3853', '3754', '3106', '3584', '2354', '3089', '2422', '3090', '3248', '864', '3989', '2345', '267', '2306', '3291', '1285', '3810', '1215', '2969', '1968', '3607', '2342', '3796', '2114', '2258', '3891', '4129', '1975', '2529', '4316', '2880', '2886', '1742', '2889', '810', '2468', '1289', '2540', '4368', '2057', '1609', '4341', '2347', '3302', '3260', '1172', '2578', '3639', '2378', '4023', '2870', '2129', '2343', '4224', '2692', '4160', '2417', '293', '3259', '1938', '2558', '916', '3112', '863', '2461', '1411', '3978', '2008', '2494', '1293', '2854', '2246', '636', '1762', '2351', '2376', '1128', '3649', '3294', '1711', '799', '2550', '803', '1008', '2259', '1699', '2437', '2933', '3425', '335', '2132', '4210', '3075', '1604', '2593', '2710', '4047', '3363', '2991', '3780', '3373', '3420', '3892', '1989', '4121', '2568', '2013', '3144', '4071', '3690', '2829', '4288', '1886', '4434', '3583', '3061', '2827', '3763', '3990', '3060', '2183', '3218', '2979', '318', '2650', '3062', '1110', '3187', '3251', '3733', '232', '2501', '2280', '3326', '1273', '4278', '2758', '871', '2563', '3585', '2791', '2622', '2896', '4037', '4009', '3375', '2983', '2078', '3318', '3765', '3844', '4055', '3151', '4184', '1485', '1192', '4083', '3656', '3172', '3869', '839', '2333', '834', '3073', '3395', '4090', '931', '3677', '2365', '1685', '3086', '233', '3164', '3410', '907', '841', '2096', '4241', '1101', '2666', '2321', '876', '1483', '304', '2476', '2734', '355', '2073', '2180', '2846', '3067', '1081', '2372', '2330', '1270', '872', '1663', '4404', '1309', '2937', '2135', '4080', '3985', '2404', '3522', '1107', '1698', '2478', '1920', '4026', '2094', '2247', '1295', '2387', '3361', '1729', '2045', '3239', '1622', '3927', '4007', '3568', '3333', '3396', '1233', '3042', '2924', '2236', '2765', '2597', '1202', '4259', '2922', '3197', '3496', '3783', '1800', '3757', '4196', '2433', '270', '3320', '1998', '2133', '1833', '4179', '3334', '890', '4044', '2777', '258', '2997', '3492', '485', '3628', '3798', '2973', '2680', '276', '3280', '1243', '3967', '3746', '4155', '2842', '2981', '1950', '3102', '3004', '2664', '3893', '1757', '4267', '2328', '2119', '312', '1749', '3616', '2488', '1619', '1048', '2411', '2644', '2986', '2950', '3611', '3997', '3336', '3380', '2939', '2069', '2044', '964', '2782', '2748', '3993', '253', '3242', '2932', '3767', '4314', '3103', '1947', '1122', '3627', '2414', '1271', '3614', '2762', '3942', '3325', '2817', '4347', '3235', '4059', '319', '4038', '4257', '4391', '2214', '3013', '2362', '2165', '3799', '806', '3238', '2117', '4284', '2196', '3050', '2250', '3029', '4302', '1347', '3338', '3384', '3071', '852', '2340', '2656', '2964', '1117', '3436', '1824', '4145', '1807', '2585', '3705', '2580', '3977', '3169', '1639', '2862', '4285', '1853', '2554', '3316', '4385', '4370', '4277', '3024', '2799', '2642', '3693', '1205', '3794', '4305', '3065', '1808', '1959', '2349', '3832', '3620', '2384', '3864', '1946', '2670', '3878', '4306', '3230', '3653', '3147', '2744', '1203', '851', '2167', '3784', '4076', '3337', '2887', '2137', '1607', '3561', '337', '4355', '2308', '4315', '2091', '1984', '4352', '1704', '2833', '1848', '581', '2768', '3855', '3085', '2430', '3426', '4194', '2967', '2058', '1799', '4163', '3961', '2193', '1505', '4034', '1169', '1661', '815', '4430', '2005', '3689', '4290', '486', '2266', '3703', '4068', '3709', '1290', '1658', '260', '1284', '2479', '3823', '1676', '4089', '2514', '3945', '923', '3740', '2646', '1916', '2481', '2941', '3770', '1865', '330', '2056', '812', '4375', '4215', '3836', '583', '2625', '1189', '2509', '3850', '3175', '2627', '937', '3773', '2110', '1753', '1649', '2370', '2286', '2536', '3883', '3698', '3394', '3999', '2205', '2674', '2363', '2405', '4024', '813', '2708', '804', '2312', '1166', '2980', '4141', '1623', '879', '1873', '251', '3992', '3174', '2239', '4156', '2217', '3920', '4095', '3708', '903', '2178', '2148', '2184', '2011', '2195', '2876', '2587', '4261', '1212', '1620', '3476', '836', '1896', '926', '2460', '3816', '3879', '1576', '4171', '1221', '909', '1653', '1066', '1741', '3590', '3290', '4223', '1997', '1089', '1478', '4414', '1171', '3722', '3323', '3777', '1881', '4216', '4209', '4202', '3282', '2861', '2000', '2949', '2112', '2198', '3955', '848', '3592', '3775', '1224', '2024', '4013', '3986', '261', '3732', '2551', '1186', '3519', '1275', '2553', '4242', '3442', '3076', '3385', '3795', '2720', '3789', '2788', '3434', '800', '2200', '4067', '1942', '3682', '2852', '2511', '2914', '1281', '3636', '3954', '1294', '1650', '3633', '2522', '4164', '2929', '4333', '3191', '3296', '772', '3347', '4198', '2169', '3560', '1674', '785', '853', '4106', '1173', '2987', '3569', '2442', '2705', '2845', '512', '2451', '4260', '4233', '4300', '2802', '2068', '3416', '2160', '3171', '3886', '1165', '874', '323', '2895', '3716', '2431', '913', '3447', '2548', '2532', '1133', '2439', '238', '1993', '779', '2175', '2857', '2304', '867', '3858', '2289', '1962', '3645', '4283', '2567', '4318', '2632', '4173', '3350', '3258', '3646', '1972', '4128', '3026', '1112', '272', '3697', '927', '2076', '1277', '3299', '3250', '1201', '2757', '2142', '3803', '860', '3729', '2136', '1585', '4332', '2684', '1410', '1079', '2885', '773', '4348', '4113', '1149', '1750', '1578', '2835', '2273', '3512', '1261', '310', '4329', '1953', '933', '1907', '243', '2581', '1310', '4211', '883', '4065', '3876', '843', '1819', '4100', '4351', '558', '351', '3249', '3427', '793', '4269', '2309', '4253', '1874', '2590', '3762', '2495', '1106', '1606', '4008', '2249', '4000', '3771', '891', '3544', '1776', '1656', '1204', '3289', '2455', '4403', '4251', '3159', '3737', '855', '4274', '3998', '3365', '3367', '1651', '3077', '3947', '2053', '4122', '789', '3960', '2262', '2071', '1722', '2952', '2785', '1091', '3895', '1670', '4244', '3508', '3539', '3023', '2915', '2661', '3713', '3700', '4176', '2608', '3032', '1952', '3521', '1990', '3849', '2897', '1686', '1927', '3863', '4362', '2499', '2860', '3994', '1973', '2243', '1710', '1681', '3490', '4286', '1887', '2566', '1788', '3359', '4237', '2901', '2783', '1575', '3768', '796', '1102', '809', '1241', '2739', '2953', '3790', '3888', '4022', '2623', '3943', '1206', '3804', '1772', '3996', '828', '4193', '1087', '4262', '3562', '3915', '2140', '224', '3668', '2098', '3177', '2397', '4142', '2951', '3785', '3788', '4366', '4066', '1978', '2163', '1851', '4174', '3015', '3189', '2549', '3806', '2134', '3270', '4336', '1217', '1796', '237', '252', '4298', '2444', '3303', '3166', '1719', '3540', '2633', '3437', '2900', '3487', '3236', '2001', '2663', '1100', '1636', '1969', '1109', '2284', '1934', '3324', '2034', '878', '2602', '3111', '776', '4205', '1790', '3648', '4114', '1960', '2039', '3524', '2369', '1857', '2766', '1094', '1119', '3928', '908', '2042', '3704', '835', '2902', '2879', '4180', '3566', '3035', '1817', '3712', '2152', '246', '315', '2023', '3902', '3615', '1880', '3678', '2174', '3825', '4312', '2443', '1948', '1600', '2170', '2310', '1481', '2763', '791', '4235', '1095', '2871', '1850', '4116', '2181', '2108', '1648', '3572', '3499', '3033', '2798', '2007', '1859', '2544', '2082', '2344', '4397', '3317', '3277', '4435', '3038', '3398', '3525', '2731', '2122', '327', '4225', '3307', '1999', '925', '1216', '2994', '3494', '1164', '4279', '3390', '3044', '1933', '4400', '3014', '3120', '3056', '3025', '2234', '2358', '2352', '2269', '994', '3136', '2676', '2408', '4061', '1935', '3537', '3725', '1148', '2467', '3369', '4187', '2999', '4369', '3335', '3229', '3553', '1759', '303', '3292', '4166', '1856', '2774', '1735', '348', '4139', '2779', '2293', '3355', '3201', '3673', '3923', '2150', '1892', '798', '3632', '3964', '2391', '4015', '1187', '2506', '3981', '3617', '4097', '1085', '1748', '2682', '1928', '1785', '1630', '4271', '3643', '4301', '2616'])"
       ]
      }
     ],
     "prompt_number": 199
    },
    {
     "cell_type": "code",
     "collapsed": false,
     "input": [
      "## probe_idx takes the list of items\n",
      "## iterates through each payload, and creates an index of \n",
      "## probe types.\n",
      "## \n",
      "## For example, \n",
      "## probe_idx['edu.northwestern.cbits.purple_robot_manager.probes.builtin.LocationProbe'] == \n",
      "##     [('2565', 0),   ## payload 0 of parse 2565\n",
      "##      ('3010', 3),\n",
      "##      ('3926', 2),\n",
      "##      ('3830', 1),\n",
      "##      ...\n",
      "###     ]\n",
      "\n",
      "probe_idx = dict()\n",
      "for k,v in success_parse.items():\n",
      "    \n",
      "    payloads = v['Payload']\n",
      "\n",
      "    for i,v in enumerate(payloads):\n",
      "        ptype = v['PROBE']\n",
      "        if ptype in probe_idx:\n",
      "            probe_idx[ptype].append((k,i))\n",
      "        else:\n",
      "            probe_idx[ptype] = [(k,i)]"
     ],
     "language": "python",
     "metadata": {},
     "outputs": [],
     "prompt_number": 225
    },
    {
     "cell_type": "code",
     "collapsed": false,
     "input": [
      "for k in probe_idx.keys():\n",
      "    print(k)"
     ],
     "language": "python",
     "metadata": {},
     "outputs": [
      {
       "output_type": "stream",
       "stream": "stdout",
       "text": [
        "edu.northwestern.cbits.purple_robot_manager.probes.builtin.TelephonyProbe\n",
        "edu.northwestern.cbits.purple_robot_manager.probes.features.CallHistoryFeature\n",
        "edu.northwestern.cbits.purple_robot_manager.probes.builtin.LocationProbe\n",
        "edu.northwestern.cbits.purple_robot_manager.probes.builtin.NetworkProbe\n",
        "edu.northwestern.cbits.purple_robot_manager.probes.builtin.HardwareInformationProbe\n",
        "edu.northwestern.cbits.purple_robot_manager.probes.builtin.RunningSoftwareProbe\n",
        "edu.northwestern.cbits.purple_robot_manager.probes.builtin.CommunicationLogProbe\n",
        "edu.northwestern.cbits.purple_robot_manager.probes.builtin.CallStateProbe\n",
        "edu.northwestern.cbits.purple_robot_manager.probes.builtin.CommunicationEventProbe\n",
        "edu.northwestern.cbits.purple_robot_manager.probes.builtin.BatteryProbe\n",
        "edu.northwestern.cbits.purple_robot_manager.probes.features.DeviceInUseFeature\n",
        "edu.northwestern.cbits.purple_robot_manager.probes.builtin.RobotHealthProbe\n",
        "edu.northwestern.cbits.purple_robot_manager.probes.features.SunriseSunsetFeature\n",
        "edu.northwestern.cbits.purple_robot_manager.probes.builtin.SoftwareInformationProbe\n",
        "edu.northwestern.cbits.purple_robot_manager.probes.builtin.DateCalendarProbe\n",
        "edu.northwestern.cbits.purple_robot_manager.probes.builtin.WifiAccessPointsProbe\n",
        "edu.northwestern.cbits.purple_robot_manager.probes.builtin.ScreenProbe\n"
       ]
      }
     ],
     "prompt_number": 227
    },
    {
     "cell_type": "code",
     "collapsed": false,
     "input": [
      "def get_location(x):\n",
      "    return"
     ],
     "language": "python",
     "metadata": {},
     "outputs": []
    },
    {
     "cell_type": "code",
     "collapsed": false,
     "input": [
      "location_probe = \"edu.northwestern.cbits.purple_robot_manager.probes.builtin.LocationProbe\"\n",
      "# probe_idx[location_probe]\n",
      "\n",
      "def access(k,i):\n",
      "    return(success_parse[k]['Payload'][i])\n",
      "\n",
      "locations = list()\n",
      "for (k,i) in probe_idx[location_probe]:\n",
      "    z = access(k, int(i))\n",
      "    #print(\"k: \" + str(k) + \" i: \" + str(i))\n",
      "    out = {\"LONG\": z['LONGITUDE'], LAT: z['LATITUDE']}\n",
      "    print(out)\n",
      "\n",
      "   \n"
     ],
     "language": "python",
     "metadata": {},
     "outputs": [
      {
       "ename": "NameError",
       "evalue": "name 'LONG' is not defined",
       "output_type": "pyerr",
       "traceback": [
        "\u001b[0;31m---------------------------------------------------------------------------\u001b[0m\n\u001b[0;31mNameError\u001b[0m                                 Traceback (most recent call last)",
        "\u001b[0;32m<ipython-input-244-656588913334>\u001b[0m in \u001b[0;36m<module>\u001b[0;34m()\u001b[0m\n\u001b[1;32m      9\u001b[0m     \u001b[0mz\u001b[0m \u001b[0;34m=\u001b[0m \u001b[0maccess\u001b[0m\u001b[0;34m(\u001b[0m\u001b[0mk\u001b[0m\u001b[0;34m,\u001b[0m \u001b[0mint\u001b[0m\u001b[0;34m(\u001b[0m\u001b[0mi\u001b[0m\u001b[0;34m)\u001b[0m\u001b[0;34m)\u001b[0m\u001b[0;34m\u001b[0m\u001b[0m\n\u001b[1;32m     10\u001b[0m     \u001b[0;31m#print(\"k: \" + str(k) + \" i: \" + str(i))\u001b[0m\u001b[0;34m\u001b[0m\u001b[0;34m\u001b[0m\u001b[0m\n\u001b[0;32m---> 11\u001b[0;31m     \u001b[0mout\u001b[0m \u001b[0;34m=\u001b[0m \u001b[0;34m{\u001b[0m\u001b[0mLONG\u001b[0m\u001b[0;34m:\u001b[0m \u001b[0mz\u001b[0m\u001b[0;34m[\u001b[0m\u001b[0;34m'LONGITUDE'\u001b[0m\u001b[0;34m]\u001b[0m\u001b[0;34m,\u001b[0m \u001b[0mLAT\u001b[0m\u001b[0;34m:\u001b[0m \u001b[0mz\u001b[0m\u001b[0;34m[\u001b[0m\u001b[0;34m'LATITUDE'\u001b[0m\u001b[0;34m]\u001b[0m\u001b[0;34m}\u001b[0m\u001b[0;34m\u001b[0m\u001b[0m\n\u001b[0m\u001b[1;32m     12\u001b[0m     \u001b[0mprint\u001b[0m\u001b[0;34m(\u001b[0m\u001b[0mout\u001b[0m\u001b[0;34m)\u001b[0m\u001b[0;34m\u001b[0m\u001b[0m\n\u001b[1;32m     13\u001b[0m \u001b[0;34m\u001b[0m\u001b[0m\n",
        "\u001b[0;31mNameError\u001b[0m: name 'LONG' is not defined"
       ]
      }
     ],
     "prompt_number": 244
    },
    {
     "cell_type": "code",
     "collapsed": false,
     "input": [
      "# success_parse['3778']['Payload'][41]\n",
      "access('3778', 41)"
     ],
     "language": "python",
     "metadata": {},
     "outputs": [
      {
       "metadata": {},
       "output_type": "pyout",
       "prompt_number": 242,
       "text": [
        "{'NETWORK_AVAILABLE': True,\n",
        " 'GUID': '4373cbe6-5bbf-4c32-a30c-9adbd54fe711',\n",
        " 'PROVIDER': 'gps',\n",
        " 'LATITUDE': 47.66072302,\n",
        " 'LONGITUDE': -122.33301692,\n",
        " 'SPEED': 0.39,\n",
        " 'ALTITUDE': 64.0,\n",
        " 'ACCURACY': 16.0,\n",
        " 'TIMESTAMP': 1437979243,\n",
        " 'PROBE': 'edu.northwestern.cbits.purple_robot_manager.probes.builtin.LocationProbe',\n",
        " 'BEARING': 221.0,\n",
        " 'TIME_FIX': 1437979245000,\n",
        " 'GPS_AVAILABLE': True}"
       ]
      }
     ],
     "prompt_number": 242
    },
    {
     "cell_type": "code",
     "collapsed": false,
     "input": [
      "success_parse['2643']['Payload'][0]"
     ],
     "language": "python",
     "metadata": {},
     "outputs": [
      {
       "metadata": {},
       "output_type": "pyout",
       "prompt_number": 229,
       "text": [
        "{'NETWORK_AVAILABLE': True,\n",
        " 'GUID': '56eba00b-ec16-45ca-825c-60b9c11fd3ee',\n",
        " 'PROVIDER': 'gps',\n",
        " 'LATITUDE': 47.76795154,\n",
        " 'LONGITUDE': -122.24265302,\n",
        " 'SPEED': 0.99,\n",
        " 'ALTITUDE': -55.0,\n",
        " 'ACCURACY': 34.0,\n",
        " 'TIMESTAMP': 1437877123,\n",
        " 'PROBE': 'edu.northwestern.cbits.purple_robot_manager.probes.builtin.LocationProbe',\n",
        " 'BEARING': 27.1,\n",
        " 'TIME_FIX': 1437877126000,\n",
        " 'GPS_AVAILABLE': True}"
       ]
      }
     ],
     "prompt_number": 229
    }
   ],
   "metadata": {}
  }
 ]
}