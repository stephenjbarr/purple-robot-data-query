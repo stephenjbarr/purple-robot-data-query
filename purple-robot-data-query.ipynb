{
 "metadata": {
  "name": "",
  "signature": "sha256:123d36b41de3175c5b90b077839f772ae31ffa075e244c3275c7ecb6b079cea3"
 },
 "nbformat": 3,
 "nbformat_minor": 0,
 "worksheets": [
  {
   "cells": [
    {
     "cell_type": "markdown",
     "metadata": {},
     "source": [
      "## Program to read postgres from RDS, parse the JSON, and say something interesting"
     ]
    },
    {
     "cell_type": "code",
     "collapsed": false,
     "input": [
      "import psycopg2\n",
      "import conn\n",
      "import json\n",
      "import re\n",
      "from geojson import Point"
     ],
     "language": "python",
     "metadata": {},
     "outputs": [],
     "prompt_number": 18
    },
    {
     "cell_type": "code",
     "collapsed": false,
     "input": [
      "cstr = \"dbname = '\" + conn.conn['DB'] + \"' user = '\" + conn.conn['USER'] + \"' host = '\" + conn.conn['HOST'] + \"' password = '\" + conn.conn['PASS'] + \"'\"\n",
      "print(cstr)\n",
      "try:\n",
      "    ct = psycopg2.connect(cstr)\n",
      "except:\n",
      "    print(\"I am unable to connect to the database\")\n",
      "cur = ct.cursor()"
     ],
     "language": "python",
     "metadata": {},
     "outputs": [
      {
       "output_type": "stream",
       "stream": "stdout",
       "text": [
        "dbname = 'purplerobotdb' user = 'p_robot' host = 'mypostgres.caath1acnyfc.us-west-2.rds.amazonaws.com' password = 'mp00xx00'\n"
       ]
      }
     ],
     "prompt_number": 19
    },
    {
     "cell_type": "code",
     "collapsed": false,
     "input": [
      "def simple_row_print(row):\n",
      "    print(\"ID: \" + str(row[0]) + \" USER: \" + str(row[1]) + \" PLEN \" + str(len(str(row[3]))))"
     ],
     "language": "python",
     "metadata": {},
     "outputs": [],
     "prompt_number": 20
    },
    {
     "cell_type": "code",
     "collapsed": false,
     "input": [
      "def simple_row_print_with_payload(row):\n",
      "    id = row[0]\n",
      "    user_id = row[1]\n",
      "    pl = row[2]\n",
      "    print(\"------------------------\")\n",
      "    print(\"ID:\" + str(id))\n",
      "    print(\"UID:\" + str(user_id))\n",
      "    print(\"PL:\" + str(len(str(pl))))"
     ],
     "language": "python",
     "metadata": {},
     "outputs": [],
     "prompt_number": 21
    },
    {
     "cell_type": "code",
     "collapsed": false,
     "input": [
      "def utfdecode(x):\n",
      "    return( bytes(x, \"utf-8\").decode(\"unicode_escape\"))"
     ],
     "language": "python",
     "metadata": {},
     "outputs": [],
     "prompt_number": 22
    },
    {
     "cell_type": "code",
     "collapsed": false,
     "input": [
      "payload_cleaners = list()\n",
      "payload_cleaners.append(lambda x: x.replace('\\\\\"', ''))\n",
      "payload_cleaners.append(lambda x: x.replace(\"'\", '\"'))\n",
      "payload_cleaners.append(lambda x: x.replace(\",\", \",\\n\"))\n",
      "payload_cleaners.append(lambda x: x.replace('\\\\', ''))    ## JSON CONFIG\n",
      "payload_cleaners.append(lambda x: x.replace('\"{', '{')) ## JSON CONFIG\n",
      "payload_cleaners.append(lambda x: x.replace('}\"', '}')) ## JSON CONFIG\n",
      "payload_cleaners.append(lambda x: x.replace('{', '{\\n'))  ## JSON CONFIG\n",
      "payload_cleaners.append(lambda x: x.replace('}', '\\n}\\n'))  ## JSON CONFIG\n",
      "p2 = list()\n",
      "p2.append(lambda x: x.replace('\"[', '[') if not \"CAPABILITIES\" in x else x)\n",
      "p2.append(lambda x: x.replace(']\"', ']') if not \"CAPABILITIES\" in x else x)\n"
     ],
     "language": "python",
     "metadata": {},
     "outputs": [],
     "prompt_number": 23
    },
    {
     "cell_type": "code",
     "collapsed": false,
     "input": [
      "def fix_json(x):\n",
      "    for f in payload_cleaners:\n",
      "        x = f(x)\n",
      "\n",
      "    x_lines = x.splitlines()\n",
      "\n",
      "    for f in p2:\n",
      "        x_lines = list(map(f, x_lines))\n",
      "    \n",
      "    return(x_lines)"
     ],
     "language": "python",
     "metadata": {},
     "outputs": [],
     "prompt_number": 24
    },
    {
     "cell_type": "code",
     "collapsed": false,
     "input": [
      "def get_probe(x):\n",
      "    try:\n",
      "        return(x['Payload'][0]['PROBE'])\n",
      "    except:\n",
      "        return(\"\")"
     ],
     "language": "python",
     "metadata": {},
     "outputs": [],
     "prompt_number": 25
    },
    {
     "cell_type": "code",
     "collapsed": false,
     "input": [
      "## D query\n",
      "def get_distinct_user_ids():\n",
      "    dist_q = \"SELECT DISTINCT user_id FROM READINGS\"\n",
      "    cur.execute(dist_q)\n",
      "    uid_list = list()\n",
      "    for uid in cur.fetchall():\n",
      "        uid_list.append(uid[0])\n",
      "    return(uid_list)"
     ],
     "language": "python",
     "metadata": {},
     "outputs": [],
     "prompt_number": 26
    },
    {
     "cell_type": "code",
     "collapsed": false,
     "input": [
      "def last_char_comma(x):\n",
      "    return(re.search(',[\\s]*$', x))\n"
     ],
     "language": "python",
     "metadata": {},
     "outputs": [],
     "prompt_number": 27
    },
    {
     "cell_type": "code",
     "collapsed": false,
     "input": [
      "def quote_singletons(x):\n",
      "    match = re.search(r\"(\\w+):([\\w\\.]+)\", x)\n",
      "    if match:\n",
      "        y = '\"' + match.group(1) + '\":' + '\"' + match.group(2) + '\"'\n",
      "        if last_char_comma(x):\n",
      "            y += \",\" ## fucking janky\n",
      "        return(y)\n",
      "    else: \n",
      "        return(x)"
     ],
     "language": "python",
     "metadata": {},
     "outputs": [],
     "prompt_number": 28
    },
    {
     "cell_type": "code",
     "collapsed": false,
     "input": [
      "def quote_singleton_lhs(x):\n",
      "    match = re.search(r\"^\\s*(\\w+):(.*)\", x)\n",
      "    if match:\n",
      "        y = '\"' + match.group(1) + '\": ' + match.group(2)\n",
      "        return(y)\n",
      "    else:\n",
      "        return(x)"
     ],
     "language": "python",
     "metadata": {},
     "outputs": [],
     "prompt_number": 29
    },
    {
     "cell_type": "code",
     "collapsed": false,
     "input": [
      "def fix_null(x):\n",
      "    match = re.search(r\"([\\w_]+):[\\s,]*$\", x)\n",
      "    if match:\n",
      "        ## print(\"FN: \" + x)\n",
      "        y = '\"' + match.group(1) + '\"' + ':\"\"'\n",
      "        if last_char_comma(x):\n",
      "            y += \",\" ## fucking janky\n",
      "        return(y)\n",
      "    else:\n",
      "        return x"
     ],
     "language": "python",
     "metadata": {},
     "outputs": [],
     "prompt_number": 30
    },
    {
     "cell_type": "code",
     "collapsed": false,
     "input": [
      "def fix_null_quotes(x):\n",
      "    match = re.search(r\"(\\\"[\\w_]+\\\"):[\\s,]*$\", x)\n",
      "    if match:\n",
      "        # print(\"FNQ: \" + x)\n",
      "        y =  match.group(1)  + ':\"\"'\n",
      "        if last_char_comma(x):\n",
      "            y += \",\" ## fucking janky\n",
      "        return(y)\n",
      "    else:\n",
      "        return x"
     ],
     "language": "python",
     "metadata": {},
     "outputs": [],
     "prompt_number": 31
    },
    {
     "cell_type": "code",
     "collapsed": false,
     "input": [
      "def count_dbl_quotes(x):\n",
      "    return(len(re.findall(r\"\\\"\", x)))"
     ],
     "language": "python",
     "metadata": {},
     "outputs": [],
     "prompt_number": 32
    },
    {
     "cell_type": "code",
     "collapsed": false,
     "input": [
      "def append_unterminated_quotes(xl):\n",
      "    \"\"\" Given a list of lines, check ones that have double\n",
      "    quote characters.\n",
      "    \"\"\"\n",
      "    terminated = list()\n",
      "    for x in xl:\n",
      "        if count_dbl_quotes(x) % 2 == 1:\n",
      "            # print(\"CDL:\" + x)\n",
      "            terminated[-1] += x\n",
      "        else:\n",
      "            terminated.append(x)\n",
      "    return(terminated)"
     ],
     "language": "python",
     "metadata": {},
     "outputs": [],
     "prompt_number": 33
    },
    {
     "cell_type": "code",
     "collapsed": false,
     "input": [
      "def proc_payloads(raw_x, fname = None):\n",
      "    \"\"\"Given a raw payload from Purple robot, apply fransformations until  \n",
      "    we can parse this json.loads.\n",
      "    \n",
      "    If given a filename, write the JSON to it\n",
      "    \"\"\"\n",
      "    y = fix_json(utfdecode(raw_x))\n",
      "    y = filter(None, y)\n",
      "    y = list(map(fix_null, y))\n",
      "    y = list(map(fix_null_quotes, y))\n",
      "    y = list(map(quote_singletons, y))\n",
      "    y = list(map(quote_singleton_lhs, y))\n",
      "    y = append_unterminated_quotes(y)\n",
      "    \n",
      "    if fname is not None:\n",
      "        fh = open(fname, mode='w')\n",
      "        fh.write(\"\\n\".join(y))\n",
      "        fh.close()\n",
      "        \n",
      "    return(\"\\n\".join(y))"
     ],
     "language": "python",
     "metadata": {},
     "outputs": [],
     "prompt_number": 34
    },
    {
     "cell_type": "markdown",
     "metadata": {},
     "source": [
      "Now that all functions are defined, get the payloads and try to parse them"
     ]
    },
    {
     "cell_type": "code",
     "collapsed": false,
     "input": [
      "all_readings_query = \"\"\"SELECT * FROM READINGS \"\"\"\n",
      "all_readings_query_10 = all_readings_query + \" LIMIT 50\",\n",
      "all_u5b = \"\"\"SELECT * FROM READINGS WHERE user_id = '5b4e6ea2f5f61e445bf9e42d9a9ef022' AND id > '5000' limit 5000\"\"\"\n",
      "payloads = dict()\n",
      "cur.execute(all_readings_query)\n",
      "for row in cur.fetchall():\n",
      "    payloads[str(row[0])] = str(row[2])"
     ],
     "language": "python",
     "metadata": {},
     "outputs": [],
     "prompt_number": 35
    },
    {
     "cell_type": "code",
     "collapsed": false,
     "input": [
      "success_parse = dict()\n",
      "failed_parse  = dict()\n",
      "#js = dict()\n",
      "for k,v in payloads.items():\n",
      "    fname = \"parse-try-3/\" + k + \"__try_2.json\"\n",
      "    try:\n",
      "        z   = proc_payloads(v, fname)\n",
      "        f   = open(fname)\n",
      "        txt = f.read()\n",
      "        f.close()\n",
      "        js = json.loads(txt)\n",
      "        # print(\"Successful parse of payload: \" + str(k))\n",
      "        success_parse[k] = js\n",
      "        \n",
      "    except:\n",
      "        failed_parse[k] = 0\n",
      "        # print(\"Failed parse of payload: \" + str(k))\n",
      "\n",
      "        \n",
      "print(str(len(success_parse.keys())) + \" successful parses.\")\n",
      "print(str(len(failed_parse.keys())) + \" failed parses\")"
     ],
     "language": "python",
     "metadata": {},
     "outputs": [
      {
       "output_type": "stream",
       "stream": "stdout",
       "text": [
        "6566 successful parses.\n",
        "186 failed parses\n"
       ]
      }
     ],
     "prompt_number": 36
    },
    {
     "cell_type": "code",
     "collapsed": false,
     "input": [
      "f   = open(\"/home/stevejb/Dropbox/purple-robot-db-query/993__try_1.json\")\n",
      "txt = f.read()\n",
      "js = json.loads(txt)"
     ],
     "language": "python",
     "metadata": {},
     "outputs": []
    },
    {
     "cell_type": "code",
     "collapsed": false,
     "input": [
      "## probe_idx takes the list of items\n",
      "## iterates through each payload, and creates an index of \n",
      "## probe types.\n",
      "## \n",
      "## For example, \n",
      "## probe_idx['edu.northwestern.cbits.purple_robot_manager.probes.builtin.LocationProbe'] == \n",
      "##     [('2565', 0),   ## payload 0 of parse 2565\n",
      "##      ('3010', 3),\n",
      "##      ('3926', 2),\n",
      "##      ('3830', 1),\n",
      "##      ...\n",
      "###     ]\n",
      "\n",
      "probe_idx = dict()\n",
      "for k,v in success_parse.items():\n",
      "    \n",
      "    payloads = v['Payload']\n",
      "\n",
      "    for i,v in enumerate(payloads):\n",
      "        ptype = v['PROBE']\n",
      "        if ptype in probe_idx:\n",
      "            probe_idx[ptype].append((k,i))\n",
      "        else:\n",
      "            probe_idx[ptype] = [(k,i)]"
     ],
     "language": "python",
     "metadata": {},
     "outputs": [],
     "prompt_number": 57
    },
    {
     "cell_type": "code",
     "collapsed": false,
     "input": [
      "for k in probe_idx.keys():\n",
      "    print(k)"
     ],
     "language": "python",
     "metadata": {},
     "outputs": [
      {
       "output_type": "stream",
       "stream": "stdout",
       "text": [
        "edu.northwestern.cbits.purple_robot_manager.probes.builtin.LocationProbe\n",
        "edu.northwestern.cbits.purple_robot_manager.probes.builtin.DateCalendarProbe\n",
        "edu.northwestern.cbits.purple_robot_manager.probes.features.SunriseSunsetFeature\n",
        "edu.northwestern.cbits.purple_robot_manager.probes.builtin.CommunicationEventProbe\n",
        "edu.northwestern.cbits.purple_robot_manager.probes.builtin.SoftwareInformationProbe\n",
        "edu.northwestern.cbits.purple_robot_manager.probes.builtin.CommunicationLogProbe\n",
        "edu.northwestern.cbits.purple_robot_manager.probes.builtin.BatteryProbe\n",
        "edu.northwestern.cbits.purple_robot_manager.probes.builtin.RobotHealthProbe\n",
        "edu.northwestern.cbits.purple_robot_manager.probes.builtin.HardwareInformationProbe\n",
        "edu.northwestern.cbits.purple_robot_manager.probes.builtin.ScreenProbe\n",
        "edu.northwestern.cbits.purple_robot_manager.probes.builtin.NetworkProbe\n",
        "edu.northwestern.cbits.purple_robot_manager.probes.features.CallHistoryFeature\n",
        "edu.northwestern.cbits.purple_robot_manager.probes.features.DeviceInUseFeature\n",
        "edu.northwestern.cbits.purple_robot_manager.probes.builtin.CallStateProbe\n",
        "edu.northwestern.cbits.purple_robot_manager.probes.builtin.WifiAccessPointsProbe\n",
        "edu.northwestern.cbits.purple_robot_manager.probes.builtin.TelephonyProbe\n",
        "edu.northwestern.cbits.purple_robot_manager.probes.builtin.RunningSoftwareProbe\n"
       ]
      }
     ],
     "prompt_number": 58
    },
    {
     "cell_type": "code",
     "collapsed": false,
     "input": [
      "location_probe = \"edu.northwestern.cbits.purple_robot_manager.probes.builtin.LocationProbe\"\n",
      "# probe_idx[location_probe]\n",
      "\n",
      "def access(k,i):\n",
      "    return(success_parse[k]['Payload'][i])\n",
      "\n",
      "locations = list()\n",
      "for (k,i) in probe_idx[location_probe]:\n",
      "    z = access(k, int(i))\n",
      "    #print(\"k: \" + str(k) + \" i: \" + str(i))\n",
      "    out = {\"LONG\": z['LONGITUDE'], \"LAT\": z['LATITUDE']}\n",
      "    locations.append(out)\n",
      "\n",
      "   \n"
     ],
     "language": "python",
     "metadata": {},
     "outputs": [],
     "prompt_number": 59
    },
    {
     "cell_type": "code",
     "collapsed": false,
     "input": [
      "from geojson import MultiPoint\n",
      "\n",
      "pts = list()\n",
      "for (k,i) in probe_idx[location_probe]:\n",
      "    pts.append(Point((z['LONGITUDE'], z['LATITUDE'])))\n",
      "\n",
      "    \n",
      "## make multipoint\n",
      "tupset = set()\n",
      "for (k,i) in probe_idx[location_probe]:\n",
      "    tup  = (z['LONGITUDE'], z['LATITUDE'])\n",
      "    tupset.add(tup)\n",
      "    \n",
      "#mpt = MultiPoint(tuplist)\n"
     ],
     "language": "python",
     "metadata": {},
     "outputs": [],
     "prompt_number": 60
    },
    {
     "cell_type": "code",
     "collapsed": false,
     "input": [
      "import pickle"
     ],
     "language": "python",
     "metadata": {},
     "outputs": [],
     "prompt_number": 9
    },
    {
     "cell_type": "code",
     "collapsed": false,
     "input": [
      "spf = open(\"sucess_parse.pickle\", mode='wb')\n",
      "pickle.dump(success_parse, spf)\n",
      "spf.close()"
     ],
     "language": "python",
     "metadata": {},
     "outputs": []
    },
    {
     "cell_type": "code",
     "collapsed": false,
     "input": [
      "import geojson"
     ],
     "language": "python",
     "metadata": {},
     "outputs": [],
     "prompt_number": 64
    },
    {
     "cell_type": "code",
     "collapsed": false,
     "input": [
      "of = open(\"sucess_parse.pickle\", mode = 'r')\n",
      "#success_parse = pickle.load()\n",
      "success_parse = pickle.load(of)"
     ],
     "language": "python",
     "metadata": {},
     "outputs": [
      {
       "ename": "UnicodeDecodeError",
       "evalue": "'utf-8' codec can't decode byte 0x80 in position 0: invalid start byte",
       "output_type": "pyerr",
       "traceback": [
        "\u001b[0;31m---------------------------------------------------------------------------\u001b[0m\n\u001b[0;31mUnicodeDecodeError\u001b[0m                        Traceback (most recent call last)",
        "\u001b[0;32m<ipython-input-17-b580957d90d3>\u001b[0m in \u001b[0;36m<module>\u001b[0;34m()\u001b[0m\n\u001b[1;32m      1\u001b[0m \u001b[0mof\u001b[0m \u001b[0;34m=\u001b[0m \u001b[0mopen\u001b[0m\u001b[0;34m(\u001b[0m\u001b[0;34m\"sucess_parse.pickle\"\u001b[0m\u001b[0;34m,\u001b[0m \u001b[0mmode\u001b[0m \u001b[0;34m=\u001b[0m \u001b[0;34m'r'\u001b[0m\u001b[0;34m)\u001b[0m\u001b[0;34m\u001b[0m\u001b[0m\n\u001b[1;32m      2\u001b[0m \u001b[0;31m#success_parse = pickle.load()\u001b[0m\u001b[0;34m\u001b[0m\u001b[0;34m\u001b[0m\u001b[0m\n\u001b[0;32m----> 3\u001b[0;31m \u001b[0msuccess_parse\u001b[0m \u001b[0;34m=\u001b[0m \u001b[0mpickle\u001b[0m\u001b[0;34m.\u001b[0m\u001b[0mload\u001b[0m\u001b[0;34m(\u001b[0m\u001b[0mof\u001b[0m\u001b[0;34m)\u001b[0m\u001b[0;34m\u001b[0m\u001b[0m\n\u001b[0m",
        "\u001b[0;32m/usr/lib/python3.4/codecs.py\u001b[0m in \u001b[0;36mdecode\u001b[0;34m(self, input, final)\u001b[0m\n\u001b[1;32m    317\u001b[0m         \u001b[0;31m# decode input (taking the buffer into account)\u001b[0m\u001b[0;34m\u001b[0m\u001b[0;34m\u001b[0m\u001b[0m\n\u001b[1;32m    318\u001b[0m         \u001b[0mdata\u001b[0m \u001b[0;34m=\u001b[0m \u001b[0mself\u001b[0m\u001b[0;34m.\u001b[0m\u001b[0mbuffer\u001b[0m \u001b[0;34m+\u001b[0m \u001b[0minput\u001b[0m\u001b[0;34m\u001b[0m\u001b[0m\n\u001b[0;32m--> 319\u001b[0;31m         \u001b[0;34m(\u001b[0m\u001b[0mresult\u001b[0m\u001b[0;34m,\u001b[0m \u001b[0mconsumed\u001b[0m\u001b[0;34m)\u001b[0m \u001b[0;34m=\u001b[0m \u001b[0mself\u001b[0m\u001b[0;34m.\u001b[0m\u001b[0m_buffer_decode\u001b[0m\u001b[0;34m(\u001b[0m\u001b[0mdata\u001b[0m\u001b[0;34m,\u001b[0m \u001b[0mself\u001b[0m\u001b[0;34m.\u001b[0m\u001b[0merrors\u001b[0m\u001b[0;34m,\u001b[0m \u001b[0mfinal\u001b[0m\u001b[0;34m)\u001b[0m\u001b[0;34m\u001b[0m\u001b[0m\n\u001b[0m\u001b[1;32m    320\u001b[0m         \u001b[0;31m# keep undecoded input until the next call\u001b[0m\u001b[0;34m\u001b[0m\u001b[0;34m\u001b[0m\u001b[0m\n\u001b[1;32m    321\u001b[0m         \u001b[0mself\u001b[0m\u001b[0;34m.\u001b[0m\u001b[0mbuffer\u001b[0m \u001b[0;34m=\u001b[0m \u001b[0mdata\u001b[0m\u001b[0;34m[\u001b[0m\u001b[0mconsumed\u001b[0m\u001b[0;34m:\u001b[0m\u001b[0;34m]\u001b[0m\u001b[0;34m\u001b[0m\u001b[0m\n",
        "\u001b[0;31mUnicodeDecodeError\u001b[0m: 'utf-8' codec can't decode byte 0x80 in position 0: invalid start byte"
       ]
      }
     ],
     "prompt_number": 17
    },
    {
     "cell_type": "code",
     "collapsed": false,
     "input": [
      "tupset"
     ],
     "language": "python",
     "metadata": {},
     "outputs": [
      {
       "metadata": {},
       "output_type": "pyout",
       "prompt_number": 61,
       "text": [
        "{(-122.33307585, 47.66120751)}"
       ]
      }
     ],
     "prompt_number": 61
    },
    {
     "cell_type": "code",
     "collapsed": false,
     "input": [
      "## write locations to csv\n",
      "import csv"
     ],
     "language": "python",
     "metadata": {},
     "outputs": []
    },
    {
     "cell_type": "code",
     "collapsed": false,
     "input": [
      "with open('locations.csv', 'w') as csvfile:\n",
      "    fieldnames = ['LAT', 'LONG']\n",
      "    writer = csv.DictWriter(csvfile, fieldnames = fieldnames)\n",
      "    writer.writeheader()\n",
      "    for d in locations:\n",
      "        writer.writerow(d)\n"
     ],
     "language": "python",
     "metadata": {},
     "outputs": []
    },
    {
     "cell_type": "code",
     "collapsed": false,
     "input": [
      "# success_parse['3778']['Payload'][41]\n",
      "access('3778', 41)"
     ],
     "language": "python",
     "metadata": {},
     "outputs": []
    },
    {
     "cell_type": "code",
     "collapsed": false,
     "input": [
      "success_parse['2643']['Payload'][0]"
     ],
     "language": "python",
     "metadata": {},
     "outputs": []
    }
   ],
   "metadata": {}
  }
 ]
}