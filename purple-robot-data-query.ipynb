{
 "metadata": {
  "name": "",
  "signature": "sha256:907ad4f98c7af43a3c41e00833ec55372d31b72f107c43dbf79337412deb9458"
 },
 "nbformat": 3,
 "nbformat_minor": 0,
 "worksheets": [
  {
   "cells": [
    {
     "cell_type": "markdown",
     "metadata": {},
     "source": [
      "## Program to read postgres from RDS, parse the JSON, and say something interesting"
     ]
    },
    {
     "cell_type": "code",
     "collapsed": false,
     "input": [
      "import psycopg2\n",
      "import conn\n",
      "import json\n",
      "import re"
     ],
     "language": "python",
     "metadata": {},
     "outputs": []
    },
    {
     "cell_type": "code",
     "collapsed": false,
     "input": [
      "cstr = \"dbname = '\" + conn.conn['DB'] + \"' user = '\" + conn.conn['USER'] + \"' host = '\" + conn.conn['HOST'] + \"' password = '\" + conn.conn['PASS'] + \"'\"\n",
      "print(cstr)\n",
      "try:\n",
      "    ct = psycopg2.connect(cstr)\n",
      "except:\n",
      "    print(\"I am unable to connect to the database\")\n",
      "cur = ct.cursor()"
     ],
     "language": "python",
     "metadata": {},
     "outputs": []
    },
    {
     "cell_type": "code",
     "collapsed": false,
     "input": [
      "def simple_row_print(row):\n",
      "    print(\"ID: \" + str(row[0]) + \" USER: \" + str(row[1]) + \" PLEN \" + str(len(str(row[3]))))"
     ],
     "language": "python",
     "metadata": {},
     "outputs": []
    },
    {
     "cell_type": "code",
     "collapsed": false,
     "input": [
      "def simple_row_print_with_payload(row):\n",
      "    id = row[0]\n",
      "    user_id = row[1]\n",
      "    pl = row[2]\n",
      "    print(\"------------------------\")\n",
      "    print(\"ID:\" + str(id))\n",
      "    print(\"UID:\" + str(user_id))\n",
      "    print(\"PL:\" + str(len(str(pl))))"
     ],
     "language": "python",
     "metadata": {},
     "outputs": []
    },
    {
     "cell_type": "code",
     "collapsed": false,
     "input": [
      "def utfdecode(x):\n",
      "    return( bytes(x, \"utf-8\").decode(\"unicode_escape\"))"
     ],
     "language": "python",
     "metadata": {},
     "outputs": []
    },
    {
     "cell_type": "code",
     "collapsed": false,
     "input": [
      "payload_cleaners = list()\n",
      "payload_cleaners.append(lambda x: x.replace('\\\\\"', ''))\n",
      "payload_cleaners.append(lambda x: x.replace(\"'\", '\"'))\n",
      "payload_cleaners.append(lambda x: x.replace(\",\", \",\\n\"))\n",
      "payload_cleaners.append(lambda x: x.replace('\\\\', ''))    ## JSON CONFIG\n",
      "payload_cleaners.append(lambda x: x.replace('\"{', '{')) ## JSON CONFIG\n",
      "payload_cleaners.append(lambda x: x.replace('}\"', '}')) ## JSON CONFIG\n",
      "payload_cleaners.append(lambda x: x.replace('{', '{\\n'))  ## JSON CONFIG\n",
      "payload_cleaners.append(lambda x: x.replace('}', '\\n}\\n'))  ## JSON CONFIG\n",
      "p2 = list()\n",
      "p2.append(lambda x: x.replace('\"[', '[') if not \"CAPABILITIES\" in x else x)\n",
      "p2.append(lambda x: x.replace(']\"', ']') if not \"CAPABILITIES\" in x else x)\n"
     ],
     "language": "python",
     "metadata": {},
     "outputs": []
    },
    {
     "cell_type": "code",
     "collapsed": false,
     "input": [
      "def fix_json(x):\n",
      "    for f in payload_cleaners:\n",
      "        x = f(x)\n",
      "\n",
      "    x_lines = x.splitlines()\n",
      "\n",
      "    for f in p2:\n",
      "        x_lines = list(map(f, x_lines))\n",
      "    \n",
      "    return(x_lines)"
     ],
     "language": "python",
     "metadata": {},
     "outputs": [],
     "prompt_number": 155
    },
    {
     "cell_type": "code",
     "collapsed": false,
     "input": [
      "def get_probe(x):\n",
      "    try:\n",
      "        return(x['Payload'][0]['PROBE'])\n",
      "    except:\n",
      "        return(\"\")"
     ],
     "language": "python",
     "metadata": {},
     "outputs": [],
     "prompt_number": 156
    },
    {
     "cell_type": "code",
     "collapsed": false,
     "input": [
      "## D query\n",
      "def get_distinct_user_ids():\n",
      "    dist_q = \"SELECT DISTINCT user_id FROM READINGS\"\n",
      "    cur.execute(dist_q)\n",
      "    uid_list = list()\n",
      "    for uid in cur.fetchall():\n",
      "        uid_list.append(uid[0])\n",
      "    return(uid_list)"
     ],
     "language": "python",
     "metadata": {},
     "outputs": [],
     "prompt_number": 157
    },
    {
     "cell_type": "code",
     "collapsed": false,
     "input": [
      "def last_char_comma(x):\n",
      "    return(re.search(',[\\s]*$', x))\n"
     ],
     "language": "python",
     "metadata": {},
     "outputs": [],
     "prompt_number": 158
    },
    {
     "cell_type": "code",
     "collapsed": false,
     "input": [
      "def quote_singletons(x):\n",
      "    match = re.search(r\"(\\w+):([\\w\\.]+)\", x)\n",
      "    if match:\n",
      "        y = '\"' + match.group(1) + '\":' + '\"' + match.group(2) + '\"'\n",
      "        if last_char_comma(x):\n",
      "            y += \",\" ## fucking janky\n",
      "        return(y)\n",
      "    else: \n",
      "        return(x)"
     ],
     "language": "python",
     "metadata": {},
     "outputs": [],
     "prompt_number": 159
    },
    {
     "cell_type": "code",
     "collapsed": false,
     "input": [
      "def quote_singleton_lhs(x):\n",
      "    match = re.search(r\"^\\s*(\\w+):(.*)\", x)\n",
      "    if match:\n",
      "        y = '\"' + match.group(1) + '\": ' + match.group(2)\n",
      "        return(y)\n",
      "    else:\n",
      "        return(x)"
     ],
     "language": "python",
     "metadata": {},
     "outputs": [],
     "prompt_number": 160
    },
    {
     "cell_type": "code",
     "collapsed": false,
     "input": [
      "def fix_null(x):\n",
      "    match = re.search(r\"([\\w_]+):[\\s,]*$\", x)\n",
      "    if match:\n",
      "        ## print(\"FN: \" + x)\n",
      "        y = '\"' + match.group(1) + '\"' + ':\"\"'\n",
      "        if last_char_comma(x):\n",
      "            y += \",\" ## fucking janky\n",
      "        return(y)\n",
      "    else:\n",
      "        return x"
     ],
     "language": "python",
     "metadata": {},
     "outputs": [],
     "prompt_number": 161
    },
    {
     "cell_type": "code",
     "collapsed": false,
     "input": [
      "def fix_null_quotes(x):\n",
      "    match = re.search(r\"(\\\"[\\w_]+\\\"):[\\s,]*$\", x)\n",
      "    if match:\n",
      "        # print(\"FNQ: \" + x)\n",
      "        y =  match.group(1)  + ':\"\"'\n",
      "        if last_char_comma(x):\n",
      "            y += \",\" ## fucking janky\n",
      "        return(y)\n",
      "    else:\n",
      "        return x"
     ],
     "language": "python",
     "metadata": {},
     "outputs": [],
     "prompt_number": 162
    },
    {
     "cell_type": "code",
     "collapsed": false,
     "input": [
      "def count_dbl_quotes(x):\n",
      "    return(len(re.findall(r\"\\\"\", x)))"
     ],
     "language": "python",
     "metadata": {},
     "outputs": [],
     "prompt_number": 163
    },
    {
     "cell_type": "code",
     "collapsed": false,
     "input": [
      "def append_unterminated_quotes(xl):\n",
      "    \"\"\" Given a list of lines, check ones that have double\n",
      "    quote characters.\n",
      "    \"\"\"\n",
      "    terminated = list()\n",
      "    for x in xl:\n",
      "        if count_dbl_quotes(x) % 2 == 1:\n",
      "            # print(\"CDL:\" + x)\n",
      "            terminated[-1] += x\n",
      "        else:\n",
      "            terminated.append(x)\n",
      "    return(terminated)"
     ],
     "language": "python",
     "metadata": {},
     "outputs": [],
     "prompt_number": 164
    },
    {
     "cell_type": "code",
     "collapsed": false,
     "input": [
      "def proc_payloads(raw_x, fname = None):\n",
      "    \"\"\"Given a raw payload from Purple robot, apply fransformations until  \n",
      "    we can parse this json.loads.\n",
      "    \n",
      "    If given a filename, write the JSON to it\n",
      "    \"\"\"\n",
      "    y = fix_json(utfdecode(raw_x))\n",
      "    y = filter(None, y)\n",
      "    y = list(map(fix_null, y))\n",
      "    y = list(map(fix_null_quotes, y))\n",
      "    y = list(map(quote_singletons, y))\n",
      "    y = list(map(quote_singleton_lhs, y))\n",
      "    y = append_unterminated_quotes(y)\n",
      "    \n",
      "    if fname is not None:\n",
      "        fh = open(fname, mode='w')\n",
      "        fh.write(\"\\n\".join(y))\n",
      "        fh.close()\n",
      "        \n",
      "    return(\"\\n\".join(y))"
     ],
     "language": "python",
     "metadata": {},
     "outputs": [],
     "prompt_number": 165
    },
    {
     "cell_type": "markdown",
     "metadata": {},
     "source": [
      "Now that all functions are defined, get the payloads and try to parse them"
     ]
    },
    {
     "cell_type": "code",
     "collapsed": false,
     "input": [
      "payloads = dict()\n",
      "cur.execute(all_alex)\n",
      "for row in cur.fetchall():\n",
      "    payloads[str(row[0])] = str(row[2])"
     ],
     "language": "python",
     "metadata": {},
     "outputs": []
    },
    {
     "cell_type": "code",
     "collapsed": false,
     "input": [
      "success_parse = dict()\n",
      "failed_parse  = dict()\n",
      "#js = dict()\n",
      "for k,v in payloads.items():\n",
      "    fname = k + \"__try_2.json\"\n",
      "    try:\n",
      "        z   = proc_payloads(v, fname)\n",
      "        f   = open(fname)\n",
      "        txt = f.read()\n",
      "        f.close()\n",
      "        js = json.loads(txt)\n",
      "        print(\"Successful parse of payload: \" + str(k))\n",
      "        success_parse[k] = js\n",
      "        \n",
      "    except:\n",
      "        failed_parse[k] = 0\n",
      "\n"
     ],
     "language": "python",
     "metadata": {},
     "outputs": [
      {
       "output_type": "stream",
       "stream": "stdout",
       "text": [
        "Successful parse of payload: 1661\n",
        "Successful parse of payload: 3010\n",
        "Successful parse of payload: 2154"
       ]
      },
      {
       "output_type": "stream",
       "stream": "stdout",
       "text": [
        "\n",
        "Successful parse of payload: 248\n",
        "Successful parse of payload: 1103"
       ]
      },
      {
       "output_type": "stream",
       "stream": "stdout",
       "text": [
        "\n",
        "Successful parse of payload: 3926\n",
        "Successful parse of payload: 3830"
       ]
      },
      {
       "output_type": "stream",
       "stream": "stdout",
       "text": [
        "\n",
        "Successful parse of payload: 2792\n",
        "Successful parse of payload: 347\n",
        "Successful parse of payload: 4217\n",
        "Successful parse of payload: 1815"
       ]
      },
      {
       "output_type": "stream",
       "stream": "stdout",
       "text": [
        "\n",
        "Successful parse of payload: 2357\n",
        "Successful parse of payload: 3149\n",
        "Successful parse of payload: 2615\n",
        "Successful parse of payload: 309"
       ]
      },
      {
       "output_type": "stream",
       "stream": "stdout",
       "text": [
        "\n",
        "Successful parse of payload: 1203\n",
        "Successful parse of payload: 3132"
       ]
      },
      {
       "output_type": "stream",
       "stream": "stdout",
       "text": [
        "\n",
        "Successful parse of payload: 4112\n",
        "Successful parse of payload: 4107\n",
        "Successful parse of payload: 361\n",
        "Successful parse of payload: 2971"
       ]
      },
      {
       "output_type": "stream",
       "stream": "stdout",
       "text": [
        "\n",
        "Successful parse of payload: 3215\n",
        "Successful parse of payload: 1751"
       ]
      },
      {
       "output_type": "stream",
       "stream": "stdout",
       "text": [
        "\n",
        "Successful parse of payload: 2254"
       ]
      },
      {
       "output_type": "stream",
       "stream": "stdout",
       "text": [
        "\n",
        "Successful parse of payload: 2570\n",
        "Successful parse of payload: 1162\n",
        "Successful parse of payload: 3862"
       ]
      },
      {
       "output_type": "stream",
       "stream": "stdout",
       "text": [
        "\n",
        "Successful parse of payload: 3203\n",
        "Successful parse of payload: 2561\n",
        "Successful parse of payload: 1226\n",
        "Successful parse of payload: 1319"
       ]
      },
      {
       "output_type": "stream",
       "stream": "stdout",
       "text": [
        "\n",
        "Successful parse of payload: 2972\n",
        "Successful parse of payload: 3528\n",
        "Successful parse of payload: 1304\n",
        "Successful parse of payload: 2017"
       ]
      },
      {
       "output_type": "stream",
       "stream": "stdout",
       "text": [
        "\n",
        "Successful parse of payload: 3812\n",
        "Successful parse of payload: 3527\n",
        "Successful parse of payload: 4304"
       ]
      },
      {
       "output_type": "stream",
       "stream": "stdout",
       "text": [
        "\n",
        "Successful parse of payload: 307\n",
        "Successful parse of payload: 2694\n",
        "Successful parse of payload: 1260\n",
        "Successful parse of payload: 1603\n",
        "Successful parse of payload: 2993"
       ]
      },
      {
       "output_type": "stream",
       "stream": "stdout",
       "text": [
        "\n",
        "Successful parse of payload: 1179\n",
        "Successful parse of payload: 3328"
       ]
      },
      {
       "output_type": "stream",
       "stream": "stdout",
       "text": [
        "\n",
        "Successful parse of payload: 702\n",
        "Successful parse of payload: 3304"
       ]
      },
      {
       "output_type": "stream",
       "stream": "stdout",
       "text": [
        "\n",
        "Successful parse of payload: 415\n",
        "Successful parse of payload: 928"
       ]
      },
      {
       "output_type": "stream",
       "stream": "stdout",
       "text": [
        "\n",
        "Successful parse of payload: 2698\n",
        "Successful parse of payload: 2931\n",
        "Successful parse of payload: 2818"
       ]
      },
      {
       "output_type": "stream",
       "stream": "stdout",
       "text": [
        "\n",
        "Successful parse of payload: 2572\n",
        "Successful parse of payload: 4360\n",
        "Successful parse of payload: 2914"
       ]
      },
      {
       "output_type": "stream",
       "stream": "stdout",
       "text": [
        "\n",
        "Successful parse of payload: 3154\n",
        "Successful parse of payload: 769\n",
        "Successful parse of payload: 316\n",
        "Successful parse of payload: 3728"
       ]
      },
      {
       "output_type": "stream",
       "stream": "stdout",
       "text": [
        "\n",
        "Successful parse of payload: 3314"
       ]
      },
      {
       "output_type": "stream",
       "stream": "stdout",
       "text": [
        "\n",
        "Successful parse of payload: 2458"
       ]
      },
      {
       "output_type": "stream",
       "stream": "stdout",
       "text": [
        "\n",
        "Successful parse of payload: 2475\n",
        "Successful parse of payload: 2868\n",
        "Successful parse of payload: 2215"
       ]
      },
      {
       "output_type": "stream",
       "stream": "stdout",
       "text": [
        "\n",
        "Successful parse of payload: 797\n",
        "Successful parse of payload: 4027\n",
        "Successful parse of payload: 2815\n",
        "Successful parse of payload: 2631\n",
        "Successful parse of payload: 2464\n",
        "Successful parse of payload: 2403"
       ]
      },
      {
       "output_type": "stream",
       "stream": "stdout",
       "text": [
        "\n",
        "Successful parse of payload: 1317\n",
        "Successful parse of payload: 2026\n",
        "Successful parse of payload: 1906\n",
        "Successful parse of payload: 3549\n",
        "Successful parse of payload: 1747\n",
        "Successful parse of payload: 1092\n",
        "Successful parse of payload: 2723"
       ]
      },
      {
       "output_type": "stream",
       "stream": "stdout",
       "text": [
        "\n",
        "Successful parse of payload: 3141\n",
        "Successful parse of payload: 2517"
       ]
      },
      {
       "output_type": "stream",
       "stream": "stdout",
       "text": [
        "\n",
        "Successful parse of payload: 2335\n",
        "Successful parse of payload: 3186\n",
        "Successful parse of payload: 2483\n",
        "Successful parse of payload: 3419\n",
        "Successful parse of payload: 3900"
       ]
      },
      {
       "output_type": "stream",
       "stream": "stdout",
       "text": [
        "\n",
        "Successful parse of payload: 2995"
       ]
      },
      {
       "output_type": "stream",
       "stream": "stdout",
       "text": [
        "\n",
        "Successful parse of payload: 2607\n",
        "Successful parse of payload: 2264"
       ]
      },
      {
       "output_type": "stream",
       "stream": "stdout",
       "text": [
        "\n",
        "Successful parse of payload: 3208"
       ]
      },
      {
       "output_type": "stream",
       "stream": "stdout",
       "text": [
        "\n",
        "Successful parse of payload: 3482"
       ]
      },
      {
       "output_type": "stream",
       "stream": "stdout",
       "text": [
        "\n",
        "Successful parse of payload: 2272\n",
        "Successful parse of payload: 4246\n",
        "Successful parse of payload: 2516\n",
        "Successful parse of payload: 2743\n",
        "Successful parse of payload: 2828"
       ]
      },
      {
       "output_type": "stream",
       "stream": "stdout",
       "text": [
        "\n",
        "Successful parse of payload: 1705\n",
        "Successful parse of payload: 4230\n",
        "Successful parse of payload: 2282\n",
        "Successful parse of payload: 2162\n",
        "Successful parse of payload: 3344"
       ]
      },
      {
       "output_type": "stream",
       "stream": "stdout",
       "text": [
        "\n",
        "Successful parse of payload: 4424\n",
        "Successful parse of payload: 331\n",
        "Successful parse of payload: 3188\n",
        "Successful parse of payload: 2716"
       ]
      },
      {
       "output_type": "stream",
       "stream": "stdout",
       "text": [
        "\n",
        "Successful parse of payload: 1123\n",
        "Successful parse of payload: 2396\n",
        "Successful parse of payload: 1646\n",
        "Successful parse of payload: 2152\n",
        "Successful parse of payload: 3745\n",
        "Successful parse of payload: 2201\n",
        "Successful parse of payload: 1200"
       ]
      },
      {
       "output_type": "stream",
       "stream": "stdout",
       "text": [
        "\n",
        "Successful parse of payload: 1047"
       ]
      },
      {
       "output_type": "stream",
       "stream": "stdout",
       "text": [
        "\n",
        "Successful parse of payload: 262\n",
        "Successful parse of payload: 4287"
       ]
      },
      {
       "output_type": "stream",
       "stream": "stdout",
       "text": [
        "\n",
        "Successful parse of payload: 3440\n",
        "Successful parse of payload: 2481\n",
        "Successful parse of payload: 4342\n",
        "Successful parse of payload: 2297\n",
        "Successful parse of payload: 4433\n",
        "Successful parse of payload: 3245"
       ]
      },
      {
       "output_type": "stream",
       "stream": "stdout",
       "text": [
        "\n",
        "Successful parse of payload: 3747\n",
        "Successful parse of payload: 3715"
       ]
      },
      {
       "output_type": "stream",
       "stream": "stdout",
       "text": [
        "\n",
        "Successful parse of payload: 4401\n",
        "Successful parse of payload: 4136\n",
        "Successful parse of payload: 514\n",
        "Successful parse of payload: 1717\n",
        "Successful parse of payload: 1893"
       ]
      },
      {
       "output_type": "stream",
       "stream": "stdout",
       "text": [
        "\n",
        "Successful parse of payload: 2636\n",
        "Successful parse of payload: 2856\n",
        "Successful parse of payload: 3274\n",
        "Successful parse of payload: 1124\n",
        "Successful parse of payload: 2709"
       ]
      },
      {
       "output_type": "stream",
       "stream": "stdout",
       "text": [
        "\n",
        "Successful parse of payload: 3273\n",
        "Successful parse of payload: 1299\n",
        "Successful parse of payload: 3340\n",
        "Successful parse of payload: 2021\n",
        "Successful parse of payload: 4028\n",
        "Successful parse of payload: 1876\n",
        "Successful parse of payload: 768"
       ]
      },
      {
       "output_type": "stream",
       "stream": "stdout",
       "text": [
        "\n",
        "Successful parse of payload: 1631\n",
        "Successful parse of payload: 1655\n",
        "Successful parse of payload: 3082\n",
        "Successful parse of payload: 2655\n",
        "Successful parse of payload: 1914"
       ]
      },
      {
       "output_type": "stream",
       "stream": "stdout",
       "text": [
        "\n",
        "Successful parse of payload: 1687\n",
        "Successful parse of payload: 2216\n",
        "Successful parse of payload: 2696\n",
        "Successful parse of payload: 3022\n",
        "Successful parse of payload: 2438\n",
        "Successful parse of payload: 249\n",
        "Successful parse of payload: 2144"
       ]
      },
      {
       "output_type": "stream",
       "stream": "stdout",
       "text": [
        "\n",
        "Successful parse of payload: 1974\n",
        "Successful parse of payload: 1288\n",
        "Successful parse of payload: 3028"
       ]
      },
      {
       "output_type": "stream",
       "stream": "stdout",
       "text": [
        "\n",
        "Successful parse of payload: 2069\n",
        "Successful parse of payload: 3782"
       ]
      },
      {
       "output_type": "stream",
       "stream": "stdout",
       "text": [
        "\n",
        "Successful parse of payload: 2228"
       ]
      },
      {
       "output_type": "stream",
       "stream": "stdout",
       "text": [
        "\n",
        "Successful parse of payload: 2390\n",
        "Successful parse of payload: 888\n",
        "Successful parse of payload: 1480\n",
        "Successful parse of payload: 3851"
       ]
      },
      {
       "output_type": "stream",
       "stream": "stdout",
       "text": [
        "\n",
        "Successful parse of payload: 2541"
       ]
      },
      {
       "output_type": "stream",
       "stream": "stdout",
       "text": [
        "\n",
        "Successful parse of payload: 784"
       ]
      },
      {
       "output_type": "stream",
       "stream": "stdout",
       "text": [
        "\n",
        "Successful parse of payload: 1129\n",
        "Successful parse of payload: 1901\n",
        "Successful parse of payload: 4384\n",
        "Successful parse of payload: 3896\n",
        "Successful parse of payload: 3729"
       ]
      },
      {
       "output_type": "stream",
       "stream": "stdout",
       "text": [
        "\n",
        "Successful parse of payload: 1543\n",
        "Successful parse of payload: 2208\n",
        "Successful parse of payload: 870"
       ]
      },
      {
       "output_type": "stream",
       "stream": "stdout",
       "text": [
        "\n",
        "Successful parse of payload: 2970\n",
        "Successful parse of payload: 4175\n",
        "Successful parse of payload: 3271\n",
        "Successful parse of payload: 4073"
       ]
      },
      {
       "output_type": "stream",
       "stream": "stdout",
       "text": [
        "\n",
        "Successful parse of payload: 2728\n",
        "Successful parse of payload: 271\n",
        "Successful parse of payload: 4396\n",
        "Successful parse of payload: 3118\n",
        "Successful parse of payload: 1291\n",
        "Successful parse of payload: 4272"
       ]
      },
      {
       "output_type": "stream",
       "stream": "stdout",
       "text": [
        "\n",
        "Successful parse of payload: 3463"
       ]
      },
      {
       "output_type": "stream",
       "stream": "stdout",
       "text": [
        "\n",
        "Successful parse of payload: 3672\n",
        "Successful parse of payload: 906\n",
        "Successful parse of payload: 1138\n",
        "Successful parse of payload: 4041"
       ]
      },
      {
       "output_type": "stream",
       "stream": "stdout",
       "text": [
        "\n",
        "Successful parse of payload: 2998"
       ]
      },
      {
       "output_type": "stream",
       "stream": "stdout",
       "text": [
        "\n",
        "Successful parse of payload: 259\n",
        "Successful parse of payload: 3773"
       ]
      },
      {
       "output_type": "stream",
       "stream": "stdout",
       "text": [
        "\n",
        "Successful parse of payload: 2784\n",
        "Successful parse of payload: 2542\n",
        "Successful parse of payload: 3912\n",
        "Successful parse of payload: 2589\n",
        "Successful parse of payload: 4363"
       ]
      },
      {
       "output_type": "stream",
       "stream": "stdout",
       "text": [
        "\n",
        "Successful parse of payload: 910\n",
        "Successful parse of payload: 3084\n",
        "Successful parse of payload: 1714"
       ]
      },
      {
       "output_type": "stream",
       "stream": "stdout",
       "text": [
        "\n",
        "Successful parse of payload: 1649\n",
        "Successful parse of payload: 2025\n",
        "Successful parse of payload: 2197\n",
        "Successful parse of payload: 3006\n",
        "Successful parse of payload: 2028"
       ]
      },
      {
       "output_type": "stream",
       "stream": "stdout",
       "text": [
        "\n",
        "Successful parse of payload: 1484"
       ]
      },
      {
       "output_type": "stream",
       "stream": "stdout",
       "text": [
        "\n",
        "Successful parse of payload: 1259"
       ]
      },
      {
       "output_type": "stream",
       "stream": "stdout",
       "text": [
        "\n",
        "Successful parse of payload: 2576\n",
        "Successful parse of payload: 2613\n",
        "Successful parse of payload: 1250\n",
        "Successful parse of payload: 4116\n",
        "Successful parse of payload: 2447"
       ]
      },
      {
       "output_type": "stream",
       "stream": "stdout",
       "text": [
        "\n",
        "Successful parse of payload: 1745\n",
        "Successful parse of payload: 3041\n",
        "Successful parse of payload: 3300\n",
        "Successful parse of payload: 4135\n",
        "Successful parse of payload: 3713"
       ]
      },
      {
       "output_type": "stream",
       "stream": "stdout",
       "text": [
        "\n",
        "Successful parse of payload: 2653\n",
        "Successful parse of payload: 2267\n",
        "Successful parse of payload: 3976\n",
        "Successful parse of payload: 1794\n",
        "Successful parse of payload: 1778"
       ]
      },
      {
       "output_type": "stream",
       "stream": "stdout",
       "text": [
        "\n",
        "Successful parse of payload: 857\n",
        "Successful parse of payload: 3489\n",
        "Successful parse of payload: 2190\n",
        "Successful parse of payload: 3237\n",
        "Successful parse of payload: 3394"
       ]
      },
      {
       "output_type": "stream",
       "stream": "stdout",
       "text": [
        "\n",
        "Successful parse of payload: 1350\n",
        "Successful parse of payload: 1812"
       ]
      },
      {
       "output_type": "stream",
       "stream": "stdout",
       "text": [
        "\n",
        "Successful parse of payload: 4167\n",
        "Successful parse of payload: 2726\n",
        "Successful parse of payload: 2801\n",
        "Successful parse of payload: 2205\n",
        "Successful parse of payload: 3275\n",
        "Successful parse of payload: 3044\n",
        "Successful parse of payload: 2019\n",
        "Successful parse of payload: 3351"
       ]
      },
      {
       "output_type": "stream",
       "stream": "stdout",
       "text": [
        "\n",
        "Successful parse of payload: 873"
       ]
      },
      {
       "output_type": "stream",
       "stream": "stdout",
       "text": [
        "\n",
        "Successful parse of payload: 3738"
       ]
      },
      {
       "output_type": "stream",
       "stream": "stdout",
       "text": [
        "\n",
        "Successful parse of payload: 1657\n",
        "Successful parse of payload: 2491\n",
        "Successful parse of payload: 1312\n",
        "Successful parse of payload: 4125\n",
        "Successful parse of payload: 4255"
       ]
      },
      {
       "output_type": "stream",
       "stream": "stdout",
       "text": [
        "\n",
        "Successful parse of payload: 1113\n",
        "Successful parse of payload: 1916\n",
        "Successful parse of payload: 1659"
       ]
      },
      {
       "output_type": "stream",
       "stream": "stdout",
       "text": [
        "\n",
        "Successful parse of payload: 2909\n",
        "Successful parse of payload: 4024\n",
        "Successful parse of payload: 1743\n",
        "Successful parse of payload: 780\n",
        "Successful parse of payload: 3837"
       ]
      },
      {
       "output_type": "stream",
       "stream": "stdout",
       "text": [
        "\n",
        "Successful parse of payload: 1996\n",
        "Successful parse of payload: 1283"
       ]
      },
      {
       "output_type": "stream",
       "stream": "stdout",
       "text": [
        "\n",
        "Successful parse of payload: 3665"
       ]
      },
      {
       "output_type": "stream",
       "stream": "stdout",
       "text": [
        "\n",
        "Successful parse of payload: 1182\n",
        "Successful parse of payload: 3903\n",
        "Successful parse of payload: 4436\n",
        "Successful parse of payload: 4051"
       ]
      },
      {
       "output_type": "stream",
       "stream": "stdout",
       "text": [
        "\n",
        "Successful parse of payload: 3735"
       ]
      },
      {
       "output_type": "stream",
       "stream": "stdout",
       "text": [
        "\n",
        "Successful parse of payload: 4372"
       ]
      },
      {
       "output_type": "stream",
       "stream": "stdout",
       "text": [
        "\n",
        "Successful parse of payload: 3755\n",
        "Successful parse of payload: 4150\n",
        "Successful parse of payload: 2230\n",
        "Successful parse of payload: 2583"
       ]
      },
      {
       "output_type": "stream",
       "stream": "stdout",
       "text": [
        "\n",
        "Successful parse of payload: 1912\n",
        "Successful parse of payload: 1067"
       ]
      },
      {
       "output_type": "stream",
       "stream": "stdout",
       "text": [
        "\n",
        "Successful parse of payload: 2307\n",
        "Successful parse of payload: 2463\n",
        "Successful parse of payload: 3550\n",
        "Successful parse of payload: 2960\n",
        "Successful parse of payload: 2383\n",
        "Successful parse of payload: 3749\n",
        "Successful parse of payload: 4338\n",
        "Successful parse of payload: 3088"
       ]
      },
      {
       "output_type": "stream",
       "stream": "stdout",
       "text": [
        "\n",
        "Successful parse of payload: 282\n",
        "Successful parse of payload: 1803\n",
        "Successful parse of payload: 2741\n",
        "Successful parse of payload: 4060"
       ]
      },
      {
       "output_type": "stream",
       "stream": "stdout",
       "text": [
        "\n",
        "Successful parse of payload: 3890\n",
        "Successful parse of payload: 2474\n",
        "Successful parse of payload: 2992\n",
        "Successful parse of payload: 2907\n",
        "Successful parse of payload: 2106\n",
        "Successful parse of payload: 1577\n",
        "Successful parse of payload: 3949\n",
        "Successful parse of payload: 1616\n",
        "Successful parse of payload: 1733\n",
        "Successful parse of payload: 3635\n",
        "Successful parse of payload: 4387"
       ]
      },
      {
       "output_type": "stream",
       "stream": "stdout",
       "text": [
        "\n",
        "Successful parse of payload: 2356"
       ]
      },
      {
       "output_type": "stream",
       "stream": "stdout",
       "text": [
        "\n",
        "Successful parse of payload: 3382"
       ]
      },
      {
       "output_type": "stream",
       "stream": "stdout",
       "text": [
        "\n",
        "Successful parse of payload: 1723\n",
        "Successful parse of payload: 2295\n",
        "Successful parse of payload: 1086"
       ]
      },
      {
       "output_type": "stream",
       "stream": "stdout",
       "text": [
        "\n",
        "Successful parse of payload: 892\n",
        "Successful parse of payload: 2683\n",
        "Successful parse of payload: 1793\n",
        "Successful parse of payload: 2145"
       ]
      },
      {
       "output_type": "stream",
       "stream": "stdout",
       "text": [
        "\n",
        "Successful parse of payload: 2905\n",
        "Successful parse of payload: 3386"
       ]
      },
      {
       "output_type": "stream",
       "stream": "stdout",
       "text": [
        "\n",
        "Successful parse of payload: 2679\n",
        "Successful parse of payload: 1290"
       ]
      },
      {
       "output_type": "stream",
       "stream": "stdout",
       "text": [
        "\n",
        "Successful parse of payload: 1642\n",
        "Successful parse of payload: 1802\n",
        "Successful parse of payload: 4361\n",
        "Successful parse of payload: 2628\n",
        "Successful parse of payload: 3311\n",
        "Successful parse of payload: 3504\n",
        "Successful parse of payload: 3174"
       ]
      },
      {
       "output_type": "stream",
       "stream": "stdout",
       "text": [
        "\n",
        "Successful parse of payload: 897"
       ]
      },
      {
       "output_type": "stream",
       "stream": "stdout",
       "text": [
        "\n",
        "Successful parse of payload: 2822\n",
        "Successful parse of payload: 2749\n",
        "Successful parse of payload: 4076\n",
        "Successful parse of payload: 2884\n",
        "Successful parse of payload: 3202\n",
        "Successful parse of payload: 1889\n",
        "Successful parse of payload: 1286"
       ]
      },
      {
       "output_type": "stream",
       "stream": "stdout",
       "text": [
        "\n",
        "Successful parse of payload: 4344\n",
        "Successful parse of payload: 511\n",
        "Successful parse of payload: 1954\n",
        "Successful parse of payload: 229\n",
        "Successful parse of payload: 2248"
       ]
      },
      {
       "output_type": "stream",
       "stream": "stdout",
       "text": [
        "\n",
        "Successful parse of payload: 2123\n",
        "Successful parse of payload: 2797\n",
        "Successful parse of payload: 3070"
       ]
      },
      {
       "output_type": "stream",
       "stream": "stdout",
       "text": [
        "\n",
        "Successful parse of payload: 750\n",
        "Successful parse of payload: 3952\n",
        "Successful parse of payload: 2601\n",
        "Successful parse of payload: 903"
       ]
      },
      {
       "output_type": "stream",
       "stream": "stdout",
       "text": [
        "\n",
        "Successful parse of payload: 816\n",
        "Successful parse of payload: 1090"
       ]
      },
      {
       "output_type": "stream",
       "stream": "stdout",
       "text": [
        "\n",
        "Successful parse of payload: 1967"
       ]
      },
      {
       "output_type": "stream",
       "stream": "stdout",
       "text": [
        "\n",
        "Successful parse of payload: 1669\n",
        "Successful parse of payload: 322\n",
        "Successful parse of payload: 2220\n",
        "Successful parse of payload: 749"
       ]
      },
      {
       "output_type": "stream",
       "stream": "stdout",
       "text": [
        "\n",
        "Successful parse of payload: 1692"
       ]
      },
      {
       "output_type": "stream",
       "stream": "stdout",
       "text": [
        "\n",
        "Successful parse of payload: 935"
       ]
      },
      {
       "output_type": "stream",
       "stream": "stdout",
       "text": [
        "\n",
        "Successful parse of payload: 1683\n",
        "Successful parse of payload: 2244\n",
        "Successful parse of payload: 1246\n",
        "Successful parse of payload: 3991\n",
        "Successful parse of payload: 818"
       ]
      },
      {
       "output_type": "stream",
       "stream": "stdout",
       "text": [
        "\n",
        "Successful parse of payload: 3312\n",
        "Successful parse of payload: 3619\n",
        "Successful parse of payload: 1305\n",
        "Successful parse of payload: 1093"
       ]
      },
      {
       "output_type": "stream",
       "stream": "stdout",
       "text": [
        "\n",
        "Successful parse of payload: 2294\n",
        "Successful parse of payload: 2756\n",
        "Successful parse of payload: 4324\n",
        "Successful parse of payload: 3046"
       ]
      },
      {
       "output_type": "stream",
       "stream": "stdout",
       "text": [
        "\n",
        "Successful parse of payload: 2466\n",
        "Successful parse of payload: 2288\n",
        "Successful parse of payload: 2304\n",
        "Successful parse of payload: 2930\n",
        "Successful parse of payload: 4016\n",
        "Successful parse of payload: 4138\n",
        "Successful parse of payload: 3675"
       ]
      },
      {
       "output_type": "stream",
       "stream": "stdout",
       "text": [
        "\n",
        "Successful parse of payload: 3972"
       ]
      },
      {
       "output_type": "stream",
       "stream": "stdout",
       "text": [
        "\n",
        "Successful parse of payload: 1930\n",
        "Successful parse of payload: 2505\n",
        "Successful parse of payload: 1832\n",
        "Successful parse of payload: 1222\n",
        "Successful parse of payload: 1573\n",
        "Successful parse of payload: 2976"
       ]
      },
      {
       "output_type": "stream",
       "stream": "stdout",
       "text": [
        "\n",
        "Successful parse of payload: 3400\n",
        "Successful parse of payload: 250\n",
        "Successful parse of payload: 1943\n",
        "Successful parse of payload: 1193\n",
        "Successful parse of payload: 1652\n",
        "Successful parse of payload: 3604\n",
        "Successful parse of payload: 1712\n",
        "Successful parse of payload: 3831"
       ]
      },
      {
       "output_type": "stream",
       "stream": "stdout",
       "text": [
        "\n",
        "Successful parse of payload: 1587"
       ]
      },
      {
       "output_type": "stream",
       "stream": "stdout",
       "text": [
        "\n",
        "Successful parse of payload: 2115"
       ]
      },
      {
       "output_type": "stream",
       "stream": "stdout",
       "text": [
        "\n",
        "Successful parse of payload: 4390\n",
        "Successful parse of payload: 3322\n",
        "Successful parse of payload: 2504"
       ]
      },
      {
       "output_type": "stream",
       "stream": "stdout",
       "text": [
        "\n",
        "Successful parse of payload: 2409"
       ]
      },
      {
       "output_type": "stream",
       "stream": "stdout",
       "text": [
        "\n",
        "Successful parse of payload: 3883\n",
        "Successful parse of payload: 1311"
       ]
      },
      {
       "output_type": "stream",
       "stream": "stdout",
       "text": [
        "\n",
        "Successful parse of payload: 3839\n",
        "Successful parse of payload: 3354\n",
        "Successful parse of payload: 2088"
       ]
      },
      {
       "output_type": "stream",
       "stream": "stdout",
       "text": [
        "\n",
        "Successful parse of payload: 3063"
       ]
      },
      {
       "output_type": "stream",
       "stream": "stdout",
       "text": [
        "\n",
        "Successful parse of payload: 4399\n",
        "Successful parse of payload: 4248\n",
        "Successful parse of payload: 2832\n",
        "Successful parse of payload: 4311"
       ]
      },
      {
       "output_type": "stream",
       "stream": "stdout",
       "text": [
        "\n",
        "Successful parse of payload: 4381\n",
        "Successful parse of payload: 3108"
       ]
      },
      {
       "output_type": "stream",
       "stream": "stdout",
       "text": [
        "\n",
        "Successful parse of payload: 1212"
       ]
      },
      {
       "output_type": "stream",
       "stream": "stdout",
       "text": [
        "\n",
        "Successful parse of payload: 1632\n",
        "Successful parse of payload: 1620"
       ]
      },
      {
       "output_type": "stream",
       "stream": "stdout",
       "text": [
        "\n",
        "Successful parse of payload: 2130\n",
        "Successful parse of payload: 3391\n",
        "Successful parse of payload: 2427"
       ]
      },
      {
       "output_type": "stream",
       "stream": "stdout",
       "text": [
        "\n",
        "Successful parse of payload: 3792"
       ]
      },
      {
       "output_type": "stream",
       "stream": "stdout",
       "text": [
        "\n",
        "Successful parse of payload: 2925"
       ]
      },
      {
       "output_type": "stream",
       "stream": "stdout",
       "text": [
        "\n",
        "Successful parse of payload: 2229\n",
        "Successful parse of payload: 2435\n",
        "Successful parse of payload: 1766\n",
        "Successful parse of payload: 2141"
       ]
      },
      {
       "output_type": "stream",
       "stream": "stdout",
       "text": [
        "\n",
        "Successful parse of payload: 1908\n",
        "Successful parse of payload: 2958\n",
        "Successful parse of payload: 1580\n",
        "Successful parse of payload: 2724\n",
        "Successful parse of payload: 3761\n",
        "Successful parse of payload: 3835\n",
        "Successful parse of payload: 2577"
       ]
      },
      {
       "output_type": "stream",
       "stream": "stdout",
       "text": [
        "\n",
        "Successful parse of payload: 4056\n",
        "Successful parse of payload: 3563\n",
        "Successful parse of payload: 3185\n",
        "Successful parse of payload: 1225"
       ]
      },
      {
       "output_type": "stream",
       "stream": "stdout",
       "text": [
        "\n",
        "Successful parse of payload: 3621\n",
        "Successful parse of payload: 1729\n",
        "Successful parse of payload: 3223"
       ]
      },
      {
       "output_type": "stream",
       "stream": "stdout",
       "text": [
        "\n",
        "Successful parse of payload: 4331\n",
        "Successful parse of payload: 3192\n",
        "Successful parse of payload: 4297\n",
        "Successful parse of payload: 4206"
       ]
      },
      {
       "output_type": "stream",
       "stream": "stdout",
       "text": [
        "\n",
        "Successful parse of payload: 3628"
       ]
      },
      {
       "output_type": "stream",
       "stream": "stdout",
       "text": [
        "\n",
        "Successful parse of payload: 3115\n",
        "Successful parse of payload: 4380"
       ]
      },
      {
       "output_type": "stream",
       "stream": "stdout",
       "text": [
        "\n",
        "Successful parse of payload: 2018"
       ]
      },
      {
       "output_type": "stream",
       "stream": "stdout",
       "text": [
        "\n",
        "Successful parse of payload: 1864\n",
        "Successful parse of payload: 3816\n",
        "Successful parse of payload: 2014\n",
        "Successful parse of payload: 281\n",
        "Successful parse of payload: 2128\n",
        "Successful parse of payload: 3826\n",
        "Successful parse of payload: 3660\n",
        "Successful parse of payload: 3194"
       ]
      },
      {
       "output_type": "stream",
       "stream": "stdout",
       "text": [
        "\n",
        "Successful parse of payload: 2158\n",
        "Successful parse of payload: 2299\n",
        "Successful parse of payload: 3970"
       ]
      },
      {
       "output_type": "stream",
       "stream": "stdout",
       "text": [
        "\n",
        "Successful parse of payload: 3824\n",
        "Successful parse of payload: 2740\n",
        "Successful parse of payload: 1638\n",
        "Successful parse of payload: 2781\n",
        "Successful parse of payload: 2812\n",
        "Successful parse of payload: 954\n",
        "Successful parse of payload: 3791\n",
        "Successful parse of payload: 3577\n",
        "Successful parse of payload: 289"
       ]
      },
      {
       "output_type": "stream",
       "stream": "stdout",
       "text": [
        "\n",
        "Successful parse of payload: 1955\n",
        "Successful parse of payload: 4042\n",
        "Successful parse of payload: 2124\n",
        "Successful parse of payload: 3443"
       ]
      },
      {
       "output_type": "stream",
       "stream": "stdout",
       "text": [
        "\n",
        "Successful parse of payload: 2206\n",
        "Successful parse of payload: 1863\n",
        "Successful parse of payload: 778\n",
        "Successful parse of payload: 3493\n",
        "Successful parse of payload: 4374"
       ]
      },
      {
       "output_type": "stream",
       "stream": "stdout",
       "text": [
        "\n",
        "Successful parse of payload: 862\n",
        "Successful parse of payload: 3705"
       ]
      },
      {
       "output_type": "stream",
       "stream": "stdout",
       "text": [
        "\n",
        "Successful parse of payload: 1108\n",
        "Successful parse of payload: 1878\n",
        "Successful parse of payload: 3378"
       ]
      },
      {
       "output_type": "stream",
       "stream": "stdout",
       "text": [
        "\n",
        "Successful parse of payload: 2070\n",
        "Successful parse of payload: 1823\n",
        "Successful parse of payload: 3284\n",
        "Successful parse of payload: 1170"
       ]
      },
      {
       "output_type": "stream",
       "stream": "stdout",
       "text": [
        "\n",
        "Successful parse of payload: 1635\n",
        "Successful parse of payload: 4358\n",
        "Successful parse of payload: 2866"
       ]
      },
      {
       "output_type": "stream",
       "stream": "stdout",
       "text": [
        "\n",
        "Successful parse of payload: 2469\n",
        "Successful parse of payload: 2677\n",
        "Successful parse of payload: 1082"
       ]
      },
      {
       "output_type": "stream",
       "stream": "stdout",
       "text": [
        "\n",
        "Successful parse of payload: 3752"
       ]
      },
      {
       "output_type": "stream",
       "stream": "stdout",
       "text": [
        "\n",
        "Successful parse of payload: 853\n",
        "Successful parse of payload: 1269"
       ]
      },
      {
       "output_type": "stream",
       "stream": "stdout",
       "text": [
        "\n",
        "Successful parse of payload: 3109\n",
        "Successful parse of payload: 3882\n",
        "Successful parse of payload: 323\n",
        "Successful parse of payload: 2012\n",
        "Successful parse of payload: 4146\n",
        "Successful parse of payload: 1457\n",
        "Successful parse of payload: 2436"
       ]
      },
      {
       "output_type": "stream",
       "stream": "stdout",
       "text": [
        "\n",
        "Successful parse of payload: 254\n",
        "Successful parse of payload: 301\n",
        "Successful parse of payload: 3345"
       ]
      },
      {
       "output_type": "stream",
       "stream": "stdout",
       "text": [
        "\n",
        "Successful parse of payload: 4356\n",
        "Successful parse of payload: 2245"
       ]
      },
      {
       "output_type": "stream",
       "stream": "stdout",
       "text": [
        "\n",
        "Successful parse of payload: 2658\n",
        "Successful parse of payload: 2410\n",
        "Successful parse of payload: 3807"
       ]
      },
      {
       "output_type": "stream",
       "stream": "stdout",
       "text": [
        "\n",
        "Successful parse of payload: 835"
       ]
      },
      {
       "output_type": "stream",
       "stream": "stdout",
       "text": [
        "\n",
        "Successful parse of payload: 1806\n",
        "Successful parse of payload: 1126\n",
        "Successful parse of payload: 1935\n",
        "Successful parse of payload: 3362\n",
        "Successful parse of payload: 344\n",
        "Successful parse of payload: 4240"
       ]
      },
      {
       "output_type": "stream",
       "stream": "stdout",
       "text": [
        "\n",
        "Successful parse of payload: 919\n",
        "Successful parse of payload: 3268\n",
        "Successful parse of payload: 1875\n",
        "Successful parse of payload: 1083"
       ]
      },
      {
       "output_type": "stream",
       "stream": "stdout",
       "text": [
        "\n",
        "Successful parse of payload: 4289\n",
        "Successful parse of payload: 2883\n",
        "Successful parse of payload: 1346\n",
        "Successful parse of payload: 1716"
       ]
      },
      {
       "output_type": "stream",
       "stream": "stdout",
       "text": [
        "\n",
        "Successful parse of payload: 1991\n",
        "Successful parse of payload: 2366"
       ]
      },
      {
       "output_type": "stream",
       "stream": "stdout",
       "text": [
        "\n",
        "Successful parse of payload: 2660\n",
        "Successful parse of payload: 2513\n",
        "Successful parse of payload: 3548\n",
        "Successful parse of payload: 2226\n",
        "Successful parse of payload: 3455"
       ]
      },
      {
       "output_type": "stream",
       "stream": "stdout",
       "text": [
        "\n",
        "Successful parse of payload: 4245\n",
        "Successful parse of payload: 1479"
       ]
      },
      {
       "output_type": "stream",
       "stream": "stdout",
       "text": [
        "\n",
        "Successful parse of payload: 2647\n",
        "Successful parse of payload: 2754"
       ]
      },
      {
       "output_type": "stream",
       "stream": "stdout",
       "text": [
        "\n",
        "Successful parse of payload: 2899"
       ]
      },
      {
       "output_type": "stream",
       "stream": "stdout",
       "text": [
        "\n",
        "Successful parse of payload: 3720\n",
        "Successful parse of payload: 3817\n",
        "Successful parse of payload: 357\n",
        "Successful parse of payload: 3126\n",
        "Successful parse of payload: 4328\n",
        "Successful parse of payload: 2477"
       ]
      },
      {
       "output_type": "stream",
       "stream": "stdout",
       "text": [
        "\n",
        "Successful parse of payload: 1697"
       ]
      },
      {
       "output_type": "stream",
       "stream": "stdout",
       "text": [
        "\n",
        "Successful parse of payload: 2368\n",
        "Successful parse of payload: 4243"
       ]
      },
      {
       "output_type": "stream",
       "stream": "stdout",
       "text": [
        "\n",
        "Successful parse of payload: 2240\n",
        "Successful parse of payload: 2429\n",
        "Successful parse of payload: 4407\n",
        "Successful parse of payload: 3764\n",
        "Successful parse of payload: 2704\n",
        "Successful parse of payload: 2598\n",
        "Successful parse of payload: 2355\n",
        "Successful parse of payload: 3321\n",
        "Successful parse of payload: 2449\n",
        "Successful parse of payload: 2959\n",
        "Successful parse of payload: 3925\n",
        "Successful parse of payload: 2943"
       ]
      },
      {
       "output_type": "stream",
       "stream": "stdout",
       "text": [
        "\n",
        "Successful parse of payload: 777"
       ]
      },
      {
       "output_type": "stream",
       "stream": "stdout",
       "text": [
        "\n",
        "Successful parse of payload: 1321"
       ]
      },
      {
       "output_type": "stream",
       "stream": "stdout",
       "text": [
        "\n",
        "Successful parse of payload: 1905\n",
        "Successful parse of payload: 3135"
       ]
      },
      {
       "output_type": "stream",
       "stream": "stdout",
       "text": [
        "\n",
        "Successful parse of payload: 1985\n",
        "Successful parse of payload: 1744\n",
        "Successful parse of payload: 875\n",
        "Successful parse of payload: 4209"
       ]
      },
      {
       "output_type": "stream",
       "stream": "stdout",
       "text": [
        "\n",
        "Successful parse of payload: 4072\n",
        "Successful parse of payload: 4202\n",
        "Successful parse of payload: 4270"
       ]
      },
      {
       "output_type": "stream",
       "stream": "stdout",
       "text": [
        "\n",
        "Successful parse of payload: 2497\n",
        "Successful parse of payload: 4303"
       ]
      },
      {
       "output_type": "stream",
       "stream": "stdout",
       "text": [
        "\n",
        "Successful parse of payload: 3938"
       ]
      },
      {
       "output_type": "stream",
       "stream": "stdout",
       "text": [
        "\n",
        "Successful parse of payload: 2489"
       ]
      },
      {
       "output_type": "stream",
       "stream": "stdout",
       "text": [
        "\n",
        "Successful parse of payload: 2274\n",
        "Successful parse of payload: 1926"
       ]
      },
      {
       "output_type": "stream",
       "stream": "stdout",
       "text": [
        "\n",
        "Successful parse of payload: 2510\n",
        "Successful parse of payload: 4247"
       ]
      },
      {
       "output_type": "stream",
       "stream": "stdout",
       "text": [
        "\n",
        "Successful parse of payload: 2194"
       ]
      },
      {
       "output_type": "stream",
       "stream": "stdout",
       "text": [
        "\n",
        "Successful parse of payload: 3138\n",
        "Successful parse of payload: 1789\n",
        "Successful parse of payload: 2793\n",
        "Successful parse of payload: 2949\n",
        "Successful parse of payload: 3134\n",
        "Successful parse of payload: 914\n",
        "Successful parse of payload: 1769"
       ]
      },
      {
       "output_type": "stream",
       "stream": "stdout",
       "text": [
        "\n",
        "Successful parse of payload: 414"
       ]
      },
      {
       "output_type": "stream",
       "stream": "stdout",
       "text": [
        "\n",
        "Successful parse of payload: 2224\n",
        "Successful parse of payload: 2807\n",
        "Successful parse of payload: 4151"
       ]
      },
      {
       "output_type": "stream",
       "stream": "stdout",
       "text": [
        "\n",
        "Successful parse of payload: 2778\n",
        "Successful parse of payload: 1665\n",
        "Successful parse of payload: 850"
       ]
      },
      {
       "output_type": "stream",
       "stream": "stdout",
       "text": [
        "\n",
        "Successful parse of payload: 1677"
       ]
      },
      {
       "output_type": "stream",
       "stream": "stdout",
       "text": [
        "\n",
        "Successful parse of payload: 2525"
       ]
      },
      {
       "output_type": "stream",
       "stream": "stdout",
       "text": [
        "\n",
        "Successful parse of payload: 2186\n",
        "Successful parse of payload: 2725\n",
        "Successful parse of payload: 2703\n",
        "Successful parse of payload: 2177\n",
        "Successful parse of payload: 4161"
       ]
      },
      {
       "output_type": "stream",
       "stream": "stdout",
       "text": [
        "\n",
        "Successful parse of payload: 2326\n",
        "Successful parse of payload: 2652\n",
        "Successful parse of payload: 1647\n",
        "Successful parse of payload: 2072\n",
        "Successful parse of payload: 2457\n",
        "Successful parse of payload: 4082"
       ]
      },
      {
       "output_type": "stream",
       "stream": "stdout",
       "text": [
        "\n",
        "Successful parse of payload: 3650\n",
        "Successful parse of payload: 4035\n",
        "Successful parse of payload: 2311\n",
        "Successful parse of payload: 2232\n",
        "Successful parse of payload: 1094\n",
        "Successful parse of payload: 1188\n",
        "Successful parse of payload: 2560\n",
        "Successful parse of payload: 3377"
       ]
      },
      {
       "output_type": "stream",
       "stream": "stdout",
       "text": [
        "\n",
        "Successful parse of payload: 2332\n",
        "Successful parse of payload: 2667\n",
        "Successful parse of payload: 895"
       ]
      },
      {
       "output_type": "stream",
       "stream": "stdout",
       "text": [
        "\n",
        "Successful parse of payload: 247\n",
        "Successful parse of payload: 2179\n",
        "Successful parse of payload: 3358\n",
        "Successful parse of payload: 1924\n",
        "Successful parse of payload: 3241"
       ]
      },
      {
       "output_type": "stream",
       "stream": "stdout",
       "text": [
        "\n",
        "Successful parse of payload: 3579"
       ]
      },
      {
       "output_type": "stream",
       "stream": "stdout",
       "text": [
        "\n",
        "Successful parse of payload: 3924\n",
        "Successful parse of payload: 2659\n",
        "Successful parse of payload: 3813"
       ]
      },
      {
       "output_type": "stream",
       "stream": "stdout",
       "text": [
        "\n",
        "Successful parse of payload: 4032\n",
        "Successful parse of payload: 911\n",
        "Successful parse of payload: 2138"
       ]
      },
      {
       "output_type": "stream",
       "stream": "stdout",
       "text": [
        "\n",
        "Successful parse of payload: 3576\n",
        "Successful parse of payload: 3055\n",
        "Successful parse of payload: 1591"
       ]
      },
      {
       "output_type": "stream",
       "stream": "stdout",
       "text": [
        "\n",
        "Successful parse of payload: 1921\n",
        "Successful parse of payload: 1915\n",
        "Successful parse of payload: 1940\n",
        "Successful parse of payload: 2131\n",
        "Successful parse of payload: 2948\n",
        "Successful parse of payload: 1628"
       ]
      },
      {
       "output_type": "stream",
       "stream": "stdout",
       "text": [
        "\n",
        "Successful parse of payload: 2975\n",
        "Successful parse of payload: 227\n",
        "Successful parse of payload: 4275\n",
        "Successful parse of payload: 4325\n",
        "Successful parse of payload: 2775\n",
        "Successful parse of payload: 3054\n",
        "Successful parse of payload: 3609\n",
        "Successful parse of payload: 2759"
       ]
      },
      {
       "output_type": "stream",
       "stream": "stdout",
       "text": [
        "\n",
        "Successful parse of payload: 1645"
       ]
      },
      {
       "output_type": "stream",
       "stream": "stdout",
       "text": [
        "\n",
        "Successful parse of payload: 358\n",
        "Successful parse of payload: 4020\n",
        "Successful parse of payload: 4126\n",
        "Successful parse of payload: 3815"
       ]
      },
      {
       "output_type": "stream",
       "stream": "stdout",
       "text": [
        "\n",
        "Successful parse of payload: 3469"
       ]
      },
      {
       "output_type": "stream",
       "stream": "stdout",
       "text": [
        "\n",
        "Successful parse of payload: 1175\n",
        "Successful parse of payload: 4005\n",
        "Successful parse of payload: 360"
       ]
      },
      {
       "output_type": "stream",
       "stream": "stdout",
       "text": [
        "\n",
        "Successful parse of payload: 3352\n",
        "Successful parse of payload: 1801\n",
        "Successful parse of payload: 3366"
       ]
      },
      {
       "output_type": "stream",
       "stream": "stdout",
       "text": [
        "\n",
        "Successful parse of payload: 2075\n",
        "Successful parse of payload: 242\n",
        "Successful parse of payload: 3587\n",
        "Successful parse of payload: 2423\n",
        "Successful parse of payload: 269\n",
        "Successful parse of payload: 3820\n",
        "Successful parse of payload: 3142\n",
        "Successful parse of payload: 2020\n",
        "Successful parse of payload: 1275\n",
        "Successful parse of payload: 2582\n",
        "Successful parse of payload: 869"
       ]
      },
      {
       "output_type": "stream",
       "stream": "stdout",
       "text": [
        "\n",
        "Successful parse of payload: 1579\n",
        "Successful parse of payload: 3933\n",
        "Successful parse of payload: 2380"
       ]
      },
      {
       "output_type": "stream",
       "stream": "stdout",
       "text": [
        "\n",
        "Successful parse of payload: 2281"
       ]
      },
      {
       "output_type": "stream",
       "stream": "stdout",
       "text": [
        "\n",
        "Successful parse of payload: 255\n",
        "Successful parse of payload: 1505\n",
        "Successful parse of payload: 4411\n",
        "Successful parse of payload: 2843"
       ]
      },
      {
       "output_type": "stream",
       "stream": "stdout",
       "text": [
        "\n",
        "Successful parse of payload: 1315\n",
        "Successful parse of payload: 4402\n",
        "Successful parse of payload: 1761\n",
        "Successful parse of payload: 3095\n",
        "Successful parse of payload: 2988\n",
        "Successful parse of payload: 3599\n",
        "Successful parse of payload: 4031"
       ]
      },
      {
       "output_type": "stream",
       "stream": "stdout",
       "text": [
        "\n",
        "Successful parse of payload: 3182\n",
        "Successful parse of payload: 1621\n",
        "Successful parse of payload: 2176\n",
        "Successful parse of payload: 2825\n",
        "Successful parse of payload: 3016\n",
        "Successful parse of payload: 3759"
       ]
      },
      {
       "output_type": "stream",
       "stream": "stdout",
       "text": [
        "\n",
        "Successful parse of payload: 2922\n",
        "Successful parse of payload: 350"
       ]
      },
      {
       "output_type": "stream",
       "stream": "stdout",
       "text": [
        "\n",
        "Successful parse of payload: 4168\n",
        "Successful parse of payload: 1892\n",
        "Successful parse of payload: 1597\n",
        "Successful parse of payload: 1594\n",
        "Successful parse of payload: 228\n",
        "Successful parse of payload: 3768\n",
        "Successful parse of payload: 3153\n",
        "Successful parse of payload: 3503\n",
        "Successful parse of payload: 3829"
       ]
      },
      {
       "output_type": "stream",
       "stream": "stdout",
       "text": [
        "\n",
        "Successful parse of payload: 1586\n",
        "Successful parse of payload: 1977"
       ]
      },
      {
       "output_type": "stream",
       "stream": "stdout",
       "text": [
        "\n",
        "Successful parse of payload: 1895\n",
        "Successful parse of payload: 342\n",
        "Successful parse of payload: 1261"
       ]
      },
      {
       "output_type": "stream",
       "stream": "stdout",
       "text": [
        "\n",
        "Successful parse of payload: 4111"
       ]
      },
      {
       "output_type": "stream",
       "stream": "stdout",
       "text": [
        "\n",
        "Successful parse of payload: 4003\n",
        "Successful parse of payload: 3076"
       ]
      },
      {
       "output_type": "stream",
       "stream": "stdout",
       "text": [
        "\n",
        "Successful parse of payload: 1009\n",
        "Successful parse of payload: 1596\n",
        "Successful parse of payload: 4123\n",
        "Successful parse of payload: 2037"
       ]
      },
      {
       "output_type": "stream",
       "stream": "stdout",
       "text": [
        "\n",
        "Successful parse of payload: 2375"
       ]
      },
      {
       "output_type": "stream",
       "stream": "stdout",
       "text": [
        "\n",
        "Successful parse of payload: 4432\n",
        "Successful parse of payload: 2984"
       ]
      },
      {
       "output_type": "stream",
       "stream": "stdout",
       "text": [
        "\n",
        "Successful parse of payload: 3130\n",
        "Successful parse of payload: 3605\n",
        "Successful parse of payload: 3306\n",
        "Successful parse of payload: 3431\n",
        "Successful parse of payload: 4018\n",
        "Successful parse of payload: 1754\n",
        "Successful parse of payload: 4101"
       ]
      },
      {
       "output_type": "stream",
       "stream": "stdout",
       "text": [
        "\n",
        "Successful parse of payload: 1116"
       ]
      },
      {
       "output_type": "stream",
       "stream": "stdout",
       "text": [
        "\n",
        "Successful parse of payload: 4099"
       ]
      },
      {
       "output_type": "stream",
       "stream": "stdout",
       "text": [
        "\n",
        "Successful parse of payload: 4409\n",
        "Successful parse of payload: 1274"
       ]
      },
      {
       "output_type": "stream",
       "stream": "stdout",
       "text": [
        "\n",
        "Successful parse of payload: 2406\n",
        "Successful parse of payload: 929"
       ]
      },
      {
       "output_type": "stream",
       "stream": "stdout",
       "text": [
        "\n",
        "Successful parse of payload: 840"
       ]
      },
      {
       "output_type": "stream",
       "stream": "stdout",
       "text": [
        "\n",
        "Successful parse of payload: 1223"
       ]
      },
      {
       "output_type": "stream",
       "stream": "stdout",
       "text": [
        "\n",
        "Successful parse of payload: 2591\n",
        "Successful parse of payload: 3666\n",
        "Successful parse of payload: 2401"
       ]
      },
      {
       "output_type": "stream",
       "stream": "stdout",
       "text": [
        "\n",
        "Successful parse of payload: 3659"
       ]
      },
      {
       "output_type": "stream",
       "stream": "stdout",
       "text": [
        "\n",
        "Successful parse of payload: 1844\n",
        "Successful parse of payload: 2735\n",
        "Successful parse of payload: 3676\n",
        "Successful parse of payload: 3622\n",
        "Successful parse of payload: 235\n",
        "Successful parse of payload: 2290\n",
        "Successful parse of payload: 3554"
       ]
      },
      {
       "output_type": "stream",
       "stream": "stdout",
       "text": [
        "\n",
        "Successful parse of payload: 320\n",
        "Successful parse of payload: 1654"
       ]
      },
      {
       "output_type": "stream",
       "stream": "stdout",
       "text": [
        "\n",
        "Successful parse of payload: 3501\n",
        "Successful parse of payload: 1783"
       ]
      },
      {
       "output_type": "stream",
       "stream": "stdout",
       "text": [
        "\n",
        "Successful parse of payload: 290\n",
        "Successful parse of payload: 2654"
       ]
      },
      {
       "output_type": "stream",
       "stream": "stdout",
       "text": [
        "\n",
        "Successful parse of payload: 2476\n",
        "Successful parse of payload: 3847\n",
        "Successful parse of payload: 2820\n",
        "Successful parse of payload: 1758\n",
        "Successful parse of payload: 4366\n",
        "Successful parse of payload: 3045\n",
        "Successful parse of payload: 1220\n",
        "Successful parse of payload: 1690"
       ]
      },
      {
       "output_type": "stream",
       "stream": "stdout",
       "text": [
        "\n",
        "Successful parse of payload: 4291"
       ]
      },
      {
       "output_type": "stream",
       "stream": "stdout",
       "text": [
        "\n",
        "Successful parse of payload: 3534\n",
        "Successful parse of payload: 3079\n",
        "Successful parse of payload: 1177"
       ]
      },
      {
       "output_type": "stream",
       "stream": "stdout",
       "text": [
        "\n",
        "Successful parse of payload: 1278\n",
        "Successful parse of payload: 792"
       ]
      },
      {
       "output_type": "stream",
       "stream": "stdout",
       "text": [
        "\n",
        "Successful parse of payload: 2420\n",
        "Successful parse of payload: 2928\n",
        "Successful parse of payload: 4213\n",
        "Successful parse of payload: 4298"
       ]
      },
      {
       "output_type": "stream",
       "stream": "stdout",
       "text": [
        "\n",
        "Successful parse of payload: 3580"
       ]
      },
      {
       "output_type": "stream",
       "stream": "stdout",
       "text": [
        "\n",
        "Successful parse of payload: 3772\n",
        "Successful parse of payload: 3064\n",
        "Successful parse of payload: 2767\n",
        "Successful parse of payload: 2412\n",
        "Successful parse of payload: 1257"
       ]
      },
      {
       "output_type": "stream",
       "stream": "stdout",
       "text": [
        "\n",
        "Successful parse of payload: 3427"
       ]
      },
      {
       "output_type": "stream",
       "stream": "stdout",
       "text": [
        "\n",
        "Successful parse of payload: 1910\n",
        "Successful parse of payload: 832\n",
        "Successful parse of payload: 2927"
       ]
      },
      {
       "output_type": "stream",
       "stream": "stdout",
       "text": [
        "\n",
        "Successful parse of payload: 2863"
       ]
      },
      {
       "output_type": "stream",
       "stream": "stdout",
       "text": [
        "\n",
        "Successful parse of payload: 886\n",
        "Successful parse of payload: 2121"
       ]
      },
      {
       "output_type": "stream",
       "stream": "stdout",
       "text": [
        "\n",
        "Successful parse of payload: 3091\n",
        "Successful parse of payload: 1860\n",
        "Successful parse of payload: 2432\n",
        "Successful parse of payload: 1900\n",
        "Successful parse of payload: 3511"
       ]
      },
      {
       "output_type": "stream",
       "stream": "stdout",
       "text": [
        "\n",
        "Successful parse of payload: 3301\n",
        "Successful parse of payload: 2361\n",
        "Successful parse of payload: 1981\n",
        "Successful parse of payload: 3193\n",
        "Successful parse of payload: 1765\n",
        "Successful parse of payload: 3756"
       ]
      },
      {
       "output_type": "stream",
       "stream": "stdout",
       "text": [
        "\n",
        "Successful parse of payload: 2422\n",
        "Successful parse of payload: 2805\n",
        "Successful parse of payload: 2393\n",
        "Successful parse of payload: 3190\n",
        "Successful parse of payload: 3445\n",
        "Successful parse of payload: 846"
       ]
      },
      {
       "output_type": "stream",
       "stream": "stdout",
       "text": [
        "\n",
        "Successful parse of payload: 2471\n",
        "Successful parse of payload: 3624\n",
        "Successful parse of payload: 3152\n",
        "Successful parse of payload: 2327"
       ]
      },
      {
       "output_type": "stream",
       "stream": "stdout",
       "text": [
        "\n",
        "Successful parse of payload: 4227\n",
        "Successful parse of payload: 3452\n",
        "Successful parse of payload: 4276"
       ]
      },
      {
       "output_type": "stream",
       "stream": "stdout",
       "text": [
        "\n",
        "Successful parse of payload: 2251\n",
        "Successful parse of payload: 1781\n",
        "Successful parse of payload: 3581\n",
        "Successful parse of payload: 3105"
       ]
      },
      {
       "output_type": "stream",
       "stream": "stdout",
       "text": [
        "\n",
        "Successful parse of payload: 3379\n",
        "Successful parse of payload: 1160\n",
        "Successful parse of payload: 2317\n",
        "Successful parse of payload: 2675\n",
        "Successful parse of payload: 2147"
       ]
      },
      {
       "output_type": "stream",
       "stream": "stdout",
       "text": [
        "\n",
        "Successful parse of payload: 3456\n",
        "Successful parse of payload: 3244"
       ]
      },
      {
       "output_type": "stream",
       "stream": "stdout",
       "text": [
        "\n",
        "Successful parse of payload: 288\n",
        "Successful parse of payload: 4327\n",
        "Successful parse of payload: 1775\n",
        "Successful parse of payload: 2006\n",
        "Successful parse of payload: 3841"
       ]
      },
      {
       "output_type": "stream",
       "stream": "stdout",
       "text": [
        "\n",
        "Successful parse of payload: 2878\n",
        "Successful parse of payload: 2869\n",
        "Successful parse of payload: 1132"
       ]
      },
      {
       "output_type": "stream",
       "stream": "stdout",
       "text": [
        "\n",
        "Successful parse of payload: 3308\n",
        "Successful parse of payload: 2539\n",
        "Successful parse of payload: 2292"
       ]
      },
      {
       "output_type": "stream",
       "stream": "stdout",
       "text": [
        "\n",
        "Successful parse of payload: 3802\n",
        "Successful parse of payload: 1884\n",
        "Successful parse of payload: 1181\n",
        "Successful parse of payload: 4117\n",
        "Successful parse of payload: 2185"
       ]
      },
      {
       "output_type": "stream",
       "stream": "stdout",
       "text": [
        "\n",
        "Successful parse of payload: 821\n",
        "Successful parse of payload: 2173"
       ]
      },
      {
       "output_type": "stream",
       "stream": "stdout",
       "text": [
        "\n",
        "Successful parse of payload: 4120\n",
        "Successful parse of payload: 3571\n",
        "Successful parse of payload: 3811"
       ]
      },
      {
       "output_type": "stream",
       "stream": "stdout",
       "text": [
        "\n",
        "Successful parse of payload: 3341\n",
        "Successful parse of payload: 2472\n",
        "Successful parse of payload: 3413"
       ]
      },
      {
       "output_type": "stream",
       "stream": "stdout",
       "text": [
        "\n",
        "Successful parse of payload: 257\n",
        "Successful parse of payload: 3262\n",
        "Successful parse of payload: 4200\n",
        "Successful parse of payload: 2189\n",
        "Successful parse of payload: 4219\n",
        "Successful parse of payload: 3466\n",
        "Successful parse of payload: 2419"
       ]
      },
      {
       "output_type": "stream",
       "stream": "stdout",
       "text": [
        "\n",
        "Successful parse of payload: 830"
       ]
      },
      {
       "output_type": "stream",
       "stream": "stdout",
       "text": [
        "\n",
        "Successful parse of payload: 1253\n",
        "Successful parse of payload: 772\n",
        "Successful parse of payload: 2690\n",
        "Successful parse of payload: 1254"
       ]
      },
      {
       "output_type": "stream",
       "stream": "stdout",
       "text": [
        "\n",
        "Successful parse of payload: 4273\n",
        "Successful parse of payload: 4382\n",
        "Successful parse of payload: 2894"
       ]
      },
      {
       "output_type": "stream",
       "stream": "stdout",
       "text": [
        "\n",
        "Successful parse of payload: 4012"
       ]
      },
      {
       "output_type": "stream",
       "stream": "stdout",
       "text": [
        "\n",
        "Successful parse of payload: 2373"
       ]
      },
      {
       "output_type": "stream",
       "stream": "stdout",
       "text": [
        "\n",
        "Successful parse of payload: 4143\n",
        "Successful parse of payload: 4198"
       ]
      },
      {
       "output_type": "stream",
       "stream": "stdout",
       "text": [
        "\n",
        "Successful parse of payload: 3330"
       ]
      },
      {
       "output_type": "stream",
       "stream": "stdout",
       "text": [
        "\n",
        "Successful parse of payload: 2157\n",
        "Successful parse of payload: 868\n",
        "Successful parse of payload: 1252"
       ]
      },
      {
       "output_type": "stream",
       "stream": "stdout",
       "text": [
        "\n",
        "Successful parse of payload: 2004\n",
        "Successful parse of payload: 3588"
       ]
      },
      {
       "output_type": "stream",
       "stream": "stdout",
       "text": [
        "\n",
        "Successful parse of payload: 3163\n",
        "Successful parse of payload: 4131\n",
        "Successful parse of payload: 1608\n",
        "Successful parse of payload: 2700"
       ]
      },
      {
       "output_type": "stream",
       "stream": "stdout",
       "text": [
        "\n",
        "Successful parse of payload: 1643\n",
        "Successful parse of payload: 4190\n",
        "Successful parse of payload: 2212\n",
        "Successful parse of payload: 3723"
       ]
      },
      {
       "output_type": "stream",
       "stream": "stdout",
       "text": [
        "\n",
        "Successful parse of payload: 3771"
       ]
      },
      {
       "output_type": "stream",
       "stream": "stdout",
       "text": [
        "\n",
        "Successful parse of payload: 329\n",
        "Successful parse of payload: 2016\n",
        "Successful parse of payload: 1822"
       ]
      },
      {
       "output_type": "stream",
       "stream": "stdout",
       "text": [
        "\n",
        "Successful parse of payload: 2969\n",
        "Successful parse of payload: 847\n",
        "Successful parse of payload: 3526\n",
        "Successful parse of payload: 3256"
       ]
      },
      {
       "output_type": "stream",
       "stream": "stdout",
       "text": [
        "\n",
        "Successful parse of payload: 3606"
       ]
      },
      {
       "output_type": "stream",
       "stream": "stdout",
       "text": [
        "\n",
        "Successful parse of payload: 1300\n",
        "Successful parse of payload: 2029\n",
        "Successful parse of payload: 2575\n",
        "Successful parse of payload: 1852"
       ]
      },
      {
       "output_type": "stream",
       "stream": "stdout",
       "text": [
        "\n",
        "Successful parse of payload: 2218\n",
        "Successful parse of payload: 3161\n",
        "Successful parse of payload: 4064"
       ]
      },
      {
       "output_type": "stream",
       "stream": "stdout",
       "text": [
        "\n",
        "Successful parse of payload: 296\n",
        "Successful parse of payload: 1694"
       ]
      },
      {
       "output_type": "stream",
       "stream": "stdout",
       "text": [
        "\n",
        "Successful parse of payload: 3119\n",
        "Successful parse of payload: 2747\n",
        "Successful parse of payload: 3730\n",
        "Successful parse of payload: 1115\n",
        "Successful parse of payload: 1721"
       ]
      },
      {
       "output_type": "stream",
       "stream": "stdout",
       "text": [
        "\n",
        "Successful parse of payload: 2547"
       ]
      },
      {
       "output_type": "stream",
       "stream": "stdout",
       "text": [
        "\n",
        "Successful parse of payload: 1949\n",
        "Successful parse of payload: 3613\n",
        "Successful parse of payload: 3523\n",
        "Successful parse of payload: 2285\n",
        "Successful parse of payload: 3479"
       ]
      },
      {
       "output_type": "stream",
       "stream": "stdout",
       "text": [
        "\n",
        "Successful parse of payload: 1959"
       ]
      },
      {
       "output_type": "stream",
       "stream": "stdout",
       "text": [
        "\n",
        "Successful parse of payload: 2338\n",
        "Successful parse of payload: 2803\n",
        "Successful parse of payload: 1979\n",
        "Successful parse of payload: 829\n",
        "Successful parse of payload: 2721\n",
        "Successful parse of payload: 3381\n",
        "Successful parse of payload: 3718"
       ]
      },
      {
       "output_type": "stream",
       "stream": "stdout",
       "text": [
        "\n",
        "Successful parse of payload: 3247\n",
        "Successful parse of payload: 4282\n",
        "Successful parse of payload: 4169\n",
        "Successful parse of payload: 2086\n",
        "Successful parse of payload: 1828"
       ]
      },
      {
       "output_type": "stream",
       "stream": "stdout",
       "text": [
        "\n",
        "Successful parse of payload: 3800\n",
        "Successful parse of payload: 2848\n",
        "Successful parse of payload: 2308"
       ]
      },
      {
       "output_type": "stream",
       "stream": "stdout",
       "text": [
        "\n",
        "Successful parse of payload: 3779\n",
        "Successful parse of payload: 3167\n",
        "Successful parse of payload: 2765\n",
        "Successful parse of payload: 2454\n",
        "Successful parse of payload: 2760\n",
        "Successful parse of payload: 3474"
       ]
      },
      {
       "output_type": "stream",
       "stream": "stdout",
       "text": [
        "\n",
        "Successful parse of payload: 2166\n",
        "Successful parse of payload: 4310\n",
        "Successful parse of payload: 3411"
       ]
      },
      {
       "output_type": "stream",
       "stream": "stdout",
       "text": [
        "\n",
        "Successful parse of payload: 3753\n",
        "Successful parse of payload: 512\n",
        "Successful parse of payload: 3030\n",
        "Successful parse of payload: 2620\n",
        "Successful parse of payload: 1197\n",
        "Successful parse of payload: 2940\n",
        "Successful parse of payload: 3762"
       ]
      },
      {
       "output_type": "stream",
       "stream": "stdout",
       "text": [
        "\n",
        "Successful parse of payload: 2963"
       ]
      },
      {
       "output_type": "stream",
       "stream": "stdout",
       "text": [
        "\n",
        "Successful parse of payload: 2502"
       ]
      },
      {
       "output_type": "stream",
       "stream": "stdout",
       "text": [
        "\n",
        "Successful parse of payload: 782\n",
        "Successful parse of payload: 1737\n",
        "Successful parse of payload: 2453"
       ]
      },
      {
       "output_type": "stream",
       "stream": "stdout",
       "text": [
        "\n",
        "Successful parse of payload: 1682"
       ]
      },
      {
       "output_type": "stream",
       "stream": "stdout",
       "text": [
        "\n",
        "Successful parse of payload: 2391\n",
        "Successful parse of payload: 4233\n",
        "Successful parse of payload: 4130"
       ]
      },
      {
       "output_type": "stream",
       "stream": "stdout",
       "text": [
        "\n",
        "Successful parse of payload: 2322"
       ]
      },
      {
       "output_type": "stream",
       "stream": "stdout",
       "text": [
        "\n",
        "Successful parse of payload: 1348\n",
        "Successful parse of payload: 3968\n",
        "Successful parse of payload: 3283\n",
        "Successful parse of payload: 1830\n",
        "Successful parse of payload: 1174\n",
        "Successful parse of payload: 3750"
       ]
      },
      {
       "output_type": "stream",
       "stream": "stdout",
       "text": [
        "\n",
        "Successful parse of payload: 362\n",
        "Successful parse of payload: 2595\n",
        "Successful parse of payload: 924"
       ]
      },
      {
       "output_type": "stream",
       "stream": "stdout",
       "text": [
        "\n",
        "Successful parse of payload: 4185"
       ]
      },
      {
       "output_type": "stream",
       "stream": "stdout",
       "text": [
        "\n",
        "Successful parse of payload: 3461\n",
        "Successful parse of payload: 2802\n",
        "Successful parse of payload: 4416\n",
        "Successful parse of payload: 1298\n",
        "Successful parse of payload: 4349\n",
        "Successful parse of payload: 4388"
       ]
      },
      {
       "output_type": "stream",
       "stream": "stdout",
       "text": [
        "\n",
        "Successful parse of payload: 325\n",
        "Successful parse of payload: 1678"
       ]
      },
      {
       "output_type": "stream",
       "stream": "stdout",
       "text": [
        "\n",
        "Successful parse of payload: 1120\n",
        "Successful parse of payload: 513"
       ]
      },
      {
       "output_type": "stream",
       "stream": "stdout",
       "text": [
        "\n",
        "Successful parse of payload: 2213\n",
        "Successful parse of payload: 1932"
       ]
      },
      {
       "output_type": "stream",
       "stream": "stdout",
       "text": [
        "\n",
        "Successful parse of payload: 1770\n",
        "Successful parse of payload: 4308"
       ]
      },
      {
       "output_type": "stream",
       "stream": "stdout",
       "text": [
        "\n",
        "Successful parse of payload: 1689\n",
        "Successful parse of payload: 2564"
       ]
      },
      {
       "output_type": "stream",
       "stream": "stdout",
       "text": [
        "\n",
        "Successful parse of payload: 1234\n",
        "Successful parse of payload: 4204\n",
        "Successful parse of payload: 2886"
       ]
      },
      {
       "output_type": "stream",
       "stream": "stdout",
       "text": [
        "\n",
        "Successful parse of payload: 2233"
       ]
      },
      {
       "output_type": "stream",
       "stream": "stdout",
       "text": [
        "\n",
        "Successful parse of payload: 1702\n",
        "Successful parse of payload: 4379\n",
        "Successful parse of payload: 3370\n",
        "Successful parse of payload: 2059"
       ]
      },
      {
       "output_type": "stream",
       "stream": "stdout",
       "text": [
        "\n",
        "Successful parse of payload: 306\n",
        "Successful parse of payload: 3171"
       ]
      },
      {
       "output_type": "stream",
       "stream": "stdout",
       "text": [
        "\n",
        "Successful parse of payload: 2441"
       ]
      },
      {
       "output_type": "stream",
       "stream": "stdout",
       "text": [
        "\n",
        "Successful parse of payload: 1834\n",
        "Successful parse of payload: 844\n",
        "Successful parse of payload: 1279\n",
        "Successful parse of payload: 2359\n",
        "Successful parse of payload: 1097\n",
        "Successful parse of payload: 3515"
       ]
      },
      {
       "output_type": "stream",
       "stream": "stdout",
       "text": [
        "\n",
        "Successful parse of payload: 2810\n",
        "Successful parse of payload: 3222\n",
        "Successful parse of payload: 4295"
       ]
      },
      {
       "output_type": "stream",
       "stream": "stdout",
       "text": [
        "\n",
        "Successful parse of payload: 2877\n",
        "Successful parse of payload: 2127\n",
        "Successful parse of payload: 2706\n",
        "Successful parse of payload: 2562\n",
        "Successful parse of payload: 4102\n",
        "Successful parse of payload: 3602"
       ]
      },
      {
       "output_type": "stream",
       "stream": "stdout",
       "text": [
        "\n",
        "Successful parse of payload: 2374\n",
        "Successful parse of payload: 3634\n",
        "Successful parse of payload: 241\n",
        "Successful parse of payload: 3845\n",
        "Successful parse of payload: 1183\n",
        "Successful parse of payload: 825\n",
        "Successful parse of payload: 1700\n",
        "Successful parse of payload: 4368"
       ]
      },
      {
       "output_type": "stream",
       "stream": "stdout",
       "text": [
        "\n",
        "Successful parse of payload: 2937\n",
        "Successful parse of payload: 865"
       ]
      },
      {
       "output_type": "stream",
       "stream": "stdout",
       "text": [
        "\n",
        "Successful parse of payload: 3910"
       ]
      },
      {
       "output_type": "stream",
       "stream": "stdout",
       "text": [
        "\n",
        "Successful parse of payload: 2488\n",
        "Successful parse of payload: 3143\n",
        "Successful parse of payload: 3793"
       ]
      },
      {
       "output_type": "stream",
       "stream": "stdout",
       "text": [
        "\n",
        "Successful parse of payload: 485"
       ]
      },
      {
       "output_type": "stream",
       "stream": "stdout",
       "text": [
        "\n",
        "Successful parse of payload: 3008"
       ]
      },
      {
       "output_type": "stream",
       "stream": "stdout",
       "text": [
        "\n",
        "Successful parse of payload: 3684\n",
        "Successful parse of payload: 1243\n",
        "Successful parse of payload: 2842\n",
        "Successful parse of payload: 1867\n",
        "Successful parse of payload: 1280\n",
        "Successful parse of payload: 2316\n",
        "Successful parse of payload: 1157"
       ]
      },
      {
       "output_type": "stream",
       "stream": "stdout",
       "text": [
        "\n",
        "Successful parse of payload: 3414\n",
        "Successful parse of payload: 3557"
       ]
      },
      {
       "output_type": "stream",
       "stream": "stdout",
       "text": [
        "\n",
        "Successful parse of payload: 4229"
       ]
      },
      {
       "output_type": "stream",
       "stream": "stdout",
       "text": [
        "\n",
        "Successful parse of payload: 1734\n",
        "Successful parse of payload: 328"
       ]
      },
      {
       "output_type": "stream",
       "stream": "stdout",
       "text": [
        "\n",
        "Successful parse of payload: 4263\n",
        "Successful parse of payload: 3559\n",
        "Successful parse of payload: 326\n",
        "Successful parse of payload: 801"
       ]
      },
      {
       "output_type": "stream",
       "stream": "stdout",
       "text": [
        "\n",
        "Successful parse of payload: 3207\n",
        "Successful parse of payload: 3013\n",
        "Successful parse of payload: 3224\n",
        "Successful parse of payload: 3438"
       ]
      },
      {
       "output_type": "stream",
       "stream": "stdout",
       "text": [
        "\n",
        "Successful parse of payload: 2523\n",
        "Successful parse of payload: 2192\n",
        "Successful parse of payload: 3983\n",
        "Successful parse of payload: 858"
       ]
      },
      {
       "output_type": "stream",
       "stream": "stdout",
       "text": [
        "\n",
        "Successful parse of payload: 918"
       ]
      },
      {
       "output_type": "stream",
       "stream": "stdout",
       "text": [
        "\n",
        "Successful parse of payload: 4321"
       ]
      },
      {
       "output_type": "stream",
       "stream": "stdout",
       "text": [
        "\n",
        "Successful parse of payload: 1820"
       ]
      },
      {
       "output_type": "stream",
       "stream": "stdout",
       "text": [
        "\n",
        "Successful parse of payload: 3003\n",
        "Successful parse of payload: 3801\n",
        "Successful parse of payload: 1890\n",
        "Successful parse of payload: 2097"
       ]
      },
      {
       "output_type": "stream",
       "stream": "stdout",
       "text": [
        "\n",
        "Successful parse of payload: 3542"
       ]
      },
      {
       "output_type": "stream",
       "stream": "stdout",
       "text": [
        "\n",
        "Successful parse of payload: 3473\n",
        "Successful parse of payload: 1866\n",
        "Successful parse of payload: 3418\n",
        "Successful parse of payload: 1046"
       ]
      },
      {
       "output_type": "stream",
       "stream": "stdout",
       "text": [
        "\n",
        "Successful parse of payload: 3881\n",
        "Successful parse of payload: 1990\n",
        "Successful parse of payload: 1486\n",
        "Successful parse of payload: 3356"
       ]
      },
      {
       "output_type": "stream",
       "stream": "stdout",
       "text": [
        "\n",
        "Successful parse of payload: 3859\n",
        "Successful parse of payload: 2600\n",
        "Successful parse of payload: 3594\n",
        "Successful parse of payload: 2270"
       ]
      },
      {
       "output_type": "stream",
       "stream": "stdout",
       "text": [
        "\n",
        "Successful parse of payload: 4045\n",
        "Successful parse of payload: 2875"
       ]
      },
      {
       "output_type": "stream",
       "stream": "stdout",
       "text": [
        "\n",
        "Successful parse of payload: 1679"
       ]
      },
      {
       "output_type": "stream",
       "stream": "stdout",
       "text": [
        "\n",
        "Successful parse of payload: 2291\n",
        "Successful parse of payload: 1478\n",
        "Successful parse of payload: 3852\n",
        "Successful parse of payload: 3944\n",
        "Successful parse of payload: 4172\n",
        "Successful parse of payload: 3051\n",
        "Successful parse of payload: 3481\n",
        "Successful parse of payload: 3597\n",
        "Successful parse of payload: 781\n",
        "Successful parse of payload: 1320"
       ]
      },
      {
       "output_type": "stream",
       "stream": "stdout",
       "text": [
        "\n",
        "Successful parse of payload: 2102"
       ]
      },
      {
       "output_type": "stream",
       "stream": "stdout",
       "text": [
        "\n",
        "Successful parse of payload: 1590\n",
        "Successful parse of payload: 3266\n",
        "Successful parse of payload: 1308"
       ]
      },
      {
       "output_type": "stream",
       "stream": "stdout",
       "text": [
        "\n",
        "Successful parse of payload: 2459\n",
        "Successful parse of payload: 1194\n",
        "Successful parse of payload: 2126\n",
        "Successful parse of payload: 1096"
       ]
      },
      {
       "output_type": "stream",
       "stream": "stdout",
       "text": [
        "\n",
        "Successful parse of payload: 3278\n",
        "Successful parse of payload: 2906\n",
        "Successful parse of payload: 2641\n",
        "Successful parse of payload: 2187\n",
        "Successful parse of payload: 1201\n",
        "Successful parse of payload: 1481"
       ]
      },
      {
       "output_type": "stream",
       "stream": "stdout",
       "text": [
        "\n",
        "Successful parse of payload: 1869\n",
        "Successful parse of payload: 2806\n",
        "Successful parse of payload: 1602\n",
        "Successful parse of payload: 313\n",
        "Successful parse of payload: 3946\n",
        "Successful parse of payload: 1809\n",
        "Successful parse of payload: 3570"
       ]
      },
      {
       "output_type": "stream",
       "stream": "stdout",
       "text": [
        "\n",
        "Successful parse of payload: 1050"
       ]
      },
      {
       "output_type": "stream",
       "stream": "stdout",
       "text": [
        "\n",
        "Successful parse of payload: 3199"
       ]
      },
      {
       "output_type": "stream",
       "stream": "stdout",
       "text": [
        "\n",
        "Successful parse of payload: 2260\n",
        "Successful parse of payload: 2629\n",
        "Successful parse of payload: 4377\n",
        "Successful parse of payload: 1839\n",
        "Successful parse of payload: 2139"
       ]
      },
      {
       "output_type": "stream",
       "stream": "stdout",
       "text": [
        "\n",
        "Successful parse of payload: 3726\n",
        "Successful parse of payload: 4077\n",
        "Successful parse of payload: 1708"
       ]
      },
      {
       "output_type": "stream",
       "stream": "stdout",
       "text": [
        "\n",
        "Successful parse of payload: 3507\n",
        "Successful parse of payload: 1899\n",
        "Successful parse of payload: 2350\n",
        "Successful parse of payload: 1957\n",
        "Successful parse of payload: 2085"
       ]
      },
      {
       "output_type": "stream",
       "stream": "stdout",
       "text": [
        "\n",
        "Successful parse of payload: 1843\n",
        "Successful parse of payload: 3359\n",
        "Successful parse of payload: 794"
       ]
      },
      {
       "output_type": "stream",
       "stream": "stdout",
       "text": [
        "\n",
        "Successful parse of payload: 3645"
       ]
      },
      {
       "output_type": "stream",
       "stream": "stdout",
       "text": [
        "\n",
        "Successful parse of payload: 2038"
       ]
      },
      {
       "output_type": "stream",
       "stream": "stdout",
       "text": [
        "\n",
        "Successful parse of payload: 3000\n",
        "Successful parse of payload: 3828\n",
        "Successful parse of payload: 817\n",
        "Successful parse of payload: 3015"
       ]
      },
      {
       "output_type": "stream",
       "stream": "stdout",
       "text": [
        "\n",
        "Successful parse of payload: 4137\n",
        "Successful parse of payload: 1229"
       ]
      },
      {
       "output_type": "stream",
       "stream": "stdout",
       "text": [
        "\n",
        "Successful parse of payload: 2378\n",
        "Successful parse of payload: 1206\n",
        "Successful parse of payload: 1482"
       ]
      },
      {
       "output_type": "stream",
       "stream": "stdout",
       "text": [
        "\n",
        "Successful parse of payload: 3168\n",
        "Successful parse of payload: 1849"
       ]
      },
      {
       "output_type": "stream",
       "stream": "stdout",
       "text": [
        "\n",
        "Successful parse of payload: 2707\n",
        "Successful parse of payload: 3183\n",
        "Successful parse of payload: 4236\n",
        "Successful parse of payload: 3313\n",
        "Successful parse of payload: 774\n",
        "Successful parse of payload: 822"
       ]
      },
      {
       "output_type": "stream",
       "stream": "stdout",
       "text": [
        "\n",
        "Successful parse of payload: 2936"
       ]
      },
      {
       "output_type": "stream",
       "stream": "stdout",
       "text": [
        "\n",
        "Successful parse of payload: 2498"
       ]
      },
      {
       "output_type": "stream",
       "stream": "stdout",
       "text": [
        "\n",
        "Successful parse of payload: 4222\n",
        "Successful parse of payload: 3669"
       ]
      },
      {
       "output_type": "stream",
       "stream": "stdout",
       "text": [
        "\n",
        "Successful parse of payload: 273\n",
        "Successful parse of payload: 2511"
       ]
      },
      {
       "output_type": "stream",
       "stream": "stdout",
       "text": [
        "\n",
        "Successful parse of payload: 3739\n",
        "Successful parse of payload: 4078"
       ]
      },
      {
       "output_type": "stream",
       "stream": "stdout",
       "text": [
        "\n",
        "Successful parse of payload: 1458\n",
        "Successful parse of payload: 4186\n",
        "Successful parse of payload: 1980"
       ]
      },
      {
       "output_type": "stream",
       "stream": "stdout",
       "text": [
        "\n",
        "Successful parse of payload: 3520"
       ]
      },
      {
       "output_type": "stream",
       "stream": "stdout",
       "text": [
        "\n",
        "Successful parse of payload: 4118\n",
        "Successful parse of payload: 4154\n",
        "Successful parse of payload: 3939\n",
        "Successful parse of payload: 1105\n",
        "Successful parse of payload: 2918\n",
        "Successful parse of payload: 4063"
       ]
      },
      {
       "output_type": "stream",
       "stream": "stdout",
       "text": [
        "\n",
        "Successful parse of payload: 833\n",
        "Successful parse of payload: 3349"
       ]
      },
      {
       "output_type": "stream",
       "stream": "stdout",
       "text": [
        "\n",
        "Successful parse of payload: 3778"
       ]
      },
      {
       "output_type": "stream",
       "stream": "stdout",
       "text": [
        "\n",
        "Successful parse of payload: 4170\n",
        "Successful parse of payload: 1672\n",
        "Successful parse of payload: 2851\n",
        "Successful parse of payload: 2120\n",
        "Successful parse of payload: 1972\n",
        "Successful parse of payload: 2283\n",
        "Successful parse of payload: 3276\n",
        "Successful parse of payload: 3701"
       ]
      },
      {
       "output_type": "stream",
       "stream": "stdout",
       "text": [
        "\n",
        "Successful parse of payload: 1232\n",
        "Successful parse of payload: 299\n",
        "Successful parse of payload: 4074\n",
        "Successful parse of payload: 2672\n",
        "Successful parse of payload: 4039\n",
        "Successful parse of payload: 2990\n",
        "Successful parse of payload: 3404\n",
        "Successful parse of payload: 2296\n",
        "Successful parse of payload: 3909\n",
        "Successful parse of payload: 3371"
       ]
      },
      {
       "output_type": "stream",
       "stream": "stdout",
       "text": [
        "\n",
        "Successful parse of payload: 1826\n",
        "Successful parse of payload: 3953\n",
        "Successful parse of payload: 2730\n",
        "Successful parse of payload: 775"
       ]
      },
      {
       "output_type": "stream",
       "stream": "stdout",
       "text": [
        "\n",
        "Successful parse of payload: 2872\n",
        "Successful parse of payload: 230\n",
        "Successful parse of payload: 3591"
       ]
      },
      {
       "output_type": "stream",
       "stream": "stdout",
       "text": [
        "\n",
        "Successful parse of payload: 2648\n",
        "Successful parse of payload: 3254\n",
        "Successful parse of payload: 266\n",
        "Successful parse of payload: 348\n",
        "Successful parse of payload: 3150\n",
        "Successful parse of payload: 277\n",
        "Successful parse of payload: 2049\n",
        "Successful parse of payload: 2732\n",
        "Successful parse of payload: 3690"
       ]
      },
      {
       "output_type": "stream",
       "stream": "stdout",
       "text": [
        "\n",
        "Successful parse of payload: 2965\n",
        "Successful parse of payload: 3080"
       ]
      },
      {
       "output_type": "stream",
       "stream": "stdout",
       "text": [
        "\n",
        "Successful parse of payload: 2271\n",
        "Successful parse of payload: 3929\n",
        "Successful parse of payload: 1617\n",
        "Successful parse of payload: 3714\n",
        "Successful parse of payload: 3595"
       ]
      },
      {
       "output_type": "stream",
       "stream": "stdout",
       "text": [
        "\n",
        "Successful parse of payload: 2323\n",
        "Successful parse of payload: 1987\n",
        "Successful parse of payload: 4029\n",
        "Successful parse of payload: 4203"
       ]
      },
      {
       "output_type": "stream",
       "stream": "stdout",
       "text": [
        "\n",
        "Successful parse of payload: 896\n",
        "Successful parse of payload: 4104\n",
        "Successful parse of payload: 3200\n",
        "Successful parse of payload: 1245"
       ]
      },
      {
       "output_type": "stream",
       "stream": "stdout",
       "text": [
        "\n",
        "Successful parse of payload: 4094\n",
        "Successful parse of payload: 3078\n",
        "Successful parse of payload: 4162\n",
        "Successful parse of payload: 3116"
       ]
      },
      {
       "output_type": "stream",
       "stream": "stdout",
       "text": [
        "\n",
        "Successful parse of payload: 238\n",
        "Successful parse of payload: 1813\n",
        "Successful parse of payload: 3198\n",
        "Successful parse of payload: 1736"
       ]
      },
      {
       "output_type": "stream",
       "stream": "stdout",
       "text": [
        "\n",
        "Successful parse of payload: 1277\n",
        "Successful parse of payload: 3255\n",
        "Successful parse of payload: 3914\n",
        "Successful parse of payload: 932\n",
        "Successful parse of payload: 2389"
       ]
      },
      {
       "output_type": "stream",
       "stream": "stdout",
       "text": [
        "\n",
        "Successful parse of payload: 3299\n",
        "Successful parse of payload: 4373\n",
        "Successful parse of payload: 2908"
       ]
      },
      {
       "output_type": "stream",
       "stream": "stdout",
       "text": [
        "\n",
        "Successful parse of payload: 2645\n",
        "Successful parse of payload: 2424"
       ]
      },
      {
       "output_type": "stream",
       "stream": "stdout",
       "text": [
        "\n",
        "Successful parse of payload: 2737\n",
        "Successful parse of payload: 4357\n",
        "Successful parse of payload: 3225"
       ]
      },
      {
       "output_type": "stream",
       "stream": "stdout",
       "text": [
        "\n",
        "Successful parse of payload: 2278\n",
        "Successful parse of payload: 1293\n",
        "Successful parse of payload: 2688"
       ]
      },
      {
       "output_type": "stream",
       "stream": "stdout",
       "text": [
        "\n",
        "Successful parse of payload: 2752\n",
        "Successful parse of payload: 2090\n",
        "Successful parse of payload: 3214\n",
        "Successful parse of payload: 3348"
       ]
      },
      {
       "output_type": "stream",
       "stream": "stdout",
       "text": [
        "\n",
        "Successful parse of payload: 1208"
       ]
      },
      {
       "output_type": "stream",
       "stream": "stdout",
       "text": [
        "\n",
        "Successful parse of payload: 1302\n",
        "Successful parse of payload: 3982\n",
        "Successful parse of payload: 1732\n",
        "Successful parse of payload: 3393"
       ]
      },
      {
       "output_type": "stream",
       "stream": "stdout",
       "text": [
        "\n",
        "Successful parse of payload: 2903\n",
        "Successful parse of payload: 2611"
       ]
      },
      {
       "output_type": "stream",
       "stream": "stdout",
       "text": [
        "\n",
        "Successful parse of payload: 1102\n",
        "Successful parse of payload: 4040"
       ]
      },
      {
       "output_type": "stream",
       "stream": "stdout",
       "text": [
        "\n",
        "Successful parse of payload: 4371\n",
        "Successful parse of payload: 1918\n",
        "Successful parse of payload: 4265\n",
        "Successful parse of payload: 1707\n",
        "Successful parse of payload: 2492"
       ]
      },
      {
       "output_type": "stream",
       "stream": "stdout",
       "text": [
        "\n",
        "Successful parse of payload: 3127"
       ]
      },
      {
       "output_type": "stream",
       "stream": "stdout",
       "text": [
        "\n",
        "Successful parse of payload: 2957\n",
        "Successful parse of payload: 1598"
       ]
      },
      {
       "output_type": "stream",
       "stream": "stdout",
       "text": [
        "\n",
        "Successful parse of payload: 3216"
       ]
      },
      {
       "output_type": "stream",
       "stream": "stdout",
       "text": [
        "\n",
        "Successful parse of payload: 1964\n",
        "Successful parse of payload: 3017"
       ]
      },
      {
       "output_type": "stream",
       "stream": "stdout",
       "text": [
        "\n",
        "Successful parse of payload: 2092\n",
        "Successful parse of payload: 2968\n",
        "Successful parse of payload: 3101\n",
        "Successful parse of payload: 2421\n",
        "Successful parse of payload: 3048"
       ]
      },
      {
       "output_type": "stream",
       "stream": "stdout",
       "text": [
        "\n",
        "Successful parse of payload: 1612\n",
        "Successful parse of payload: 1135\n",
        "Successful parse of payload: 4422"
       ]
      },
      {
       "output_type": "stream",
       "stream": "stdout",
       "text": [
        "\n",
        "Successful parse of payload: 1739"
       ]
      },
      {
       "output_type": "stream",
       "stream": "stdout",
       "text": [
        "\n",
        "Successful parse of payload: 3486\n",
        "Successful parse of payload: 3809\n",
        "Successful parse of payload: 1885\n",
        "Successful parse of payload: 1854\n",
        "Successful parse of payload: 2107"
       ]
      },
      {
       "output_type": "stream",
       "stream": "stdout",
       "text": [
        "\n",
        "Successful parse of payload: 1784\n",
        "Successful parse of payload: 3392\n",
        "Successful parse of payload: 1624\n",
        "Successful parse of payload: 1945\n",
        "Successful parse of payload: 3919\n",
        "Successful parse of payload: 4033"
       ]
      },
      {
       "output_type": "stream",
       "stream": "stdout",
       "text": [
        "\n",
        "Successful parse of payload: 1755\n",
        "Successful parse of payload: 1158\n",
        "Successful parse of payload: 2662\n",
        "Successful parse of payload: 1701"
       ]
      },
      {
       "output_type": "stream",
       "stream": "stdout",
       "text": [
        "\n",
        "Successful parse of payload: 1838"
       ]
      },
      {
       "output_type": "stream",
       "stream": "stdout",
       "text": [
        "\n",
        "Successful parse of payload: 3936\n",
        "Successful parse of payload: 2779"
       ]
      },
      {
       "output_type": "stream",
       "stream": "stdout",
       "text": [
        "\n",
        "Successful parse of payload: 2626"
       ]
      },
      {
       "output_type": "stream",
       "stream": "stdout",
       "text": [
        "\n",
        "Successful parse of payload: 3897"
       ]
      },
      {
       "output_type": "stream",
       "stream": "stdout",
       "text": [
        "\n",
        "Successful parse of payload: 3083\n",
        "Successful parse of payload: 3327\n",
        "Successful parse of payload: 2786\n",
        "Successful parse of payload: 3234"
       ]
      },
      {
       "output_type": "stream",
       "stream": "stdout",
       "text": [
        "\n",
        "Successful parse of payload: 1898\n",
        "Successful parse of payload: 1196\n",
        "Successful parse of payload: 3867\n",
        "Successful parse of payload: 3433"
       ]
      },
      {
       "output_type": "stream",
       "stream": "stdout",
       "text": [
        "\n",
        "Successful parse of payload: 3957\n",
        "Successful parse of payload: 803"
       ]
      },
      {
       "output_type": "stream",
       "stream": "stdout",
       "text": [
        "\n",
        "Successful parse of payload: 1248\n",
        "Successful parse of payload: 3510"
       ]
      },
      {
       "output_type": "stream",
       "stream": "stdout",
       "text": [
        "\n",
        "Successful parse of payload: 3573\n",
        "Successful parse of payload: 4110\n",
        "Successful parse of payload: 353\n",
        "Successful parse of payload: 3401\n",
        "Successful parse of payload: 1611\n",
        "Successful parse of payload: 4182"
       ]
      },
      {
       "output_type": "stream",
       "stream": "stdout",
       "text": [
        "\n",
        "Successful parse of payload: 1936\n",
        "Successful parse of payload: 3513\n",
        "Successful parse of payload: 345\n",
        "Successful parse of payload: 3074"
       ]
      },
      {
       "output_type": "stream",
       "stream": "stdout",
       "text": [
        "\n",
        "Successful parse of payload: 2531\n",
        "Successful parse of payload: 2202\n",
        "Successful parse of payload: 4098"
       ]
      },
      {
       "output_type": "stream",
       "stream": "stdout",
       "text": [
        "\n",
        "Successful parse of payload: 2892\n",
        "Successful parse of payload: 4207\n",
        "Successful parse of payload: 359\n",
        "Successful parse of payload: 3856"
       ]
      },
      {
       "output_type": "stream",
       "stream": "stdout",
       "text": [
        "\n",
        "Successful parse of payload: 4021\n",
        "Successful parse of payload: 3535\n",
        "Successful parse of payload: 1752"
       ]
      },
      {
       "output_type": "stream",
       "stream": "stdout",
       "text": [
        "\n",
        "Successful parse of payload: 3901\n",
        "Successful parse of payload: 3267"
       ]
      },
      {
       "output_type": "stream",
       "stream": "stdout",
       "text": [
        "\n",
        "Successful parse of payload: 3180\n",
        "Successful parse of payload: 4334\n",
        "Successful parse of payload: 4214\n",
        "Successful parse of payload: 2649\n",
        "Successful parse of payload: 1303"
       ]
      },
      {
       "output_type": "stream",
       "stream": "stdout",
       "text": [
        "\n",
        "Successful parse of payload: 2697\n",
        "Successful parse of payload: 1756\n",
        "Successful parse of payload: 1575"
       ]
      },
      {
       "output_type": "stream",
       "stream": "stdout",
       "text": [
        "\n",
        "Successful parse of payload: 3618"
       ]
      },
      {
       "output_type": "stream",
       "stream": "stdout",
       "text": [
        "\n",
        "Successful parse of payload: 2590"
       ]
      },
      {
       "output_type": "stream",
       "stream": "stdout",
       "text": [
        "\n",
        "Successful parse of payload: 881\n",
        "Successful parse of payload: 3219\n",
        "Successful parse of payload: 3170\n",
        "Successful parse of payload: 4268\n",
        "Successful parse of payload: 4340"
       ]
      },
      {
       "output_type": "stream",
       "stream": "stdout",
       "text": [
        "\n",
        "Successful parse of payload: 3178\n",
        "Successful parse of payload: 2253\n",
        "Successful parse of payload: 1637\n",
        "Successful parse of payload: 1931\n",
        "Successful parse of payload: 2394"
       ]
      },
      {
       "output_type": "stream",
       "stream": "stdout",
       "text": [
        "\n",
        "Successful parse of payload: 1953"
       ]
      },
      {
       "output_type": "stream",
       "stream": "stdout",
       "text": [
        "\n",
        "Successful parse of payload: 2571"
       ]
      },
      {
       "output_type": "stream",
       "stream": "stdout",
       "text": [
        "\n",
        "Successful parse of payload: 4294\n",
        "Successful parse of payload: 3043\n",
        "Successful parse of payload: 3734\n",
        "Successful parse of payload: 1706"
       ]
      },
      {
       "output_type": "stream",
       "stream": "stdout",
       "text": [
        "\n",
        "Successful parse of payload: 3671"
       ]
      },
      {
       "output_type": "stream",
       "stream": "stdout",
       "text": [
        "\n",
        "Successful parse of payload: 2830\n",
        "Successful parse of payload: 1127"
       ]
      },
      {
       "output_type": "stream",
       "stream": "stdout",
       "text": [
        "\n",
        "Successful parse of payload: 3331\n",
        "Successful parse of payload: 3886"
       ]
      },
      {
       "output_type": "stream",
       "stream": "stdout",
       "text": [
        "\n",
        "Successful parse of payload: 1185\n",
        "Successful parse of payload: 4108\n",
        "Successful parse of payload: 2962\n",
        "Successful parse of payload: 3162"
       ]
      },
      {
       "output_type": "stream",
       "stream": "stdout",
       "text": [
        "\n",
        "Successful parse of payload: 811\n",
        "Successful parse of payload: 2769\n",
        "Successful parse of payload: 2859\n",
        "Successful parse of payload: 3422"
       ]
      },
      {
       "output_type": "stream",
       "stream": "stdout",
       "text": [
        "\n",
        "Successful parse of payload: 3941\n",
        "Successful parse of payload: 3958"
       ]
      },
      {
       "output_type": "stream",
       "stream": "stdout",
       "text": [
        "\n",
        "Successful parse of payload: 3243\n",
        "Successful parse of payload: 2066\n",
        "Successful parse of payload: 1771\n",
        "Successful parse of payload: 1313\n",
        "Successful parse of payload: 2116\n",
        "Successful parse of payload: 2002"
       ]
      },
      {
       "output_type": "stream",
       "stream": "stdout",
       "text": [
        "\n",
        "Successful parse of payload: 1625\n",
        "Successful parse of payload: 2377\n",
        "Successful parse of payload: 3863\n",
        "Successful parse of payload: 3774"
       ]
      },
      {
       "output_type": "stream",
       "stream": "stdout",
       "text": [
        "\n",
        "Successful parse of payload: 4011"
       ]
      },
      {
       "output_type": "stream",
       "stream": "stdout",
       "text": [
        "\n",
        "Successful parse of payload: 4256\n",
        "Successful parse of payload: 3210\n",
        "Successful parse of payload: 2581"
       ]
      },
      {
       "output_type": "stream",
       "stream": "stdout",
       "text": [
        "\n",
        "Successful parse of payload: 3781\n",
        "Successful parse of payload: 2400\n",
        "Successful parse of payload: 1318"
       ]
      },
      {
       "output_type": "stream",
       "stream": "stdout",
       "text": [
        "\n",
        "Successful parse of payload: 1263\n",
        "Successful parse of payload: 3173\n",
        "Successful parse of payload: 2111\n",
        "Successful parse of payload: 3114"
       ]
      },
      {
       "output_type": "stream",
       "stream": "stdout",
       "text": [
        "\n",
        "Successful parse of payload: 884\n",
        "Successful parse of payload: 1746\n",
        "Successful parse of payload: 4415\n",
        "Successful parse of payload: 3748"
       ]
      },
      {
       "output_type": "stream",
       "stream": "stdout",
       "text": [
        "\n",
        "Successful parse of payload: 2824\n",
        "Successful parse of payload: 4025"
       ]
      },
      {
       "output_type": "stream",
       "stream": "stdout",
       "text": [
        "\n",
        "Successful parse of payload: 3751\n",
        "Successful parse of payload: 3569"
       ]
      },
      {
       "output_type": "stream",
       "stream": "stdout",
       "text": [
        "\n",
        "Successful parse of payload: 3107\n",
        "Successful parse of payload: 2298\n",
        "Successful parse of payload: 4047\n",
        "Successful parse of payload: 2942\n",
        "Successful parse of payload: 4398\n",
        "Successful parse of payload: 3687"
       ]
      },
      {
       "output_type": "stream",
       "stream": "stdout",
       "text": [
        "\n",
        "Successful parse of payload: 1262\n",
        "Successful parse of payload: 3505\n",
        "Successful parse of payload: 1871\n",
        "Successful parse of payload: 2055"
       ]
      },
      {
       "output_type": "stream",
       "stream": "stdout",
       "text": [
        "\n",
        "Successful parse of payload: 4132\n",
        "Successful parse of payload: 2614\n",
        "Successful parse of payload: 3144\n",
        "Successful parse of payload: 3281"
       ]
      },
      {
       "output_type": "stream",
       "stream": "stdout",
       "text": [
        "\n",
        "Successful parse of payload: 2100\n",
        "Successful parse of payload: 1613\n",
        "Successful parse of payload: 3407"
       ]
      },
      {
       "output_type": "stream",
       "stream": "stdout",
       "text": [
        "\n",
        "Successful parse of payload: 2671"
       ]
      },
      {
       "output_type": "stream",
       "stream": "stdout",
       "text": [
        "\n",
        "Successful parse of payload: 1099\n",
        "Successful parse of payload: 2425"
       ]
      },
      {
       "output_type": "stream",
       "stream": "stdout",
       "text": [
        "\n",
        "Successful parse of payload: 4376"
       ]
      },
      {
       "output_type": "stream",
       "stream": "stdout",
       "text": [
        "\n",
        "Successful parse of payload: 3848\n",
        "Successful parse of payload: 1077\n",
        "Successful parse of payload: 2574"
       ]
      },
      {
       "output_type": "stream",
       "stream": "stdout",
       "text": [
        "\n",
        "Successful parse of payload: 1195"
       ]
      },
      {
       "output_type": "stream",
       "stream": "stdout",
       "text": [
        "\n",
        "Successful parse of payload: 2982\n",
        "Successful parse of payload: 1292"
       ]
      },
      {
       "output_type": "stream",
       "stream": "stdout",
       "text": [
        "\n",
        "Successful parse of payload: 1882"
       ]
      },
      {
       "output_type": "stream",
       "stream": "stdout",
       "text": [
        "\n",
        "Successful parse of payload: 2543\n",
        "Successful parse of payload: 4413\n",
        "Successful parse of payload: 3346\n",
        "Successful parse of payload: 3688"
       ]
      },
      {
       "output_type": "stream",
       "stream": "stdout",
       "text": [
        "\n",
        "Successful parse of payload: 3195\n",
        "Successful parse of payload: 1768\n",
        "Successful parse of payload: 913"
       ]
      },
      {
       "output_type": "stream",
       "stream": "stdout",
       "text": [
        "\n",
        "Successful parse of payload: 4423\n",
        "Successful parse of payload: 2804"
       ]
      },
      {
       "output_type": "stream",
       "stream": "stdout",
       "text": [
        "\n",
        "Successful parse of payload: 3530\n",
        "Successful parse of payload: 1836"
       ]
      },
      {
       "output_type": "stream",
       "stream": "stdout",
       "text": [
        "\n",
        "Successful parse of payload: 2083\n",
        "Successful parse of payload: 2052\n",
        "Successful parse of payload: 1998"
       ]
      },
      {
       "output_type": "stream",
       "stream": "stdout",
       "text": [
        "\n",
        "Successful parse of payload: 1831\n",
        "Successful parse of payload: 2060\n",
        "Successful parse of payload: 558"
       ]
      },
      {
       "output_type": "stream",
       "stream": "stdout",
       "text": [
        "\n",
        "Successful parse of payload: 2604\n",
        "Successful parse of payload: 1255\n",
        "Successful parse of payload: 2733\n",
        "Successful parse of payload: 1846\n",
        "Successful parse of payload: 4280\n",
        "Successful parse of payload: 231\n",
        "Successful parse of payload: 2946\n",
        "Successful parse of payload: 2416"
       ]
      },
      {
       "output_type": "stream",
       "stream": "stdout",
       "text": [
        "\n",
        "Successful parse of payload: 2151\n",
        "Successful parse of payload: 1675"
       ]
      },
      {
       "output_type": "stream",
       "stream": "stdout",
       "text": [
        "\n",
        "Successful parse of payload: 880\n",
        "Successful parse of payload: 4354\n",
        "Successful parse of payload: 1282\n",
        "Successful parse of payload: 2635\n",
        "Successful parse of payload: 4165"
       ]
      },
      {
       "output_type": "stream",
       "stream": "stdout",
       "text": [
        "\n",
        "Successful parse of payload: 701\n",
        "Successful parse of payload: 1633"
       ]
      },
      {
       "output_type": "stream",
       "stream": "stdout",
       "text": [
        "\n",
        "Successful parse of payload: 1323\n",
        "Successful parse of payload: 4395\n",
        "Successful parse of payload: 3205\n",
        "Successful parse of payload: 280\n",
        "Successful parse of payload: 2935\n",
        "Successful parse of payload: 2428\n",
        "Successful parse of payload: 2609"
       ]
      },
      {
       "output_type": "stream",
       "stream": "stdout",
       "text": [
        "\n",
        "Successful parse of payload: 3498\n",
        "Successful parse of payload: 2789\n",
        "Successful parse of payload: 788"
       ]
      },
      {
       "output_type": "stream",
       "stream": "stdout",
       "text": [
        "\n",
        "Successful parse of payload: 2275\n",
        "Successful parse of payload: 2524\n",
        "Successful parse of payload: 3724\n",
        "Successful parse of payload: 3965\n",
        "Successful parse of payload: 4266"
       ]
      },
      {
       "output_type": "stream",
       "stream": "stdout",
       "text": [
        "\n",
        "Successful parse of payload: 2153\n",
        "Successful parse of payload: 2079"
       ]
      },
      {
       "output_type": "stream",
       "stream": "stdout",
       "text": [
        "\n",
        "Successful parse of payload: 2844\n",
        "Successful parse of payload: 1913\n",
        "Successful parse of payload: 3500"
       ]
      },
      {
       "output_type": "stream",
       "stream": "stdout",
       "text": [
        "\n",
        "Successful parse of payload: 2814\n",
        "Successful parse of payload: 2089\n",
        "Successful parse of payload: 3703"
       ]
      },
      {
       "output_type": "stream",
       "stream": "stdout",
       "text": [
        "\n",
        "Successful parse of payload: 3156"
       ]
      },
      {
       "output_type": "stream",
       "stream": "stdout",
       "text": [
        "\n",
        "Successful parse of payload: 2557\n",
        "Successful parse of payload: 3516\n",
        "Successful parse of payload: 2063"
       ]
      },
      {
       "output_type": "stream",
       "stream": "stdout",
       "text": [
        "\n",
        "Successful parse of payload: 2266\n",
        "Successful parse of payload: 4392\n",
        "Successful parse of payload: 2567"
       ]
      },
      {
       "output_type": "stream",
       "stream": "stdout",
       "text": [
        "\n",
        "Successful parse of payload: 1506\n",
        "Successful parse of payload: 2450\n",
        "Successful parse of payload: 1106"
       ]
      },
      {
       "output_type": "stream",
       "stream": "stdout",
       "text": [
        "\n",
        "Successful parse of payload: 3904\n",
        "Successful parse of payload: 4428\n",
        "Successful parse of payload: 2149"
       ]
      },
      {
       "output_type": "stream",
       "stream": "stdout",
       "text": [
        "\n",
        "Successful parse of payload: 2701\n",
        "Successful parse of payload: 1191"
       ]
      },
      {
       "output_type": "stream",
       "stream": "stdout",
       "text": [
        "\n",
        "Successful parse of payload: 1695\n",
        "Successful parse of payload: 3913"
       ]
      },
      {
       "output_type": "stream",
       "stream": "stdout",
       "text": [
        "\n",
        "Successful parse of payload: 845\n",
        "Successful parse of payload: 3937\n",
        "Successful parse of payload: 297\n",
        "Successful parse of payload: 4164"
       ]
      },
      {
       "output_type": "stream",
       "stream": "stdout",
       "text": [
        "\n",
        "Successful parse of payload: 2207"
       ]
      },
      {
       "output_type": "stream",
       "stream": "stdout",
       "text": [
        "\n",
        "Successful parse of payload: 3921\n",
        "Successful parse of payload: 2753\n",
        "Successful parse of payload: 3039\n",
        "Successful parse of payload: 223\n",
        "Successful parse of payload: 4425\n",
        "Successful parse of payload: 268\n",
        "Successful parse of payload: 236\n",
        "Successful parse of payload: 1774"
       ]
      },
      {
       "output_type": "stream",
       "stream": "stdout",
       "text": [
        "\n",
        "Successful parse of payload: 2155\n",
        "Successful parse of payload: 3098\n",
        "Successful parse of payload: 1879"
       ]
      },
      {
       "output_type": "stream",
       "stream": "stdout",
       "text": [
        "\n",
        "Successful parse of payload: 3760\n",
        "Successful parse of payload: 2715\n",
        "Successful parse of payload: 2881"
       ]
      },
      {
       "output_type": "stream",
       "stream": "stdout",
       "text": [
        "\n",
        "Successful parse of payload: 3018\n",
        "Successful parse of payload: 1051\n",
        "Successful parse of payload: 1184\n",
        "Successful parse of payload: 3129\n",
        "Successful parse of payload: 1297\n",
        "Successful parse of payload: 2418\n",
        "Successful parse of payload: 4010"
       ]
      },
      {
       "output_type": "stream",
       "stream": "stdout",
       "text": [
        "\n",
        "Successful parse of payload: 3031\n",
        "Successful parse of payload: 3567"
       ]
      },
      {
       "output_type": "stream",
       "stream": "stdout",
       "text": [
        "\n",
        "Successful parse of payload: 4238"
       ]
      },
      {
       "output_type": "stream",
       "stream": "stdout",
       "text": [
        "\n",
        "Successful parse of payload: 2745\n",
        "Successful parse of payload: 321\n",
        "Successful parse of payload: 3736"
       ]
      },
      {
       "output_type": "stream",
       "stream": "stdout",
       "text": [
        "\n",
        "Successful parse of payload: 4323\n",
        "Successful parse of payload: 4228\n",
        "Successful parse of payload: 795\n",
        "Successful parse of payload: 3868\n",
        "Successful parse of payload: 4365\n",
        "Successful parse of payload: 3310\n",
        "Successful parse of payload: 3661"
       ]
      },
      {
       "output_type": "stream",
       "stream": "stdout",
       "text": [
        "\n",
        "Successful parse of payload: 3889\n",
        "Successful parse of payload: 2841\n",
        "Successful parse of payload: 3818\n",
        "Successful parse of payload: 3743"
       ]
      },
      {
       "output_type": "stream",
       "stream": "stdout",
       "text": [
        "\n",
        "Successful parse of payload: 2618\n",
        "Successful parse of payload: 4218\n",
        "Successful parse of payload: 3564\n",
        "Successful parse of payload: 2222\n",
        "Successful parse of payload: 3491\n",
        "Successful parse of payload: 2546\n",
        "Successful parse of payload: 2610\n",
        "Successful parse of payload: 2482\n",
        "Successful parse of payload: 4307\n",
        "Successful parse of payload: 3987"
       ]
      },
      {
       "output_type": "stream",
       "stream": "stdout",
       "text": [
        "\n",
        "Successful parse of payload: 2094\n",
        "Successful parse of payload: 1609\n",
        "Successful parse of payload: 4057"
       ]
      },
      {
       "output_type": "stream",
       "stream": "stdout",
       "text": [
        "\n",
        "Successful parse of payload: 3260"
       ]
      },
      {
       "output_type": "stream",
       "stream": "stdout",
       "text": [
        "\n",
        "Successful parse of payload: 264\n",
        "Successful parse of payload: 1411"
       ]
      },
      {
       "output_type": "stream",
       "stream": "stdout",
       "text": [
        "\n",
        "Successful parse of payload: 2446\n",
        "Successful parse of payload: 4087\n",
        "Successful parse of payload: 3880\n",
        "Successful parse of payload: 905\n",
        "Successful parse of payload: 2302\n",
        "Successful parse of payload: 2996"
       ]
      },
      {
       "output_type": "stream",
       "stream": "stdout",
       "text": [
        "\n",
        "Successful parse of payload: 3651"
       ]
      },
      {
       "output_type": "stream",
       "stream": "stdout",
       "text": [
        "\n",
        "Successful parse of payload: 2606"
       ]
      },
      {
       "output_type": "stream",
       "stream": "stdout",
       "text": [
        "\n",
        "Successful parse of payload: 3681"
       ]
      },
      {
       "output_type": "stream",
       "stream": "stdout",
       "text": [
        "\n",
        "Successful parse of payload: 3741\n",
        "Successful parse of payload: 1951\n",
        "Successful parse of payload: 3417"
       ]
      },
      {
       "output_type": "stream",
       "stream": "stdout",
       "text": [
        "\n",
        "Successful parse of payload: 3375\n",
        "Successful parse of payload: 4386\n",
        "Successful parse of payload: 3151\n",
        "Successful parse of payload: 2521\n",
        "Successful parse of payload: 2727"
       ]
      },
      {
       "output_type": "stream",
       "stream": "stdout",
       "text": [
        "\n",
        "Successful parse of payload: 3285\n",
        "Successful parse of payload: 2496\n",
        "Successful parse of payload: 2790\n",
        "Successful parse of payload: 2846\n",
        "Successful parse of payload: 3002"
       ]
      },
      {
       "output_type": "stream",
       "stream": "stdout",
       "text": [
        "\n",
        "Successful parse of payload: 2334\n",
        "Successful parse of payload: 3353\n",
        "Successful parse of payload: 1780\n",
        "Successful parse of payload: 1724"
       ]
      },
      {
       "output_type": "stream",
       "stream": "stdout",
       "text": [
        "\n",
        "Successful parse of payload: 3333\n",
        "Successful parse of payload: 3786"
       ]
      },
      {
       "output_type": "stream",
       "stream": "stdout",
       "text": [
        "\n",
        "Successful parse of payload: 3917\n",
        "Successful parse of payload: 2668\n",
        "Successful parse of payload: 3692"
       ]
      },
      {
       "output_type": "stream",
       "stream": "stdout",
       "text": [
        "\n",
        "Successful parse of payload: 258\n",
        "Successful parse of payload: 770\n",
        "Successful parse of payload: 2227"
       ]
      },
      {
       "output_type": "stream",
       "stream": "stdout",
       "text": [
        "\n",
        "Successful parse of payload: 1076"
       ]
      },
      {
       "output_type": "stream",
       "stream": "stdout",
       "text": [
        "\n",
        "Successful parse of payload: 311\n",
        "Successful parse of payload: 226\n",
        "Successful parse of payload: 4426\n",
        "Successful parse of payload: 3475"
       ]
      },
      {
       "output_type": "stream",
       "stream": "stdout",
       "text": [
        "\n",
        "Successful parse of payload: 1862\n",
        "Successful parse of payload: 2382\n",
        "Successful parse of payload: 3365\n",
        "Successful parse of payload: 1161"
       ]
      },
      {
       "output_type": "stream",
       "stream": "stdout",
       "text": [
        "\n",
        "Successful parse of payload: 2624\n",
        "Successful parse of payload: 1923\n",
        "Successful parse of payload: 4001"
       ]
      },
      {
       "output_type": "stream",
       "stream": "stdout",
       "text": [
        "\n",
        "Successful parse of payload: 2434\n",
        "Successful parse of payload: 1347"
       ]
      },
      {
       "output_type": "stream",
       "stream": "stdout",
       "text": [
        "\n",
        "Successful parse of payload: 2919"
       ]
      },
      {
       "output_type": "stream",
       "stream": "stdout",
       "text": [
        "\n",
        "Successful parse of payload: 2821\n",
        "Successful parse of payload: 1787"
       ]
      },
      {
       "output_type": "stream",
       "stream": "stdout",
       "text": [
        "\n",
        "Successful parse of payload: 3007\n",
        "Successful parse of payload: 2392\n",
        "Successful parse of payload: 2764"
       ]
      },
      {
       "output_type": "stream",
       "stream": "stdout",
       "text": [
        "\n",
        "Successful parse of payload: 3601\n",
        "Successful parse of payload: 1693\n",
        "Successful parse of payload: 1961\n",
        "Successful parse of payload: 2780\n",
        "Successful parse of payload: 2095"
       ]
      },
      {
       "output_type": "stream",
       "stream": "stdout",
       "text": [
        "\n",
        "Successful parse of payload: 4192\n",
        "Successful parse of payload: 4105"
       ]
      },
      {
       "output_type": "stream",
       "stream": "stdout",
       "text": [
        "\n",
        "Successful parse of payload: 1791"
       ]
      },
      {
       "output_type": "stream",
       "stream": "stdout",
       "text": [
        "\n",
        "Successful parse of payload: 3586\n",
        "Successful parse of payload: 1084"
       ]
      },
      {
       "output_type": "stream",
       "stream": "stdout",
       "text": [
        "\n",
        "Successful parse of payload: 3744"
       ]
      },
      {
       "output_type": "stream",
       "stream": "stdout",
       "text": [
        "\n",
        "Successful parse of payload: 1068"
       ]
      },
      {
       "output_type": "stream",
       "stream": "stdout",
       "text": [
        "\n",
        "Successful parse of payload: 3027\n",
        "Successful parse of payload: 256\n",
        "Successful parse of payload: 1763\n",
        "Successful parse of payload: 1704\n",
        "Successful parse of payload: 3206\n",
        "Successful parse of payload: 2320\n",
        "Successful parse of payload: 2665\n",
        "Successful parse of payload: 2850\n",
        "Successful parse of payload: 3593"
       ]
      },
      {
       "output_type": "stream",
       "stream": "stdout",
       "text": [
        "\n",
        "Successful parse of payload: 308\n",
        "Successful parse of payload: 2500\n",
        "Successful parse of payload: 1227\n",
        "Successful parse of payload: 3160"
       ]
      },
      {
       "output_type": "stream",
       "stream": "stdout",
       "text": [
        "\n",
        "Successful parse of payload: 4317\n",
        "Successful parse of payload: 2528\n",
        "Successful parse of payload: 2772"
       ]
      },
      {
       "output_type": "stream",
       "stream": "stdout",
       "text": [
        "\n",
        "Successful parse of payload: 3104"
       ]
      },
      {
       "output_type": "stream",
       "stream": "stdout",
       "text": [
        "\n",
        "Successful parse of payload: 3898\n",
        "Successful parse of payload: 3125\n",
        "Successful parse of payload: 292\n",
        "Successful parse of payload: 1942\n",
        "Successful parse of payload: 3509\n",
        "Successful parse of payload: 3536"
       ]
      },
      {
       "output_type": "stream",
       "stream": "stdout",
       "text": [
        "\n",
        "Successful parse of payload: 2530"
       ]
      },
      {
       "output_type": "stream",
       "stream": "stdout",
       "text": [
        "\n",
        "Successful parse of payload: 3124\n",
        "Successful parse of payload: 2515\n",
        "Successful parse of payload: 2985\n",
        "Successful parse of payload: 2303"
       ]
      },
      {
       "output_type": "stream",
       "stream": "stdout",
       "text": [
        "\n",
        "Successful parse of payload: 2619\n",
        "Successful parse of payload: 3551\n",
        "Successful parse of payload: 4085\n",
        "Successful parse of payload: 2035\n",
        "Successful parse of payload: 3663"
       ]
      },
      {
       "output_type": "stream",
       "stream": "stdout",
       "text": [
        "\n",
        "Successful parse of payload: 1909"
       ]
      },
      {
       "output_type": "stream",
       "stream": "stdout",
       "text": [
        "\n",
        "Successful parse of payload: 3707\n",
        "Successful parse of payload: 3574"
       ]
      },
      {
       "output_type": "stream",
       "stream": "stdout",
       "text": [
        "\n",
        "Successful parse of payload: 1696\n",
        "Successful parse of payload: 3899"
       ]
      },
      {
       "output_type": "stream",
       "stream": "stdout",
       "text": [
        "\n",
        "Successful parse of payload: 3797\n",
        "Successful parse of payload: 2961\n",
        "Successful parse of payload: 1199\n",
        "Successful parse of payload: 2867\n",
        "Successful parse of payload: 3974\n",
        "Successful parse of payload: 3680"
       ]
      },
      {
       "output_type": "stream",
       "stream": "stdout",
       "text": [
        "\n",
        "Successful parse of payload: 1606"
       ]
      },
      {
       "output_type": "stream",
       "stream": "stdout",
       "text": [
        "\n",
        "Successful parse of payload: 4345"
       ]
      },
      {
       "output_type": "stream",
       "stream": "stdout",
       "text": [
        "\n",
        "Successful parse of payload: 2087\n",
        "Successful parse of payload: 3131\n",
        "Successful parse of payload: 1605\n",
        "Successful parse of payload: 4337"
       ]
      },
      {
       "output_type": "stream",
       "stream": "stdout",
       "text": [
        "\n",
        "Successful parse of payload: 2913\n",
        "Successful parse of payload: 2923"
       ]
      },
      {
       "output_type": "stream",
       "stream": "stdout",
       "text": [
        "\n",
        "Successful parse of payload: 2353\n",
        "Successful parse of payload: 3545\n",
        "Successful parse of payload: 2755\n",
        "Successful parse of payload: 3269\n",
        "Successful parse of payload: 2656\n",
        "Successful parse of payload: 2535\n",
        "Successful parse of payload: 3578\n",
        "Successful parse of payload: 1614\n",
        "Successful parse of payload: 2159\n",
        "Successful parse of payload: 2739\n",
        "Successful parse of payload: 3575\n",
        "Successful parse of payload: 3995"
       ]
      },
      {
       "output_type": "stream",
       "stream": "stdout",
       "text": [
        "\n",
        "Successful parse of payload: 1814"
       ]
      },
      {
       "output_type": "stream",
       "stream": "stdout",
       "text": [
        "\n",
        "Successful parse of payload: 808"
       ]
      },
      {
       "output_type": "stream",
       "stream": "stdout",
       "text": [
        "\n",
        "Successful parse of payload: 3133\n",
        "Successful parse of payload: 4343\n",
        "Successful parse of payload: 1722\n",
        "Successful parse of payload: 2537"
       ]
      },
      {
       "output_type": "stream",
       "stream": "stdout",
       "text": [
        "\n",
        "Successful parse of payload: 3415"
       ]
      },
      {
       "output_type": "stream",
       "stream": "stdout",
       "text": [
        "\n",
        "Successful parse of payload: 3866\n",
        "Successful parse of payload: 2952\n",
        "Successful parse of payload: 4037"
       ]
      },
      {
       "output_type": "stream",
       "stream": "stdout",
       "text": [
        "\n",
        "Successful parse of payload: 2360\n",
        "Successful parse of payload: 4322\n",
        "Successful parse of payload: 3399"
       ]
      },
      {
       "output_type": "stream",
       "stream": "stdout",
       "text": [
        "\n",
        "Successful parse of payload: 4004\n",
        "Successful parse of payload: 1615"
       ]
      },
      {
       "output_type": "stream",
       "stream": "stdout",
       "text": [
        "\n",
        "Successful parse of payload: 3962\n",
        "Successful parse of payload: 4036\n",
        "Successful parse of payload: 3261\n",
        "Successful parse of payload: 2882\n",
        "Successful parse of payload: 2056"
       ]
      },
      {
       "output_type": "stream",
       "stream": "stdout",
       "text": [
        "\n",
        "Successful parse of payload: 3966\n",
        "Successful parse of payload: 3100"
       ]
      },
      {
       "output_type": "stream",
       "stream": "stdout",
       "text": [
        "\n",
        "Successful parse of payload: 4081\n",
        "Successful parse of payload: 2512"
       ]
      },
      {
       "output_type": "stream",
       "stream": "stdout",
       "text": [
        "\n",
        "Successful parse of payload: 2966"
       ]
      },
      {
       "output_type": "stream",
       "stream": "stdout",
       "text": [
        "\n",
        "Successful parse of payload: 3113\n",
        "Successful parse of payload: 2746\n",
        "Successful parse of payload: 938"
       ]
      },
      {
       "output_type": "stream",
       "stream": "stdout",
       "text": [
        "\n",
        "Successful parse of payload: 898\n",
        "Successful parse of payload: 3795\n",
        "Successful parse of payload: 1779"
       ]
      },
      {
       "output_type": "stream",
       "stream": "stdout",
       "text": [
        "\n",
        "Successful parse of payload: 3122\n",
        "Successful parse of payload: 4215"
       ]
      },
      {
       "output_type": "stream",
       "stream": "stdout",
       "text": [
        "\n",
        "Successful parse of payload: 2473\n",
        "Successful parse of payload: 3702"
       ]
      },
      {
       "output_type": "stream",
       "stream": "stdout",
       "text": [
        "\n",
        "Successful parse of payload: 2678\n",
        "Successful parse of payload: 4201"
       ]
      },
      {
       "output_type": "stream",
       "stream": "stdout",
       "text": [
        "\n",
        "Successful parse of payload: 3979\n",
        "Successful parse of payload: 2616\n",
        "Successful parse of payload: 4075"
       ]
      },
      {
       "output_type": "stream",
       "stream": "stdout",
       "text": [
        "\n",
        "Successful parse of payload: 3121\n",
        "Successful parse of payload: 2010\n",
        "Successful parse of payload: 3263"
       ]
      },
      {
       "output_type": "stream",
       "stream": "stdout",
       "text": [
        "\n",
        "Successful parse of payload: 4418\n",
        "Successful parse of payload: 2287\n",
        "Successful parse of payload: 2813"
       ]
      },
      {
       "output_type": "stream",
       "stream": "stdout",
       "text": [
        "\n",
        "Successful parse of payload: 3843"
       ]
      },
      {
       "output_type": "stream",
       "stream": "stdout",
       "text": [
        "\n",
        "Successful parse of payload: 2934\n",
        "Successful parse of payload: 1574\n",
        "Successful parse of payload: 4149\n",
        "Successful parse of payload: 1178\n",
        "Successful parse of payload: 912\n",
        "Successful parse of payload: 2630\n",
        "Successful parse of payload: 4158"
       ]
      },
      {
       "output_type": "stream",
       "stream": "stdout",
       "text": [
        "\n",
        "Successful parse of payload: 1994\n",
        "Successful parse of payload: 3157"
       ]
      },
      {
       "output_type": "stream",
       "stream": "stdout",
       "text": [
        "\n",
        "Successful parse of payload: 1644\n",
        "Successful parse of payload: 2050"
       ]
      },
      {
       "output_type": "stream",
       "stream": "stdout",
       "text": [
        "\n",
        "Successful parse of payload: 4296\n",
        "Successful parse of payload: 3376"
       ]
      },
      {
       "output_type": "stream",
       "stream": "stdout",
       "text": [
        "\n",
        "Successful parse of payload: 4244"
       ]
      },
      {
       "output_type": "stream",
       "stream": "stdout",
       "text": [
        "\n",
        "Successful parse of payload: 1847\n",
        "Successful parse of payload: 3034\n",
        "Successful parse of payload: 3508\n",
        "Successful parse of payload: 3625\n",
        "Successful parse of payload: 2738"
       ]
      },
      {
       "output_type": "stream",
       "stream": "stdout",
       "text": [
        "\n",
        "Successful parse of payload: 3861\n",
        "Successful parse of payload: 3854\n",
        "Successful parse of payload: 4050"
       ]
      },
      {
       "output_type": "stream",
       "stream": "stdout",
       "text": [
        "\n",
        "Successful parse of payload: 3287\n",
        "Successful parse of payload: 802\n",
        "Successful parse of payload: 814\n",
        "Successful parse of payload: 1868"
       ]
      },
      {
       "output_type": "stream",
       "stream": "stdout",
       "text": [
        "\n",
        "Successful parse of payload: 2258"
       ]
      },
      {
       "output_type": "stream",
       "stream": "stdout",
       "text": [
        "\n",
        "Successful parse of payload: 4086"
       ]
      },
      {
       "output_type": "stream",
       "stream": "stdout",
       "text": [
        "\n",
        "Successful parse of payload: 1929"
       ]
      },
      {
       "output_type": "stream",
       "stream": "stdout",
       "text": [
        "\n",
        "Successful parse of payload: 2870\n",
        "Successful parse of payload: 1668\n",
        "Successful parse of payload: 3295\n",
        "Successful parse of payload: 1956\n",
        "Successful parse of payload: 3840\n",
        "Successful parse of payload: 1485"
       ]
      },
      {
       "output_type": "stream",
       "stream": "stdout",
       "text": [
        "\n",
        "Successful parse of payload: 2808"
       ]
      },
      {
       "output_type": "stream",
       "stream": "stdout",
       "text": [
        "\n",
        "Successful parse of payload: 1713\n",
        "Successful parse of payload: 2603\n",
        "Successful parse of payload: 582\n",
        "Successful parse of payload: 2873"
       ]
      },
      {
       "output_type": "stream",
       "stream": "stdout",
       "text": [
        "\n",
        "Successful parse of payload: 3502"
       ]
      },
      {
       "output_type": "stream",
       "stream": "stdout",
       "text": [
        "\n",
        "Successful parse of payload: 274"
       ]
      },
      {
       "output_type": "stream",
       "stream": "stdout",
       "text": [
        "\n",
        "Successful parse of payload: 3484"
       ]
      },
      {
       "output_type": "stream",
       "stream": "stdout",
       "text": [
        "\n",
        "Successful parse of payload: 1715\n",
        "Successful parse of payload: 2503\n",
        "Successful parse of payload: 1114"
       ]
      },
      {
       "output_type": "stream",
       "stream": "stdout",
       "text": [
        "\n",
        "Successful parse of payload: 2621"
       ]
      },
      {
       "output_type": "stream",
       "stream": "stdout",
       "text": [
        "\n",
        "Successful parse of payload: 2256\n",
        "Successful parse of payload: 3710"
       ]
      },
      {
       "output_type": "stream",
       "stream": "stdout",
       "text": [
        "\n",
        "Successful parse of payload: 1709\n",
        "Successful parse of payload: 4096\n",
        "Successful parse of payload: 3980"
       ]
      },
      {
       "output_type": "stream",
       "stream": "stdout",
       "text": [
        "\n",
        "Successful parse of payload: 4159\n",
        "Successful parse of payload: 3137\n",
        "Successful parse of payload: 3450\n",
        "Successful parse of payload: 2637\n",
        "Successful parse of payload: 1118\n",
        "Successful parse of payload: 917"
       ]
      },
      {
       "output_type": "stream",
       "stream": "stdout",
       "text": [
        "\n",
        "Successful parse of payload: 2219"
       ]
      },
      {
       "output_type": "stream",
       "stream": "stdout",
       "text": [
        "\n",
        "Successful parse of payload: 2800\n",
        "Successful parse of payload: 2238\n",
        "Successful parse of payload: 2686"
       ]
      },
      {
       "output_type": "stream",
       "stream": "stdout",
       "text": [
        "\n",
        "Successful parse of payload: 3686\n",
        "Successful parse of payload: 2651\n",
        "Successful parse of payload: 3907\n",
        "Successful parse of payload: 2974"
       ]
      },
      {
       "output_type": "stream",
       "stream": "stdout",
       "text": [
        "\n",
        "Successful parse of payload: 2074\n",
        "Successful parse of payload: 2325\n",
        "Successful parse of payload: 3319"
       ]
      },
      {
       "output_type": "stream",
       "stream": "stdout",
       "text": [
        "\n",
        "Successful parse of payload: 820"
       ]
      },
      {
       "output_type": "stream",
       "stream": "stdout",
       "text": [
        "\n",
        "Successful parse of payload: 4176\n",
        "Successful parse of payload: 1583"
       ]
      },
      {
       "output_type": "stream",
       "stream": "stdout",
       "text": [
        "\n",
        "Successful parse of payload: 3626"
       ]
      },
      {
       "output_type": "stream",
       "stream": "stdout",
       "text": [
        "\n",
        "Successful parse of payload: 284\n",
        "Successful parse of payload: 4002\n",
        "Successful parse of payload: 2241\n",
        "Successful parse of payload: 3040\n",
        "Successful parse of payload: 2125"
       ]
      },
      {
       "output_type": "stream",
       "stream": "stdout",
       "text": [
        "\n",
        "Successful parse of payload: 4014\n",
        "Successful parse of payload: 4109\n",
        "Successful parse of payload: 3495\n",
        "Successful parse of payload: 484\n",
        "Successful parse of payload: 1213"
       ]
      },
      {
       "output_type": "stream",
       "stream": "stdout",
       "text": [
        "\n",
        "Successful parse of payload: 4069\n",
        "Successful parse of payload: 3059\n",
        "Successful parse of payload: 1691\n",
        "Successful parse of payload: 2077\n",
        "Successful parse of payload: 2252"
       ]
      },
      {
       "output_type": "stream",
       "stream": "stdout",
       "text": [
        "\n",
        "Successful parse of payload: 1703\n",
        "Successful parse of payload: 2172\n",
        "Successful parse of payload: 2849\n",
        "Successful parse of payload: 3805\n",
        "Successful parse of payload: 4320\n",
        "Successful parse of payload: 2182\n",
        "Successful parse of payload: 2794\n",
        "Successful parse of payload: 3388"
       ]
      },
      {
       "output_type": "stream",
       "stream": "stdout",
       "text": [
        "\n",
        "Successful parse of payload: 2276\n",
        "Successful parse of payload: 3412"
       ]
      },
      {
       "output_type": "stream",
       "stream": "stdout",
       "text": [
        "\n",
        "Successful parse of payload: 4048\n",
        "Successful parse of payload: 4147\n",
        "Successful parse of payload: 4088"
       ]
      },
      {
       "output_type": "stream",
       "stream": "stdout",
       "text": [
        "\n",
        "Successful parse of payload: 3808\n",
        "Successful parse of payload: 3931\n",
        "Successful parse of payload: 2103\n",
        "Successful parse of payload: 877"
       ]
      },
      {
       "output_type": "stream",
       "stream": "stdout",
       "text": [
        "\n",
        "Successful parse of payload: 3922"
       ]
      },
      {
       "output_type": "stream",
       "stream": "stdout",
       "text": [
        "\n",
        "Successful parse of payload: 4119"
       ]
      },
      {
       "output_type": "stream",
       "stream": "stdout",
       "text": [
        "\n",
        "Successful parse of payload: 2904\n",
        "Successful parse of payload: 2579\n",
        "Successful parse of payload: 3212\n",
        "Successful parse of payload: 1711\n",
        "Successful parse of payload: 4153\n",
        "Successful parse of payload: 275\n",
        "Successful parse of payload: 2448\n",
        "Successful parse of payload: 4093\n",
        "Successful parse of payload: 4389\n",
        "Successful parse of payload: 4406"
       ]
      },
      {
       "output_type": "stream",
       "stream": "stdout",
       "text": [
        "\n",
        "Successful parse of payload: 4251\n",
        "Successful parse of payload: 3719\n",
        "Successful parse of payload: 1589\n",
        "Successful parse of payload: 2064\n",
        "Successful parse of payload: 3552"
       ]
      },
      {
       "output_type": "stream",
       "stream": "stdout",
       "text": [
        "\n",
        "Successful parse of payload: 2225\n",
        "Successful parse of payload: 4140\n",
        "Successful parse of payload: 2046\n",
        "Successful parse of payload: 4124"
       ]
      },
      {
       "output_type": "stream",
       "stream": "stdout",
       "text": [
        "\n",
        "Successful parse of payload: 1897\n",
        "Successful parse of payload: 2717"
       ]
      },
      {
       "output_type": "stream",
       "stream": "stdout",
       "text": [
        "\n",
        "Successful parse of payload: 3339\n",
        "Successful parse of payload: 3286"
       ]
      },
      {
       "output_type": "stream",
       "stream": "stdout",
       "text": [
        "\n",
        "Successful parse of payload: 2493\n",
        "Successful parse of payload: 2552\n",
        "Successful parse of payload: 346\n",
        "Successful parse of payload: 2242"
       ]
      },
      {
       "output_type": "stream",
       "stream": "stdout",
       "text": [
        "\n",
        "Successful parse of payload: 2402\n",
        "Successful parse of payload: 930"
       ]
      },
      {
       "output_type": "stream",
       "stream": "stdout",
       "text": [
        "\n",
        "Successful parse of payload: 4092\n",
        "Successful parse of payload: 4079\n",
        "Successful parse of payload: 336\n",
        "Successful parse of payload: 2711\n",
        "Successful parse of payload: 637\n",
        "Successful parse of payload: 1764"
       ]
      },
      {
       "output_type": "stream",
       "stream": "stdout",
       "text": [
        "\n",
        "Successful parse of payload: 1242\n",
        "Successful parse of payload: 1888\n",
        "Successful parse of payload: 2118\n",
        "Successful parse of payload: 4148"
       ]
      },
      {
       "output_type": "stream",
       "stream": "stdout",
       "text": [
        "\n",
        "Successful parse of payload: 3021\n",
        "Successful parse of payload: 3423"
       ]
      },
      {
       "output_type": "stream",
       "stream": "stdout",
       "text": [
        "\n",
        "Successful parse of payload: 1922\n",
        "Successful parse of payload: 2169\n",
        "Successful parse of payload: 1877"
       ]
      },
      {
       "output_type": "stream",
       "stream": "stdout",
       "text": [
        "\n",
        "Successful parse of payload: 3623"
       ]
      },
      {
       "output_type": "stream",
       "stream": "stdout",
       "text": [
        "\n",
        "Successful parse of payload: 2687\n",
        "Successful parse of payload: 2944\n",
        "Successful parse of payload: 3872"
       ]
      },
      {
       "output_type": "stream",
       "stream": "stdout",
       "text": [
        "\n",
        "Successful parse of payload: 823"
       ]
      },
      {
       "output_type": "stream",
       "stream": "stdout",
       "text": [
        "\n",
        "Successful parse of payload: 2839\n",
        "Successful parse of payload: 3332\n",
        "Successful parse of payload: 1314\n",
        "Successful parse of payload: 2795"
       ]
      },
      {
       "output_type": "stream",
       "stream": "stdout",
       "text": [
        "\n",
        "Successful parse of payload: 790\n",
        "Successful parse of payload: 4362\n",
        "Successful parse of payload: 3009\n",
        "Successful parse of payload: 2534\n",
        "Successful parse of payload: 3226"
       ]
      },
      {
       "output_type": "stream",
       "stream": "stdout",
       "text": [
        "\n",
        "Successful parse of payload: 2836\n",
        "Successful parse of payload: 2555"
       ]
      },
      {
       "output_type": "stream",
       "stream": "stdout",
       "text": [
        "\n",
        "Successful parse of payload: 992"
       ]
      },
      {
       "output_type": "stream",
       "stream": "stdout",
       "text": [
        "\n",
        "Successful parse of payload: 3037\n",
        "Successful parse of payload: 2596\n",
        "Successful parse of payload: 899\n",
        "Successful parse of payload: 1667"
       ]
      },
      {
       "output_type": "stream",
       "stream": "stdout",
       "text": [
        "\n",
        "Successful parse of payload: 1240\n",
        "Successful parse of payload: 2398\n",
        "Successful parse of payload: 2209\n",
        "Successful parse of payload: 278\n",
        "Successful parse of payload: 239\n",
        "Successful parse of payload: 3994\n",
        "Successful parse of payload: 3246\n",
        "Successful parse of payload: 4319\n",
        "Successful parse of payload: 3930\n",
        "Successful parse of payload: 1883\n",
        "Successful parse of payload: 3148"
       ]
      },
      {
       "output_type": "stream",
       "stream": "stdout",
       "text": [
        "\n",
        "Successful parse of payload: 2917\n",
        "Successful parse of payload: 1101\n",
        "Successful parse of payload: 2168\n",
        "Successful parse of payload: 3647"
       ]
      },
      {
       "output_type": "stream",
       "stream": "stdout",
       "text": [
        "\n",
        "Successful parse of payload: 1582\n",
        "Successful parse of payload: 2204\n",
        "Successful parse of payload: 2243\n",
        "Successful parse of payload: 826\n",
        "Successful parse of payload: 2032\n",
        "Successful parse of payload: 1786\n",
        "Successful parse of payload: 1666\n",
        "Successful parse of payload: 3870\n",
        "Successful parse of payload: 2261\n",
        "Successful parse of payload: 3875\n",
        "Successful parse of payload: 3905\n",
        "Successful parse of payload: 1219\n",
        "Successful parse of payload: 4046"
       ]
      },
      {
       "output_type": "stream",
       "stream": "stdout",
       "text": [
        "\n",
        "Successful parse of payload: 4052\n",
        "Successful parse of payload: 1316\n",
        "Successful parse of payload: 2837\n",
        "Successful parse of payload: 3950\n",
        "Successful parse of payload: 1821"
       ]
      },
      {
       "output_type": "stream",
       "stream": "stdout",
       "text": [
        "\n",
        "Successful parse of payload: 876\n",
        "Successful parse of payload: 2237\n",
        "Successful parse of payload: 3305"
       ]
      },
      {
       "output_type": "stream",
       "stream": "stdout",
       "text": [
        "\n",
        "Successful parse of payload: 1937\n",
        "Successful parse of payload: 3842\n",
        "Successful parse of payload: 2634\n",
        "Successful parse of payload: 2105\n",
        "Successful parse of payload: 805"
       ]
      },
      {
       "output_type": "stream",
       "stream": "stdout",
       "text": [
        "\n",
        "Successful parse of payload: 1858\n",
        "Successful parse of payload: 3679"
       ]
      },
      {
       "output_type": "stream",
       "stream": "stdout",
       "text": [
        "\n",
        "Successful parse of payload: 4144\n",
        "Successful parse of payload: 1840\n",
        "Successful parse of payload: 1982\n",
        "Successful parse of payload: 1599\n",
        "Successful parse of payload: 3374\n",
        "Successful parse of payload: 3971\n",
        "Successful parse of payload: 1662\n",
        "Successful parse of payload: 2022\n",
        "Successful parse of payload: 2945"
       ]
      },
      {
       "output_type": "stream",
       "stream": "stdout",
       "text": [
        "\n",
        "Successful parse of payload: 2040\n",
        "Successful parse of payload: 243\n",
        "Successful parse of payload: 3517"
       ]
      },
      {
       "output_type": "stream",
       "stream": "stdout",
       "text": [
        "\n",
        "Successful parse of payload: 1941"
       ]
      },
      {
       "output_type": "stream",
       "stream": "stdout",
       "text": [
        "\n",
        "Successful parse of payload: 3257\n",
        "Successful parse of payload: 3097\n",
        "Successful parse of payload: 363\n",
        "Successful parse of payload: 2367\n",
        "Successful parse of payload: 3908\n",
        "Successful parse of payload: 3565"
       ]
      },
      {
       "output_type": "stream",
       "stream": "stdout",
       "text": [
        "\n",
        "Successful parse of payload: 1244\n",
        "Successful parse of payload: 4127\n",
        "Successful parse of payload: 3731"
       ]
      },
      {
       "output_type": "stream",
       "stream": "stdout",
       "text": [
        "\n",
        "Successful parse of payload: 4049\n",
        "Successful parse of payload: 3857\n",
        "Successful parse of payload: 838\n",
        "Successful parse of payload: 1125"
       ]
      },
      {
       "output_type": "stream",
       "stream": "stdout",
       "text": [
        "\n",
        "Successful parse of payload: 2864\n",
        "Successful parse of payload: 3253\n",
        "Successful parse of payload: 1810\n",
        "Successful parse of payload: 1080"
       ]
      },
      {
       "output_type": "stream",
       "stream": "stdout",
       "text": [
        "\n",
        "Successful parse of payload: 2386\n",
        "Successful parse of payload: 3005\n",
        "Successful parse of payload: 1671"
       ]
      },
      {
       "output_type": "stream",
       "stream": "stdout",
       "text": [
        "\n",
        "Successful parse of payload: 245\n",
        "Successful parse of payload: 3596\n",
        "Successful parse of payload: 2065\n",
        "Successful parse of payload: 1911"
       ]
      },
      {
       "output_type": "stream",
       "stream": "stdout",
       "text": [
        "\n",
        "Successful parse of payload: 1760\n",
        "Successful parse of payload: 2324\n",
        "Successful parse of payload: 3838\n",
        "Successful parse of payload: 2834\n",
        "Successful parse of payload: 3220\n",
        "Successful parse of payload: 3471"
       ]
      },
      {
       "output_type": "stream",
       "stream": "stdout",
       "text": [
        "\n",
        "Successful parse of payload: 4178\n",
        "Successful parse of payload: 4326"
       ]
      },
      {
       "output_type": "stream",
       "stream": "stdout",
       "text": [
        "\n",
        "Successful parse of payload: 4183\n",
        "Successful parse of payload: 2584\n",
        "Successful parse of payload: 3512"
       ]
      },
      {
       "output_type": "stream",
       "stream": "stdout",
       "text": [
        "\n",
        "Successful parse of payload: 2526\n",
        "Successful parse of payload: 2180"
       ]
      },
      {
       "output_type": "stream",
       "stream": "stdout",
       "text": [
        "\n",
        "Successful parse of payload: 1902\n",
        "Successful parse of payload: 3081"
       ]
      },
      {
       "output_type": "stream",
       "stream": "stdout",
       "text": [
        "\n",
        "Successful parse of payload: 1640\n",
        "Successful parse of payload: 2150\n",
        "Successful parse of payload: 2485\n",
        "Successful parse of payload: 2255\n",
        "Successful parse of payload: 2331"
       ]
      },
      {
       "output_type": "stream",
       "stream": "stdout",
       "text": [
        "\n",
        "Successful parse of payload: 819\n",
        "Successful parse of payload: 3940\n",
        "Successful parse of payload: 4364\n",
        "Successful parse of payload: 3911\n",
        "Successful parse of payload: 3146"
       ]
      },
      {
       "output_type": "stream",
       "stream": "stdout",
       "text": [
        "\n",
        "Successful parse of payload: 2673\n",
        "Successful parse of payload: 2277\n",
        "Successful parse of payload: 3706\n",
        "Successful parse of payload: 2594"
       ]
      },
      {
       "output_type": "stream",
       "stream": "stdout",
       "text": [
        "\n",
        "Successful parse of payload: 866\n",
        "Successful parse of payload: 3547\n",
        "Successful parse of payload: 3984\n",
        "Successful parse of payload: 3814\n",
        "Successful parse of payload: 3181"
       ]
      },
      {
       "output_type": "stream",
       "stream": "stdout",
       "text": [
        "\n",
        "Successful parse of payload: 4017"
       ]
      },
      {
       "output_type": "stream",
       "stream": "stdout",
       "text": [
        "\n",
        "Successful parse of payload: 2456\n",
        "Successful parse of payload: 4152\n",
        "Successful parse of payload: 244\n",
        "Successful parse of payload: 4006\n",
        "Successful parse of payload: 2305\n",
        "Successful parse of payload: 3110"
       ]
      },
      {
       "output_type": "stream",
       "stream": "stdout",
       "text": [
        "\n",
        "Successful parse of payload: 824\n",
        "Successful parse of payload: 3441"
       ]
      },
      {
       "output_type": "stream",
       "stream": "stdout",
       "text": [
        "\n",
        "Successful parse of payload: 700"
       ]
      },
      {
       "output_type": "stream",
       "stream": "stdout",
       "text": [
        "\n",
        "Successful parse of payload: 1651\n",
        "Successful parse of payload: 4022"
       ]
      },
      {
       "output_type": "stream",
       "stream": "stdout",
       "text": [
        "\n",
        "Successful parse of payload: 334\n",
        "Successful parse of payload: 234\n",
        "Successful parse of payload: 3058\n",
        "Successful parse of payload: 2054"
       ]
      },
      {
       "output_type": "stream",
       "stream": "stdout",
       "text": [
        "\n",
        "Successful parse of payload: 4430\n",
        "Successful parse of payload: 2880\n",
        "Successful parse of payload: 4221"
       ]
      },
      {
       "output_type": "stream",
       "stream": "stdout",
       "text": [
        "\n",
        "Successful parse of payload: 3068\n",
        "Successful parse of payload: 1919"
       ]
      },
      {
       "output_type": "stream",
       "stream": "stdout",
       "text": [
        "\n",
        "Successful parse of payload: 1247"
       ]
      },
      {
       "output_type": "stream",
       "stream": "stdout",
       "text": [
        "\n",
        "Successful parse of payload: 3849"
       ]
      },
      {
       "output_type": "stream",
       "stream": "stdout",
       "text": [
        "\n",
        "Successful parse of payload: 263\n",
        "Successful parse of payload: 2445"
       ]
      },
      {
       "output_type": "stream",
       "stream": "stdout",
       "text": [
        "\n",
        "Successful parse of payload: 3885\n",
        "Successful parse of payload: 3421"
       ]
      },
      {
       "output_type": "stream",
       "stream": "stdout",
       "text": [
        "\n",
        "Successful parse of payload: 2346\n",
        "Successful parse of payload: 2819\n",
        "Successful parse of payload: 2413\n",
        "Successful parse of payload: 3231\n",
        "Successful parse of payload: 3297\n",
        "Successful parse of payload: 3662\n",
        "Successful parse of payload: 885\n",
        "Successful parse of payload: 2043\n",
        "Successful parse of payload: 3092"
       ]
      },
      {
       "output_type": "stream",
       "stream": "stdout",
       "text": [
        "\n",
        "Successful parse of payload: 3233\n",
        "Successful parse of payload: 298\n",
        "Successful parse of payload: 1986\n",
        "Successful parse of payload: 786\n",
        "Successful parse of payload: 3935"
       ]
      },
      {
       "output_type": "stream",
       "stream": "stdout",
       "text": [
        "\n",
        "Successful parse of payload: 4313\n",
        "Successful parse of payload: 4359"
       ]
      },
      {
       "output_type": "stream",
       "stream": "stdout",
       "text": [
        "\n",
        "Successful parse of payload: 1483\n",
        "Successful parse of payload: 2702\n",
        "Successful parse of payload: 3052"
       ]
      },
      {
       "output_type": "stream",
       "stream": "stdout",
       "text": [
        "\n",
        "Successful parse of payload: 2742\n",
        "Successful parse of payload: 2395\n",
        "Successful parse of payload: 2750"
       ]
      },
      {
       "output_type": "stream",
       "stream": "stdout",
       "text": [
        "\n",
        "Successful parse of payload: 4262\n",
        "Successful parse of payload: 3019\n",
        "Successful parse of payload: 2921\n",
        "Successful parse of payload: 2588\n",
        "Successful parse of payload: 2977\n",
        "Successful parse of payload: 3372"
       ]
      },
      {
       "output_type": "stream",
       "stream": "stdout",
       "text": [
        "\n",
        "Successful parse of payload: 2840\n",
        "Successful parse of payload: 2956"
       ]
      },
      {
       "output_type": "stream",
       "stream": "stdout",
       "text": [
        "\n",
        "Successful parse of payload: 1995\n",
        "Successful parse of payload: 1731"
       ]
      },
      {
       "output_type": "stream",
       "stream": "stdout",
       "text": [
        "\n",
        "Successful parse of payload: 2751\n",
        "Successful parse of payload: 3699"
       ]
      },
      {
       "output_type": "stream",
       "stream": "stdout",
       "text": [
        "\n",
        "Successful parse of payload: 2916\n",
        "Successful parse of payload: 2920\n",
        "Successful parse of payload: 1218\n",
        "Successful parse of payload: 338\n",
        "Successful parse of payload: 4100"
       ]
      },
      {
       "output_type": "stream",
       "stream": "stdout",
       "text": [
        "\n",
        "Successful parse of payload: 1688"
       ]
      },
      {
       "output_type": "stream",
       "stream": "stdout",
       "text": [
        "\n",
        "Successful parse of payload: 2385\n",
        "Successful parse of payload: 1963\n",
        "Successful parse of payload: 2761"
       ]
      },
      {
       "output_type": "stream",
       "stream": "stdout",
       "text": [
        "\n",
        "Successful parse of payload: 2853\n",
        "Successful parse of payload: 224"
       ]
      },
      {
       "output_type": "stream",
       "stream": "stdout",
       "text": [
        "\n",
        "Successful parse of payload: 3053\n",
        "Successful parse of payload: 3758\n",
        "Successful parse of payload: 1983\n",
        "Successful parse of payload: 4091\n",
        "Successful parse of payload: 1792\n",
        "Successful parse of payload: 1258"
       ]
      },
      {
       "output_type": "stream",
       "stream": "stdout",
       "text": [
        "\n",
        "Successful parse of payload: 2348"
       ]
      },
      {
       "output_type": "stream",
       "stream": "stdout",
       "text": [
        "\n",
        "Successful parse of payload: 3827"
       ]
      },
      {
       "output_type": "stream",
       "stream": "stdout",
       "text": [
        "\n",
        "Successful parse of payload: 2379"
       ]
      },
      {
       "output_type": "stream",
       "stream": "stdout",
       "text": [
        "\n",
        "Successful parse of payload: 2181"
       ]
      },
      {
       "output_type": "stream",
       "stream": "stdout",
       "text": [
        "\n",
        "Successful parse of payload: 2685\n",
        "Successful parse of payload: 1167\n",
        "Successful parse of payload: 3155"
       ]
      },
      {
       "output_type": "stream",
       "stream": "stdout",
       "text": [
        "\n",
        "Successful parse of payload: 1214\n",
        "Successful parse of payload: 3674\n",
        "Successful parse of payload: 2263\n",
        "Successful parse of payload: 3834"
       ]
      },
      {
       "output_type": "stream",
       "stream": "stdout",
       "text": [
        "\n",
        "Successful parse of payload: 4054"
       ]
      },
      {
       "output_type": "stream",
       "stream": "stdout",
       "text": [
        "\n",
        "Successful parse of payload: 1215\n",
        "Successful parse of payload: 1975\n",
        "Successful parse of payload: 993\n",
        "Successful parse of payload: 283\n",
        "Successful parse of payload: 1545"
       ]
      },
      {
       "output_type": "stream",
       "stream": "stdout",
       "text": [
        "\n",
        "Successful parse of payload: 1958\n",
        "Successful parse of payload: 3951\n",
        "Successful parse of payload: 4122\n",
        "Successful parse of payload: 3998\n",
        "Successful parse of payload: 3887"
       ]
      },
      {
       "output_type": "stream",
       "stream": "stdout",
       "text": [
        "\n",
        "Successful parse of payload: 3406\n",
        "Successful parse of payload: 1231\n",
        "Successful parse of payload: 4292\n",
        "Successful parse of payload: 2776"
       ]
      },
      {
       "output_type": "stream",
       "stream": "stdout",
       "text": [
        "\n",
        "Successful parse of payload: 1595\n",
        "Successful parse of payload: 1886\n",
        "Successful parse of payload: 2816\n",
        "Successful parse of payload: 2047\n",
        "Successful parse of payload: 3906\n",
        "Successful parse of payload: 2041\n",
        "Successful parse of payload: 1198"
       ]
      },
      {
       "output_type": "stream",
       "stream": "stdout",
       "text": [
        "\n",
        "Successful parse of payload: 3652"
       ]
      },
      {
       "output_type": "stream",
       "stream": "stdout",
       "text": [
        "\n",
        "Successful parse of payload: 2433\n",
        "Successful parse of payload: 4309\n",
        "Successful parse of payload: 285\n",
        "Successful parse of payload: 2462"
       ]
      },
      {
       "output_type": "stream",
       "stream": "stdout",
       "text": [
        "\n",
        "Successful parse of payload: 2605\n",
        "Successful parse of payload: 1610\n",
        "Successful parse of payload: 3093\n",
        "Successful parse of payload: 856\n",
        "Successful parse of payload: 3877\n",
        "Successful parse of payload: 4367\n",
        "Successful parse of payload: 317"
       ]
      },
      {
       "output_type": "stream",
       "stream": "stdout",
       "text": [
        "\n",
        "Successful parse of payload: 3252\n",
        "Successful parse of payload: 2888"
       ]
      },
      {
       "output_type": "stream",
       "stream": "stdout",
       "text": [
        "\n",
        "Successful parse of payload: 2031\n",
        "Successful parse of payload: 1641\n",
        "Successful parse of payload: 3871"
       ]
      },
      {
       "output_type": "stream",
       "stream": "stdout",
       "text": [
        "\n",
        "Successful parse of payload: 2858\n",
        "Successful parse of payload: 240\n",
        "Successful parse of payload: 3630\n",
        "Successful parse of payload: 1797\n",
        "Successful parse of payload: 3531\n",
        "Successful parse of payload: 2336\n",
        "Successful parse of payload: 287\n",
        "Successful parse of payload: 2465\n",
        "Successful parse of payload: 1104"
       ]
      },
      {
       "output_type": "stream",
       "stream": "stdout",
       "text": [
        "\n",
        "Successful parse of payload: 953"
       ]
      },
      {
       "output_type": "stream",
       "stream": "stdout",
       "text": [
        "\n",
        "Successful parse of payload: 3293"
       ]
      },
      {
       "output_type": "stream",
       "stream": "stdout",
       "text": [
        "\n",
        "Successful parse of payload: 3608"
       ]
      },
      {
       "output_type": "stream",
       "stream": "stdout",
       "text": [
        "\n",
        "Successful parse of payload: 2470\n",
        "Successful parse of payload: 2371\n",
        "Successful parse of payload: 2712\n",
        "Successful parse of payload: 1894\n",
        "Successful parse of payload: 1584\n",
        "Successful parse of payload: 1870\n",
        "Successful parse of payload: 2452\n",
        "Successful parse of payload: 2773\n",
        "Successful parse of payload: 3546"
       ]
      },
      {
       "output_type": "stream",
       "stream": "stdout",
       "text": [
        "\n",
        "Successful parse of payload: 2062\n",
        "Successful parse of payload: 1168"
       ]
      },
      {
       "output_type": "stream",
       "stream": "stdout",
       "text": [
        "\n",
        "Successful parse of payload: 2891\n",
        "Successful parse of payload: 1992"
       ]
      },
      {
       "output_type": "stream",
       "stream": "stdout",
       "text": [
        "\n",
        "Successful parse of payload: 4330\n",
        "Successful parse of payload: 1627\n",
        "Successful parse of payload: 4174\n",
        "Successful parse of payload: 3158\n",
        "Successful parse of payload: 2926\n",
        "Successful parse of payload: 4249\n",
        "Successful parse of payload: 2911"
       ]
      },
      {
       "output_type": "stream",
       "stream": "stdout",
       "text": [
        "\n",
        "Successful parse of payload: 2051\n",
        "Successful parse of payload: 1264\n",
        "Successful parse of payload: 807\n",
        "Successful parse of payload: 3087"
       ]
      },
      {
       "output_type": "stream",
       "stream": "stdout",
       "text": [
        "\n",
        "Successful parse of payload: 2257\n",
        "Successful parse of payload: 1738\n",
        "Successful parse of payload: 3467\n",
        "Successful parse of payload: 1088\n",
        "Successful parse of payload: 2279"
       ]
      },
      {
       "output_type": "stream",
       "stream": "stdout",
       "text": [
        "\n",
        "Successful parse of payload: 2811\n",
        "Successful parse of payload: 4231\n",
        "Successful parse of payload: 2009\n",
        "Successful parse of payload: 1159\n",
        "Successful parse of payload: 3822"
       ]
      },
      {
       "output_type": "stream",
       "stream": "stdout",
       "text": [
        "\n",
        "Successful parse of payload: 3209\n",
        "Successful parse of payload: 2693"
       ]
      },
      {
       "output_type": "stream",
       "stream": "stdout",
       "text": [
        "\n",
        "Successful parse of payload: 926\n",
        "Successful parse of payload: 1971"
       ]
      },
      {
       "output_type": "stream",
       "stream": "stdout",
       "text": [
        "\n",
        "Successful parse of payload: 909\n",
        "Successful parse of payload: 4335\n",
        "Successful parse of payload: 4250"
       ]
      },
      {
       "output_type": "stream",
       "stream": "stdout",
       "text": [
        "\n",
        "Successful parse of payload: 1829\n",
        "Successful parse of payload: 2164\n",
        "Successful parse of payload: 3497"
       ]
      },
      {
       "output_type": "stream",
       "stream": "stdout",
       "text": [
        "\n",
        "Successful parse of payload: 2268\n",
        "Successful parse of payload: 4157"
       ]
      },
      {
       "output_type": "stream",
       "stream": "stdout",
       "text": [
        "\n",
        "Successful parse of payload: 3629\n",
        "Successful parse of payload: 1091"
       ]
      },
      {
       "output_type": "stream",
       "stream": "stdout",
       "text": [
        "\n",
        "Successful parse of payload: 3347\n",
        "Successful parse of payload: 3020\n",
        "Successful parse of payload: 2484"
       ]
      },
      {
       "output_type": "stream",
       "stream": "stdout",
       "text": [
        "\n",
        "Successful parse of payload: 2705\n",
        "Successful parse of payload: 3959"
       ]
      },
      {
       "output_type": "stream",
       "stream": "stdout",
       "text": [
        "\n",
        "Successful parse of payload: 3874\n",
        "Successful parse of payload: 2301\n",
        "Successful parse of payload: 2099"
       ]
      },
      {
       "output_type": "stream",
       "stream": "stdout",
       "text": [
        "\n",
        "Successful parse of payload: 2109\n",
        "Successful parse of payload: 4259\n",
        "Successful parse of payload: 1626\n",
        "Successful parse of payload: 4030\n",
        "Successful parse of payload: 2273\n",
        "Successful parse of payload: 295\n",
        "Successful parse of payload: 2104\n",
        "Successful parse of payload: 2989"
       ]
      },
      {
       "output_type": "stream",
       "stream": "stdout",
       "text": [
        "\n",
        "Successful parse of payload: 2518\n",
        "Successful parse of payload: 2199\n",
        "Successful parse of payload: 3589"
       ]
      },
      {
       "output_type": "stream",
       "stream": "stdout",
       "text": [
        "\n",
        "Successful parse of payload: 2487\n",
        "Successful parse of payload: 1660\n",
        "Successful parse of payload: 3934\n",
        "Successful parse of payload: 771"
       ]
      },
      {
       "output_type": "stream",
       "stream": "stdout",
       "text": [
        "\n",
        "Successful parse of payload: 2508"
       ]
      },
      {
       "output_type": "stream",
       "stream": "stdout",
       "text": [
        "\n",
        "Successful parse of payload: 887"
       ]
      },
      {
       "output_type": "stream",
       "stream": "stdout",
       "text": [
        "\n",
        "Successful parse of payload: 3821\n",
        "Successful parse of payload: 1581\n",
        "Successful parse of payload: 2890"
       ]
      },
      {
       "output_type": "stream",
       "stream": "stdout",
       "text": [
        "\n",
        "Successful parse of payload: 1684\n",
        "Successful parse of payload: 2586\n",
        "Successful parse of payload: 4378"
       ]
      },
      {
       "output_type": "stream",
       "stream": "stdout",
       "text": [
        "\n",
        "Successful parse of payload: 1636\n",
        "Successful parse of payload: 1845\n",
        "Successful parse of payload: 332\n",
        "Successful parse of payload: 1925"
       ]
      },
      {
       "output_type": "stream",
       "stream": "stdout",
       "text": [
        "\n",
        "Successful parse of payload: 4115\n",
        "Successful parse of payload: 4173"
       ]
      },
      {
       "output_type": "stream",
       "stream": "stdout",
       "text": [
        "\n",
        "Successful parse of payload: 2101"
       ]
      },
      {
       "output_type": "stream",
       "stream": "stdout",
       "text": [
        "\n",
        "Successful parse of payload: 2592"
       ]
      },
      {
       "output_type": "stream",
       "stream": "stdout",
       "text": [
        "\n",
        "Successful parse of payload: 2223\n",
        "Successful parse of payload: 2093\n",
        "Successful parse of payload: 225\n",
        "Successful parse of payload: 3988\n",
        "Successful parse of payload: 1727"
       ]
      },
      {
       "output_type": "stream",
       "stream": "stdout",
       "text": [
        "\n",
        "Successful parse of payload: 3916\n",
        "Successful parse of payload: 1999\n",
        "Successful parse of payload: 279\n",
        "Successful parse of payload: 2036\n",
        "Successful parse of payload: 3683"
       ]
      },
      {
       "output_type": "stream",
       "stream": "stdout",
       "text": [
        "\n",
        "Successful parse of payload: 4427\n",
        "Successful parse of payload: 3975"
       ]
      },
      {
       "output_type": "stream",
       "stream": "stdout",
       "text": [
        "\n",
        "Successful parse of payload: 1720\n",
        "Successful parse of payload: 3638\n",
        "Successful parse of payload: 3932"
       ]
      },
      {
       "output_type": "stream",
       "stream": "stdout",
       "text": [
        "\n",
        "Successful parse of payload: 936\n",
        "Successful parse of payload: 4264"
       ]
      },
      {
       "output_type": "stream",
       "stream": "stdout",
       "text": [
        "\n",
        "Successful parse of payload: 1630"
       ]
      },
      {
       "output_type": "stream",
       "stream": "stdout",
       "text": [
        "\n",
        "Successful parse of payload: 1842"
       ]
      },
      {
       "output_type": "stream",
       "stream": "stdout",
       "text": [
        "\n",
        "Successful parse of payload: 2191\n",
        "Successful parse of payload: 1281\n",
        "Successful parse of payload: 2156\n",
        "Successful parse of payload: 2231\n",
        "Successful parse of payload: 2364\n",
        "Successful parse of payload: 2718\n",
        "Successful parse of payload: 2480\n",
        "Successful parse of payload: 4431"
       ]
      },
      {
       "output_type": "stream",
       "stream": "stdout",
       "text": [
        "\n",
        "Successful parse of payload: 3211\n",
        "Successful parse of payload: 1306"
       ]
      },
      {
       "output_type": "stream",
       "stream": "stdout",
       "text": [
        "\n",
        "Successful parse of payload: 3272\n",
        "Successful parse of payload: 3696\n",
        "Successful parse of payload: 2736"
       ]
      },
      {
       "output_type": "stream",
       "stream": "stdout",
       "text": [
        "\n",
        "Successful parse of payload: 2791"
       ]
      },
      {
       "output_type": "stream",
       "stream": "stdout",
       "text": [
        "\n",
        "Successful parse of payload: 1544\n",
        "Successful parse of payload: 2910\n",
        "Successful parse of payload: 4177\n",
        "Successful parse of payload: 4234\n",
        "Successful parse of payload: 4429\n",
        "Successful parse of payload: 3389\n",
        "Successful parse of payload: 1988\n",
        "Successful parse of payload: 4393"
       ]
      },
      {
       "output_type": "stream",
       "stream": "stdout",
       "text": [
        "\n",
        "Successful parse of payload: 1944"
       ]
      },
      {
       "output_type": "stream",
       "stream": "stdout",
       "text": [
        "\n",
        "Successful parse of payload: 4394\n",
        "Successful parse of payload: 1249\n",
        "Successful parse of payload: 3117\n",
        "Successful parse of payload: 3298"
       ]
      },
      {
       "output_type": "stream",
       "stream": "stdout",
       "text": [
        "\n",
        "Successful parse of payload: 1680"
       ]
      },
      {
       "output_type": "stream",
       "stream": "stdout",
       "text": [
        "\n",
        "Successful parse of payload: 1939\n",
        "Successful parse of payload: 2938\n",
        "Successful parse of payload: 2415\n",
        "Successful parse of payload: 2015"
       ]
      },
      {
       "output_type": "stream",
       "stream": "stdout",
       "text": [
        "\n",
        "Successful parse of payload: 3477\n",
        "Successful parse of payload: 3819"
       ]
      },
      {
       "output_type": "stream",
       "stream": "stdout",
       "text": [
        "\n",
        "Successful parse of payload: 1456\n",
        "Successful parse of payload: 3956\n",
        "Successful parse of payload: 314\n",
        "Successful parse of payload: 1592\n",
        "Successful parse of payload: 1228\n",
        "Successful parse of payload: 4346\n",
        "Successful parse of payload: 2211\n",
        "Successful parse of payload: 3810"
       ]
      },
      {
       "output_type": "stream",
       "stream": "stdout",
       "text": [
        "\n",
        "Successful parse of payload: 324\n",
        "Successful parse of payload: 2787\n",
        "Successful parse of payload: 4208\n",
        "Successful parse of payload: 3610"
       ]
      },
      {
       "output_type": "stream",
       "stream": "stdout",
       "text": [
        "\n",
        "Successful parse of payload: 2556\n",
        "Successful parse of payload: 3664\n",
        "Successful parse of payload: 894"
       ]
      },
      {
       "output_type": "stream",
       "stream": "stdout",
       "text": [
        "\n",
        "Successful parse of payload: 339\n",
        "Successful parse of payload: 3458"
       ]
      },
      {
       "output_type": "stream",
       "stream": "stdout",
       "text": [
        "\n",
        "Successful parse of payload: 2978\n",
        "Successful parse of payload: 3518\n",
        "Successful parse of payload: 4281\n",
        "Successful parse of payload: 1211"
       ]
      },
      {
       "output_type": "stream",
       "stream": "stdout",
       "text": [
        "\n",
        "Successful parse of payload: 3541\n",
        "Successful parse of payload: 1966"
       ]
      },
      {
       "output_type": "stream",
       "stream": "stdout",
       "text": [
        "\n",
        "Successful parse of payload: 1841\n",
        "Successful parse of payload: 4232"
       ]
      },
      {
       "output_type": "stream",
       "stream": "stdout",
       "text": [
        "\n",
        "Successful parse of payload: 2599"
       ]
      },
      {
       "output_type": "stream",
       "stream": "stdout",
       "text": [
        "\n",
        "Successful parse of payload: 1307\n",
        "Successful parse of payload: 2519\n",
        "Successful parse of payload: 1681"
       ]
      },
      {
       "output_type": "stream",
       "stream": "stdout",
       "text": [
        "\n",
        "Successful parse of payload: 4070\n",
        "Successful parse of payload: 4220"
       ]
      },
      {
       "output_type": "stream",
       "stream": "stdout",
       "text": [
        "\n",
        "Successful parse of payload: 2796\n",
        "Successful parse of payload: 1634\n",
        "Successful parse of payload: 2003"
       ]
      },
      {
       "output_type": "stream",
       "stream": "stdout",
       "text": [
        "\n",
        "Successful parse of payload: 3011\n",
        "Successful parse of payload: 3918\n",
        "Successful parse of payload: 1965\n",
        "Successful parse of payload: 1296"
       ]
      },
      {
       "output_type": "stream",
       "stream": "stdout",
       "text": [
        "\n",
        "Successful parse of payload: 2639\n",
        "Successful parse of payload: 3176\n",
        "Successful parse of payload: 3694"
       ]
      },
      {
       "output_type": "stream",
       "stream": "stdout",
       "text": [
        "\n",
        "Successful parse of payload: 1230\n",
        "Successful parse of payload: 4353"
       ]
      },
      {
       "output_type": "stream",
       "stream": "stdout",
       "text": [
        "\n",
        "Successful parse of payload: 2855\n",
        "Successful parse of payload: 2847"
       ]
      },
      {
       "output_type": "stream",
       "stream": "stdout",
       "text": [
        "\n",
        "Successful parse of payload: 3069\n",
        "Successful parse of payload: 2729\n",
        "Successful parse of payload: 4134"
       ]
      },
      {
       "output_type": "stream",
       "stream": "stdout",
       "text": [
        "\n",
        "Successful parse of payload: 3364\n",
        "Successful parse of payload: 286\n",
        "Successful parse of payload: 893\n",
        "Successful parse of payload: 2559\n",
        "Successful parse of payload: 3227\n",
        "Successful parse of payload: 1008"
       ]
      },
      {
       "output_type": "stream",
       "stream": "stdout",
       "text": [
        "\n",
        "Successful parse of payload: 861\n",
        "Successful parse of payload: 2080\n",
        "Successful parse of payload: 1835"
       ]
      },
      {
       "output_type": "stream",
       "stream": "stdout",
       "text": [
        "\n",
        "Successful parse of payload: 3357"
       ]
      },
      {
       "output_type": "stream",
       "stream": "stdout",
       "text": [
        "\n",
        "Successful parse of payload: 1130\n",
        "Successful parse of payload: 2669"
       ]
      },
      {
       "output_type": "stream",
       "stream": "stdout",
       "text": [
        "\n",
        "Successful parse of payload: 2313\n",
        "Successful parse of payload: 1917"
       ]
      },
      {
       "output_type": "stream",
       "stream": "stdout",
       "text": [
        "\n",
        "Successful parse of payload: 3383\n",
        "Successful parse of payload: 1504"
       ]
      },
      {
       "output_type": "stream",
       "stream": "stdout",
       "text": [
        "\n",
        "Successful parse of payload: 2203\n",
        "Successful parse of payload: 2284\n",
        "Successful parse of payload: 3228\n",
        "Successful parse of payload: 3049"
       ]
      },
      {
       "output_type": "stream",
       "stream": "stdout",
       "text": [
        "\n",
        "Successful parse of payload: 3529\n",
        "Successful parse of payload: 1111\n",
        "Successful parse of payload: 1604"
       ]
      },
      {
       "output_type": "stream",
       "stream": "stdout",
       "text": [
        "\n",
        "Successful parse of payload: 3099\n",
        "Successful parse of payload: 1601"
       ]
      },
      {
       "output_type": "stream",
       "stream": "stdout",
       "text": [
        "\n",
        "Successful parse of payload: 3948"
       ]
      },
      {
       "output_type": "stream",
       "stream": "stdout",
       "text": [
        "\n",
        "Successful parse of payload: 2573\n",
        "Successful parse of payload: 3368\n",
        "Successful parse of payload: 4339\n",
        "Successful parse of payload: 3582\n",
        "Successful parse of payload: 2426\n",
        "Successful parse of payload: 3279\n",
        "Successful parse of payload: 1166\n",
        "Successful parse of payload: 1726\n",
        "Successful parse of payload: 3096\n",
        "Successful parse of payload: 2171\n",
        "Successful parse of payload: 4043\n",
        "Successful parse of payload: 3343"
       ]
      },
      {
       "output_type": "stream",
       "stream": "stdout",
       "text": [
        "\n",
        "Successful parse of payload: 3860\n",
        "Successful parse of payload: 4293\n",
        "Successful parse of payload: 3853"
       ]
      },
      {
       "output_type": "stream",
       "stream": "stdout",
       "text": [
        "\n",
        "Successful parse of payload: 3754"
       ]
      },
      {
       "output_type": "stream",
       "stream": "stdout",
       "text": [
        "\n",
        "Successful parse of payload: 3106\n",
        "Successful parse of payload: 3584\n",
        "Successful parse of payload: 3089\n",
        "Successful parse of payload: 1664\n",
        "Successful parse of payload: 3090\n",
        "Successful parse of payload: 3248\n",
        "Successful parse of payload: 864\n",
        "Successful parse of payload: 3989\n",
        "Successful parse of payload: 2345"
       ]
      },
      {
       "output_type": "stream",
       "stream": "stdout",
       "text": [
        "\n",
        "Successful parse of payload: 267\n",
        "Successful parse of payload: 2306\n",
        "Successful parse of payload: 3291"
       ]
      },
      {
       "output_type": "stream",
       "stream": "stdout",
       "text": [
        "\n",
        "Successful parse of payload: 1285\n",
        "Successful parse of payload: 2689\n",
        "Successful parse of payload: 2640\n",
        "Successful parse of payload: 2084\n",
        "Successful parse of payload: 1968\n",
        "Successful parse of payload: 3607\n",
        "Successful parse of payload: 2342\n",
        "Successful parse of payload: 3796"
       ]
      },
      {
       "output_type": "stream",
       "stream": "stdout",
       "text": [
        "\n",
        "Successful parse of payload: 1725\n",
        "Successful parse of payload: 3004\n",
        "Successful parse of payload: 3891\n",
        "Successful parse of payload: 4129"
       ]
      },
      {
       "output_type": "stream",
       "stream": "stdout",
       "text": [
        "\n",
        "Successful parse of payload: 3288\n",
        "Successful parse of payload: 2529"
       ]
      },
      {
       "output_type": "stream",
       "stream": "stdout",
       "text": [
        "\n",
        "Successful parse of payload: 4316\n",
        "Successful parse of payload: 3309\n",
        "Successful parse of payload: 1742"
       ]
      },
      {
       "output_type": "stream",
       "stream": "stdout",
       "text": [
        "\n",
        "Successful parse of payload: 2889\n",
        "Successful parse of payload: 810\n",
        "Successful parse of payload: 2468\n",
        "Successful parse of payload: 1289\n",
        "Successful parse of payload: 2540"
       ]
      },
      {
       "output_type": "stream",
       "stream": "stdout",
       "text": [
        "\n",
        "Successful parse of payload: 3865\n",
        "Successful parse of payload: 2057\n",
        "Successful parse of payload: 4053"
       ]
      },
      {
       "output_type": "stream",
       "stream": "stdout",
       "text": [
        "\n",
        "Successful parse of payload: 4341\n",
        "Successful parse of payload: 2347\n",
        "Successful parse of payload: 3302\n",
        "Successful parse of payload: 2341"
       ]
      },
      {
       "output_type": "stream",
       "stream": "stdout",
       "text": [
        "\n",
        "Successful parse of payload: 1172\n",
        "Successful parse of payload: 2578\n",
        "Successful parse of payload: 3639"
       ]
      },
      {
       "output_type": "stream",
       "stream": "stdout",
       "text": [
        "\n",
        "Successful parse of payload: 2030\n",
        "Successful parse of payload: 4023\n",
        "Successful parse of payload: 4013\n",
        "Successful parse of payload: 2129"
       ]
      },
      {
       "output_type": "stream",
       "stream": "stdout",
       "text": [
        "\n",
        "Successful parse of payload: 2343\n",
        "Successful parse of payload: 4224\n",
        "Successful parse of payload: 1805\n",
        "Successful parse of payload: 2692\n",
        "Successful parse of payload: 4160\n",
        "Successful parse of payload: 2417"
       ]
      },
      {
       "output_type": "stream",
       "stream": "stdout",
       "text": [
        "\n",
        "Successful parse of payload: 293\n",
        "Successful parse of payload: 2039\n",
        "Successful parse of payload: 1938\n",
        "Successful parse of payload: 2558\n",
        "Successful parse of payload: 4038\n",
        "Successful parse of payload: 916\n",
        "Successful parse of payload: 3112\n",
        "Successful parse of payload: 863\n",
        "Successful parse of payload: 2461\n",
        "Successful parse of payload: 934"
       ]
      },
      {
       "output_type": "stream",
       "stream": "stdout",
       "text": [
        "\n",
        "Successful parse of payload: 3978"
       ]
      },
      {
       "output_type": "stream",
       "stream": "stdout",
       "text": [
        "\n",
        "Successful parse of payload: 3483\n",
        "Successful parse of payload: 2008\n",
        "Successful parse of payload: 2494"
       ]
      },
      {
       "output_type": "stream",
       "stream": "stdout",
       "text": [
        "\n",
        "Successful parse of payload: 3449\n",
        "Successful parse of payload: 2854\n",
        "Successful parse of payload: 2246\n",
        "Successful parse of payload: 1216"
       ]
      },
      {
       "output_type": "stream",
       "stream": "stdout",
       "text": [
        "\n",
        "Successful parse of payload: 1762\n",
        "Successful parse of payload: 2351"
       ]
      },
      {
       "output_type": "stream",
       "stream": "stdout",
       "text": [
        "\n",
        "Successful parse of payload: 1128"
       ]
      },
      {
       "output_type": "stream",
       "stream": "stdout",
       "text": [
        "\n",
        "Successful parse of payload: 3770"
       ]
      },
      {
       "output_type": "stream",
       "stream": "stdout",
       "text": [
        "\n",
        "Successful parse of payload: 3649"
       ]
      },
      {
       "output_type": "stream",
       "stream": "stdout",
       "text": [
        "\n",
        "Successful parse of payload: 3294\n",
        "Successful parse of payload: 799"
       ]
      },
      {
       "output_type": "stream",
       "stream": "stdout",
       "text": [
        "\n",
        "Successful parse of payload: 2550\n",
        "Successful parse of payload: 1795\n",
        "Successful parse of payload: 2161"
       ]
      },
      {
       "output_type": "stream",
       "stream": "stdout",
       "text": [
        "\n",
        "Successful parse of payload: 2259\n",
        "Successful parse of payload: 2061"
       ]
      },
      {
       "output_type": "stream",
       "stream": "stdout",
       "text": [
        "\n",
        "Successful parse of payload: 1699\n",
        "Successful parse of payload: 2437\n",
        "Successful parse of payload: 2933"
       ]
      },
      {
       "output_type": "stream",
       "stream": "stdout",
       "text": [
        "\n",
        "Successful parse of payload: 4239\n",
        "Successful parse of payload: 3425"
       ]
      },
      {
       "output_type": "stream",
       "stream": "stdout",
       "text": [
        "\n",
        "Successful parse of payload: 335\n",
        "Successful parse of payload: 4210\n",
        "Successful parse of payload: 3075\n",
        "Successful parse of payload: 2593"
       ]
      },
      {
       "output_type": "stream",
       "stream": "stdout",
       "text": [
        "\n",
        "Successful parse of payload: 2710\n",
        "Successful parse of payload: 2691\n",
        "Successful parse of payload: 3363\n",
        "Successful parse of payload: 2991"
       ]
      },
      {
       "output_type": "stream",
       "stream": "stdout",
       "text": [
        "\n",
        "Successful parse of payload: 3780"
       ]
      },
      {
       "output_type": "stream",
       "stream": "stdout",
       "text": [
        "\n",
        "Successful parse of payload: 3373\n",
        "Successful parse of payload: 3420"
       ]
      },
      {
       "output_type": "stream",
       "stream": "stdout",
       "text": [
        "\n",
        "Successful parse of payload: 3892\n",
        "Successful parse of payload: 1989"
       ]
      },
      {
       "output_type": "stream",
       "stream": "stdout",
       "text": [
        "\n",
        "Successful parse of payload: 4121\n",
        "Successful parse of payload: 2013\n",
        "Successful parse of payload: 3846\n",
        "Successful parse of payload: 4071\n",
        "Successful parse of payload: 340\n",
        "Successful parse of payload: 2829\n",
        "Successful parse of payload: 4058"
       ]
      },
      {
       "output_type": "stream",
       "stream": "stdout",
       "text": [
        "\n",
        "Successful parse of payload: 4288\n",
        "Successful parse of payload: 1265\n",
        "Successful parse of payload: 4434\n",
        "Successful parse of payload: 3583\n",
        "Successful parse of payload: 3061"
       ]
      },
      {
       "output_type": "stream",
       "stream": "stdout",
       "text": [
        "\n",
        "Successful parse of payload: 2827\n",
        "Successful parse of payload: 3763\n",
        "Successful parse of payload: 3990"
       ]
      },
      {
       "output_type": "stream",
       "stream": "stdout",
       "text": [
        "\n",
        "Successful parse of payload: 3060\n",
        "Successful parse of payload: 2183\n",
        "Successful parse of payload: 3218\n",
        "Successful parse of payload: 3704\n",
        "Successful parse of payload: 2979"
       ]
      },
      {
       "output_type": "stream",
       "stream": "stdout",
       "text": [
        "\n",
        "Successful parse of payload: 318\n",
        "Successful parse of payload: 2650\n",
        "Successful parse of payload: 3062\n",
        "Successful parse of payload: 1110"
       ]
      },
      {
       "output_type": "stream",
       "stream": "stdout",
       "text": [
        "\n",
        "Successful parse of payload: 3187\n",
        "Successful parse of payload: 3251\n",
        "Successful parse of payload: 3733"
       ]
      },
      {
       "output_type": "stream",
       "stream": "stdout",
       "text": [
        "\n",
        "Successful parse of payload: 232\n",
        "Successful parse of payload: 2501\n",
        "Successful parse of payload: 2280\n",
        "Successful parse of payload: 3326\n",
        "Successful parse of payload: 4258"
       ]
      },
      {
       "output_type": "stream",
       "stream": "stdout",
       "text": [
        "\n",
        "Successful parse of payload: 1273\n",
        "Successful parse of payload: 3873\n",
        "Successful parse of payload: 2758\n",
        "Successful parse of payload: 871\n",
        "Successful parse of payload: 2563\n",
        "Successful parse of payload: 2027\n",
        "Successful parse of payload: 2622\n",
        "Successful parse of payload: 2042\n",
        "Successful parse of payload: 3667"
       ]
      },
      {
       "output_type": "stream",
       "stream": "stdout",
       "text": [
        "\n",
        "Successful parse of payload: 4009\n",
        "Successful parse of payload: 1773"
       ]
      },
      {
       "output_type": "stream",
       "stream": "stdout",
       "text": [
        "\n",
        "Successful parse of payload: 2983\n",
        "Successful parse of payload: 2078"
       ]
      },
      {
       "output_type": "stream",
       "stream": "stdout",
       "text": [
        "\n",
        "Successful parse of payload: 3318\n",
        "Successful parse of payload: 3727"
       ]
      },
      {
       "output_type": "stream",
       "stream": "stdout",
       "text": [
        "\n",
        "Successful parse of payload: 3765\n",
        "Successful parse of payload: 3844\n",
        "Successful parse of payload: 4055"
       ]
      },
      {
       "output_type": "stream",
       "stream": "stdout",
       "text": [
        "\n",
        "Successful parse of payload: 2874\n",
        "Successful parse of payload: 4184\n",
        "Successful parse of payload: 931"
       ]
      },
      {
       "output_type": "stream",
       "stream": "stdout",
       "text": [
        "\n",
        "Successful parse of payload: 1825\n",
        "Successful parse of payload: 1192\n",
        "Successful parse of payload: 4083\n",
        "Successful parse of payload: 3656"
       ]
      },
      {
       "output_type": "stream",
       "stream": "stdout",
       "text": [
        "\n",
        "Successful parse of payload: 3172\n",
        "Successful parse of payload: 3869"
       ]
      },
      {
       "output_type": "stream",
       "stream": "stdout",
       "text": [
        "\n",
        "Successful parse of payload: 1163\n",
        "Successful parse of payload: 839\n",
        "Successful parse of payload: 2333\n",
        "Successful parse of payload: 2722\n",
        "Successful parse of payload: 834"
       ]
      },
      {
       "output_type": "stream",
       "stream": "stdout",
       "text": [
        "\n",
        "Successful parse of payload: 3073\n",
        "Successful parse of payload: 3395\n",
        "Successful parse of payload: 4090\n",
        "Successful parse of payload: 2527\n",
        "Successful parse of payload: 3677"
       ]
      },
      {
       "output_type": "stream",
       "stream": "stdout",
       "text": [
        "\n",
        "Successful parse of payload: 4435"
       ]
      },
      {
       "output_type": "stream",
       "stream": "stdout",
       "text": [
        "\n",
        "Successful parse of payload: 2365\n",
        "Successful parse of payload: 1685\n",
        "Successful parse of payload: 3086\n",
        "Successful parse of payload: 233\n",
        "Successful parse of payload: 3164"
       ]
      },
      {
       "output_type": "stream",
       "stream": "stdout",
       "text": [
        "\n",
        "Successful parse of payload: 3410"
       ]
      },
      {
       "output_type": "stream",
       "stream": "stdout",
       "text": [
        "\n",
        "Successful parse of payload: 907"
       ]
      },
      {
       "output_type": "stream",
       "stream": "stdout",
       "text": [
        "\n",
        "Successful parse of payload: 841\n",
        "Successful parse of payload: 2096\n",
        "Successful parse of payload: 4241"
       ]
      },
      {
       "output_type": "stream",
       "stream": "stdout",
       "text": [
        "\n",
        "Successful parse of payload: 3459\n",
        "Successful parse of payload: 2666\n",
        "Successful parse of payload: 2321\n",
        "Successful parse of payload: 304\n",
        "Successful parse of payload: 1861"
       ]
      },
      {
       "output_type": "stream",
       "stream": "stdout",
       "text": [
        "\n",
        "Successful parse of payload: 2734"
       ]
      },
      {
       "output_type": "stream",
       "stream": "stdout",
       "text": [
        "\n",
        "Successful parse of payload: 2545\n",
        "Successful parse of payload: 355\n",
        "Successful parse of payload: 2073"
       ]
      },
      {
       "output_type": "stream",
       "stream": "stdout",
       "text": [
        "\n",
        "Successful parse of payload: 3036\n",
        "Successful parse of payload: 3894"
       ]
      },
      {
       "output_type": "stream",
       "stream": "stdout",
       "text": [
        "\n",
        "Successful parse of payload: 3067\n",
        "Successful parse of payload: 1081"
       ]
      },
      {
       "output_type": "stream",
       "stream": "stdout",
       "text": [
        "\n",
        "Successful parse of payload: 2372\n",
        "Successful parse of payload: 2330\n",
        "Successful parse of payload: 1270\n",
        "Successful parse of payload: 872"
       ]
      },
      {
       "output_type": "stream",
       "stream": "stdout",
       "text": [
        "\n",
        "Successful parse of payload: 1663\n",
        "Successful parse of payload: 4404"
       ]
      },
      {
       "output_type": "stream",
       "stream": "stdout",
       "text": [
        "\n",
        "Successful parse of payload: 1309\n",
        "Successful parse of payload: 2146\n",
        "Successful parse of payload: 2135"
       ]
      },
      {
       "output_type": "stream",
       "stream": "stdout",
       "text": [
        "\n",
        "Successful parse of payload: 4080"
       ]
      },
      {
       "output_type": "stream",
       "stream": "stdout",
       "text": [
        "\n",
        "Successful parse of payload: 3985\n",
        "Successful parse of payload: 2404\n",
        "Successful parse of payload: 3522\n",
        "Successful parse of payload: 1107"
       ]
      },
      {
       "output_type": "stream",
       "stream": "stdout",
       "text": [
        "\n",
        "Successful parse of payload: 1698\n",
        "Successful parse of payload: 2478"
       ]
      },
      {
       "output_type": "stream",
       "stream": "stdout",
       "text": [
        "\n",
        "Successful parse of payload: 1920\n",
        "Successful parse of payload: 4026\n",
        "Successful parse of payload: 1239"
       ]
      },
      {
       "output_type": "stream",
       "stream": "stdout",
       "text": [
        "\n",
        "Successful parse of payload: 2247\n",
        "Successful parse of payload: 1295\n",
        "Successful parse of payload: 2387\n",
        "Successful parse of payload: 3361"
       ]
      },
      {
       "output_type": "stream",
       "stream": "stdout",
       "text": [
        "\n",
        "Successful parse of payload: 3140\n",
        "Successful parse of payload: 4166\n",
        "Successful parse of payload: 2045\n",
        "Successful parse of payload: 3239\n",
        "Successful parse of payload: 1622\n",
        "Successful parse of payload: 4113"
       ]
      },
      {
       "output_type": "stream",
       "stream": "stdout",
       "text": [
        "\n",
        "Successful parse of payload: 2831"
       ]
      },
      {
       "output_type": "stream",
       "stream": "stdout",
       "text": [
        "\n",
        "Successful parse of payload: 3927\n",
        "Successful parse of payload: 4007\n",
        "Successful parse of payload: 3568\n",
        "Successful parse of payload: 3396"
       ]
      },
      {
       "output_type": "stream",
       "stream": "stdout",
       "text": [
        "\n",
        "Successful parse of payload: 1233\n",
        "Successful parse of payload: 3042"
       ]
      },
      {
       "output_type": "stream",
       "stream": "stdout",
       "text": [
        "\n",
        "Successful parse of payload: 2924\n",
        "Successful parse of payload: 2236\n",
        "Successful parse of payload: 1710\n",
        "Successful parse of payload: 2597"
       ]
      },
      {
       "output_type": "stream",
       "stream": "stdout",
       "text": [
        "\n",
        "Successful parse of payload: 1202\n",
        "Successful parse of payload: 1872\n",
        "Successful parse of payload: 3197"
       ]
      },
      {
       "output_type": "stream",
       "stream": "stdout",
       "text": [
        "\n",
        "Successful parse of payload: 3496"
       ]
      },
      {
       "output_type": "stream",
       "stream": "stdout",
       "text": [
        "\n",
        "Successful parse of payload: 2865\n",
        "Successful parse of payload: 3783"
       ]
      },
      {
       "output_type": "stream",
       "stream": "stdout",
       "text": [
        "\n",
        "Successful parse of payload: 1800"
       ]
      },
      {
       "output_type": "stream",
       "stream": "stdout",
       "text": [
        "\n",
        "Successful parse of payload: 3757"
       ]
      },
      {
       "output_type": "stream",
       "stream": "stdout",
       "text": [
        "\n",
        "Successful parse of payload: 4196"
       ]
      },
      {
       "output_type": "stream",
       "stream": "stdout",
       "text": [
        "\n",
        "Successful parse of payload: 1891\n",
        "Successful parse of payload: 270\n",
        "Successful parse of payload: 3320"
       ]
      },
      {
       "output_type": "stream",
       "stream": "stdout",
       "text": [
        "\n",
        "Successful parse of payload: 1904"
       ]
      },
      {
       "output_type": "stream",
       "stream": "stdout",
       "text": [
        "\n",
        "Successful parse of payload: 2133\n",
        "Successful parse of payload: 1833"
       ]
      },
      {
       "output_type": "stream",
       "stream": "stdout",
       "text": [
        "\n",
        "Successful parse of payload: 4179\n",
        "Successful parse of payload: 3334"
       ]
      },
      {
       "output_type": "stream",
       "stream": "stdout",
       "text": [
        "\n",
        "Successful parse of payload: 890\n",
        "Successful parse of payload: 4044"
       ]
      },
      {
       "output_type": "stream",
       "stream": "stdout",
       "text": [
        "\n",
        "Successful parse of payload: 2777\n",
        "Successful parse of payload: 2714\n",
        "Successful parse of payload: 2997\n",
        "Successful parse of payload: 3492"
       ]
      },
      {
       "output_type": "stream",
       "stream": "stdout",
       "text": [
        "\n",
        "Successful parse of payload: 4084\n",
        "Successful parse of payload: 3066\n",
        "Successful parse of payload: 3798\n",
        "Successful parse of payload: 2973\n",
        "Successful parse of payload: 3902\n",
        "Successful parse of payload: 276\n",
        "Successful parse of payload: 3280\n",
        "Successful parse of payload: 2638"
       ]
      },
      {
       "output_type": "stream",
       "stream": "stdout",
       "text": [
        "\n",
        "Successful parse of payload: 3967"
       ]
      },
      {
       "output_type": "stream",
       "stream": "stdout",
       "text": [
        "\n",
        "Successful parse of payload: 3746"
       ]
      },
      {
       "output_type": "stream",
       "stream": "stdout",
       "text": [
        "\n",
        "Successful parse of payload: 4155\n",
        "Successful parse of payload: 3717"
       ]
      },
      {
       "output_type": "stream",
       "stream": "stdout",
       "text": [
        "\n",
        "Successful parse of payload: 2981\n",
        "Successful parse of payload: 1950\n",
        "Successful parse of payload: 3102\n",
        "Successful parse of payload: 2114\n",
        "Successful parse of payload: 787\n",
        "Successful parse of payload: 2664"
       ]
      },
      {
       "output_type": "stream",
       "stream": "stdout",
       "text": [
        "\n",
        "Successful parse of payload: 3893\n",
        "Successful parse of payload: 1757\n",
        "Successful parse of payload: 4267"
       ]
      },
      {
       "output_type": "stream",
       "stream": "stdout",
       "text": [
        "\n",
        "Successful parse of payload: 2328\n",
        "Successful parse of payload: 2119"
       ]
      },
      {
       "output_type": "stream",
       "stream": "stdout",
       "text": [
        "\n",
        "Successful parse of payload: 1749\n",
        "Successful parse of payload: 3616"
       ]
      },
      {
       "output_type": "stream",
       "stream": "stdout",
       "text": [
        "\n",
        "Successful parse of payload: 1619\n",
        "Successful parse of payload: 1048"
       ]
      },
      {
       "output_type": "stream",
       "stream": "stdout",
       "text": [
        "\n",
        "Successful parse of payload: 2411\n",
        "Successful parse of payload: 2986\n",
        "Successful parse of payload: 2950"
       ]
      },
      {
       "output_type": "stream",
       "stream": "stdout",
       "text": [
        "\n",
        "Successful parse of payload: 3611\n",
        "Successful parse of payload: 3997"
       ]
      },
      {
       "output_type": "stream",
       "stream": "stdout",
       "text": [
        "\n",
        "Successful parse of payload: 859\n",
        "Successful parse of payload: 3336\n",
        "Successful parse of payload: 3943\n",
        "Successful parse of payload: 3380\n",
        "Successful parse of payload: 2939\n",
        "Successful parse of payload: 2044"
       ]
      },
      {
       "output_type": "stream",
       "stream": "stdout",
       "text": [
        "\n",
        "Successful parse of payload: 964"
       ]
      },
      {
       "output_type": "stream",
       "stream": "stdout",
       "text": [
        "\n",
        "Successful parse of payload: 2782\n",
        "Successful parse of payload: 2748\n",
        "Successful parse of payload: 3993"
       ]
      },
      {
       "output_type": "stream",
       "stream": "stdout",
       "text": [
        "\n",
        "Successful parse of payload: 253\n",
        "Successful parse of payload: 3242"
       ]
      },
      {
       "output_type": "stream",
       "stream": "stdout",
       "text": [
        "\n",
        "Successful parse of payload: 2932\n",
        "Successful parse of payload: 3767"
       ]
      },
      {
       "output_type": "stream",
       "stream": "stdout",
       "text": [
        "\n",
        "Successful parse of payload: 4314\n",
        "Successful parse of payload: 3103\n",
        "Successful parse of payload: 1947"
       ]
      },
      {
       "output_type": "stream",
       "stream": "stdout",
       "text": [
        "\n",
        "Successful parse of payload: 1122\n",
        "Successful parse of payload: 3627\n",
        "Successful parse of payload: 2414\n",
        "Successful parse of payload: 1271\n",
        "Successful parse of payload: 2762\n",
        "Successful parse of payload: 3942\n",
        "Successful parse of payload: 3325\n",
        "Successful parse of payload: 2817\n",
        "Successful parse of payload: 4347\n",
        "Successful parse of payload: 3235"
       ]
      },
      {
       "output_type": "stream",
       "stream": "stdout",
       "text": [
        "\n",
        "Successful parse of payload: 4059\n",
        "Successful parse of payload: 1807\n",
        "Successful parse of payload: 4257\n",
        "Successful parse of payload: 1948\n",
        "Successful parse of payload: 1853"
       ]
      },
      {
       "output_type": "stream",
       "stream": "stdout",
       "text": [
        "\n",
        "Successful parse of payload: 3316\n",
        "Successful parse of payload: 2362\n",
        "Successful parse of payload: 2165"
       ]
      },
      {
       "output_type": "stream",
       "stream": "stdout",
       "text": [
        "\n",
        "Successful parse of payload: 3799"
       ]
      },
      {
       "output_type": "stream",
       "stream": "stdout",
       "text": [
        "\n",
        "Successful parse of payload: 806\n",
        "Successful parse of payload: 3238\n",
        "Successful parse of payload: 2117"
       ]
      },
      {
       "output_type": "stream",
       "stream": "stdout",
       "text": [
        "\n",
        "Successful parse of payload: 4284\n",
        "Successful parse of payload: 2196\n",
        "Successful parse of payload: 3050\n",
        "Successful parse of payload: 2250"
       ]
      },
      {
       "output_type": "stream",
       "stream": "stdout",
       "text": [
        "\n",
        "Successful parse of payload: 3029\n",
        "Successful parse of payload: 4302\n",
        "Successful parse of payload: 3711\n",
        "Successful parse of payload: 3338"
       ]
      },
      {
       "output_type": "stream",
       "stream": "stdout",
       "text": [
        "\n",
        "Successful parse of payload: 4194\n",
        "Successful parse of payload: 3384"
       ]
      },
      {
       "output_type": "stream",
       "stream": "stdout",
       "text": [
        "\n",
        "Successful parse of payload: 3071\n",
        "Successful parse of payload: 852\n",
        "Successful parse of payload: 2340\n",
        "Successful parse of payload: 3175\n",
        "Successful parse of payload: 2964\n",
        "Successful parse of payload: 1648\n",
        "Successful parse of payload: 1117\n",
        "Successful parse of payload: 3436\n",
        "Successful parse of payload: 1824\n",
        "Successful parse of payload: 4145"
       ]
      },
      {
       "output_type": "stream",
       "stream": "stdout",
       "text": [
        "\n",
        "Successful parse of payload: 2585\n",
        "Successful parse of payload: 1896"
       ]
      },
      {
       "output_type": "stream",
       "stream": "stdout",
       "text": [
        "\n",
        "Successful parse of payload: 2580\n",
        "Successful parse of payload: 3977\n",
        "Successful parse of payload: 3169"
       ]
      },
      {
       "output_type": "stream",
       "stream": "stdout",
       "text": [
        "\n",
        "Successful parse of payload: 1639\n",
        "Successful parse of payload: 4391\n",
        "Successful parse of payload: 2862\n",
        "Successful parse of payload: 4285"
       ]
      },
      {
       "output_type": "stream",
       "stream": "stdout",
       "text": [
        "\n",
        "Successful parse of payload: 2214\n",
        "Successful parse of payload: 2554"
       ]
      },
      {
       "output_type": "stream",
       "stream": "stdout",
       "text": [
        "\n",
        "Successful parse of payload: 1827\n",
        "Successful parse of payload: 3221\n",
        "Successful parse of payload: 2809"
       ]
      },
      {
       "output_type": "stream",
       "stream": "stdout",
       "text": [
        "\n",
        "Successful parse of payload: 4385"
       ]
      },
      {
       "output_type": "stream",
       "stream": "stdout",
       "text": [
        "\n",
        "Successful parse of payload: 4370\n",
        "Successful parse of payload: 4188\n",
        "Successful parse of payload: 3024\n",
        "Successful parse of payload: 2799\n",
        "Successful parse of payload: 2642\n",
        "Successful parse of payload: 3693\n",
        "Successful parse of payload: 1205\n",
        "Successful parse of payload: 3794"
       ]
      },
      {
       "output_type": "stream",
       "stream": "stdout",
       "text": [
        "\n",
        "Successful parse of payload: 4305"
       ]
      },
      {
       "output_type": "stream",
       "stream": "stdout",
       "text": [
        "\n",
        "Successful parse of payload: 3065\n",
        "Successful parse of payload: 1808\n",
        "Successful parse of payload: 3585\n",
        "Successful parse of payload: 2349"
       ]
      },
      {
       "output_type": "stream",
       "stream": "stdout",
       "text": [
        "\n",
        "Successful parse of payload: 3832"
       ]
      },
      {
       "output_type": "stream",
       "stream": "stdout",
       "text": [
        "\n",
        "Successful parse of payload: 3620"
       ]
      },
      {
       "output_type": "stream",
       "stream": "stdout",
       "text": [
        "\n",
        "Successful parse of payload: 2384\n",
        "Successful parse of payload: 3864\n",
        "Successful parse of payload: 1095"
       ]
      },
      {
       "output_type": "stream",
       "stream": "stdout",
       "text": [
        "\n",
        "Successful parse of payload: 2670\n",
        "Successful parse of payload: 3878\n",
        "Successful parse of payload: 4306\n",
        "Successful parse of payload: 3230"
       ]
      },
      {
       "output_type": "stream",
       "stream": "stdout",
       "text": [
        "\n",
        "Successful parse of payload: 3653\n",
        "Successful parse of payload: 3147"
       ]
      },
      {
       "output_type": "stream",
       "stream": "stdout",
       "text": [
        "\n",
        "Successful parse of payload: 2744"
       ]
      },
      {
       "output_type": "stream",
       "stream": "stdout",
       "text": [
        "\n",
        "Successful parse of payload: 851\n",
        "Successful parse of payload: 4383\n",
        "Successful parse of payload: 2167\n",
        "Successful parse of payload: 3784\n",
        "Successful parse of payload: 1767\n",
        "Successful parse of payload: 3337"
       ]
      },
      {
       "output_type": "stream",
       "stream": "stdout",
       "text": [
        "\n",
        "Successful parse of payload: 2887\n",
        "Successful parse of payload: 2137"
       ]
      },
      {
       "output_type": "stream",
       "stream": "stdout",
       "text": [
        "\n",
        "Successful parse of payload: 3561\n",
        "Successful parse of payload: 337\n",
        "Successful parse of payload: 1109"
       ]
      },
      {
       "output_type": "stream",
       "stream": "stdout",
       "text": [
        "\n",
        "Successful parse of payload: 4315"
       ]
      },
      {
       "output_type": "stream",
       "stream": "stdout",
       "text": [
        "\n",
        "Successful parse of payload: 2091\n",
        "Successful parse of payload: 1984"
       ]
      },
      {
       "output_type": "stream",
       "stream": "stdout",
       "text": [
        "\n",
        "Successful parse of payload: 4352\n",
        "Successful parse of payload: 2833\n",
        "Successful parse of payload: 1848\n",
        "Successful parse of payload: 581"
       ]
      },
      {
       "output_type": "stream",
       "stream": "stdout",
       "text": [
        "\n",
        "Successful parse of payload: 2768"
       ]
      },
      {
       "output_type": "stream",
       "stream": "stdout",
       "text": [
        "\n",
        "Successful parse of payload: 3855"
       ]
      },
      {
       "output_type": "stream",
       "stream": "stdout",
       "text": [
        "\n",
        "Successful parse of payload: 3085"
       ]
      },
      {
       "output_type": "stream",
       "stream": "stdout",
       "text": [
        "\n",
        "Successful parse of payload: 2430\n",
        "Successful parse of payload: 3426"
       ]
      },
      {
       "output_type": "stream",
       "stream": "stdout",
       "text": [
        "\n",
        "Successful parse of payload: 3612"
       ]
      },
      {
       "output_type": "stream",
       "stream": "stdout",
       "text": [
        "\n",
        "Successful parse of payload: 2967"
       ]
      },
      {
       "output_type": "stream",
       "stream": "stdout",
       "text": [
        "\n",
        "Successful parse of payload: 2058\n",
        "Successful parse of payload: 1799\n",
        "Successful parse of payload: 4163\n",
        "Successful parse of payload: 3961\n",
        "Successful parse of payload: 2193\n",
        "Successful parse of payload: 2719\n",
        "Successful parse of payload: 4034"
       ]
      },
      {
       "output_type": "stream",
       "stream": "stdout",
       "text": [
        "\n",
        "Successful parse of payload: 1169\n",
        "Successful parse of payload: 2565"
       ]
      },
      {
       "output_type": "stream",
       "stream": "stdout",
       "text": [
        "\n",
        "Successful parse of payload: 815\n",
        "Successful parse of payload: 1276\n",
        "Successful parse of payload: 2005\n",
        "Successful parse of payload: 3689"
       ]
      },
      {
       "output_type": "stream",
       "stream": "stdout",
       "text": [
        "\n",
        "Successful parse of payload: 4290\n",
        "Successful parse of payload: 486\n",
        "Successful parse of payload: 2533\n",
        "Successful parse of payload: 4068"
       ]
      },
      {
       "output_type": "stream",
       "stream": "stdout",
       "text": [
        "\n",
        "Successful parse of payload: 3709\n",
        "Successful parse of payload: 2544\n",
        "Successful parse of payload: 1818\n",
        "Successful parse of payload: 1658"
       ]
      },
      {
       "output_type": "stream",
       "stream": "stdout",
       "text": [
        "\n",
        "Successful parse of payload: 260\n",
        "Successful parse of payload: 1284\n",
        "Successful parse of payload: 2082\n",
        "Successful parse of payload: 3823\n",
        "Successful parse of payload: 1676"
       ]
      },
      {
       "output_type": "stream",
       "stream": "stdout",
       "text": [
        "\n",
        "Successful parse of payload: 4089\n",
        "Successful parse of payload: 2514"
       ]
      },
      {
       "output_type": "stream",
       "stream": "stdout",
       "text": [
        "\n",
        "Successful parse of payload: 3945\n",
        "Successful parse of payload: 923\n",
        "Successful parse of payload: 3740"
       ]
      },
      {
       "output_type": "stream",
       "stream": "stdout",
       "text": [
        "\n",
        "Successful parse of payload: 2646\n",
        "Successful parse of payload: 2381\n",
        "Successful parse of payload: 3642"
       ]
      },
      {
       "output_type": "stream",
       "stream": "stdout",
       "text": [
        "\n",
        "Successful parse of payload: 2941\n",
        "Successful parse of payload: 1777"
       ]
      },
      {
       "output_type": "stream",
       "stream": "stdout",
       "text": [
        "\n",
        "Successful parse of payload: 1865\n",
        "Successful parse of payload: 330\n",
        "Successful parse of payload: 2757\n",
        "Successful parse of payload: 812"
       ]
      },
      {
       "output_type": "stream",
       "stream": "stdout",
       "text": [
        "\n",
        "Successful parse of payload: 4375\n",
        "Successful parse of payload: 2235\n",
        "Successful parse of payload: 3836\n",
        "Successful parse of payload: 583\n",
        "Successful parse of payload: 2625\n",
        "Successful parse of payload: 1189\n",
        "Successful parse of payload: 2509\n",
        "Successful parse of payload: 3850"
       ]
      },
      {
       "output_type": "stream",
       "stream": "stdout",
       "text": [
        "\n",
        "Successful parse of payload: 1796\n",
        "Successful parse of payload: 2627\n",
        "Successful parse of payload: 937"
       ]
      },
      {
       "output_type": "stream",
       "stream": "stdout",
       "text": [
        "\n",
        "Successful parse of payload: 2318\n",
        "Successful parse of payload: 2110\n",
        "Successful parse of payload: 1753"
       ]
      },
      {
       "output_type": "stream",
       "stream": "stdout",
       "text": [
        "\n",
        "Successful parse of payload: 2370\n",
        "Successful parse of payload: 2286"
       ]
      },
      {
       "output_type": "stream",
       "stream": "stdout",
       "text": [
        "\n",
        "Successful parse of payload: 2536\n",
        "Successful parse of payload: 1976"
       ]
      },
      {
       "output_type": "stream",
       "stream": "stdout",
       "text": [
        "\n",
        "Successful parse of payload: 3698\n",
        "Successful parse of payload: 3543\n",
        "Successful parse of payload: 3999"
       ]
      },
      {
       "output_type": "stream",
       "stream": "stdout",
       "text": [
        "\n",
        "Successful parse of payload: 2221\n",
        "Successful parse of payload: 2674\n",
        "Successful parse of payload: 2363\n",
        "Successful parse of payload: 2405"
       ]
      },
      {
       "output_type": "stream",
       "stream": "stdout",
       "text": [
        "\n",
        "Successful parse of payload: 3047\n",
        "Successful parse of payload: 813"
       ]
      },
      {
       "output_type": "stream",
       "stream": "stdout",
       "text": [
        "\n",
        "Successful parse of payload: 2708\n",
        "Successful parse of payload: 804\n",
        "Successful parse of payload: 2312"
       ]
      },
      {
       "output_type": "stream",
       "stream": "stdout",
       "text": [
        "\n",
        "Successful parse of payload: 3398"
       ]
      },
      {
       "output_type": "stream",
       "stream": "stdout",
       "text": [
        "\n",
        "Successful parse of payload: 2980\n",
        "Successful parse of payload: 4141\n",
        "Successful parse of payload: 1623"
       ]
      },
      {
       "output_type": "stream",
       "stream": "stdout",
       "text": [
        "\n",
        "Successful parse of payload: 879\n",
        "Successful parse of payload: 1873\n",
        "Successful parse of payload: 251\n",
        "Successful parse of payload: 3992"
       ]
      },
      {
       "output_type": "stream",
       "stream": "stdout",
       "text": [
        "\n",
        "Successful parse of payload: 3598"
       ]
      },
      {
       "output_type": "stream",
       "stream": "stdout",
       "text": [
        "\n",
        "Successful parse of payload: 2239\n",
        "Successful parse of payload: 4156\n",
        "Successful parse of payload: 2217\n",
        "Successful parse of payload: 3920\n",
        "Successful parse of payload: 4095"
       ]
      },
      {
       "output_type": "stream",
       "stream": "stdout",
       "text": [
        "\n",
        "Successful parse of payload: 3708"
       ]
      },
      {
       "output_type": "stream",
       "stream": "stdout",
       "text": [
        "\n",
        "Successful parse of payload: 3184\n",
        "Successful parse of payload: 2178\n",
        "Successful parse of payload: 2148"
       ]
      },
      {
       "output_type": "stream",
       "stream": "stdout",
       "text": [
        "\n",
        "Successful parse of payload: 2184\n",
        "Successful parse of payload: 2011\n",
        "Successful parse of payload: 2195\n",
        "Successful parse of payload: 2876\n",
        "Successful parse of payload: 2587\n",
        "Successful parse of payload: 4261"
       ]
      },
      {
       "output_type": "stream",
       "stream": "stdout",
       "text": [
        "\n",
        "Successful parse of payload: 3538"
       ]
      },
      {
       "output_type": "stream",
       "stream": "stdout",
       "text": [
        "\n",
        "Successful parse of payload: 2695"
       ]
      },
      {
       "output_type": "stream",
       "stream": "stdout",
       "text": [
        "\n",
        "Successful parse of payload: 3476"
       ]
      },
      {
       "output_type": "stream",
       "stream": "stdout",
       "text": [
        "\n",
        "Successful parse of payload: 836\n",
        "Successful parse of payload: 3776"
       ]
      },
      {
       "output_type": "stream",
       "stream": "stdout",
       "text": [
        "\n",
        "Successful parse of payload: 2486\n",
        "Successful parse of payload: 2460\n",
        "Successful parse of payload: 2399"
       ]
      },
      {
       "output_type": "stream",
       "stream": "stdout",
       "text": [
        "\n",
        "Successful parse of payload: 3879\n",
        "Successful parse of payload: 1576\n",
        "Successful parse of payload: 4171"
       ]
      },
      {
       "output_type": "stream",
       "stream": "stdout",
       "text": [
        "\n",
        "Successful parse of payload: 1221\n",
        "Successful parse of payload: 831\n",
        "Successful parse of payload: 1653"
       ]
      },
      {
       "output_type": "stream",
       "stream": "stdout",
       "text": [
        "\n",
        "Successful parse of payload: 1066"
       ]
      },
      {
       "output_type": "stream",
       "stream": "stdout",
       "text": [
        "\n",
        "Successful parse of payload: 1741"
       ]
      },
      {
       "output_type": "stream",
       "stream": "stdout",
       "text": [
        "\n",
        "Successful parse of payload: 327\n",
        "Successful parse of payload: 3290\n",
        "Successful parse of payload: 4223\n",
        "Successful parse of payload: 1997\n",
        "Successful parse of payload: 1089\n",
        "Successful parse of payload: 2538\n",
        "Successful parse of payload: 4414"
       ]
      },
      {
       "output_type": "stream",
       "stream": "stdout",
       "text": [
        "\n",
        "Successful parse of payload: 1171\n",
        "Successful parse of payload: 3722\n",
        "Successful parse of payload: 3323"
       ]
      },
      {
       "output_type": "stream",
       "stream": "stdout",
       "text": [
        "\n",
        "Successful parse of payload: 3777"
       ]
      },
      {
       "output_type": "stream",
       "stream": "stdout",
       "text": [
        "\n",
        "Successful parse of payload: 1881\n",
        "Successful parse of payload: 4216\n",
        "Successful parse of payload: 1322\n",
        "Successful parse of payload: 3072"
       ]
      },
      {
       "output_type": "stream",
       "stream": "stdout",
       "text": [
        "\n",
        "Successful parse of payload: 3282\n",
        "Successful parse of payload: 2861\n",
        "Successful parse of payload: 2000\n",
        "Successful parse of payload: 319"
       ]
      },
      {
       "output_type": "stream",
       "stream": "stdout",
       "text": [
        "\n",
        "Successful parse of payload: 2112\n",
        "Successful parse of payload: 2198\n",
        "Successful parse of payload: 3955\n",
        "Successful parse of payload: 848\n",
        "Successful parse of payload: 3592\n",
        "Successful parse of payload: 3775"
       ]
      },
      {
       "output_type": "stream",
       "stream": "stdout",
       "text": [
        "\n",
        "Successful parse of payload: 1224\n",
        "Successful parse of payload: 2024\n",
        "Successful parse of payload: 2354\n",
        "Successful parse of payload: 3986"
       ]
      },
      {
       "output_type": "stream",
       "stream": "stdout",
       "text": [
        "\n",
        "Successful parse of payload: 261\n",
        "Successful parse of payload: 3732"
       ]
      },
      {
       "output_type": "stream",
       "stream": "stdout",
       "text": [
        "\n",
        "Successful parse of payload: 2551\n",
        "Successful parse of payload: 1186"
       ]
      },
      {
       "output_type": "stream",
       "stream": "stdout",
       "text": [
        "\n",
        "Successful parse of payload: 3519\n",
        "Successful parse of payload: 3514\n",
        "Successful parse of payload: 2553\n",
        "Successful parse of payload: 4242"
       ]
      },
      {
       "output_type": "stream",
       "stream": "stdout",
       "text": [
        "\n",
        "Successful parse of payload: 3442"
       ]
      },
      {
       "output_type": "stream",
       "stream": "stdout",
       "text": [
        "\n",
        "Successful parse of payload: 3094"
       ]
      },
      {
       "output_type": "stream",
       "stream": "stdout",
       "text": [
        "\n",
        "Successful parse of payload: 3385"
       ]
      },
      {
       "output_type": "stream",
       "stream": "stdout",
       "text": [
        "\n",
        "Successful parse of payload: 2337"
       ]
      },
      {
       "output_type": "stream",
       "stream": "stdout",
       "text": [
        "\n",
        "Successful parse of payload: 2720\n",
        "Successful parse of payload: 3789\n",
        "Successful parse of payload: 2788\n",
        "Successful parse of payload: 3434"
       ]
      },
      {
       "output_type": "stream",
       "stream": "stdout",
       "text": [
        "\n",
        "Successful parse of payload: 800\n",
        "Successful parse of payload: 2200"
       ]
      },
      {
       "output_type": "stream",
       "stream": "stdout",
       "text": [
        "\n",
        "Successful parse of payload: 4067\n",
        "Successful parse of payload: 1409\n",
        "Successful parse of payload: 3682\n",
        "Successful parse of payload: 2852\n",
        "Successful parse of payload: 2994"
       ]
      },
      {
       "output_type": "stream",
       "stream": "stdout",
       "text": [
        "\n",
        "Successful parse of payload: 4252\n",
        "Successful parse of payload: 3636"
       ]
      },
      {
       "output_type": "stream",
       "stream": "stdout",
       "text": [
        "\n",
        "Successful parse of payload: 3954\n",
        "Successful parse of payload: 1294\n",
        "Successful parse of payload: 1650\n",
        "Successful parse of payload: 3633\n",
        "Successful parse of payload: 2522\n",
        "Successful parse of payload: 1730\n",
        "Successful parse of payload: 2929\n",
        "Successful parse of payload: 4333"
       ]
      },
      {
       "output_type": "stream",
       "stream": "stdout",
       "text": [
        "\n",
        "Successful parse of payload: 4277\n",
        "Successful parse of payload: 3191\n",
        "Successful parse of payload: 3296\n",
        "Successful parse of payload: 3012\n",
        "Successful parse of payload: 3555"
       ]
      },
      {
       "output_type": "stream",
       "stream": "stdout",
       "text": [
        "\n",
        "Successful parse of payload: 3685"
       ]
      },
      {
       "output_type": "stream",
       "stream": "stdout",
       "text": [
        "\n",
        "Successful parse of payload: 2300\n",
        "Successful parse of payload: 3560\n",
        "Successful parse of payload: 1674"
       ]
      },
      {
       "output_type": "stream",
       "stream": "stdout",
       "text": [
        "\n",
        "Successful parse of payload: 785\n",
        "Successful parse of payload: 3603\n",
        "Successful parse of payload: 4106\n",
        "Successful parse of payload: 1173\n",
        "Successful parse of payload: 2987"
       ]
      },
      {
       "output_type": "stream",
       "stream": "stdout",
       "text": [
        "\n",
        "Successful parse of payload: 4225"
       ]
      },
      {
       "output_type": "stream",
       "stream": "stdout",
       "text": [
        "\n",
        "Successful parse of payload: 2442\n",
        "Successful parse of payload: 2376\n",
        "Successful parse of payload: 2845\n",
        "Successful parse of payload: 2657"
       ]
      },
      {
       "output_type": "stream",
       "stream": "stdout",
       "text": [
        "\n",
        "Successful parse of payload: 2451\n",
        "Successful parse of payload: 4260\n",
        "Successful parse of payload: 3204\n",
        "Successful parse of payload: 4300"
       ]
      },
      {
       "output_type": "stream",
       "stream": "stdout",
       "text": [
        "\n",
        "Successful parse of payload: 3695\n",
        "Successful parse of payload: 2068\n",
        "Successful parse of payload: 2160"
       ]
      },
      {
       "output_type": "stream",
       "stream": "stdout",
       "text": [
        "\n",
        "Successful parse of payload: 3329\n",
        "Successful parse of payload: 1933\n",
        "Successful parse of payload: 1165\n",
        "Successful parse of payload: 874\n",
        "Successful parse of payload: 1121"
       ]
      },
      {
       "output_type": "stream",
       "stream": "stdout",
       "text": [
        "\n",
        "Successful parse of payload: 2895\n",
        "Successful parse of payload: 3716\n",
        "Successful parse of payload: 4226"
       ]
      },
      {
       "output_type": "stream",
       "stream": "stdout",
       "text": [
        "\n",
        "Successful parse of payload: 2431"
       ]
      },
      {
       "output_type": "stream",
       "stream": "stdout",
       "text": [
        "\n",
        "Successful parse of payload: 1816\n",
        "Successful parse of payload: 3447"
       ]
      },
      {
       "output_type": "stream",
       "stream": "stdout",
       "text": [
        "\n",
        "Successful parse of payload: 4400"
       ]
      },
      {
       "output_type": "stream",
       "stream": "stdout",
       "text": [
        "\n",
        "Successful parse of payload: 2548\n",
        "Successful parse of payload: 2532\n",
        "Successful parse of payload: 1133\n",
        "Successful parse of payload: 2439"
       ]
      },
      {
       "output_type": "stream",
       "stream": "stdout",
       "text": [
        "\n",
        "Successful parse of payload: 1993\n",
        "Successful parse of payload: 779\n",
        "Successful parse of payload: 2175\n",
        "Successful parse of payload: 2857\n",
        "Successful parse of payload: 2823"
       ]
      },
      {
       "output_type": "stream",
       "stream": "stdout",
       "text": [
        "\n",
        "Successful parse of payload: 867"
       ]
      },
      {
       "output_type": "stream",
       "stream": "stdout",
       "text": [
        "\n",
        "Successful parse of payload: 3858"
       ]
      },
      {
       "output_type": "stream",
       "stream": "stdout",
       "text": [
        "\n",
        "Successful parse of payload: 2289\n",
        "Successful parse of payload: 1962\n",
        "Successful parse of payload: 4283\n",
        "Successful parse of payload: 2770"
       ]
      },
      {
       "output_type": "stream",
       "stream": "stdout",
       "text": [
        "\n",
        "Successful parse of payload: 4318\n",
        "Successful parse of payload: 2632"
       ]
      },
      {
       "output_type": "stream",
       "stream": "stdout",
       "text": [
        "\n",
        "Successful parse of payload: 265\n",
        "Successful parse of payload: 3350\n",
        "Successful parse of payload: 3056"
       ]
      },
      {
       "output_type": "stream",
       "stream": "stdout",
       "text": [
        "\n",
        "Successful parse of payload: 3646\n",
        "Successful parse of payload: 1740\n",
        "Successful parse of payload: 4128\n",
        "Successful parse of payload: 3026\n",
        "Successful parse of payload: 1112\n",
        "Successful parse of payload: 2234\n",
        "Successful parse of payload: 3697"
       ]
      },
      {
       "output_type": "stream",
       "stream": "stdout",
       "text": [
        "\n",
        "Successful parse of payload: 927"
       ]
      },
      {
       "output_type": "stream",
       "stream": "stdout",
       "text": [
        "\n",
        "Successful parse of payload: 4278"
       ]
      },
      {
       "output_type": "stream",
       "stream": "stdout",
       "text": [
        "\n",
        "Successful parse of payload: 2076\n",
        "Successful parse of payload: 312\n",
        "Successful parse of payload: 1798"
       ]
      },
      {
       "output_type": "stream",
       "stream": "stdout",
       "text": [
        "\n",
        "Successful parse of payload: 3250\n",
        "Successful parse of payload: 2955\n",
        "Successful parse of payload: 2142\n",
        "Successful parse of payload: 3803\n",
        "Successful parse of payload: 860\n",
        "Successful parse of payload: 1176"
       ]
      },
      {
       "output_type": "stream",
       "stream": "stdout",
       "text": [
        "\n",
        "Successful parse of payload: 2136\n",
        "Successful parse of payload: 1585\n",
        "Successful parse of payload: 4332"
       ]
      },
      {
       "output_type": "stream",
       "stream": "stdout",
       "text": [
        "\n",
        "Successful parse of payload: 2684"
       ]
      },
      {
       "output_type": "stream",
       "stream": "stdout",
       "text": [
        "\n",
        "Successful parse of payload: 1410\n",
        "Successful parse of payload: 1079"
       ]
      },
      {
       "output_type": "stream",
       "stream": "stdout",
       "text": [
        "\n",
        "Successful parse of payload: 2885"
       ]
      },
      {
       "output_type": "stream",
       "stream": "stdout",
       "text": [
        "\n",
        "Successful parse of payload: 773\n",
        "Successful parse of payload: 4348\n",
        "Successful parse of payload: 942"
       ]
      },
      {
       "output_type": "stream",
       "stream": "stdout",
       "text": [
        "\n",
        "Successful parse of payload: 1149\n",
        "Successful parse of payload: 1750\n",
        "Successful parse of payload: 1578"
       ]
      },
      {
       "output_type": "stream",
       "stream": "stdout",
       "text": [
        "\n",
        "Successful parse of payload: 2835\n",
        "Successful parse of payload: 2954\n",
        "Successful parse of payload: 1137"
       ]
      },
      {
       "output_type": "stream",
       "stream": "stdout",
       "text": [
        "\n",
        "Successful parse of payload: 310\n",
        "Successful parse of payload: 4329\n",
        "Successful parse of payload: 3532\n",
        "Successful parse of payload: 933"
       ]
      },
      {
       "output_type": "stream",
       "stream": "stdout",
       "text": [
        "\n",
        "Successful parse of payload: 1907\n",
        "Successful parse of payload: 3342\n",
        "Successful parse of payload: 2661\n",
        "Successful parse of payload: 1310\n",
        "Successful parse of payload: 4211\n",
        "Successful parse of payload: 883\n",
        "Successful parse of payload: 4065\n",
        "Successful parse of payload: 3876"
       ]
      },
      {
       "output_type": "stream",
       "stream": "stdout",
       "text": [
        "\n",
        "Successful parse of payload: 3460"
       ]
      },
      {
       "output_type": "stream",
       "stream": "stdout",
       "text": [
        "\n",
        "Successful parse of payload: 843\n",
        "Successful parse of payload: 1819"
       ]
      },
      {
       "output_type": "stream",
       "stream": "stdout",
       "text": [
        "\n",
        "Successful parse of payload: 3614"
       ]
      },
      {
       "output_type": "stream",
       "stream": "stdout",
       "text": [
        "\n",
        "Successful parse of payload: 3969"
       ]
      },
      {
       "output_type": "stream",
       "stream": "stdout",
       "text": [
        "\n",
        "Successful parse of payload: 4351\n",
        "Successful parse of payload: 1629\n",
        "Successful parse of payload: 351\n",
        "Successful parse of payload: 3249"
       ]
      },
      {
       "output_type": "stream",
       "stream": "stdout",
       "text": [
        "\n",
        "Successful parse of payload: 793\n",
        "Successful parse of payload: 4269\n",
        "Successful parse of payload: 2309"
       ]
      },
      {
       "output_type": "stream",
       "stream": "stdout",
       "text": [
        "\n",
        "Successful parse of payload: 4253\n",
        "Successful parse of payload: 1874\n",
        "Successful parse of payload: 3390"
       ]
      },
      {
       "output_type": "stream",
       "stream": "stdout",
       "text": [
        "\n",
        "Successful parse of payload: 2132\n",
        "Successful parse of payload: 2495\n",
        "Successful parse of payload: 4008"
       ]
      },
      {
       "output_type": "stream",
       "stream": "stdout",
       "text": [
        "\n",
        "Successful parse of payload: 2249\n",
        "Successful parse of payload: 4000\n",
        "Successful parse of payload: 2643\n",
        "Successful parse of payload: 891"
       ]
      },
      {
       "output_type": "stream",
       "stream": "stdout",
       "text": [
        "\n",
        "Successful parse of payload: 3544\n",
        "Successful parse of payload: 1776"
       ]
      },
      {
       "output_type": "stream",
       "stream": "stdout",
       "text": [
        "\n",
        "Successful parse of payload: 1656\n",
        "Successful parse of payload: 1204"
       ]
      },
      {
       "output_type": "stream",
       "stream": "stdout",
       "text": [
        "\n",
        "Successful parse of payload: 3289\n",
        "Successful parse of payload: 3725"
       ]
      },
      {
       "output_type": "stream",
       "stream": "stdout",
       "text": [
        "\n",
        "Successful parse of payload: 4403\n",
        "Successful parse of payload: 2067"
       ]
      },
      {
       "output_type": "stream",
       "stream": "stdout",
       "text": [
        "\n",
        "Successful parse of payload: 3159\n",
        "Successful parse of payload: 3737\n",
        "Successful parse of payload: 855\n",
        "Successful parse of payload: 4274\n",
        "Successful parse of payload: 1148"
       ]
      },
      {
       "output_type": "stream",
       "stream": "stdout",
       "text": [
        "\n",
        "Successful parse of payload: 3217\n",
        "Successful parse of payload: 3367"
       ]
      },
      {
       "output_type": "stream",
       "stream": "stdout",
       "text": [
        "\n",
        "Successful parse of payload: 1136"
       ]
      },
      {
       "output_type": "stream",
       "stream": "stdout",
       "text": [
        "\n",
        "Successful parse of payload: 3077\n",
        "Successful parse of payload: 3947"
       ]
      },
      {
       "output_type": "stream",
       "stream": "stdout",
       "text": [
        "\n",
        "Successful parse of payload: 2053"
       ]
      },
      {
       "output_type": "stream",
       "stream": "stdout",
       "text": [
        "\n",
        "Successful parse of payload: 3232\n",
        "Successful parse of payload: 789\n",
        "Successful parse of payload: 3960\n",
        "Successful parse of payload: 2262"
       ]
      },
      {
       "output_type": "stream",
       "stream": "stdout",
       "text": [
        "\n",
        "Successful parse of payload: 2071"
       ]
      },
      {
       "output_type": "stream",
       "stream": "stdout",
       "text": [
        "\n",
        "Successful parse of payload: 1256\n",
        "Successful parse of payload: 3369\n",
        "Successful parse of payload: 2785"
       ]
      },
      {
       "output_type": "stream",
       "stream": "stdout",
       "text": [
        "\n",
        "Successful parse of payload: 3533"
       ]
      },
      {
       "output_type": "stream",
       "stream": "stdout",
       "text": [
        "\n",
        "Successful parse of payload: 3895\n",
        "Successful parse of payload: 1670\n",
        "Successful parse of payload: 635"
       ]
      },
      {
       "output_type": "stream",
       "stream": "stdout",
       "text": [
        "\n",
        "Successful parse of payload: 1301\n",
        "Successful parse of payload: 3539"
       ]
      },
      {
       "output_type": "stream",
       "stream": "stdout",
       "text": [
        "\n",
        "Successful parse of payload: 2999\n",
        "Successful parse of payload: 2915\n",
        "Successful parse of payload: 2713\n",
        "Successful parse of payload: 2912"
       ]
      },
      {
       "output_type": "stream",
       "stream": "stdout",
       "text": [
        "\n",
        "Successful parse of payload: 3700"
       ]
      },
      {
       "output_type": "stream",
       "stream": "stdout",
       "text": [
        "\n",
        "Successful parse of payload: 3240\n",
        "Successful parse of payload: 2608\n",
        "Successful parse of payload: 3032\n",
        "Successful parse of payload: 1952\n",
        "Successful parse of payload: 3521\n",
        "Successful parse of payload: 2568"
       ]
      },
      {
       "output_type": "stream",
       "stream": "stdout",
       "text": [
        "\n",
        "Successful parse of payload: 2897\n",
        "Successful parse of payload: 1686\n",
        "Successful parse of payload: 1927\n",
        "Successful parse of payload: 3179"
       ]
      },
      {
       "output_type": "stream",
       "stream": "stdout",
       "text": [
        "\n",
        "Successful parse of payload: 1087\n",
        "Successful parse of payload: 333\n",
        "Successful parse of payload: 2499\n",
        "Successful parse of payload: 3553\n",
        "Successful parse of payload: 1804\n",
        "Successful parse of payload: 1973\n",
        "Successful parse of payload: 2113\n",
        "Successful parse of payload: 2315\n",
        "Successful parse of payload: 3490\n",
        "Successful parse of payload: 4286\n",
        "Successful parse of payload: 1887"
       ]
      },
      {
       "output_type": "stream",
       "stream": "stdout",
       "text": [
        "\n",
        "Successful parse of payload: 2566\n",
        "Successful parse of payload: 1788\n",
        "Successful parse of payload: 842\n",
        "Successful parse of payload: 4237"
       ]
      },
      {
       "output_type": "stream",
       "stream": "stdout",
       "text": [
        "\n",
        "Successful parse of payload: 2901\n",
        "Successful parse of payload: 2783"
       ]
      },
      {
       "output_type": "stream",
       "stream": "stdout",
       "text": [
        "\n",
        "Successful parse of payload: 796\n",
        "Successful parse of payload: 809\n",
        "Successful parse of payload: 1241\n",
        "Successful parse of payload: 2951\n",
        "Successful parse of payload: 2953\n",
        "Successful parse of payload: 3790\n",
        "Successful parse of payload: 3888\n",
        "Successful parse of payload: 1855\n",
        "Successful parse of payload: 2623"
       ]
      },
      {
       "output_type": "stream",
       "stream": "stdout",
       "text": [
        "\n",
        "Successful parse of payload: 2644"
       ]
      },
      {
       "output_type": "stream",
       "stream": "stdout",
       "text": [
        "\n",
        "Successful parse of payload: 1251\n",
        "Successful parse of payload: 3804\n",
        "Successful parse of payload: 1772"
       ]
      },
      {
       "output_type": "stream",
       "stream": "stdout",
       "text": [
        "\n",
        "Successful parse of payload: 3996\n",
        "Successful parse of payload: 828\n",
        "Successful parse of payload: 4193"
       ]
      },
      {
       "output_type": "stream",
       "stream": "stdout",
       "text": [
        "\n",
        "Successful parse of payload: 3264\n",
        "Successful parse of payload: 837\n",
        "Successful parse of payload: 3562\n",
        "Successful parse of payload: 3915\n",
        "Successful parse of payload: 2140\n",
        "Successful parse of payload: 3387\n",
        "Successful parse of payload: 3668\n",
        "Successful parse of payload: 2098\n",
        "Successful parse of payload: 2397\n",
        "Successful parse of payload: 4142"
       ]
      },
      {
       "output_type": "stream",
       "stream": "stdout",
       "text": [
        "\n",
        "Successful parse of payload: 3785\n",
        "Successful parse of payload: 3788\n",
        "Successful parse of payload: 1728"
       ]
      },
      {
       "output_type": "stream",
       "stream": "stdout",
       "text": [
        "\n",
        "Successful parse of payload: 4066"
       ]
      },
      {
       "output_type": "stream",
       "stream": "stdout",
       "text": [
        "\n",
        "Successful parse of payload: 1978\n",
        "Successful parse of payload: 2163\n",
        "Successful parse of payload: 1735\n",
        "Successful parse of payload: 2681"
       ]
      },
      {
       "output_type": "stream",
       "stream": "stdout",
       "text": [
        "\n",
        "Successful parse of payload: 3488\n",
        "Successful parse of payload: 3189"
       ]
      },
      {
       "output_type": "stream",
       "stream": "stdout",
       "text": [
        "\n",
        "Successful parse of payload: 2549\n",
        "Successful parse of payload: 3806"
       ]
      },
      {
       "output_type": "stream",
       "stream": "stdout",
       "text": [
        "\n",
        "Successful parse of payload: 2134\n",
        "Successful parse of payload: 3270"
       ]
      },
      {
       "output_type": "stream",
       "stream": "stdout",
       "text": [
        "\n",
        "Successful parse of payload: 4336\n",
        "Successful parse of payload: 1217"
       ]
      },
      {
       "output_type": "stream",
       "stream": "stdout",
       "text": [
        "\n",
        "Successful parse of payload: 237\n",
        "Successful parse of payload: 252\n",
        "Successful parse of payload: 2293\n",
        "Successful parse of payload: 2444\n",
        "Successful parse of payload: 3303\n",
        "Successful parse of payload: 3166\n",
        "Successful parse of payload: 1719\n",
        "Successful parse of payload: 3540\n",
        "Successful parse of payload: 2633\n",
        "Successful parse of payload: 4133\n",
        "Successful parse of payload: 2900\n",
        "Successful parse of payload: 3487\n",
        "Successful parse of payload: 3236\n",
        "Successful parse of payload: 4355"
       ]
      },
      {
       "output_type": "stream",
       "stream": "stdout",
       "text": [
        "\n",
        "Successful parse of payload: 2001\n",
        "Successful parse of payload: 2663\n",
        "Successful parse of payload: 1100"
       ]
      },
      {
       "output_type": "stream",
       "stream": "stdout",
       "text": [
        "\n",
        "Successful parse of payload: 1811\n",
        "Successful parse of payload: 1969\n",
        "Successful parse of payload: 2188\n",
        "Successful parse of payload: 1934"
       ]
      },
      {
       "output_type": "stream",
       "stream": "stdout",
       "text": [
        "\n",
        "Successful parse of payload: 3324\n",
        "Successful parse of payload: 2034\n",
        "Successful parse of payload: 878\n",
        "Successful parse of payload: 2602\n",
        "Successful parse of payload: 3111\n",
        "Successful parse of payload: 776"
       ]
      },
      {
       "output_type": "stream",
       "stream": "stdout",
       "text": [
        "\n",
        "Successful parse of payload: 4205"
       ]
      },
      {
       "output_type": "stream",
       "stream": "stdout",
       "text": [
        "\n",
        "Successful parse of payload: 1790\n",
        "Successful parse of payload: 3648"
       ]
      },
      {
       "output_type": "stream",
       "stream": "stdout",
       "text": [
        "\n",
        "Successful parse of payload: 4114\n",
        "Successful parse of payload: 1960\n",
        "Successful parse of payload: 3259\n",
        "Successful parse of payload: 3524\n",
        "Successful parse of payload: 2369"
       ]
      },
      {
       "output_type": "stream",
       "stream": "stdout",
       "text": [
        "\n",
        "Successful parse of payload: 1857"
       ]
      },
      {
       "output_type": "stream",
       "stream": "stdout",
       "text": [
        "\n",
        "Successful parse of payload: 2766\n",
        "Successful parse of payload: 3145\n",
        "Successful parse of payload: 3213\n",
        "Successful parse of payload: 1119"
       ]
      },
      {
       "output_type": "stream",
       "stream": "stdout",
       "text": [
        "\n",
        "Successful parse of payload: 3928\n",
        "Successful parse of payload: 908"
       ]
      },
      {
       "output_type": "stream",
       "stream": "stdout",
       "text": [
        "\n",
        "Successful parse of payload: 2896\n",
        "Successful parse of payload: 2731\n",
        "Successful parse of payload: 3177\n",
        "Successful parse of payload: 2902\n",
        "Successful parse of payload: 2879\n",
        "Successful parse of payload: 3566"
       ]
      },
      {
       "output_type": "stream",
       "stream": "stdout",
       "text": [
        "\n",
        "Successful parse of payload: 3035"
       ]
      },
      {
       "output_type": "stream",
       "stream": "stdout",
       "text": [
        "\n",
        "Successful parse of payload: 1817\n",
        "Successful parse of payload: 3712"
       ]
      },
      {
       "output_type": "stream",
       "stream": "stdout",
       "text": [
        "\n",
        "Successful parse of payload: 246\n",
        "Successful parse of payload: 315\n",
        "Successful parse of payload: 2023\n",
        "Successful parse of payload: 2680\n",
        "Successful parse of payload: 3615\n",
        "Successful parse of payload: 1880\n",
        "Successful parse of payload: 3678\n",
        "Successful parse of payload: 2174"
       ]
      },
      {
       "output_type": "stream",
       "stream": "stdout",
       "text": [
        "\n",
        "Successful parse of payload: 3825\n",
        "Successful parse of payload: 4312"
       ]
      },
      {
       "output_type": "stream",
       "stream": "stdout",
       "text": [
        "\n",
        "Successful parse of payload: 2443\n",
        "Successful parse of payload: 3165"
       ]
      },
      {
       "output_type": "stream",
       "stream": "stdout",
       "text": [
        "\n",
        "Successful parse of payload: 1600"
       ]
      },
      {
       "output_type": "stream",
       "stream": "stdout",
       "text": [
        "\n",
        "Successful parse of payload: 2170\n",
        "Successful parse of payload: 2310"
       ]
      },
      {
       "output_type": "stream",
       "stream": "stdout",
       "text": [
        "\n",
        "Successful parse of payload: 2763"
       ]
      },
      {
       "output_type": "stream",
       "stream": "stdout",
       "text": [
        "\n",
        "Successful parse of payload: 791"
       ]
      },
      {
       "output_type": "stream",
       "stream": "stdout",
       "text": [
        "\n",
        "Successful parse of payload: 4235"
       ]
      },
      {
       "output_type": "stream",
       "stream": "stdout",
       "text": [
        "\n",
        "Successful parse of payload: 1946\n",
        "Successful parse of payload: 2871"
       ]
      },
      {
       "output_type": "stream",
       "stream": "stdout",
       "text": [
        "\n",
        "Successful parse of payload: 1850\n",
        "Successful parse of payload: 1607\n",
        "Successful parse of payload: 1588\n",
        "Successful parse of payload: 2108\n",
        "Successful parse of payload: 2407\n",
        "Successful parse of payload: 3572"
       ]
      },
      {
       "output_type": "stream",
       "stream": "stdout",
       "text": [
        "\n",
        "Successful parse of payload: 3499\n",
        "Successful parse of payload: 3033\n",
        "Successful parse of payload: 2798"
       ]
      },
      {
       "output_type": "stream",
       "stream": "stdout",
       "text": [
        "\n",
        "Successful parse of payload: 2007"
       ]
      },
      {
       "output_type": "stream",
       "stream": "stdout",
       "text": [
        "\n",
        "Successful parse of payload: 1859\n",
        "Successful parse of payload: 2314\n",
        "Successful parse of payload: 2479\n",
        "Successful parse of payload: 2344"
       ]
      },
      {
       "output_type": "stream",
       "stream": "stdout",
       "text": [
        "\n",
        "Successful parse of payload: 4397\n",
        "Successful parse of payload: 3317\n",
        "Successful parse of payload: 3277"
       ]
      },
      {
       "output_type": "stream",
       "stream": "stdout",
       "text": [
        "\n",
        "Successful parse of payload: 1180\n",
        "Successful parse of payload: 3038\n",
        "Successful parse of payload: 2329\n",
        "Successful parse of payload: 3525"
       ]
      },
      {
       "output_type": "stream",
       "stream": "stdout",
       "text": [
        "\n",
        "Successful parse of payload: 2122\n",
        "Successful parse of payload: 3590\n",
        "Successful parse of payload: 3139"
       ]
      },
      {
       "output_type": "stream",
       "stream": "stdout",
       "text": [
        "\n",
        "Successful parse of payload: 3307"
       ]
      },
      {
       "output_type": "stream",
       "stream": "stdout",
       "text": [
        "\n",
        "Successful parse of payload: 2838"
       ]
      },
      {
       "output_type": "stream",
       "stream": "stdout",
       "text": [
        "\n",
        "Successful parse of payload: 1085"
       ]
      },
      {
       "output_type": "stream",
       "stream": "stdout",
       "text": [
        "\n",
        "Successful parse of payload: 925"
       ]
      },
      {
       "output_type": "stream",
       "stream": "stdout",
       "text": [
        "\n",
        "Successful parse of payload: 636\n",
        "Successful parse of payload: 3558\n",
        "Successful parse of payload: 3494"
       ]
      },
      {
       "output_type": "stream",
       "stream": "stdout",
       "text": [
        "\n",
        "Successful parse of payload: 1164\n",
        "Successful parse of payload: 4279\n",
        "Successful parse of payload: 3416"
       ]
      },
      {
       "output_type": "stream",
       "stream": "stdout",
       "text": [
        "\n",
        "Successful parse of payload: 3437\n",
        "Successful parse of payload: 854\n",
        "Successful parse of payload: 3014\n",
        "Successful parse of payload: 3120"
       ]
      },
      {
       "output_type": "stream",
       "stream": "stdout",
       "text": [
        "\n",
        "Successful parse of payload: 3258\n",
        "Successful parse of payload: 3025"
       ]
      },
      {
       "output_type": "stream",
       "stream": "stdout",
       "text": [
        "\n",
        "Successful parse of payload: 272\n",
        "Successful parse of payload: 2358\n",
        "Successful parse of payload: 2352\n",
        "Successful parse of payload: 2269\n",
        "Successful parse of payload: 994"
       ]
      },
      {
       "output_type": "stream",
       "stream": "stdout",
       "text": [
        "\n",
        "Successful parse of payload: 3136\n",
        "Successful parse of payload: 2676\n",
        "Successful parse of payload: 2408\n",
        "Successful parse of payload: 4061"
       ]
      },
      {
       "output_type": "stream",
       "stream": "stdout",
       "text": [
        "\n",
        "Successful parse of payload: 2490\n",
        "Successful parse of payload: 3537\n",
        "Successful parse of payload: 2455\n",
        "Successful parse of payload: 2319"
       ]
      },
      {
       "output_type": "stream",
       "stream": "stdout",
       "text": [
        "\n",
        "Successful parse of payload: 2467"
       ]
      },
      {
       "output_type": "stream",
       "stream": "stdout",
       "text": [
        "\n",
        "Successful parse of payload: 1618\n",
        "Successful parse of payload: 4187\n",
        "Successful parse of payload: 3023\n",
        "Successful parse of payload: 4369"
       ]
      },
      {
       "output_type": "stream",
       "stream": "stdout",
       "text": [
        "\n",
        "Successful parse of payload: 3335\n",
        "Successful parse of payload: 1131\n",
        "Successful parse of payload: 3229\n",
        "Successful parse of payload: 2860"
       ]
      },
      {
       "output_type": "stream",
       "stream": "stdout",
       "text": [
        "\n",
        "Successful parse of payload: 1759"
       ]
      },
      {
       "output_type": "stream",
       "stream": "stdout",
       "text": [
        "\n",
        "Successful parse of payload: 303\n",
        "Successful parse of payload: 3292\n",
        "Successful parse of payload: 2048"
       ]
      },
      {
       "output_type": "stream",
       "stream": "stdout",
       "text": [
        "\n",
        "Successful parse of payload: 1856\n",
        "Successful parse of payload: 2774\n",
        "Successful parse of payload: 1851\n",
        "Successful parse of payload: 3128"
       ]
      },
      {
       "output_type": "stream",
       "stream": "stdout",
       "text": [
        "\n",
        "Successful parse of payload: 4139\n",
        "Successful parse of payload: 2520\n",
        "Successful parse of payload: 3355\n",
        "Successful parse of payload: 3201"
       ]
      },
      {
       "output_type": "stream",
       "stream": "stdout",
       "text": [
        "\n",
        "Successful parse of payload: 3673"
       ]
      },
      {
       "output_type": "stream",
       "stream": "stdout",
       "text": [
        "\n",
        "Successful parse of payload: 3923\n",
        "Successful parse of payload: 2898\n",
        "Successful parse of payload: 798\n",
        "Successful parse of payload: 3632\n",
        "Successful parse of payload: 3964\n",
        "Successful parse of payload: 4180"
       ]
      },
      {
       "output_type": "stream",
       "stream": "stdout",
       "text": [
        "\n",
        "Successful parse of payload: 4015\n",
        "Successful parse of payload: 1187\n",
        "Successful parse of payload: 2506"
       ]
      },
      {
       "output_type": "stream",
       "stream": "stdout",
       "text": [
        "\n",
        "Successful parse of payload: 3981\n",
        "Successful parse of payload: 3617\n",
        "Successful parse of payload: 4097\n",
        "Successful parse of payload: 2612\n",
        "Successful parse of payload: 2682\n",
        "Successful parse of payload: 1928\n",
        "Successful parse of payload: 1785\n",
        "Successful parse of payload: 1210"
       ]
      },
      {
       "output_type": "stream",
       "stream": "stdout",
       "text": [
        "\n",
        "Successful parse of payload: 4271\n",
        "Successful parse of payload: 3643"
       ]
      },
      {
       "output_type": "stream",
       "stream": "stdout",
       "text": [
        "\n",
        "Successful parse of payload: 4301\n",
        "Successful parse of payload: 1748\n"
       ]
      }
     ],
     "prompt_number": 171
    },
    {
     "cell_type": "code",
     "collapsed": false,
     "input": [
      "f   = open(\"/home/stevejb/Dropbox/purple-robot-db-query/993__try_1.json\")\n",
      "txt = f.read()\n",
      "js = json.loads(txt)"
     ],
     "language": "python",
     "metadata": {},
     "outputs": [],
     "prompt_number": 168
    },
    {
     "cell_type": "code",
     "collapsed": false,
     "input": [
      "success_parse.keys()"
     ],
     "language": "python",
     "metadata": {},
     "outputs": [
      {
       "metadata": {},
       "output_type": "pyout",
       "prompt_number": 170,
       "text": [
        "dict_keys([])"
       ]
      }
     ],
     "prompt_number": 170
    },
    {
     "cell_type": "code",
     "collapsed": false,
     "input": [
      "js"
     ],
     "language": "python",
     "metadata": {},
     "outputs": [
      {
       "metadata": {},
       "output_type": "pyout",
       "prompt_number": 169,
       "text": [
        "{'Payload': [{'CALL_STATE': 'Idle',\n",
        "   'TIMESTAMP': 1437787525,\n",
        "   'PROBE': 'edu.northwestern.cbits.purple_robot_manager.probes.builtin.CallStateProbe',\n",
        "   'GUID': 'c66ea649-9c4f-4ca5-bb66-72b08df46966'},\n",
        "  {'SCREEN_ACTIVE': True,\n",
        "   'TIMESTAMP': 1437787531,\n",
        "   'PROBE': 'edu.northwestern.cbits.purple_robot_manager.probes.builtin.ScreenProbe',\n",
        "   'GUID': 'b56db080-fcca-49a6-9122-d8519dbde6d8'},\n",
        "  {'PROBE': 'edu.northwestern.cbits.purple_robot_manager.probes.features.DeviceInUseFeature',\n",
        "   'TIMESTAMP': 1437787531,\n",
        "   'DEVICE_ACTIVE': True,\n",
        "   'GUID': '10d5fe44-4c5e-470b-af7a-6a648747432a'},\n",
        "  {'CURRENT_SSID': 'sampsonNetWork',\n",
        "   'CURRENT_LINK_SPEED': 39,\n",
        "   '20': '4e',\n",
        "   'GUID': 'bd10f08b-1092-4bd6-92e5-25392581a983',\n",
        "   'ACCESS_POINT_COUNT': 1,\n",
        "   'TIMESTAMP': 1437787535,\n",
        "   'PROBE': 'edu.northwestern.cbits.purple_robot_manager.probes.builtin.WifiAccessPointsProbe',\n",
        "   'CURRENT_RSSI': -74,\n",
        "   'ACCESS_POINTS': [{'CAPABILITIES': '[WPA2-PSK-CCMP][WPS][ESS]',\n",
        "     'LEVEL': -75,\n",
        "     '20': '4e',\n",
        "     'FREQUENCY': 2417,\n",
        "     'SSID': 'sampsonNetWork'}]},\n",
        "  {'SCREEN_ACTIVE': False,\n",
        "   'TIMESTAMP': 1437787541,\n",
        "   'PROBE': 'edu.northwestern.cbits.purple_robot_manager.probes.builtin.ScreenProbe',\n",
        "   'GUID': 'd9309b98-7507-423e-b7ef-ed2dd9db3794'},\n",
        "  {'PROBE': 'edu.northwestern.cbits.purple_robot_manager.probes.features.DeviceInUseFeature',\n",
        "   'TIMESTAMP': 1437787541,\n",
        "   'DEVICE_ACTIVE': False,\n",
        "   'GUID': 'aef57f85-9ee6-48c4-bf58-c8b0869b6d4a'},\n",
        "  {'SCREEN_ACTIVE': True,\n",
        "   'TIMESTAMP': 1437787546,\n",
        "   'PROBE': 'edu.northwestern.cbits.purple_robot_manager.probes.builtin.ScreenProbe',\n",
        "   'GUID': '114a9bfb-0286-4a68-bdf6-06685d02ab8b'},\n",
        "  {'PROBE': 'edu.northwestern.cbits.purple_robot_manager.probes.features.DeviceInUseFeature',\n",
        "   'TIMESTAMP': 1437787546,\n",
        "   'DEVICE_ACTIVE': True,\n",
        "   'GUID': '394f9c0b-9a34-46d5-8722-70a814db5ba4'},\n",
        "  {'CURRENT_SSID': 'sampsonNetWork',\n",
        "   'CURRENT_LINK_SPEED': 39,\n",
        "   '20': '4e',\n",
        "   'GUID': '08f76a51-109d-4a51-a7fc-0d3e69a13fa9',\n",
        "   'ACCESS_POINT_COUNT': 1,\n",
        "   'TIMESTAMP': 1437787549,\n",
        "   'PROBE': 'edu.northwestern.cbits.purple_robot_manager.probes.builtin.WifiAccessPointsProbe',\n",
        "   'CURRENT_RSSI': -75,\n",
        "   'ACCESS_POINTS': [{'CAPABILITIES': '[WPA2-PSK-CCMP][WPS][ESS]',\n",
        "     'LEVEL': -74,\n",
        "     '20': '4e',\n",
        "     'FREQUENCY': 2417,\n",
        "     'SSID': 'sampsonNetWork'}]},\n",
        "  {'SCREEN_ACTIVE': False,\n",
        "   'TIMESTAMP': 1437787556,\n",
        "   'PROBE': 'edu.northwestern.cbits.purple_robot_manager.probes.builtin.ScreenProbe',\n",
        "   'GUID': 'faf0ac68-04f0-41de-9de4-f20263f0732e'},\n",
        "  {'PROBE': 'edu.northwestern.cbits.purple_robot_manager.probes.features.DeviceInUseFeature',\n",
        "   'TIMESTAMP': 1437787556,\n",
        "   'DEVICE_ACTIVE': False,\n",
        "   'GUID': 'b647980a-ba66-4cb4-a0ea-9920d28ee4cb'},\n",
        "  {'CURRENT_SSID': 'sampsonNetWork',\n",
        "   'CURRENT_LINK_SPEED': 39,\n",
        "   '20': '4e',\n",
        "   'GUID': '1e9f553f-e0df-40ca-9b84-d0d528d296ef',\n",
        "   'ACCESS_POINT_COUNT': 2,\n",
        "   'TIMESTAMP': 1437787587,\n",
        "   'PROBE': 'edu.northwestern.cbits.purple_robot_manager.probes.builtin.WifiAccessPointsProbe',\n",
        "   'CURRENT_RSSI': -76,\n",
        "   'ACCESS_POINTS': [{'CAPABILITIES': '[WPA2-PSK-CCMP][WPS][ESS]',\n",
        "     'LEVEL': -69,\n",
        "     '20': '4e',\n",
        "     'FREQUENCY': 2417,\n",
        "     'SSID': 'sampsonNetWork'},\n",
        "    {'CAPABILITIES': '[WEP][ESS]',\n",
        "     'LEVEL': -88,\n",
        "     'FREQUENCY': 2437,\n",
        "     '00': '1f',\n",
        "     'SSID': 'PDJ06'}]},\n",
        "  {'CALL_STATE': 'Idle',\n",
        "   'TIMESTAMP': 1437787587,\n",
        "   'PROBE': 'edu.northwestern.cbits.purple_robot_manager.probes.builtin.CallStateProbe',\n",
        "   'GUID': '5941f306-13ef-459c-b9b5-916d7de920bb'}],\n",
        " 'UserHash': '5b4e6ea2f5f61e445bf9e42d9a9ef022',\n",
        " 'Operation': 'SubmitProbes',\n",
        " 'ContentLength': 3249,\n",
        " 'Checksum': '960ca6936a1372dc0383b0b19d6168c0'}"
       ]
      }
     ],
     "prompt_number": 169
    }
   ],
   "metadata": {}
  }
 ]
}