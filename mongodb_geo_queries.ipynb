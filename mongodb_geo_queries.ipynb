{
 "metadata": {
  "name": "",
  "signature": "sha256:64138502c0132a01701d47df178c64a548a7bd7a2670fc16423509829538e845"
 },
 "nbformat": 3,
 "nbformat_minor": 0,
 "worksheets": [
  {
   "cells": [
    {
     "cell_type": "code",
     "collapsed": false,
     "input": [
      "import geojson\n",
      "from geojson import Point\n",
      "from geojson import MultiPoint\n",
      "import pymongo\n",
      "from pymongo import MongoClient\n",
      "import pytz\n",
      "\n",
      "## Import private settings (this does not get checked into git)\n",
      "import sjbsettings\n",
      "\n",
      "## Useful static global variables \n",
      "## TODO move DBNAME to sjbsettings\n",
      "DBNAME      = 'demomodel'\n",
      "COLLECTION  = 'purple_robot_data'\n",
      "\n",
      "## Connect to the Mongo table\n",
      "client      = MongoClient(host=sjbsettings.sjb['MHOST'])\n",
      "db          = client[DBNAME]\n",
      "cur_col     = db[COLLECTION]"
     ],
     "language": "python",
     "metadata": {},
     "outputs": [],
     "prompt_number": 55
    },
    {
     "cell_type": "code",
     "collapsed": false,
     "input": [
      "def get_distinct_users():\n",
      "    \"\"\"Get distinct users, as determined by the UserHash keyword.\n",
      "    Returned as a list\n",
      "    \"\"\"\n",
      "    return(cur_col.find({}).distinct(\"UserHash\")) "
     ],
     "language": "python",
     "metadata": {},
     "outputs": [],
     "prompt_number": 5
    },
    {
     "cell_type": "code",
     "collapsed": false,
     "input": [
      "def get_distinct_geopoints_for_user(user_hash):\n",
      "    \"\"\"\n",
      "    For a given user, get an iterable list of geo_points .\n",
      "    \"\"\"\n",
      "    geoquery = { \"UserHash\" : user_hash }\n",
      "    pts = cur_col.find(geoquery).distinct(\"geo_point\")\n",
      "    return(pts)"
     ],
     "language": "python",
     "metadata": {},
     "outputs": [],
     "prompt_number": 6
    },
    {
     "cell_type": "code",
     "collapsed": false,
     "input": [
      "def get_sorted_geopoints_for_user(user_hash,\n",
      "                                  ascending = True,\n",
      "                                  date_min  = None,\n",
      "                                  date_max  = None\n",
      "                                  )"
     ],
     "language": "python",
     "metadata": {},
     "outputs": [
      {
       "ename": "SyntaxError",
       "evalue": "invalid syntax (<ipython-input-7-9c8e997b37ec>, line 5)",
       "output_type": "pyerr",
       "traceback": [
        "\u001b[0;36m  File \u001b[0;32m\"<ipython-input-7-9c8e997b37ec>\"\u001b[0;36m, line \u001b[0;32m5\u001b[0m\n\u001b[0;31m    )\u001b[0m\n\u001b[0m     ^\u001b[0m\n\u001b[0;31mSyntaxError\u001b[0m\u001b[0;31m:\u001b[0m invalid syntax\n"
       ]
      }
     ],
     "prompt_number": 7
    },
    {
     "cell_type": "code",
     "collapsed": false,
     "input": [
      "def make_multipoint(geopoints_list):\n",
      "    tup_list = list()\n",
      "    for pt in geopoints_list:\n",
      "        tup_list.append((pt['coordinates'][0], pt['coordinates'][1]))\n",
      "    return(MultiPoint(tup_list))"
     ],
     "language": "python",
     "metadata": {},
     "outputs": [],
     "prompt_number": 8
    },
    {
     "cell_type": "code",
     "collapsed": false,
     "input": [
      "from bson.son import SON"
     ],
     "language": "python",
     "metadata": {},
     "outputs": [],
     "prompt_number": 9
    },
    {
     "cell_type": "code",
     "collapsed": false,
     "input": [
      "max_min_date_pipeline = [\n",
      "    {\n",
      "        \"$group\" :     { \"_id\" : \"$UserHash\", \n",
      "                         \"max_date\" : {\"$max\" : \"$dt2\"}, \n",
      "                         \"min_date\" : {\"$min\" : \"$dt2\"} }\n",
      "    }\n",
      "]"
     ],
     "language": "python",
     "metadata": {},
     "outputs": []
    },
    {
     "cell_type": "code",
     "collapsed": false,
     "input": [
      "def get_date_range_all_users():    \n",
      "    z = cur_col.aggregate(pipeline)\n",
      "    res = list()\n",
      "    for zi in z:\n",
      "        res.append(zi)\n",
      "    return(res)"
     ],
     "language": "python",
     "metadata": {},
     "outputs": [
      {
       "metadata": {},
       "output_type": "pyout",
       "prompt_number": 19,
       "text": [
        "[{'max_date': datetime.datetime(2015, 7, 25, 8, 0, 21),\n",
        "  'min_date': datetime.datetime(2015, 7, 24, 19, 17, 19),\n",
        "  '_id': '22add7e0ca57c9d950fb0107cd9b7cc0'},\n",
        " {'max_date': datetime.datetime(2015, 8, 1, 20, 26, 11),\n",
        "  'min_date': datetime.datetime(2015, 7, 24, 20, 5, 50),\n",
        "  '_id': '5b4e6ea2f5f61e445bf9e42d9a9ef022'}]"
       ]
      }
     ],
     "prompt_number": 19
    },
    {
     "cell_type": "code",
     "collapsed": false,
     "input": [
      "type(pipeline)"
     ],
     "language": "python",
     "metadata": {},
     "outputs": [
      {
       "metadata": {},
       "output_type": "pyout",
       "prompt_number": 20,
       "text": [
        "list"
       ]
      }
     ],
     "prompt_number": 20
    },
    {
     "cell_type": "code",
     "collapsed": false,
     "input": [
      "def get_date_range_user(user_hash):\n",
      "    pipeline_user = pipeline.copy()\n",
      "    umatch = { \"$match\" : { \"UserHash\" : user_hash}}\n",
      "    pipeline_user.insert(0, umatch)\n",
      "    z = cur_col.aggregate(pipeline_user)\n",
      "    res = list()\n",
      "    for zi in z:\n",
      "        res.append(zi)\n",
      "    return(res[0])\n",
      "    "
     ],
     "language": "python",
     "metadata": {},
     "outputs": [],
     "prompt_number": 24
    },
    {
     "cell_type": "code",
     "collapsed": false,
     "input": [
      "def make_days_range(dmin, dmax):\n",
      "    \"\"\"\n",
      "    Given a date range where dmin <= dmax, create an array\n",
      "    of days in ascending order from dmin to dmax.\n",
      "    \n",
      "    dmin and dmax are expected to be datetime objects.\n",
      "    Will make this more flexible when possible.\n",
      "    \"\"\"\n",
      "    date_list = list()\n",
      "    td = datetime.timedelta(days=1)\n",
      "    dmin_date = dmin.date()\n",
      "    dmax_date = dmax.date()\n",
      "    \n",
      "    days_diff = dmax_date - dmin_date\n",
      "    cur_date = dmin_date\n",
      "    while cur_date < dmax_date:\n",
      "        date_list.append(cur_date)\n",
      "        cur_date = cur_date + td\n",
      "    date_list.append(dmax_date)\n",
      "    return(date_list)\n",
      "    "
     ],
     "language": "python",
     "metadata": {},
     "outputs": [],
     "prompt_number": 38
    },
    {
     "cell_type": "code",
     "collapsed": false,
     "input": [
      "def distinct_days_per_user(user_hash):\n",
      "    \"\"\"For a user_hash, return a list in ascending order of the unique days\"\"\"\n",
      "    date_max_min = get_date_range_user(user_hash)\n",
      "    return(make_days_range(date_max_min['min_date'], date_max_min['max_date']))"
     ],
     "language": "python",
     "metadata": {},
     "outputs": [],
     "prompt_number": 45
    },
    {
     "cell_type": "code",
     "collapsed": false,
     "input": [
      "def make_datetime_from_date(d0):\n",
      "    \"\"\"Given a date_input in date datetime.date\n",
      "    return a datetime object with HHMMSS = 0,\n",
      "    TZ = utc\n",
      "    \"\"\"\n",
      "    return(datetime.datetime(d0.year, d0.month, d0.day, tzinfo = pytz.utc))"
     ],
     "language": "python",
     "metadata": {},
     "outputs": [],
     "prompt_number": 58
    },
    {
     "cell_type": "code",
     "collapsed": false,
     "input": [
      "def get_path_per_day(user_hash, day):\n",
      "    \"\"\"For a given user_hash and day (datetime.date), get their data in \n",
      "    ascending order\"\"\"\n",
      "    dt_min = make_datetime_from_date(day)\n",
      "    dt_max = dt_min + datetime.timedelta(days = 1)\n",
      "    match_query = { \"UserHash\" : user_hash,\n",
      "                    \"dt2\": { \n",
      "                        \"$gte\": dt_min,\n",
      "                        \"$lt\" : dt_max\n",
      "                     }\n",
      "                   }\n",
      "    res = list()\n",
      "    for ci in cur_col.find(match_query).sort(\"dt2\"):\n",
      "        res.append(ci)\n",
      "    return(res)"
     ],
     "language": "python",
     "metadata": {},
     "outputs": [],
     "prompt_number": 69
    },
    {
     "cell_type": "code",
     "collapsed": false,
     "input": [
      "def make_geojson_multipoint(user_hash, day, fname):\n",
      "    ud_path = get_path_per_day(user_hash, day)\n",
      "    geo_pts = [x['geo_point'] for x in ud_path]\n",
      "    geo_multipoint = make_multipoint(geo_pts)\n",
      "    dump = geojson.dumps(geo_multipoint)\n",
      "    fh = open(fname, 'w')\n",
      "    fh.write(dump)\n",
      "    fh.close()"
     ],
     "language": "python",
     "metadata": {},
     "outputs": [],
     "prompt_number": 84
    },
    {
     "cell_type": "code",
     "collapsed": false,
     "input": [
      "def cluster_places_per_user(user_hash)"
     ],
     "language": "python",
     "metadata": {},
     "outputs": []
    },
    {
     "cell_type": "markdown",
     "metadata": {},
     "source": [
      "## Sample code to try out the code above"
     ]
    },
    {
     "cell_type": "code",
     "collapsed": false,
     "input": [
      "users  = get_distinct_users()\n",
      "user_i = users[0] \n",
      "days   = distinct_days_per_user(user_i)\n",
      "for day_i in days:\n",
      "    fname = user_i + \"___day_\" + str(day_i) + \".geojson\"\n",
      "    make_geojson_multipoint(user_i, day_i, fname)"
     ],
     "language": "python",
     "metadata": {},
     "outputs": [],
     "prompt_number": 85
    },
    {
     "cell_type": "code",
     "collapsed": false,
     "input": [
      "import folium"
     ],
     "language": "python",
     "metadata": {},
     "outputs": [],
     "prompt_number": 86
    },
    {
     "cell_type": "code",
     "collapsed": false,
     "input": [
      "d0 = days[0]\n",
      "map = folium.Map(location=[ 47.66088844, -122.3326527])\n",
      "map.geo_json(geo_path = '5b4e6ea2f5f61e445bf9e42d9a9ef022___day_2015-07-27.geojson')\n",
      "map.create_map(path='testmap.html')"
     ],
     "language": "python",
     "metadata": {},
     "outputs": [],
     "prompt_number": 88
    },
    {
     "cell_type": "code",
     "collapsed": false,
     "input": [
      "date_max_min = get_date_range_user(users[0])"
     ],
     "language": "python",
     "metadata": {},
     "outputs": [],
     "prompt_number": 26
    },
    {
     "cell_type": "code",
     "collapsed": false,
     "input": [
      "get_geopoints_for_user(users[0])"
     ],
     "language": "python",
     "metadata": {},
     "outputs": []
    },
    {
     "cell_type": "code",
     "collapsed": false,
     "input": [
      "ptslist = get_geopoints_for_user(users[0])\n",
      "ptslist[0:10]"
     ],
     "language": "python",
     "metadata": {},
     "outputs": []
    },
    {
     "cell_type": "code",
     "collapsed": false,
     "input": [
      "make_multipoint(ptslist[1000:1100])"
     ],
     "language": "python",
     "metadata": {},
     "outputs": []
    },
    {
     "cell_type": "code",
     "collapsed": false,
     "input": [
      "import datetime"
     ],
     "language": "python",
     "metadata": {},
     "outputs": [],
     "prompt_number": 30
    },
    {
     "cell_type": "code",
     "collapsed": false,
     "input": [
      "date_max_min['max_date']\n",
      "td = datetime.timedelta(days=1)\n",
      "date_max_min['max_date'] + td"
     ],
     "language": "python",
     "metadata": {},
     "outputs": [
      {
       "metadata": {},
       "output_type": "pyout",
       "prompt_number": 33,
       "text": [
        "datetime.datetime(2015, 8, 2, 20, 26, 11)"
       ]
      }
     ],
     "prompt_number": 33
    },
    {
     "cell_type": "code",
     "collapsed": false,
     "input": [
      "users"
     ],
     "language": "python",
     "metadata": {},
     "outputs": [
      {
       "metadata": {},
       "output_type": "pyout",
       "prompt_number": 48,
       "text": [
        "['5b4e6ea2f5f61e445bf9e42d9a9ef022', '22add7e0ca57c9d950fb0107cd9b7cc0']"
       ]
      }
     ],
     "prompt_number": 48
    },
    {
     "cell_type": "code",
     "collapsed": false,
     "input": [
      "dmax_date = date_max_min['max_date'].date()\n",
      "dmin_date = date_max_min['min_date'].date()\n",
      "\n",
      "d0 = make_days_range(date_max_min['min_date'], date_max_min['max_date'])[0]"
     ],
     "language": "python",
     "metadata": {},
     "outputs": [],
     "prompt_number": 49
    },
    {
     "cell_type": "code",
     "collapsed": false,
     "input": [
      "#d0.year\n",
      "datetime.datetime(d0.year, d0.month, d0.day, tzinfo = pytz.utc)"
     ],
     "language": "python",
     "metadata": {},
     "outputs": [
      {
       "metadata": {},
       "output_type": "pyout",
       "prompt_number": 57,
       "text": [
        "datetime.datetime(2015, 7, 24, 0, 0, tzinfo=<UTC>)"
       ]
      }
     ],
     "prompt_number": 57
    },
    {
     "cell_type": "code",
     "collapsed": false,
     "input": [
      "make_datetime_from_date(d0)"
     ],
     "language": "python",
     "metadata": {},
     "outputs": [
      {
       "metadata": {},
       "output_type": "pyout",
       "prompt_number": 61,
       "text": [
        "datetime.datetime(2015, 7, 24, 0, 0, tzinfo=<UTC>)"
       ]
      }
     ],
     "prompt_number": 61
    }
   ],
   "metadata": {}
  }
 ]
}