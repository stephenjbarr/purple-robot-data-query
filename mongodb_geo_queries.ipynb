{
 "metadata": {
  "name": "",
  "signature": "sha256:d33821ea438c0a4375d58788ab52b15778573471275bbd5f1de91baf908a4a6c"
 },
 "nbformat": 3,
 "nbformat_minor": 0,
 "worksheets": [
  {
   "cells": [
    {
     "cell_type": "code",
     "collapsed": false,
     "input": [
      "import pymongo\n",
      "from pymongo import MongoClient\n",
      "\n",
      "## Import private settings (this does not get checked into git)\n",
      "import sjbsettings\n",
      "## Useful static global variables # TODO move DBNAME to sjbsettings\n",
      "DBNAME      = 'demomodel'\n",
      "COLLECTION  = 'purple_robot_data'\n",
      "\n",
      "client = MongoClient(host=sjbsettings.sjb['MHOST'])\n",
      "db     = client[DBNAME]\n",
      "\n",
      "\n",
      "cur_col = db[COLLECTION]"
     ],
     "language": "python",
     "metadata": {},
     "outputs": []
    },
    {
     "cell_type": "code",
     "collapsed": false,
     "input": [
      "import geojson\n",
      "from geojson import Point\n",
      "from geojson import MultiPoint"
     ],
     "language": "python",
     "metadata": {},
     "outputs": []
    },
    {
     "cell_type": "code",
     "collapsed": false,
     "input": [
      "### query data\n",
      "def get_distinct_users():\n",
      "    return(cur_col.find({}).distinct(\"UserHash\")) "
     ],
     "language": "python",
     "metadata": {},
     "outputs": []
    },
    {
     "cell_type": "code",
     "collapsed": false,
     "input": [
      "### for a given user, get a collection of points\n",
      "def get_geopoints_for_user(user_hash):\n",
      "    geoquery = { \"UserHash\" : user_hash }\n",
      "    pts = cur_col.find(geoquery).distinct(\"geo_point\")\n",
      "    return(pts)"
     ],
     "language": "python",
     "metadata": {},
     "outputs": []
    },
    {
     "cell_type": "code",
     "collapsed": false,
     "input": [
      "users = get_distinct_users()"
     ],
     "language": "python",
     "metadata": {},
     "outputs": []
    },
    {
     "cell_type": "code",
     "collapsed": false,
     "input": [
      "get_geopoints_for_user(users[0])"
     ],
     "language": "python",
     "metadata": {},
     "outputs": []
    },
    {
     "cell_type": "code",
     "collapsed": false,
     "input": [
      "def make_multipoint(geopoints_list):\n",
      "    tup_list = list()\n",
      "    for pt in geopoints_list:\n",
      "        tup_list.append((pt['coordinates'][0], pt['coordinates'][1]))\n",
      "    return(MultiPoint(tup_list))"
     ],
     "language": "python",
     "metadata": {},
     "outputs": []
    },
    {
     "cell_type": "code",
     "collapsed": false,
     "input": [
      "ptslist = get_geopoints_for_user(users[0])\n",
      "ptslist[0:10]"
     ],
     "language": "python",
     "metadata": {},
     "outputs": []
    },
    {
     "cell_type": "code",
     "collapsed": false,
     "input": [
      "make_multipoint(ptslist[1000:1100])"
     ],
     "language": "python",
     "metadata": {},
     "outputs": []
    },
    {
     "cell_type": "code",
     "collapsed": false,
     "input": [
      "len(ptslist)"
     ],
     "language": "python",
     "metadata": {},
     "outputs": []
    },
    {
     "cell_type": "code",
     "collapsed": false,
     "input": [
      "def distinct_days_per_user(user_hash)"
     ],
     "language": "python",
     "metadata": {},
     "outputs": []
    },
    {
     "cell_type": "code",
     "collapsed": false,
     "input": [
      "def get_path_per_day(user_hash, day)"
     ],
     "language": "python",
     "metadata": {},
     "outputs": []
    },
    {
     "cell_type": "code",
     "collapsed": false,
     "input": [
      "def cluster_places_per_user(user_hash)"
     ],
     "language": "python",
     "metadata": {},
     "outputs": []
    }
   ],
   "metadata": {}
  }
 ]
}